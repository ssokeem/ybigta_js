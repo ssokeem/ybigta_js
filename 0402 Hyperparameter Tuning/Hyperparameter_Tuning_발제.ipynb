{
  "nbformat": 4,
  "nbformat_minor": 0,
  "metadata": {
    "kernelspec": {
      "display_name": "Python 3",
      "language": "python",
      "name": "python3"
    },
    "language_info": {
      "codemirror_mode": {
        "name": "ipython",
        "version": 3
      },
      "file_extension": ".py",
      "mimetype": "text/x-python",
      "name": "python",
      "nbconvert_exporter": "python",
      "pygments_lexer": "ipython3",
      "version": "3.9.6"
    },
    "toc": {
      "base_numbering": 1,
      "nav_menu": {},
      "number_sections": false,
      "sideBar": true,
      "skip_h1_title": false,
      "title_cell": "Table of Contents",
      "title_sidebar": "Contents",
      "toc_cell": true,
      "toc_position": {
        "height": "calc(100% - 180px)",
        "left": "10px",
        "top": "150px",
        "width": "183px"
      },
      "toc_section_display": true,
      "toc_window_display": true
    },
    "varInspector": {
      "cols": {
        "lenName": 16,
        "lenType": 16,
        "lenVar": 40
      },
      "kernels_config": {
        "python": {
          "delete_cmd_postfix": "",
          "delete_cmd_prefix": "del ",
          "library": "var_list.py",
          "varRefreshCmd": "print(var_dic_list())"
        },
        "r": {
          "delete_cmd_postfix": ") ",
          "delete_cmd_prefix": "rm(",
          "library": "var_list.r",
          "varRefreshCmd": "cat(var_dic_list()) "
        }
      },
      "types_to_exclude": [
        "module",
        "function",
        "builtin_function_or_method",
        "instance",
        "_Feature"
      ],
      "window_display": false
    },
    "colab": {
      "name": "Hyperparameter Tuning 발제.ipynb",
      "provenance": [],
      "collapsed_sections": []
    }
  },
  "cells": [
    {
      "cell_type": "markdown",
      "metadata": {
        "id": "hMk4f4WeDyhn"
      },
      "source": [
        "# Automated Hyperparameter Tuning \n",
        "from Kaggle https://www.kaggle.com/pavansanagapati/automated-hyperparameter-tuning/notebook"
      ]
    },
    {
      "cell_type": "markdown",
      "metadata": {
        "toc": true,
        "id": "P3D_d8v5Dyhx"
      },
      "source": [
        "<h1>Table of Contents<span class=\"tocSkip\"></span></h1>\n",
        "<div class=\"toc\"><ul class=\"toc-item\"><li><span><a href=\"#Automated-Hyperparameter-Tuning\" data-toc-modified-id=\"Automated-Hyperparameter-Tuning-1\">Automated Hyperparameter Tuning</a></span></li><li><span><a href=\"#1.-Manual-Search--\" data-toc-modified-id=\"1.-Manual-Search---2\">1. Manual Search <a id=\"1\"></a> <br></a></span><ul class=\"toc-item\"><li><ul class=\"toc-item\"><li><span><a href=\"#manual1-결과\" data-toc-modified-id=\"manual1-결과-2.0.1\">manual1 결과</a></span></li><li><span><a href=\"#manual2-결과\" data-toc-modified-id=\"manual2-결과-2.0.2\">manual2 결과</a></span></li></ul></li></ul></li><li><span><a href=\"#2.-Grid-Search--\" data-toc-modified-id=\"2.-Grid-Search---3\">2. Grid Search <a id=\"2\"></a> <br></a></span><ul class=\"toc-item\"><li><ul class=\"toc-item\"><li><span><a href=\"#grid-결과\" data-toc-modified-id=\"grid-결과-3.0.1\">grid 결과</a></span></li></ul></li></ul></li><li><span><a href=\"#3.-Random-Search--\" data-toc-modified-id=\"3.-Random-Search---4\">3. Random Search <a id=\"3\"></a> <br></a></span><ul class=\"toc-item\"><li><ul class=\"toc-item\"><li><span><a href=\"#random-결과\" data-toc-modified-id=\"random-결과-4.0.1\">random 결과</a></span></li></ul></li></ul></li><li><span><a href=\"#4.-Bayesian-Optimization-using-HyperOpt--\" data-toc-modified-id=\"4.-Bayesian-Optimization-using-HyperOpt---5\">4. Bayesian Optimization using HyperOpt <a id=\"4\"></a> <br></a></span><ul class=\"toc-item\"><li><ul class=\"toc-item\"><li><span><a href=\"#HyperOpt-결과\" data-toc-modified-id=\"HyperOpt-결과-5.0.1\">HyperOpt 결과</a></span></li></ul></li></ul></li><li><span><a href=\"#5.Optuna--\" data-toc-modified-id=\"5.Optuna---6\">5.Optuna <a id=\"5\"></a> <br></a></span><ul class=\"toc-item\"><li><ul class=\"toc-item\"><li><span><a href=\"#Optuna-결과\" data-toc-modified-id=\"Optuna-결과-6.0.1\">Optuna 결과</a></span></li></ul></li></ul></li></ul></div>"
      ]
    },
    {
      "cell_type": "code",
      "metadata": {
        "colab": {
          "base_uri": "https://localhost:8080/"
        },
        "id": "hjH87rliM8a0",
        "outputId": "d6546720-cf9e-4aef-c35a-eb4e71a5f33c"
      },
      "source": [
        "from google.colab import drive\n",
        "drive.mount('/content/drive')"
      ],
      "execution_count": null,
      "outputs": [
        {
          "output_type": "stream",
          "name": "stdout",
          "text": [
            "Mounted at /content/drive\n"
          ]
        }
      ]
    },
    {
      "cell_type": "code",
      "metadata": {
        "ExecuteTime": {
          "end_time": "2021-09-24T18:10:05.645077Z",
          "start_time": "2021-09-24T18:10:01.612620Z"
        },
        "id": "zmIZeA87Dyhy"
      },
      "source": [
        "import pandas as pd\n",
        "from sklearn.preprocessing import StandardScaler\n",
        "from sklearn.model_selection import train_test_split\n",
        "# f\n",
        "df = pd.read_csv(\"/content/drive/MyDrive/ybigta/교육세션/하이퍼파라미터 튜닝/creditcard.csv\", na_values = '#NAME?')  "
      ],
      "execution_count": null,
      "outputs": []
    },
    {
      "cell_type": "code",
      "source": [
        "df.head()"
      ],
      "metadata": {
        "colab": {
          "base_uri": "https://localhost:8080/",
          "height": 299
        },
        "id": "r7Kcb2m21FNy",
        "outputId": "a44c006d-2e73-4450-fbb3-6ff2b1ffd4c5"
      },
      "execution_count": null,
      "outputs": [
        {
          "output_type": "execute_result",
          "data": {
            "text/plain": [
              "   Time        V1        V2        V3        V4        V5        V6        V7  \\\n",
              "0   0.0 -1.359807 -0.072781  2.536347  1.378155 -0.338321  0.462388  0.239599   \n",
              "1   0.0  1.191857  0.266151  0.166480  0.448154  0.060018 -0.082361 -0.078803   \n",
              "2   1.0 -1.358354 -1.340163  1.773209  0.379780 -0.503198  1.800499  0.791461   \n",
              "3   1.0 -0.966272 -0.185226  1.792993 -0.863291 -0.010309  1.247203  0.237609   \n",
              "4   2.0 -1.158233  0.877737  1.548718  0.403034 -0.407193  0.095921  0.592941   \n",
              "\n",
              "         V8        V9  ...       V21       V22       V23       V24       V25  \\\n",
              "0  0.098698  0.363787  ... -0.018307  0.277838 -0.110474  0.066928  0.128539   \n",
              "1  0.085102 -0.255425  ... -0.225775 -0.638672  0.101288 -0.339846  0.167170   \n",
              "2  0.247676 -1.514654  ...  0.247998  0.771679  0.909412 -0.689281 -0.327642   \n",
              "3  0.377436 -1.387024  ... -0.108300  0.005274 -0.190321 -1.175575  0.647376   \n",
              "4 -0.270533  0.817739  ... -0.009431  0.798278 -0.137458  0.141267 -0.206010   \n",
              "\n",
              "        V26       V27       V28  Amount  Class  \n",
              "0 -0.189115  0.133558 -0.021053  149.62      0  \n",
              "1  0.125895 -0.008983  0.014724    2.69      0  \n",
              "2 -0.139097 -0.055353 -0.059752  378.66      0  \n",
              "3 -0.221929  0.062723  0.061458  123.50      0  \n",
              "4  0.502292  0.219422  0.215153   69.99      0  \n",
              "\n",
              "[5 rows x 31 columns]"
            ],
            "text/html": [
              "\n",
              "  <div id=\"df-873a35aa-2d49-4047-9ca7-b1124ccbdbba\">\n",
              "    <div class=\"colab-df-container\">\n",
              "      <div>\n",
              "<style scoped>\n",
              "    .dataframe tbody tr th:only-of-type {\n",
              "        vertical-align: middle;\n",
              "    }\n",
              "\n",
              "    .dataframe tbody tr th {\n",
              "        vertical-align: top;\n",
              "    }\n",
              "\n",
              "    .dataframe thead th {\n",
              "        text-align: right;\n",
              "    }\n",
              "</style>\n",
              "<table border=\"1\" class=\"dataframe\">\n",
              "  <thead>\n",
              "    <tr style=\"text-align: right;\">\n",
              "      <th></th>\n",
              "      <th>Time</th>\n",
              "      <th>V1</th>\n",
              "      <th>V2</th>\n",
              "      <th>V3</th>\n",
              "      <th>V4</th>\n",
              "      <th>V5</th>\n",
              "      <th>V6</th>\n",
              "      <th>V7</th>\n",
              "      <th>V8</th>\n",
              "      <th>V9</th>\n",
              "      <th>...</th>\n",
              "      <th>V21</th>\n",
              "      <th>V22</th>\n",
              "      <th>V23</th>\n",
              "      <th>V24</th>\n",
              "      <th>V25</th>\n",
              "      <th>V26</th>\n",
              "      <th>V27</th>\n",
              "      <th>V28</th>\n",
              "      <th>Amount</th>\n",
              "      <th>Class</th>\n",
              "    </tr>\n",
              "  </thead>\n",
              "  <tbody>\n",
              "    <tr>\n",
              "      <th>0</th>\n",
              "      <td>0.0</td>\n",
              "      <td>-1.359807</td>\n",
              "      <td>-0.072781</td>\n",
              "      <td>2.536347</td>\n",
              "      <td>1.378155</td>\n",
              "      <td>-0.338321</td>\n",
              "      <td>0.462388</td>\n",
              "      <td>0.239599</td>\n",
              "      <td>0.098698</td>\n",
              "      <td>0.363787</td>\n",
              "      <td>...</td>\n",
              "      <td>-0.018307</td>\n",
              "      <td>0.277838</td>\n",
              "      <td>-0.110474</td>\n",
              "      <td>0.066928</td>\n",
              "      <td>0.128539</td>\n",
              "      <td>-0.189115</td>\n",
              "      <td>0.133558</td>\n",
              "      <td>-0.021053</td>\n",
              "      <td>149.62</td>\n",
              "      <td>0</td>\n",
              "    </tr>\n",
              "    <tr>\n",
              "      <th>1</th>\n",
              "      <td>0.0</td>\n",
              "      <td>1.191857</td>\n",
              "      <td>0.266151</td>\n",
              "      <td>0.166480</td>\n",
              "      <td>0.448154</td>\n",
              "      <td>0.060018</td>\n",
              "      <td>-0.082361</td>\n",
              "      <td>-0.078803</td>\n",
              "      <td>0.085102</td>\n",
              "      <td>-0.255425</td>\n",
              "      <td>...</td>\n",
              "      <td>-0.225775</td>\n",
              "      <td>-0.638672</td>\n",
              "      <td>0.101288</td>\n",
              "      <td>-0.339846</td>\n",
              "      <td>0.167170</td>\n",
              "      <td>0.125895</td>\n",
              "      <td>-0.008983</td>\n",
              "      <td>0.014724</td>\n",
              "      <td>2.69</td>\n",
              "      <td>0</td>\n",
              "    </tr>\n",
              "    <tr>\n",
              "      <th>2</th>\n",
              "      <td>1.0</td>\n",
              "      <td>-1.358354</td>\n",
              "      <td>-1.340163</td>\n",
              "      <td>1.773209</td>\n",
              "      <td>0.379780</td>\n",
              "      <td>-0.503198</td>\n",
              "      <td>1.800499</td>\n",
              "      <td>0.791461</td>\n",
              "      <td>0.247676</td>\n",
              "      <td>-1.514654</td>\n",
              "      <td>...</td>\n",
              "      <td>0.247998</td>\n",
              "      <td>0.771679</td>\n",
              "      <td>0.909412</td>\n",
              "      <td>-0.689281</td>\n",
              "      <td>-0.327642</td>\n",
              "      <td>-0.139097</td>\n",
              "      <td>-0.055353</td>\n",
              "      <td>-0.059752</td>\n",
              "      <td>378.66</td>\n",
              "      <td>0</td>\n",
              "    </tr>\n",
              "    <tr>\n",
              "      <th>3</th>\n",
              "      <td>1.0</td>\n",
              "      <td>-0.966272</td>\n",
              "      <td>-0.185226</td>\n",
              "      <td>1.792993</td>\n",
              "      <td>-0.863291</td>\n",
              "      <td>-0.010309</td>\n",
              "      <td>1.247203</td>\n",
              "      <td>0.237609</td>\n",
              "      <td>0.377436</td>\n",
              "      <td>-1.387024</td>\n",
              "      <td>...</td>\n",
              "      <td>-0.108300</td>\n",
              "      <td>0.005274</td>\n",
              "      <td>-0.190321</td>\n",
              "      <td>-1.175575</td>\n",
              "      <td>0.647376</td>\n",
              "      <td>-0.221929</td>\n",
              "      <td>0.062723</td>\n",
              "      <td>0.061458</td>\n",
              "      <td>123.50</td>\n",
              "      <td>0</td>\n",
              "    </tr>\n",
              "    <tr>\n",
              "      <th>4</th>\n",
              "      <td>2.0</td>\n",
              "      <td>-1.158233</td>\n",
              "      <td>0.877737</td>\n",
              "      <td>1.548718</td>\n",
              "      <td>0.403034</td>\n",
              "      <td>-0.407193</td>\n",
              "      <td>0.095921</td>\n",
              "      <td>0.592941</td>\n",
              "      <td>-0.270533</td>\n",
              "      <td>0.817739</td>\n",
              "      <td>...</td>\n",
              "      <td>-0.009431</td>\n",
              "      <td>0.798278</td>\n",
              "      <td>-0.137458</td>\n",
              "      <td>0.141267</td>\n",
              "      <td>-0.206010</td>\n",
              "      <td>0.502292</td>\n",
              "      <td>0.219422</td>\n",
              "      <td>0.215153</td>\n",
              "      <td>69.99</td>\n",
              "      <td>0</td>\n",
              "    </tr>\n",
              "  </tbody>\n",
              "</table>\n",
              "<p>5 rows × 31 columns</p>\n",
              "</div>\n",
              "      <button class=\"colab-df-convert\" onclick=\"convertToInteractive('df-873a35aa-2d49-4047-9ca7-b1124ccbdbba')\"\n",
              "              title=\"Convert this dataframe to an interactive table.\"\n",
              "              style=\"display:none;\">\n",
              "        \n",
              "  <svg xmlns=\"http://www.w3.org/2000/svg\" height=\"24px\"viewBox=\"0 0 24 24\"\n",
              "       width=\"24px\">\n",
              "    <path d=\"M0 0h24v24H0V0z\" fill=\"none\"/>\n",
              "    <path d=\"M18.56 5.44l.94 2.06.94-2.06 2.06-.94-2.06-.94-.94-2.06-.94 2.06-2.06.94zm-11 1L8.5 8.5l.94-2.06 2.06-.94-2.06-.94L8.5 2.5l-.94 2.06-2.06.94zm10 10l.94 2.06.94-2.06 2.06-.94-2.06-.94-.94-2.06-.94 2.06-2.06.94z\"/><path d=\"M17.41 7.96l-1.37-1.37c-.4-.4-.92-.59-1.43-.59-.52 0-1.04.2-1.43.59L10.3 9.45l-7.72 7.72c-.78.78-.78 2.05 0 2.83L4 21.41c.39.39.9.59 1.41.59.51 0 1.02-.2 1.41-.59l7.78-7.78 2.81-2.81c.8-.78.8-2.07 0-2.86zM5.41 20L4 18.59l7.72-7.72 1.47 1.35L5.41 20z\"/>\n",
              "  </svg>\n",
              "      </button>\n",
              "      \n",
              "  <style>\n",
              "    .colab-df-container {\n",
              "      display:flex;\n",
              "      flex-wrap:wrap;\n",
              "      gap: 12px;\n",
              "    }\n",
              "\n",
              "    .colab-df-convert {\n",
              "      background-color: #E8F0FE;\n",
              "      border: none;\n",
              "      border-radius: 50%;\n",
              "      cursor: pointer;\n",
              "      display: none;\n",
              "      fill: #1967D2;\n",
              "      height: 32px;\n",
              "      padding: 0 0 0 0;\n",
              "      width: 32px;\n",
              "    }\n",
              "\n",
              "    .colab-df-convert:hover {\n",
              "      background-color: #E2EBFA;\n",
              "      box-shadow: 0px 1px 2px rgba(60, 64, 67, 0.3), 0px 1px 3px 1px rgba(60, 64, 67, 0.15);\n",
              "      fill: #174EA6;\n",
              "    }\n",
              "\n",
              "    [theme=dark] .colab-df-convert {\n",
              "      background-color: #3B4455;\n",
              "      fill: #D2E3FC;\n",
              "    }\n",
              "\n",
              "    [theme=dark] .colab-df-convert:hover {\n",
              "      background-color: #434B5C;\n",
              "      box-shadow: 0px 1px 3px 1px rgba(0, 0, 0, 0.15);\n",
              "      filter: drop-shadow(0px 1px 2px rgba(0, 0, 0, 0.3));\n",
              "      fill: #FFFFFF;\n",
              "    }\n",
              "  </style>\n",
              "\n",
              "      <script>\n",
              "        const buttonEl =\n",
              "          document.querySelector('#df-873a35aa-2d49-4047-9ca7-b1124ccbdbba button.colab-df-convert');\n",
              "        buttonEl.style.display =\n",
              "          google.colab.kernel.accessAllowed ? 'block' : 'none';\n",
              "\n",
              "        async function convertToInteractive(key) {\n",
              "          const element = document.querySelector('#df-873a35aa-2d49-4047-9ca7-b1124ccbdbba');\n",
              "          const dataTable =\n",
              "            await google.colab.kernel.invokeFunction('convertToInteractive',\n",
              "                                                     [key], {});\n",
              "          if (!dataTable) return;\n",
              "\n",
              "          const docLinkHtml = 'Like what you see? Visit the ' +\n",
              "            '<a target=\"_blank\" href=https://colab.research.google.com/notebooks/data_table.ipynb>data table notebook</a>'\n",
              "            + ' to learn more about interactive tables.';\n",
              "          element.innerHTML = '';\n",
              "          dataTable['output_type'] = 'display_data';\n",
              "          await google.colab.output.renderOutput(dataTable, element);\n",
              "          const docLink = document.createElement('div');\n",
              "          docLink.innerHTML = docLinkHtml;\n",
              "          element.appendChild(docLink);\n",
              "        }\n",
              "      </script>\n",
              "    </div>\n",
              "  </div>\n",
              "  "
            ]
          },
          "metadata": {},
          "execution_count": 3
        }
      ]
    },
    {
      "cell_type": "code",
      "metadata": {
        "colab": {
          "base_uri": "https://localhost:8080/"
        },
        "id": "NOIXJNwBN8Qb",
        "outputId": "c6e03547-9446-4536-ed18-6c1b2727ae75"
      },
      "source": [
        "df.info()"
      ],
      "execution_count": null,
      "outputs": [
        {
          "output_type": "stream",
          "name": "stdout",
          "text": [
            "<class 'pandas.core.frame.DataFrame'>\n",
            "RangeIndex: 284807 entries, 0 to 284806\n",
            "Data columns (total 31 columns):\n",
            " #   Column  Non-Null Count   Dtype  \n",
            "---  ------  --------------   -----  \n",
            " 0   Time    284807 non-null  float64\n",
            " 1   V1      284807 non-null  float64\n",
            " 2   V2      284807 non-null  float64\n",
            " 3   V3      284807 non-null  float64\n",
            " 4   V4      284807 non-null  float64\n",
            " 5   V5      284807 non-null  float64\n",
            " 6   V6      284807 non-null  float64\n",
            " 7   V7      284807 non-null  float64\n",
            " 8   V8      284807 non-null  float64\n",
            " 9   V9      284807 non-null  float64\n",
            " 10  V10     284807 non-null  float64\n",
            " 11  V11     284807 non-null  float64\n",
            " 12  V12     284807 non-null  float64\n",
            " 13  V13     284807 non-null  float64\n",
            " 14  V14     284807 non-null  float64\n",
            " 15  V15     284807 non-null  float64\n",
            " 16  V16     284807 non-null  float64\n",
            " 17  V17     284807 non-null  float64\n",
            " 18  V18     284807 non-null  float64\n",
            " 19  V19     284807 non-null  float64\n",
            " 20  V20     284807 non-null  float64\n",
            " 21  V21     284807 non-null  float64\n",
            " 22  V22     284807 non-null  float64\n",
            " 23  V23     284807 non-null  float64\n",
            " 24  V24     284807 non-null  float64\n",
            " 25  V25     284807 non-null  float64\n",
            " 26  V26     284807 non-null  float64\n",
            " 27  V27     284807 non-null  float64\n",
            " 28  V28     284807 non-null  float64\n",
            " 29  Amount  284807 non-null  float64\n",
            " 30  Class   284807 non-null  int64  \n",
            "dtypes: float64(30), int64(1)\n",
            "memory usage: 67.4 MB\n"
          ]
        }
      ]
    },
    {
      "cell_type": "code",
      "metadata": {
        "ExecuteTime": {
          "end_time": "2021-09-24T18:10:06.745483Z",
          "start_time": "2021-09-24T18:10:06.719762Z"
        },
        "id": "ALmQWXK0Dyhz"
      },
      "source": [
        "X = df[['V17', 'V9', 'V6', 'V12']]\n",
        "Y = df['Class']"
      ],
      "execution_count": null,
      "outputs": []
    },
    {
      "cell_type": "code",
      "metadata": {
        "ExecuteTime": {
          "end_time": "2021-09-24T18:10:08.621642Z",
          "start_time": "2021-09-24T18:10:08.525560Z"
        },
        "id": "ye27zCASDyhz"
      },
      "source": [
        "X_Train, X_Test, Y_Train, Y_Test = train_test_split(X, Y, test_size = 0.30,random_state = 101)"
      ],
      "execution_count": null,
      "outputs": []
    },
    {
      "cell_type": "markdown",
      "metadata": {
        "id": "nM4FTj01Dyhz"
      },
      "source": [
        "# 1. Manual Search <a id=\"1\"></a> <br>"
      ]
    },
    {
      "cell_type": "markdown",
      "source": [
        "< Manual Search ? >\n",
        "- Choose some model hyperparameters based on our judgment/experience. \n",
        "- Then train the model, evaluate its accuracy and start the process again. This loop is repeated until a satisfactory accuracy is scored."
      ],
      "metadata": {
        "id": "VJ01raLo2lAa"
      }
    },
    {
      "cell_type": "markdown",
      "source": [
        "< 사용할 모델 >\n",
        "- Random Forest Classifier 모델 이용하여 최적화\n",
        "- About Random Forest models : large number of uncorrelated decision trees, which joint together constitute an ensemble. \n",
        "- In Random Forest, each decision tree makes its own prediction and the overall model output is selected to be the prediction which appeared most frequently."
      ],
      "metadata": {
        "id": "zA3I-2R_1gQE"
      }
    },
    {
      "cell_type": "markdown",
      "metadata": {
        "id": "v16moWAXDyhz"
      },
      "source": [
        "- The main parameters used by a Random Forest Classifier are:\n",
        "\n",
        "    * criterion = the function used to evaluate the quality of a split.\n",
        "    * max_depth = maximum number of levels allowed in each tree.\n",
        "    * max_features = maximum number of features considered when splitting a node.\n",
        "    * min_samples_leaf = minimum number of samples which can be stored in a tree leaf.\n",
        "    * min_samples_split = minimum number of samples necessary in a node to cause node splitting.\n",
        "    * n_estimators = number of trees in the ensemble."
      ]
    },
    {
      "cell_type": "code",
      "metadata": {
        "id": "KQSBGrOWPAOF"
      },
      "source": [
        "from sklearn.metrics import classification_report,confusion_matrix\n",
        "from sklearn.ensemble import RandomForestClassifier\n",
        "from sklearn.metrics import accuracy_score"
      ],
      "execution_count": null,
      "outputs": []
    },
    {
      "cell_type": "markdown",
      "metadata": {
        "id": "4AhDmDCADyh1"
      },
      "source": [
        "### manual1 "
      ]
    },
    {
      "cell_type": "code",
      "metadata": {
        "colab": {
          "base_uri": "https://localhost:8080/"
        },
        "id": "HC_v2AshPDKw",
        "outputId": "5cc3d658-7e17-4682-a909-47abe73e215f"
      },
      "source": [
        "#manual 1\n",
        "#base model accuracy\n",
        "manual1 = RandomForestClassifier(random_state= 101).fit(X_Train, Y_Train)\n",
        "\n",
        "predictionforest = manual1.predict(X_Test)\n",
        "print(confusion_matrix(Y_Test, predictionforest))\n",
        "print(classification_report(Y_Test, predictionforest))"
      ],
      "execution_count": null,
      "outputs": [
        {
          "output_type": "stream",
          "name": "stdout",
          "text": [
            "[[85289    10]\n",
            " [   34   110]]\n",
            "              precision    recall  f1-score   support\n",
            "\n",
            "           0       1.00      1.00      1.00     85299\n",
            "           1       0.92      0.76      0.83       144\n",
            "\n",
            "    accuracy                           1.00     85443\n",
            "   macro avg       0.96      0.88      0.92     85443\n",
            "weighted avg       1.00      1.00      1.00     85443\n",
            "\n"
          ]
        }
      ]
    },
    {
      "cell_type": "code",
      "metadata": {
        "ExecuteTime": {
          "end_time": "2021-09-24T18:25:12.144706Z",
          "start_time": "2021-09-24T18:25:12.128126Z"
        },
        "scrolled": true,
        "id": "WDPYe08zDyh1",
        "outputId": "6facf907-b95d-4a35-e7dd-ce3ecf33ceff",
        "colab": {
          "base_uri": "https://localhost:8080/"
        }
      },
      "source": [
        "man1_acc = accuracy_score(Y_Test,predictionforest)\n",
        "man1_acc"
      ],
      "execution_count": null,
      "outputs": [
        {
          "output_type": "execute_result",
          "data": {
            "text/plain": [
              "0.9994850368081645"
            ]
          },
          "metadata": {},
          "execution_count": 9
        }
      ]
    },
    {
      "cell_type": "markdown",
      "metadata": {
        "id": "FRzmaBTyDyh2"
      },
      "source": [
        "### manual2 "
      ]
    },
    {
      "cell_type": "code",
      "metadata": {
        "ExecuteTime": {
          "end_time": "2021-09-24T18:25:46.780375Z",
          "start_time": "2021-09-24T18:25:36.877505Z"
        },
        "scrolled": true,
        "id": "vW6nc5AHDyh1",
        "outputId": "9cb7a7db-4d58-4d54-dae5-5ff5a09ade37",
        "colab": {
          "base_uri": "https://localhost:8080/"
        }
      },
      "source": [
        "#manual2\n",
        "#'n_estimators=10' : 10 trees in the ensemble\n",
        "manual2 = RandomForestClassifier(n_estimators=10, random_state= 101).fit(X_Train,Y_Train)\n",
        "\n",
        "predictionforest2 = manual2.predict(X_Test)\n",
        "print(confusion_matrix(Y_Test,predictionforest))\n",
        "print(classification_report(Y_Test,predictionforest))"
      ],
      "execution_count": null,
      "outputs": [
        {
          "output_type": "stream",
          "name": "stdout",
          "text": [
            "[[85289    10]\n",
            " [   34   110]]\n",
            "              precision    recall  f1-score   support\n",
            "\n",
            "           0       1.00      1.00      1.00     85299\n",
            "           1       0.92      0.76      0.83       144\n",
            "\n",
            "    accuracy                           1.00     85443\n",
            "   macro avg       0.96      0.88      0.92     85443\n",
            "weighted avg       1.00      1.00      1.00     85443\n",
            "\n"
          ]
        }
      ]
    },
    {
      "cell_type": "code",
      "metadata": {
        "ExecuteTime": {
          "end_time": "2021-09-24T18:25:47.157270Z",
          "start_time": "2021-09-24T18:25:47.139663Z"
        },
        "id": "zXfPOXiFDyh2",
        "outputId": "1924c2b0-77c0-46a7-b859-603631d9dde0",
        "colab": {
          "base_uri": "https://localhost:8080/"
        }
      },
      "source": [
        "man2_acc = accuracy_score(Y_Test,predictionforest2)\n",
        "man2_acc"
      ],
      "execution_count": null,
      "outputs": [
        {
          "output_type": "execute_result",
          "data": {
            "text/plain": [
              "0.9993914071369217"
            ]
          },
          "metadata": {},
          "execution_count": 11
        }
      ]
    },
    {
      "cell_type": "markdown",
      "metadata": {
        "id": "g8-xKGl3Dyh2"
      },
      "source": [
        "# 2. Grid Search <a id=\"2\"></a> <br>"
      ]
    },
    {
      "cell_type": "markdown",
      "source": [
        "< Grid Search ? >\n",
        "- In Grid Search, \n",
        "1) set up a grid of hyperparameters -> \n",
        "2) train/test our model on each of the possible combinations. \n",
        "- In order to choose the parameters to use in Grid Search, take a look at which parameters worked best with Random Search, and form a grid based on them to see if we can find a better combination.\n",
        "- Grid Search can be implemented in Python using scikit-learn GridSearchCV() function.\n",
        "\n",
        "< CrossValidation >\n",
        "- Using Cross-Validation when implementing Hyperparameters optimization can be really important. In this way, we might avoid using some Hyperparameters which works really good on the training data but not so good with the test data."
      ],
      "metadata": {
        "id": "lIH5iWVpIc29"
      }
    },
    {
      "cell_type": "code",
      "metadata": {
        "ExecuteTime": {
          "end_time": "2021-09-24T18:32:25.634439Z",
          "start_time": "2021-09-24T18:28:33.261888Z"
        },
        "scrolled": false,
        "id": "MPIB4s88Dyh3",
        "outputId": "ac5c3958-7333-4d64-e306-d1bbf0e15364",
        "colab": {
          "base_uri": "https://localhost:8080/"
        }
      },
      "source": [
        "from sklearn.model_selection import GridSearchCV\n",
        "\n",
        "# Dictionary 형태로 파라미터 후보 설정\n",
        "grid_search = {'criterion': ['entropy', 'gini'],\n",
        "               'max_depth': [2, 6, 8],\n",
        "               'max_features': ['auto', 'sqrt'],\n",
        "               'min_samples_leaf': [4, 6, 8],\n",
        "               'min_samples_split': [5, 7,10],\n",
        "               'n_estimators': [10]}\n",
        "\n",
        "clf = RandomForestClassifier()\n",
        "grid = GridSearchCV(estimator = clf, param_grid = grid_search, \n",
        "                               cv = 2, verbose= 5, n_jobs = -1)\n",
        "grid.fit(X_Train,Y_Train)\n",
        "\n",
        "grid_pf = grid.best_estimator_.predict(X_Test)\n",
        "print(confusion_matrix(Y_Test,grid_pf))\n",
        "print(classification_report(Y_Test,grid_pf))"
      ],
      "execution_count": null,
      "outputs": [
        {
          "output_type": "stream",
          "name": "stdout",
          "text": [
            "Fitting 2 folds for each of 108 candidates, totalling 216 fits\n",
            "[[85286    13]\n",
            " [   37   107]]\n",
            "              precision    recall  f1-score   support\n",
            "\n",
            "           0       1.00      1.00      1.00     85299\n",
            "           1       0.89      0.74      0.81       144\n",
            "\n",
            "    accuracy                           1.00     85443\n",
            "   macro avg       0.95      0.87      0.91     85443\n",
            "weighted avg       1.00      1.00      1.00     85443\n",
            "\n"
          ]
        }
      ]
    },
    {
      "cell_type": "markdown",
      "metadata": {
        "id": "sdFymXEXDyh3"
      },
      "source": [
        "### grid 결과"
      ]
    },
    {
      "cell_type": "code",
      "metadata": {
        "ExecuteTime": {
          "end_time": "2021-09-24T18:33:13.923714Z",
          "start_time": "2021-09-24T18:33:13.915105Z"
        },
        "id": "_FJrF_mvDyh3",
        "outputId": "c8c87777-b0be-4dde-ca21-e156c12f2b1c",
        "colab": {
          "base_uri": "https://localhost:8080/"
        }
      },
      "source": [
        "grid.best_params_"
      ],
      "execution_count": null,
      "outputs": [
        {
          "output_type": "execute_result",
          "data": {
            "text/plain": [
              "{'criterion': 'entropy',\n",
              " 'max_depth': 8,\n",
              " 'max_features': 'auto',\n",
              " 'min_samples_leaf': 4,\n",
              " 'min_samples_split': 5,\n",
              " 'n_estimators': 10}"
            ]
          },
          "metadata": {},
          "execution_count": 16
        }
      ]
    },
    {
      "cell_type": "code",
      "metadata": {
        "ExecuteTime": {
          "end_time": "2021-09-24T18:33:21.963353Z",
          "start_time": "2021-09-24T18:33:21.946698Z"
        },
        "id": "t1qxSeUaDyh3",
        "outputId": "af26fe6c-3d64-4db1-ecf6-a5b9299f2ec3",
        "colab": {
          "base_uri": "https://localhost:8080/"
        }
      },
      "source": [
        "grid_acc = accuracy_score(Y_Test,grid_pf)\n",
        "grid_acc"
      ],
      "execution_count": null,
      "outputs": [
        {
          "output_type": "execute_result",
          "data": {
            "text/plain": [
              "0.9994148145547324"
            ]
          },
          "metadata": {},
          "execution_count": 17
        }
      ]
    },
    {
      "cell_type": "markdown",
      "metadata": {
        "id": "Vvd3J4LEDyh4"
      },
      "source": [
        "# 3. Random Search <a id=\"3\"></a> <br>"
      ]
    },
    {
      "cell_type": "markdown",
      "source": [
        "< Random Search >\n",
        "- In Random Search, we create a grid of hyperparameters and train/test our model on just some random combination of these hyperparameters. \n",
        "\n",
        "< Random Search vs. Grid Search >\n",
        "- Grid Search is slower compared to Random Search but it can be overall more effective because it can go through the whole search space. \n",
        "- Instead, Random Search can be faster fast but might miss some important points in the search space."
      ],
      "metadata": {
        "id": "zlWcJ97At30z"
      }
    },
    {
      "cell_type": "code",
      "metadata": {
        "ExecuteTime": {
          "end_time": "2021-09-24T18:27:23.053291Z",
          "start_time": "2021-09-24T18:26:19.608682Z"
        },
        "scrolled": true,
        "id": "WJZ9L3roDyh4",
        "outputId": "62d2581c-b399-48c3-996e-f0100e216027",
        "colab": {
          "base_uri": "https://localhost:8080/"
        }
      },
      "source": [
        "import numpy as np \n",
        "from sklearn.model_selection import RandomizedSearchCV\n",
        "from sklearn.model_selection import cross_val_score\n",
        "\n",
        "random_search = {'criterion': ['entropy', 'gini'],\n",
        "               'max_depth': [2],\n",
        "               'max_features': ['auto', 'sqrt'],\n",
        "               'min_samples_leaf': [4, 6, 8],\n",
        "               'min_samples_split': [5, 7,10],\n",
        "               'n_estimators': [20]}\n",
        "\n",
        "clf = RandomForestClassifier()\n",
        "random = RandomizedSearchCV(estimator = clf, param_distributions = random_search, n_iter = 10, \n",
        "                               cv = 4, verbose= 1, random_state= 101, n_jobs = -1)\n",
        "random.fit(X_Train,Y_Train)"
      ],
      "execution_count": null,
      "outputs": [
        {
          "output_type": "stream",
          "name": "stdout",
          "text": [
            "Fitting 4 folds for each of 10 candidates, totalling 40 fits\n"
          ]
        },
        {
          "output_type": "execute_result",
          "data": {
            "text/plain": [
              "RandomizedSearchCV(cv=4, estimator=RandomForestClassifier(), n_jobs=-1,\n",
              "                   param_distributions={'criterion': ['entropy', 'gini'],\n",
              "                                        'max_depth': [2],\n",
              "                                        'max_features': ['auto', 'sqrt'],\n",
              "                                        'min_samples_leaf': [4, 6, 8],\n",
              "                                        'min_samples_split': [5, 7, 10],\n",
              "                                        'n_estimators': [20]},\n",
              "                   random_state=101, verbose=1)"
            ]
          },
          "metadata": {},
          "execution_count": 10
        }
      ]
    },
    {
      "cell_type": "markdown",
      "metadata": {
        "id": "23roAxw1Dyh4"
      },
      "source": [
        "### random 결과"
      ]
    },
    {
      "cell_type": "code",
      "metadata": {
        "ExecuteTime": {
          "end_time": "2021-09-24T18:27:33.898143Z",
          "start_time": "2021-09-24T18:27:33.565733Z"
        },
        "scrolled": true,
        "id": "MyGCuj58Dyh4",
        "outputId": "153915d7-d50a-424e-f578-cde9de0608ab",
        "colab": {
          "base_uri": "https://localhost:8080/"
        }
      },
      "source": [
        "random_pf = random.best_estimator_.predict(X_Test)\n",
        "print(confusion_matrix(Y_Test,random_pf))\n",
        "print(classification_report(Y_Test,random_pf))\n",
        "random_acc = accuracy_score(Y_Test,random_pf)"
      ],
      "execution_count": null,
      "outputs": [
        {
          "output_type": "stream",
          "name": "stdout",
          "text": [
            "[[85282    17]\n",
            " [   51    93]]\n",
            "              precision    recall  f1-score   support\n",
            "\n",
            "           0       1.00      1.00      1.00     85299\n",
            "           1       0.85      0.65      0.73       144\n",
            "\n",
            "    accuracy                           1.00     85443\n",
            "   macro avg       0.92      0.82      0.87     85443\n",
            "weighted avg       1.00      1.00      1.00     85443\n",
            "\n"
          ]
        }
      ]
    },
    {
      "cell_type": "code",
      "metadata": {
        "ExecuteTime": {
          "end_time": "2021-09-24T18:34:05.763983Z",
          "start_time": "2021-09-24T18:34:05.755182Z"
        },
        "id": "zCqbDEQbDyh4",
        "outputId": "64372d03-8286-469a-af70-df777f8b2a97",
        "colab": {
          "base_uri": "https://localhost:8080/"
        }
      },
      "source": [
        "random.best_params_"
      ],
      "execution_count": null,
      "outputs": [
        {
          "output_type": "execute_result",
          "data": {
            "text/plain": [
              "{'criterion': 'entropy',\n",
              " 'max_depth': 2,\n",
              " 'max_features': 'auto',\n",
              " 'min_samples_leaf': 8,\n",
              " 'min_samples_split': 7,\n",
              " 'n_estimators': 20}"
            ]
          },
          "metadata": {},
          "execution_count": 20
        }
      ]
    },
    {
      "cell_type": "code",
      "metadata": {
        "ExecuteTime": {
          "end_time": "2021-09-24T18:34:09.858908Z",
          "start_time": "2021-09-24T18:34:09.850736Z"
        },
        "id": "oGFlxJpQDyh5",
        "outputId": "d4aae2c4-e99d-4580-e048-52f2432ab8e7",
        "colab": {
          "base_uri": "https://localhost:8080/"
        }
      },
      "source": [
        "random_acc"
      ],
      "execution_count": null,
      "outputs": [
        {
          "output_type": "execute_result",
          "data": {
            "text/plain": [
              "0.999204147794436"
            ]
          },
          "metadata": {},
          "execution_count": 21
        }
      ]
    },
    {
      "cell_type": "markdown",
      "metadata": {
        "id": "97Ez71TmDyh5"
      },
      "source": [
        "# 4. Bayesian Optimization using HyperOpt <a id=\"4\"></a> <br>\n",
        "\n",
        "Bayesian Optimization can be performed in Python using the Hyperopt library.  \n",
        "\n",
        "\n",
        "In Hyperopt, Bayesian Optimization can be implemented giving 3 three main parameters to the function fmin().\n",
        "\n",
        "* **Objective Function** = defines the loss function to minimize.\n",
        "* **Domain Space** = defines the range of input values to test (in Bayesian Optimization this space creates a probability distribution for each of the used Hyperparameters).\n",
        "* **Optimization Algorithm** = defines the search algorithm to use to select the best input values to use in each new iteration."
      ]
    },
    {
      "cell_type": "code",
      "metadata": {
        "ExecuteTime": {
          "end_time": "2021-09-24T18:34:25.910843Z",
          "start_time": "2021-09-24T18:34:22.472645Z"
        },
        "_kg_hide-output": true,
        "scrolled": true,
        "id": "bV_bg2lODyh5",
        "outputId": "37d5a3c9-785c-4847-9d54-d8c94f97a640",
        "colab": {
          "base_uri": "https://localhost:8080/"
        }
      },
      "source": [
        "!pip install hyperopt"
      ],
      "execution_count": null,
      "outputs": [
        {
          "output_type": "stream",
          "name": "stdout",
          "text": [
            "Requirement already satisfied: hyperopt in /usr/local/lib/python3.7/dist-packages (0.1.2)\n",
            "Requirement already satisfied: networkx in /usr/local/lib/python3.7/dist-packages (from hyperopt) (2.6.3)\n",
            "Requirement already satisfied: numpy in /usr/local/lib/python3.7/dist-packages (from hyperopt) (1.21.5)\n",
            "Requirement already satisfied: pymongo in /usr/local/lib/python3.7/dist-packages (from hyperopt) (4.0.2)\n",
            "Requirement already satisfied: scipy in /usr/local/lib/python3.7/dist-packages (from hyperopt) (1.4.1)\n",
            "Requirement already satisfied: six in /usr/local/lib/python3.7/dist-packages (from hyperopt) (1.15.0)\n",
            "Requirement already satisfied: future in /usr/local/lib/python3.7/dist-packages (from hyperopt) (0.16.0)\n",
            "Requirement already satisfied: tqdm in /usr/local/lib/python3.7/dist-packages (from hyperopt) (4.63.0)\n"
          ]
        }
      ]
    },
    {
      "cell_type": "code",
      "metadata": {
        "ExecuteTime": {
          "end_time": "2021-09-24T19:33:22.042595Z",
          "start_time": "2021-09-24T19:29:12.299867Z"
        },
        "id": "CZlhISu6Dyh5",
        "outputId": "7af41590-5b56-4fd4-94ee-1a5f8cd11f25",
        "colab": {
          "base_uri": "https://localhost:8080/"
        }
      },
      "source": [
        "from hyperopt import hp, fmin, tpe, STATUS_OK, Trials\n",
        "\n",
        "space = {'criterion': hp.choice('criterion', ['entropy', 'gini']),\n",
        "        'max_depth': hp.quniform('max_depth', 10, 12, 10),\n",
        "        'max_features': hp.choice('max_features', ['auto', 'sqrt','log2', None]),\n",
        "        'min_samples_leaf': hp.uniform ('min_samples_leaf', 0, 0.5),\n",
        "        'min_samples_split' : hp.uniform ('min_samples_split', 0, 1),\n",
        "        'n_estimators' : hp.choice('n_estimators', [10, 50])\n",
        "    }\n",
        "\n",
        "def objective(space):\n",
        "    hopt = RandomForestClassifier(criterion = space['criterion'], \n",
        "                                   max_depth = space['max_depth'],\n",
        "                                 max_features = space['max_features'],\n",
        "                                 min_samples_leaf = space['min_samples_leaf'],\n",
        "                                 min_samples_split = space['min_samples_split'],\n",
        "                                 n_estimators = space['n_estimators'], \n",
        "                                 )\n",
        "    \n",
        "    accuracy = cross_val_score(hopt, X_Train, Y_Train, cv = 4).mean()\n",
        "\n",
        "    # We aim to maximize accuracy, therefore we return it as a negative value\n",
        "    return {'loss': -accuracy, 'status': STATUS_OK }\n",
        "    \n",
        "trials = Trials()\n",
        "best = fmin(fn= objective,\n",
        "            space= space,\n",
        "            algo= tpe.suggest,\n",
        "            max_evals = 20,\n",
        "            trials= trials)\n",
        "best"
      ],
      "execution_count": null,
      "outputs": [
        {
          "output_type": "stream",
          "name": "stdout",
          "text": [
            "100%|██████████| 20/20 [03:02<00:00,  9.11s/it, best loss: -0.9982544491482915]\n"
          ]
        },
        {
          "output_type": "execute_result",
          "data": {
            "text/plain": [
              "{'criterion': 1,\n",
              " 'max_depth': 10.0,\n",
              " 'max_features': 0,\n",
              " 'min_samples_leaf': 0.3717279885682011,\n",
              " 'min_samples_split': 0.6208086651074141,\n",
              " 'n_estimators': 0}"
            ]
          },
          "metadata": {},
          "execution_count": 11
        }
      ]
    },
    {
      "cell_type": "code",
      "metadata": {
        "ExecuteTime": {
          "end_time": "2021-09-24T19:34:17.640097Z",
          "start_time": "2021-09-24T19:33:22.602649Z"
        },
        "scrolled": true,
        "id": "kcF_crOQDyh6",
        "outputId": "cda7bd50-cb88-4e3e-c121-be253545b978",
        "colab": {
          "base_uri": "https://localhost:8080/"
        }
      },
      "source": [
        "crit = {0: 'entropy', 1: 'gini'}\n",
        "feat = {0: 'auto', 1: 'sqrt', 2: 'log2', 3: None}\n",
        "est = {0: 10, 1: 50, 2: 75, 3: 100, 4: 125}\n",
        "\n",
        "trainedforest = RandomForestClassifier(criterion = crit[best['criterion']], \n",
        "                                       max_depth = best['max_depth'], \n",
        "                                       max_features = feat[best['max_features']], \n",
        "                                       min_samples_leaf = best['min_samples_leaf'], \n",
        "                                       min_samples_split = best['min_samples_split'], \n",
        "                                       n_estimators = est[best['n_estimators']]\n",
        "                                      ).fit(X_Train,Y_Train)\n",
        "hopt_pf = trainedforest.predict(X_Test)\n",
        "print(confusion_matrix(Y_Test,hopt_pf))\n",
        "print(classification_report(Y_Test,hopt_pf))\n",
        "hopt_acc = accuracy_score(Y_Test,hopt_pf)"
      ],
      "execution_count": null,
      "outputs": [
        {
          "output_type": "stream",
          "name": "stdout",
          "text": [
            "[[85299     0]\n",
            " [  144     0]]\n",
            "              precision    recall  f1-score   support\n",
            "\n",
            "           0       1.00      1.00      1.00     85299\n",
            "           1       0.00      0.00      0.00       144\n",
            "\n",
            "    accuracy                           1.00     85443\n",
            "   macro avg       0.50      0.50      0.50     85443\n",
            "weighted avg       1.00      1.00      1.00     85443\n",
            "\n"
          ]
        },
        {
          "output_type": "stream",
          "name": "stderr",
          "text": [
            "/usr/local/lib/python3.7/dist-packages/sklearn/metrics/_classification.py:1318: UndefinedMetricWarning: Precision and F-score are ill-defined and being set to 0.0 in labels with no predicted samples. Use `zero_division` parameter to control this behavior.\n",
            "  _warn_prf(average, modifier, msg_start, len(result))\n",
            "/usr/local/lib/python3.7/dist-packages/sklearn/metrics/_classification.py:1318: UndefinedMetricWarning: Precision and F-score are ill-defined and being set to 0.0 in labels with no predicted samples. Use `zero_division` parameter to control this behavior.\n",
            "  _warn_prf(average, modifier, msg_start, len(result))\n",
            "/usr/local/lib/python3.7/dist-packages/sklearn/metrics/_classification.py:1318: UndefinedMetricWarning: Precision and F-score are ill-defined and being set to 0.0 in labels with no predicted samples. Use `zero_division` parameter to control this behavior.\n",
            "  _warn_prf(average, modifier, msg_start, len(result))\n"
          ]
        }
      ]
    },
    {
      "cell_type": "markdown",
      "metadata": {
        "id": "gb0ZNqJnDyh6"
      },
      "source": [
        "### HyperOpt 결과"
      ]
    },
    {
      "cell_type": "code",
      "metadata": {
        "ExecuteTime": {
          "end_time": "2021-09-24T19:34:19.405192Z",
          "start_time": "2021-09-24T19:34:19.338856Z"
        },
        "id": "9U2hOelHDyh6",
        "outputId": "7aa414d2-c0fa-4f8e-9729-9543374a50e4",
        "colab": {
          "base_uri": "https://localhost:8080/"
        }
      },
      "source": [
        "hopt_acc"
      ],
      "execution_count": null,
      "outputs": [
        {
          "output_type": "execute_result",
          "data": {
            "text/plain": [
              "0.9983146659176293"
            ]
          },
          "metadata": {},
          "execution_count": 25
        }
      ]
    },
    {
      "cell_type": "markdown",
      "metadata": {
        "id": "N1wOcpYcDyh6"
      },
      "source": [
        "# 5.Optuna <a id=\"5\"></a> <br>\n",
        "\n",
        "- 하이퍼파라미터 최적화 태스크를 자동화해주는 프레임워크\n",
        "- 거의 모든 ML/DL 프레임워크에서 사용 가능\n",
        "- 간단하고 빠름\n",
        "- 최신 동향의 다양한 최적화 알고리즘\n",
        "- 병렬 처리 가능\n",
        "- 마찬가지로 하이퍼파라미터 튜닝 자동화 프레임워크인 HyperOpt와 비교했을 때 사용의 편리성, 시각화 가능 등의 장점으로 많이 쓰이고 있으며, 캐글에서도 많은 노트북에서 Optuna를 사용하고 있음을 확인할 수 있다.\n",
        "\n",
        "< Process >\n",
        "- 1) Define \"objective\" function\n",
        "- 2) Use \"trial\" module to define\n",
        "- 3) Make \"study\" and let optimize\n"
      ]
    },
    {
      "cell_type": "markdown",
      "source": [
        "< About \"Trial\" module >\n",
        "- \"Trial\" module lets user to intuitively write code to get hyperparameters, instead of defining whole search space in advance.\n",
        "![캡처.JPG](data:image/jpeg;base64,/9j/4AAQSkZJRgABAQEAeAB4AAD/4RDaRXhpZgAATU0AKgAAAAgABAE7AAIAAAAFAAAISodpAAQAAAABAAAIUJydAAEAAAAKAAAQyOocAAcAAAgMAAAAPgAAAAAc6gAAAAgAAAAAAAAAAAAAAAAAAAAAAAAAAAAAAAAAAAAAAAAAAAAAAAAAAAAAAAAAAAAAAAAAAAAAAAAAAAAAAAAAAAAAAAAAAAAAAAAAAAAAAAAAAAAAAAAAAAAAAAAAAAAAAAAAAAAAAAAAAAAAAAAAAAAAAAAAAAAAAAAAAAAAAAAAAAAAAAAAAAAAAAAAAAAAAAAAAAAAAAAAAAAAAAAAAAAAAAAAAAAAAAAAAAAAAAAAAAAAAAAAAAAAAAAAAAAAAAAAAAAAAAAAAAAAAAAAAAAAAAAAAAAAAAAAAAAAAAAAAAAAAAAAAAAAAAAAAAAAAAAAAAAAAAAAAAAAAAAAAAAAAAAAAAAAAAAAAAAAAAAAAAAAAAAAAAAAAAAAAAAAAAAAAAAAAAAAAAAAAAAAAAAAAAAAAAAAAAAAAAAAAAAAAAAAAAAAAAAAAAAAAAAAAAAAAAAAAAAAAAAAAAAAAAAAAAAAAAAAAAAAAAAAAAAAAAAAAAAAAAAAAAAAAAAAAAAAAAAAAAAAAAAAAAAAAAAAAAAAAAAAAAAAAAAAAAAAAAAAAAAAAAAAAAAAAAAAAAAAAAAAAAAAAAAAAAAAAAAAAAAAAAAAAAAAAAAAAAAAAAAAAAAAAAAAAAAAAAAAAAAAAAAAAAAAAAAAAAAAAAAAAAAAAAAAAAAAAAAAAAAAAAAAAAAAAAAAAAAAAAAAAAAAAAAAAAAAAAAAAAAAAAAAAAAAAAAAAAAAAAAAAAAAAAAAAAAAAAAAAAAAAAAAAAAAAAAAAAAAAAAAAAAAAAAAAAAAAAAAAAAAAAAAAAAAAAAAAAAAAAAAAAAAAAAAAAAAAAAAAAAAAAAAAAAAAAAAAAAAAAAAAAAAAAAAAAAAAAAAAAAAAAAAAAAAAAAAAAAAAAAAAAAAAAAAAAAAAAAAAAAAAAAAAAAAAAAAAAAAAAAAAAAAAAAAAAAAAAAAAAAAAAAAAAAAAAAAAAAAAAAAAAAAAAAAAAAAAAAAAAAAAAAAAAAAAAAAAAAAAAAAAAAAAAAAAAAAAAAAAAAAAAAAAAAAAAAAAAAAAAAAAAAAAAAAAAAAAAAAAAAAAAAAAAAAAAAAAAAAAAAAAAAAAAAAAAAAAAAAAAAAAAAAAAAAAAAAAAAAAAAAAAAAAAAAAAAAAAAAAAAAAAAAAAAAAAAAAAAAAAAAAAAAAAAAAAAAAAAAAAAAAAAAAAAAAAAAAAAAAAAAAAAAAAAAAAAAAAAAAAAAAAAAAAAAAAAAAAAAAAAAAAAAAAAAAAAAAAAAAAAAAAAAAAAAAAAAAAAAAAAAAAAAAAAAAAAAAAAAAAAAAAAAAAAAAAAAAAAAAAAAAAAAAAAAAAAAAAAAAAAAAAAAAAAAAAAAAAAAAAAAAAAAAAAAAAAAAAAAAAAAAAAAAAAAAAAAAAAAAAAAAAAAAAAAAAAAAAAAAAAAAAAAAAAAAAAAAAAAAAAAAAAAAAAAAAAAAAAAAAAAAAAAAAAAAAAAAAAAAAAAAAAAAAAAAAAAAAAAAAAAAAAAAAAAAAAAAAAAAAAAAAAAAAAAAAAAAAAAAAAAAAAAAAAAAAAAAAAAAAAAAAAAAAAAAAAAAAAAAAAAAAAAAAAAAAAAAAAAAAAAAAAAAAAAAAAAAAAAAAAAAAAAAAAAAAAAAAAAAAAAAAAAAAAAAAAAAAAAAAAAAAAAAAAAAAAAAAAAAAAAAAAAAAAAAAAAAAAAAAAAAAAAAAAAAAAAAAAAAAAAAAAAAAAAAAAAAAAAAAAAAAAAAAAAAAAAAAAAAAAAAAAAAAAAAAAAAAAAAAAAAAAAAAAAAAAAAAAAAAAAAAAAAAAAAAAAAAAAAAAAAAAAAAAAAAAAAAAAAAAAAAAAAAAAAAAAAAAAAAAAAAAAAAAAAAAAAAAAAAAAAAAAAAAAAAAAAAAAAAAAAAAAAAAAAAAAAAAAAAAAAAAAAAAAAAAAAAAAAAAAAAAAAAAAAAAAAAAAAAAAAAAAAAAAAAAAAAAAAAAAAAAAAAAAAAAAAAAAAAAAAAAAAAAAAAAAAAAAAAAAAAAAAAAAAAAAAAAAAAAAAAAAAAAAAAAAAAAAAAAAAAAAAAAAAAAAAAAAAAAAAAAAAAAAAAAAAAAAAAAAAAAAAAAAAAAAAAAAAAAAAAAAAAAAAAAAAAAAAAAAAAAAAAAAAAAAAAAAAAAAAAAAAAAAAAAAAAAAAAAAAAAAAAAAAAAAAAAAAAAAAAAAAAAAAAAAAAAAAAAAAAAAAAAAAAAAAAAAAAAAAAAAAAAAAAAAAAAAAAAAAAAAAAAAAAAAAAAAAAAAAAAAAAAAAAAAAAAAAAAAAAAAAAAAAAAAAAAAAAAAAAAAAAAAAAAAAAAAAAAAAAAAAAAAAAAAAAAAAAAAAAAAAAAAAAAAAAAAAAAAAAAAAAAAAAAAAAAAAAAAAAAAAAAAAAAAAAAAAAAAAAAAAAAAAAAAAAAAAAAAAAAAAAAAAAAAAAAAAAAAAAAAAAAAAAAAAAAAAAAAAAAAAAAAAAAAAAAAAAAAAAAAAAAAAAAAAAAAAAAAAAAAAAAAAAAAAAAAAAAAAAAAAAAAAAAAAAAAAAAAAAAAAAAAAAAAAAAAAAAAAAAAAAAAAAAAAAAAAAAAAAAAAAAAAAAAAAAAAAAAAAAAAAAAAAAAAAAAAAAAAAAAAAAAAAAAAAAAAAAAAAAAAAAAAAAAAAAAAAAAAAAAAAAAAAAAAAAAAAAAAAAAAAAAAAAAAAAAAFVzZXIAAAAFkAMAAgAAABQAABCekAQAAgAAABQAABCykpEAAgAAAAM2MQAAkpIAAgAAAAM2MQAA6hwABwAACAwAAAiSAAAAABzqAAAACAAAAAAAAAAAAAAAAAAAAAAAAAAAAAAAAAAAAAAAAAAAAAAAAAAAAAAAAAAAAAAAAAAAAAAAAAAAAAAAAAAAAAAAAAAAAAAAAAAAAAAAAAAAAAAAAAAAAAAAAAAAAAAAAAAAAAAAAAAAAAAAAAAAAAAAAAAAAAAAAAAAAAAAAAAAAAAAAAAAAAAAAAAAAAAAAAAAAAAAAAAAAAAAAAAAAAAAAAAAAAAAAAAAAAAAAAAAAAAAAAAAAAAAAAAAAAAAAAAAAAAAAAAAAAAAAAAAAAAAAAAAAAAAAAAAAAAAAAAAAAAAAAAAAAAAAAAAAAAAAAAAAAAAAAAAAAAAAAAAAAAAAAAAAAAAAAAAAAAAAAAAAAAAAAAAAAAAAAAAAAAAAAAAAAAAAAAAAAAAAAAAAAAAAAAAAAAAAAAAAAAAAAAAAAAAAAAAAAAAAAAAAAAAAAAAAAAAAAAAAAAAAAAAAAAAAAAAAAAAAAAAAAAAAAAAAAAAAAAAAAAAAAAAAAAAAAAAAAAAAAAAAAAAAAAAAAAAAAAAAAAAAAAAAAAAAAAAAAAAAAAAAAAAAAAAAAAAAAAAAAAAAAAAAAAAAAAAAAAAAAAAAAAAAAAAAAAAAAAAAAAAAAAAAAAAAAAAAAAAAAAAAAAAAAAAAAAAAAAAAAAAAAAAAAAAAAAAAAAAAAAAAAAAAAAAAAAAAAAAAAAAAAAAAAAAAAAAAAAAAAAAAAAAAAAAAAAAAAAAAAAAAAAAAAAAAAAAAAAAAAAAAAAAAAAAAAAAAAAAAAAAAAAAAAAAAAAAAAAAAAAAAAAAAAAAAAAAAAAAAAAAAAAAAAAAAAAAAAAAAAAAAAAAAAAAAAAAAAAAAAAAAAAAAAAAAAAAAAAAAAAAAAAAAAAAAAAAAAAAAAAAAAAAAAAAAAAAAAAAAAAAAAAAAAAAAAAAAAAAAAAAAAAAAAAAAAAAAAAAAAAAAAAAAAAAAAAAAAAAAAAAAAAAAAAAAAAAAAAAAAAAAAAAAAAAAAAAAAAAAAAAAAAAAAAAAAAAAAAAAAAAAAAAAAAAAAAAAAAAAAAAAAAAAAAAAAAAAAAAAAAAAAAAAAAAAAAAAAAAAAAAAAAAAAAAAAAAAAAAAAAAAAAAAAAAAAAAAAAAAAAAAAAAAAAAAAAAAAAAAAAAAAAAAAAAAAAAAAAAAAAAAAAAAAAAAAAAAAAAAAAAAAAAAAAAAAAAAAAAAAAAAAAAAAAAAAAAAAAAAAAAAAAAAAAAAAAAAAAAAAAAAAAAAAAAAAAAAAAAAAAAAAAAAAAAAAAAAAAAAAAAAAAAAAAAAAAAAAAAAAAAAAAAAAAAAAAAAAAAAAAAAAAAAAAAAAAAAAAAAAAAAAAAAAAAAAAAAAAAAAAAAAAAAAAAAAAAAAAAAAAAAAAAAAAAAAAAAAAAAAAAAAAAAAAAAAAAAAAAAAAAAAAAAAAAAAAAAAAAAAAAAAAAAAAAAAAAAAAAAAAAAAAAAAAAAAAAAAAAAAAAAAAAAAAAAAAAAAAAAAAAAAAAAAAAAAAAAAAAAAAAAAAAAAAAAAAAAAAAAAAAAAAAAAAAAAAAAAAAAAAAAAAAAAAAAAAAAAAAAAAAAAAAAAAAAAAAAAAAAAAAAAAAAAAAAAAAAAAAAAAAAAAAAAAAAAAAAAAAAAAAAAAAAAAAAAAAAAAAAAAAAAAAAAAAAAAAAAAAAAAAAAAAAAAAAAAAAAAAAAAAAAAAAAAAAAAAAAAAAAAAAAAAAAAAAAAAAAAAAAAAAAAAAAAAAAAAAAAAAAAAAAAAAAAAAAAAAAAAAAAAAAAAAAAAAAAAAAAAAAAAAAAAAAAAAAAAAAAAAAAAAAAAAAAAAAAAAAAAAAAAAAAAAAAAAAAAAAAAAAAAAAAAAAAAAAAAAAAAAAAAAAAAAAAAAAAAAAAAAAAAAAAAAAAAAAAAAAAAAAAAAAAAAAAAAAAAAAAAAAAAAAAAAAAAAAAAAAAAAAAAAAAAAAAAAAAAAAAAAAAAAAAAAAAAAAAAAAAAAAAAAAAAAAAAAAAAAAAAAAAAAAAAAAAAAAAAAAAAAAAAAAAAAAAAAAAAAAAAAAAAAAAAAAAAAAAAAAAAAAAAAAAAAAAAAAAAAAAAAAAAAAAAAAAAAAAAAAAAAAAAAAAAAAAAAAAAAAAAAAAAAAAAAAAAAAAAAAAAAAAAAAAAAAAAAAAAAAAAAAAAAAAAAAAAAAAAAAAAAAAAAAAAAAAAAAAAAAAAAAAAAAAAAAAAAAAAAAAAAAAAAAAAAAAAAAAAAAAAAAAAAAAAAAAAAAAAAAAAAAAAAAAAAAAAAAAAAAAAAAAAAAAAAAAAAAAAAAAAAAAAAAAAAAAAAAAAAAAAAAAAAAAAAAAAAAAAAAAAAAAAAAAAAAAAAAAAAAAAAAAAAAAAAAAAAAAAAAAAAAAAAAAAAAAAAAAAAAAAAAAAAAAAAAAAAAAAAAAAAAAAAAAAAAAAAAAAAAAAAAAAAAAAAAAAAAAAAAAAAAAAAAAAAAAAAAAAAAAAAAAAAAAAAAAAAAAAAAAAAAAAAAAAAAAAAAAAAAAAAAAAAAAAAAAAAAAAAAAAAAAAAAAAAAAAAAAAAAAAAAAAAAAAAAAAAAAAAAAAAAAAAAAAAAAAAAAAAAAAAAAAAAAAAAAAAAAAAAAAAAAAAAAAAAAAAAAAAAAAAAAAAAAAAAAAAAAAAAAAAAAAAAAAAAAAAAAAAAAAAAAAAAAAAAAAAAAAAAAAMjAyMjowNDowMSAxNTozMjowNQAyMDIyOjA0OjAxIDE1OjMyOjA1AAAAVQBzAGUAcgAAAP/hCxdodHRwOi8vbnMuYWRvYmUuY29tL3hhcC8xLjAvADw/eHBhY2tldCBiZWdpbj0n77u/JyBpZD0nVzVNME1wQ2VoaUh6cmVTek5UY3prYzlkJz8+DQo8eDp4bXBtZXRhIHhtbG5zOng9ImFkb2JlOm5zOm1ldGEvIj48cmRmOlJERiB4bWxuczpyZGY9Imh0dHA6Ly93d3cudzMub3JnLzE5OTkvMDIvMjItcmRmLXN5bnRheC1ucyMiPjxyZGY6RGVzY3JpcHRpb24gcmRmOmFib3V0PSJ1dWlkOmZhZjViZGQ1LWJhM2QtMTFkYS1hZDMxLWQzM2Q3NTE4MmYxYiIgeG1sbnM6ZGM9Imh0dHA6Ly9wdXJsLm9yZy9kYy9lbGVtZW50cy8xLjEvIi8+PHJkZjpEZXNjcmlwdGlvbiByZGY6YWJvdXQ9InV1aWQ6ZmFmNWJkZDUtYmEzZC0xMWRhLWFkMzEtZDMzZDc1MTgyZjFiIiB4bWxuczp4bXA9Imh0dHA6Ly9ucy5hZG9iZS5jb20veGFwLzEuMC8iPjx4bXA6Q3JlYXRlRGF0ZT4yMDIyLTA0LTAxVDE1OjMyOjA1LjYxMzwveG1wOkNyZWF0ZURhdGU+PC9yZGY6RGVzY3JpcHRpb24+PHJkZjpEZXNjcmlwdGlvbiByZGY6YWJvdXQ9InV1aWQ6ZmFmNWJkZDUtYmEzZC0xMWRhLWFkMzEtZDMzZDc1MTgyZjFiIiB4bWxuczpkYz0iaHR0cDovL3B1cmwub3JnL2RjL2VsZW1lbnRzLzEuMS8iPjxkYzpjcmVhdG9yPjxyZGY6U2VxIHhtbG5zOnJkZj0iaHR0cDovL3d3dy53My5vcmcvMTk5OS8wMi8yMi1yZGYtc3ludGF4LW5zIyI+PHJkZjpsaT5Vc2VyPC9yZGY6bGk+PC9yZGY6U2VxPg0KCQkJPC9kYzpjcmVhdG9yPjwvcmRmOkRlc2NyaXB0aW9uPjwvcmRmOlJERj48L3g6eG1wbWV0YT4NCiAgICAgICAgICAgICAgICAgICAgICAgICAgICAgICAgICAgICAgICAgICAgICAgICAgICAgICAgICAgICAgICAgICAgICAgICAgICAgICAgICAgICAgICAgICAgICAgICAgICAKICAgICAgICAgICAgICAgICAgICAgICAgICAgICAgICAgICAgICAgICAgICAgICAgICAgICAgICAgICAgICAgICAgICAgICAgICAgICAgICAgICAgICAgICAgICAgICAgICAgIAogICAgICAgICAgICAgICAgICAgICAgICAgICAgICAgICAgICAgICAgICAgICAgICAgICAgICAgICAgICAgICAgICAgICAgICAgICAgICAgICAgICAgICAgICAgICAgICAgICAgCiAgICAgICAgICAgICAgICAgICAgICAgICAgICAgICAgICAgICAgICAgICAgICAgICAgICAgICAgICAgICAgICAgICAgICAgICAgICAgICAgICAgICAgICAgICAgICAgICAgICAKICAgICAgICAgICAgICAgICAgICAgICAgICAgICAgICAgICAgICAgICAgICAgICAgICAgICAgICAgICAgICAgICAgICAgICAgICAgICAgICAgICAgICAgICAgICAgICAgICAgIAogICAgICAgICAgICAgICAgICAgICAgICAgICAgICAgICAgICAgICAgICAgICAgICAgICAgICAgICAgICAgICAgICAgICAgICAgICAgICAgICAgICAgICAgICAgICAgICAgICAgCiAgICAgICAgICAgICAgICAgICAgICAgICAgICAgICAgICAgICAgICAgICAgICAgICAgICAgICAgICAgICAgICAgICAgICAgICAgICAgICAgICAgICAgICAgICAgICAgICAgICAKICAgICAgICAgICAgICAgICAgICAgICAgICAgICAgICAgICAgICAgICAgICAgICAgICAgICAgICAgICAgICAgICAgICAgICAgICAgICAgICAgICAgICAgICAgICAgICAgICAgIAogICAgICAgICAgICAgICAgICAgICAgICAgICAgICAgICAgICAgICAgICAgICAgICAgICAgICAgICAgICAgICAgICAgICAgICAgICAgICAgICAgICAgICAgICAgICAgICAgICAgCiAgICAgICAgICAgICAgICAgICAgICAgICAgICAgICAgICAgICAgICAgICAgICAgICAgICAgICAgICAgICAgICAgICAgICAgICAgICAgICAgICAgICAgICAgICAgICAgICAgICAKICAgICAgICAgICAgICAgICAgICAgICAgICAgICAgICAgICAgICAgICAgICAgICAgICAgICAgICAgICAgICAgICAgICAgICAgICAgICAgICAgICAgICAgICAgICAgICAgICAgIAogICAgICAgICAgICAgICAgICAgICAgICAgICAgICAgICAgICAgICAgICAgICAgICAgICAgICAgICAgICAgICAgICAgICAgICAgICAgICAgICAgICAgICAgICAgICAgICAgICAgCiAgICAgICAgICAgICAgICAgICAgICAgICAgICAgICAgICAgICAgICAgICAgICAgICAgICAgICAgICAgICAgICAgICAgICAgICAgICAgICAgICAgICAgICAgICAgICAgICAgICAKICAgICAgICAgICAgICAgICAgICAgICAgICAgICAgICAgICAgICAgICAgICAgICAgICAgICAgICAgICAgICAgICAgICAgICAgICAgICAgICAgICAgICAgICAgICAgICAgICAgIAogICAgICAgICAgICAgICAgICAgICAgICAgICAgICAgICAgICAgICAgICAgICAgICAgICAgICAgICAgICAgICAgICAgICAgICAgICAgICAgICAgICAgICAgICAgICAgICAgICAgCiAgICAgICAgICAgICAgICAgICAgICAgICAgICAgICAgICAgICAgICAgICAgICAgICAgICAgICAgICAgICAgICAgICAgICAgICAgICAgICAgICAgICAgICAgICAgICAgICAgICAKICAgICAgICAgICAgICAgICAgICAgICAgICAgICAgICAgICAgICAgICAgICAgICAgICAgICAgICAgICAgICAgICAgICAgICAgICAgICAgICAgICAgICAgICAgICAgICAgICAgIAogICAgICAgICAgICAgICAgICAgICAgICAgICAgICAgICAgICAgICAgICAgICAgICAgICAgICAgICAgICAgICAgICAgICAgICAgICAgICAgICAgICAgICAgICAgICAgICAgICAgCiAgICAgICAgICAgICAgICAgICAgICAgICAgICAgICAgICAgICAgICAgICAgICAgICAgICAgICAgICAgICAgICAgICAgICAgICAgICAgICAgICAgICAgICAgICAgICAgICAgICAKICAgICAgICAgICAgICAgICAgICAgICAgICAgICAgICAgICAgICAgICAgICAgICAgICAgICAgICAgICAgICAgICAgICAgICAgICAgICAgICAgICAgICAgICAgICAgICAgICAgIAogICAgICAgICAgICAgICAgICAgICAgICAgICAgPD94cGFja2V0IGVuZD0ndyc/Pv/bAEMABwUFBgUEBwYFBggHBwgKEQsKCQkKFQ8QDBEYFRoZGBUYFxseJyEbHSUdFxgiLiIlKCkrLCsaIC8zLyoyJyorKv/bAEMBBwgICgkKFAsLFCocGBwqKioqKioqKioqKioqKioqKioqKioqKioqKioqKioqKioqKioqKioqKioqKioqKioqKv/AABEIAtIFLAMBIgACEQEDEQH/xAAfAAABBQEBAQEBAQAAAAAAAAAAAQIDBAUGBwgJCgv/xAC1EAACAQMDAgQDBQUEBAAAAX0BAgMABBEFEiExQQYTUWEHInEUMoGRoQgjQrHBFVLR8CQzYnKCCQoWFxgZGiUmJygpKjQ1Njc4OTpDREVGR0hJSlNUVVZXWFlaY2RlZmdoaWpzdHV2d3h5eoOEhYaHiImKkpOUlZaXmJmaoqOkpaanqKmqsrO0tba3uLm6wsPExcbHyMnK0tPU1dbX2Nna4eLj5OXm5+jp6vHy8/T19vf4+fr/xAAfAQADAQEBAQEBAQEBAAAAAAAAAQIDBAUGBwgJCgv/xAC1EQACAQIEBAMEBwUEBAABAncAAQIDEQQFITEGEkFRB2FxEyIygQgUQpGhscEJIzNS8BVictEKFiQ04SXxFxgZGiYnKCkqNTY3ODk6Q0RFRkdISUpTVFVWV1hZWmNkZWZnaGlqc3R1dnd4eXqCg4SFhoeIiYqSk5SVlpeYmZqio6Slpqeoqaqys7S1tre4ubrCw8TFxsfIycrS09TV1tfY2dri4+Tl5ufo6ery8/T19vf4+fr/2gAMAwEAAhEDEQA/APpGiiigAooooAKKKKACiiigAooooAKKKKACiiigAooooAKKRnVSAzAZ6ZpaACiiigAooooAKKKKACiiigAooozzQAUUUUAFFFFABRRRQAUUE460gIPQ0ALRRRQAUUU1XVvusD9DQA6iiigAooooAKKKKACiiigAooozQAUUUm4eooAWijOelFABRRRQAUUUUAFFFFABRRRQAUUUUAFFFFABRRRQAUUUUAFFFFABRRRQAUUUUAFFFFABRRRQAUUUUAFFFFABRRRQAUUUUAFFFFABRRRQAUUUUAFFFFABRRRQAUUUUAFFFFABRRVPVdXsND02W/1a6itLWIZeWVgoH4mgC5RXnUPxz8ESzqpv5ooWbatxJbusRP8AvEYFegWt1Be2sdzaSpNDIu5JEbIYeoNAEtFFVdR1Kz0mza61K5jtoFIBklYKMnoOaALVFAIIBHQ0UAFFFFABRRWZ4h1+x8MaJPqurO0drBjeyqWIycDge5oA06KitriO7tYriE5jlQOpI6gjNS0AFFZPiXxNpnhHRX1XXJjBaIwVnCFuT04FcfH8ePATuqnVZIwx+89s4A+pxQB6NRVXTtSs9XsIr3TbmO6tpRlJYmDKw+oq1QAUVQ1vW7Dw7o9xqmr3C29pbrukkbt2/E57VzemfFTw1qsdm0E1xGL65+y2/m27rvfG7uOmO9AHZ0UUUAFFFFABRWdr+vWHhnRZ9W1eUw2dvjzHClsZIA4Huau288d1axXEJzHKgdDjqCMigCSiiigAoorhtX+MPhDRNcu9Ivr2YXlm+yZEtnbacZ6ge9AHc0VxWi/Fzwbr2qR6dZarsu5TiOOeNoi59BuAyfau1oAKKKKACiiigAooooAKKKrajf2+labcX96+y3tozLIwGcKBknFAFmiqWj6vaa9o9rqmmyGS1uoxJE5Ujcp6HBq7QAUUUUAFFFFABRRRQAUUUUAFFFFABRRRQAUUUUAFFFFABRRRQAUUUUAFFFFABRRRQAUUUUAFFFFABRRRQAUUUUAFFFFABRRRQAVynxJ8XHwV4HvNWhQSXQ2xW0Z6NIxCj8s5/CurrzX48aXc6h8NJLmzjMr6dcxXbRgZLKrDd+QOfwoAqaR8I/7Z0mHUPGmvatd6tcxiVzDc+UkBYZ2ooHGM4ra8BaT4q8Nalqula/dNqOiwkPp1/NIDKVwMow9uea6bw5rdlr3hyy1LTp0lgmhVgynOOOQfcdK4nxJ4+j12y8Z+H/D0Mss+l6ZI0l5EwKBihygx/EP6UAWrr4z+GLe4uFiW/ura1cpPeW1o8kMZHXLgY4re1bx5oGj+F7bxDc3ivply6JHPF8ynecA8ds1lfC9NI/4VBo4t1hNobL9/0ILc+Zu987s14pMhn+ANzCcmxbxMEtfTyTKOntkmgD2OH4z+F5dTt7WT7Zbw3Ugit7ya2ZIJWJwMOePxrpbfxZplx4un8Nq7rqENutxtZCA8Z7qe9cT8cLWCP4KyhIkUQS2vl4X7mJFHHpxUPj5D4e1Xwf44iG1bRo7K/f8A6YSgDJ9gST+NAHfT+KtNt/F9t4aZ3bUbmBrhUVSQqDPJPboa5zUPi/4bsb+5toVvr9bNttzPZ2rSxwkdQWAxxXNeEVufEk/jbx1bAs91HJZaUe4jjXqPYsf0rE+FVn46m+Hdq3h3UPDqWbNJ5i3MEjSh9x3byGwT/TFAHrN/480Gw8HJ4ne7EulOVxNEN33jgdPesBvjX4UjvIkla8jtJZBHHqDWzC3ZiccPjGPfpXlusaU+mfs6+I7c6vY6nE+rh1NgSY4CWXdGM9MHnHvXovxisLW3+AeowQQIkUFrF5SquAmCuMUAVfiX8RJ/D/j/AMKada/bhaPM0t4sFuWE6YG1VIHzEc5A9RXRR6hpN18V7Ei9v49Rm0kypZMCsJjJ+8w7N2rlPFJ3eLPhK78lpZMk9/kjqzrXnD9o2H7L/rv+Ecl8v67uKAN/VPi34d03VbmwiS+1CSzOLl7K2aVIT6MwGK1X8faAPBMniuG88/So03PJENxX1BHUEZ6Vy3wEFmfhXAybTcm4mN6W5Yy7ud3vjFee3Gw+Afiwlhj+yhqJ+y7fuZ3fNj26UAemS/G3wpDMhY3psmcJ9vFs32cN6b8YrpvEXjTRfC+lwX2p3X7u5YLbpEu95iegVRyfwrkfFFjbQfs33dvHCgjj0ZSq7ehCgg1hXWvi30X4e6Xpuj22qeI7qyWSxlu3KpbARruc+vb8qAOy0f4raFqviGDRZYL/AE69us/Z0vrZovOx/dJFZ3he8uZfjl4vtpLiR4Ire2McTOSqEqc4HauJ8XjxRF8RPA3/AAl19pTStqYMNtYxsGUY5JZicjp0Fdh4T/5L54z/AOve2/8AQTQBP8drm4tfhfcPaXEtvIbiFfMhcqwBcA8iqcPwWsX0+Oa08UeJILlowyub4MA2PTbzU/x9/wCSVz/9fUH/AKGK7+0uYYNJgkmlVEWFSzMcADFAHBfC7xLqxu9c8K+LLlbjUNCkAF2ePOhOSrH3xirU/wAZ/C8U83lC+ubOBzHLfwWrPAhBwfnAxj3rz+O4n168+KXifQNzwG0FnbTx9JCi4cqe/C9aueCNP8czfC3TxpOpeGF0d7IZEsEhYKV+beQ2N3XPvmgDc+NHjpbH4dp/YdxcE6oEMV5aIWURllz844BIPFUNJtvCml2HhdoL3X7L7VqQ8lLguGuJQpBDgj7p5PpWBqWnHTP2are1/tS11WJNRTyrm1JKFTcZwM+hJH4V1vxTGPEPw6x/0Fk/9ANAHRar8WfDmk6te6U5urjULORY3tbeBpJGJXdkAdRjvWp4S8daL4ztbmXSJZA9q+y4gnQpJEfdTXGeAbSB/jd4+unjVpka3jVyOQpQEj9B+VZTrNb/ABT+KA0wbJTo0bqE4+fyV5470Adbe/GLw1aXlzFCt9ew2jlLi6tbV5IYiOuWAxxXZ6ZqdnrOmQahpk6XFrOu6ORDkMK8R+GVj45l+GdidA1Dw2mmtG+5Z4JC4OTv3kNjOc5rU8Dab4s0n4eGDwVqeiatMdSlZm3N5MSHkovPUNnigD1vUtStNH02e/1KdLe1t0LySOcBQK4N/jb4ZhWKe4t9UgsJWAW+ksnWE5OAdxHSqPiHXNb0L4a6td/FHTdOv1MkccFpZswWUlgFDEk4+bn6CuY+If8AwnLfCm/m119C0rSvsyhbSFGeTHG1A27APTtQB6r4k+IGgeFBYNrF35UeoKzQSKu5WCru7eo6etZ+hfFbw/rmvRaOFvLG8nUtAl7btF5wH93PWuF1y3ivdS+EiXKCRMB8MM8iJSP1Fb3xZjRPGPw+lRQrjWNu4DnBC8UAdL4k+JGh+GtXj0qYXN7qDpvNrZQmZ0X1IHQVx/gLxVF4n+NniGfT7yaWw/s+ApC5I8tskMCp+6fWpvhvt/4W94//ALQx/aH2mLbu6+Tt+XHtVPRFCfHnxx/wjog+2/2ZEVDfc8/Bxux+GaAPY68H8D+EIPG+ueLLjWdY1iNrXWJoYkt70oqoDkDGD613nhpviYddi/4SiLRV03DeYbUt5mccYyfWvOvAXw+0/wAX654xub3UdUtHi1qZFFldeWp5zkjByeaAL/iHTpvhj428Lt4c8Rajerqd8ttcaZe3Hnb0JALLwMYz+eK9XtfFem3fi668NxM/9o2sC3EqlDtCtwOa8g8I6LYfDr4wLpHiqA3s9982jazcyMzHsYzk4DfT1966TRnWP9pvXUchWk0iEoD/ABAMc4oA7z/hKtN/4TJvDG5/7RW0F2V2nb5ZJGc+uRXKv8bPC5jY2a3988bMssdtas5iAOMtgcDg/lWXDdQ3P7Ud2sEiuYfD6xybTna28nB98EfnTvgJaQJ4I1WcRr5kur3AdsckDbgUAeg+GvEumeLNDi1bRLgT2suQGxgqR1BHYj0qr4q8aaP4OtYZdYmYPcPsggiQvJM3oqjk1x/wRRYtN8SwxgLHHrlwFUdFHFV9aWNv2mNE/tXBtxpMpsg/3fO3DOPfFAHV+GviNonibVJdMgFzZahHH5htL2FopCn94A9RVDUvi94csNSurOFL6/8AsbbbmaytmljhPcMw44qfxbc+HrfxFaI8UZ8UTWk401lQlgAvzZI6Dkdfesb4Ciy/4U/YlNplLym7Lfe8zcd273oA7O18X6HeeFj4it9QhbSxGZGuNwCqB1z6EeleYePvi9o2q/DjVotLbUbKa4gH2K6lt3iWY7lPyOe+M1w+pGX/AIV342XTN39hr4oXYU+6Id7bsf7OdletfGBdIb4JamQIfswgjNoVxjO5du38KANePxhpfhX4e6PqOv3ZXzbWFVHLSTOUHCjqxpfD/wAS9D1/WF0oLd2F+674re+gaFpR6ru6/hXlnilNXl8YfDSPTJrOFv7MJtmvlZofN2L1AI5x0rU8T6H4tuPEnhqXxV4g8OWk1vqCva+Qkkcspwd0YyTkEdvpQB7dRRRQAUUUUAFFFFABRRRQAUUUUAFFFFABRRRQAUUUUAFFFFABRRRQAUUUUAFFFFABRRRQAUUUUAFFFFABRRRQAUUUUAFFFFABRRRQAV5H44iTxZ8dPDvhLUgZNKt7NtRmgJ+WVwWCgjuBt/WvXK8v+JOj6ppPjLRfH+gWT6hJpsbW19axDLvbsTyo7kbmoA9CudE0u70xtOubC3ks2TyzCYxt2+mK8i8Aard+Erb4g+H7aQzQ+Gneex8052qyFgp9sr+prfl+PHhM2WbEXt3qDDCWCWz+YX/u9OKyPDvhnVNN+G/jTxD4ki8jVdfgnuJIMcxJ5Z2Kffk0ASaJ4n+J/ifwdD4l0y20eCExb47OVJDJcgdSCGwuccA5rB+KHii/8a/BvRtc0k20FpNexLdQy7mdJg2AARxgHOc+1X/APxc0TQ/hTptnfpcJqltbeXDZiFt1ycnaU45B9aydW8Lal4e/ZotYr22l+0rqMeoXEIQ7olL5OR2wMUAd/qnirxF4bvvBWmaj9hmudYvDb3jwowUL8uNmTkHB75rT8e+K77wzfeHYrFImXU9SS0m8wE4RupGD1ri/iBrtrqdn4I8b6Us13o+maj5ly8cTbkTgE7cZ42mqPjfxzp/jTxL4Pj8Nx3F3aW2sRPPd+Uyxox6Lk9T1/KgDodW8a+MLv4oaj4P8L21hmG2jnW6ug22IHO7cAee2AMd6veDPGHiJvGuo+EPGUFo2oWtst1DcWW4JLGTjoSSD0qpoEbD9ovxI5U7TpkADY9zUTrcp+0dqc1rHvkHh5fLzwC27gZoAlGr/ABM12G71HTodL0K0jldbe21OGTzpFU9WwRtz9Ku+EtXk+K/wzuYdYVbOdpns7v7PhhlCMlc56j8q8y8OXnhnVdGuLn4lXuqah4l82RZdJd3GGz8qpEuCa7j9nxGg8G6pbS2rWcsOqzBrZxhoumFI9qALvjHxjqml+MtM8G+GH0+wlmtDObrUs+WFBChFAILN+PatvwfqPi99WvdN8XWds8cKK9vqNkrCKYHquGJ5H1rm/ide+HW8SWmnePtA36NJATBq6lv3UuR8hIHy8c9ayPhYTB8SL208H6jqGo+EI7LLSXbFkjn3DCo2BnjNAG98fv8Akl8n/X5B/wChiu7j0qwvdHigu7K3mikhAZHjBBGK4T4/Z/4VbMwUttuoWOBngOKjg+O/hBbCOKzN/d3CxgLDFaPuY46dKAMnwHf2/gHxd480RnZdH0tRqEMZORCrDcVHtyKt2Xin4j65oX/CTabFottYSIZ7fTp95mki6j5wQASOnHeqWheC9c8SeFvG2s6xatY6h4mQi1tZOGijUfIG9zgVy2hr8MtP8IxW3ifSLu28QWcIhnsWkmWSWUDHyqD/ABHnjpmgDX+KPibUPG3wd03W9HNtDptzNGt1BMGaRZhKFwCMDAYHORXT6rruu+HJPBllrVvpNzdahqHkyPDA22NNpIKZOQ2Mc1zvifSxZfs92UdvoR0Tzb6Gb7B5rSGPdMDkluckc47ZroPifG7eJvh4VUnbqi5wOnyGgBjeNPG+veP/ABB4Y8MW+mxDTHQ/bLtXKohUHBAOSxJPpwK0/Bvj3VXvvEejeN4baHUPD8Ynmmtc+XJEU3bgDk9KrfD2Nl+LnxAdlIDT2+CR1/d1lppE2sfFr4lWEXyteaTDDGx4G4wqB+tAFnTfFXxC8V6W3iDw+mjWemuWa0tLwOZp0BIySGAXOOOK7XwN4xg8Y+F4tTEf2aYO0NxCx/1cqnDDNeIeGrb4b6P4ZFh430q6stfsVMc9u0kwM7AnBQA4O7jpXf8Ahf4e6P4m+HttDd6Ne+G7eS6e6jtYLtvMOflDMWGRkc4oA0vjk6t8GtbKENhY+n/XRawF8QfEnRPBNr4llstKfS7a1jkk04b/ALQsIUZbfnbnAz04pfiD4HsPB3wU8Q22iyXtx9oaKQi6m8w5DqOOBxUWsfFDTdS+GMmgWFtdSeIL2w+wDTfIbzEdo9hJGOgznNAHR3nxDuIPFPhKSNYT4e8RQ7UlIPmJMRlRnOMHKjGPWtHWvFl7F8S9F8LaQkL+dC91fu4JMcI4XGCMEkEc1znibwNcxfAay06LnVdCt47yB16rLF85A/UVH8IIpvFc2ueNtSjaNtVK2lsp6pDGoBIPu278qAPVhLGTgOCfrXgukeOPD3g740+P/wDhI3dPtFzD5W2BpOic9Acda7/Sfg94f0bXINVtbzVnngk8xVlu9yE57jHIrH+Hlvn4z/EZpYgVa4g2ll6/JQBy/jfxLpHxZTTdJ8AafPd6hFfRyHUBamNbRQckliBj6e1ekSeK9QtvjBYeE9sJspdKN07kHfvBI65xjj0rk/H2l3Hw28VW3jzwxbkafNIsWtWMQ+V1J4kAHfk8/T1NN8T69aaH8XvD3ja88w6Bd6U1sLyNCyoxJIzj60Adjqviy+svizo3hqJIjZ31pLNIxB3hl6YOcfpXKad4y8f+Ldf1/S/DcOlWsek3rwm7u1cqy/wqFBzu4OT05FUbfxNB4u/aC0C/0mCdtNisZ4o7qSMqsrYy23PUDI5rf+EkbJrnjYupXdrchGR14FAGr8NvGOp+JF1fTfEVtDBq2jXX2a5+zk+W/owz9DTviD40vvD02laP4ftY7rW9ZmMVqkpIRAuNztjsMisf4ZxunxI+IbMpAbUkIJHXhqb8ULe40fxp4U8aLbS3NhpMksd8IkLNGkgAD4HYYOfwoAuadq/j/RPE9hZeKrSy1PT7/Km70yGQfZWHPzgk/L78VRtvFfjbxvqOozeBl0yz0exuGtkuNQR2a5dfvYCkYFXR8TY/EvibTdI8ERDUopWLahctGwS2ix6/3j6VzfgPxVp/wutdT8LeMTLYSwXss9tO8ZKXMbHIKnuaAOg0f4pvD4Y8RS+KbMWureGzsvIIjlZM52MmezYrm9f1f4lXvwz1DXNQtdK/s28sWdrCMOJ4onXhtxOCRnJGKop4a1Xx9o3xA1+1s5baPWhEumRSqVaZYudxB9eMfWtG/wDippV18KLjSI7e5OvmwNq+mmFt6SBMNkY+6OTmgCxo3jSXwp8GfB1tplst3q+qW8NvZQucLu28sx9BV268YeMvBV1YXfjNtJvtJu51t5ZNPV1e2ZuhIYnK544ri9W8NPe/Cr4ea1dafNqFhpMSfb7WEsH8pkALDHPGKmuoPhpqd5p1j4M8Oza/f3M6lovtMyrAnd3JJxj0oA+gwcjIopEUJGqgYCjApaACiiigAooooAKKKKACiiigAooooAKKKKACiiigAooooAKKKKACiiigAooooAKKKKACiiigAooooAKKKKACiiigAooooAKbLEk8LxTIrxupVlYZDA9QadRQB51cfBPw4bmZ9MvNV0qGdi0ltY3eyMk9eMHFdX4a8I6L4R0k6dodmsELHMhJ3NKe5Y9zW1RQB59c/Bjw5NNOLa51Oxs7ly89ha3W2Byevy44B781uap4A0HVPC1r4ea3a2061kSSKO3IXaUbcOoPfrXS0UAY/iXwvp/ivw7Jouq+b9kkKE+UwDfKwYckHuKfrXhzT9f8Nz6HqSM9nNF5TAHDAAcEH1FatFAGb4e0Cx8MeH7XR9KRktLVNkYY5J5yST65NcpffB/w/c31zcWN1qWlJdsWuLewufLjkJ6nbg4zXe0UActefDnw9d+Bx4TW2e20vKtsgbDEg5ySQcnNaXiLw1YeJ/DVxoWp+Z9juECP5bANgY6Eg+la9FAHLeJfh5ovijSNPsL83MX9mkNa3FvJsliIAHDY9h+VT2ngnTLTxJZ64slzLfWlj9hR5ZA26P1bjlveuiooA4XU/hJoN/qdze2l1qWlPeNuuY7C58tJj3JGDyfatM/D3w+PBEvhS3tmttMmXDrE2HY8ZJJByeOtdPRQBk3/AIbsdR8Jy+HbjzPsMtv9mbawDbMY646/hWNrHwz0LWNK0mzkN1byaOgSyu4Jds0QAA+9jvgdq6+igDhF+EPh03drfXU2oXWo2twk6X09xvlyucLkjG3noBXRWPhbT9P8Uajr9v5v23UURJtzArhBgYGOPzrZooAxfFnhXTvGegS6PrHnC1kZWYwsFbIORyQa49fgV4XIC3N7rV1F3hnvsoR6EACvSqKAKGl6Fpmi6Qml6XZxW1kilRCg4weufWuMn+DHh15JktbvVLKxuHLS2FtdbYGz1G3HAPpmvQqKAOc1PwLoep+E4fDbW7W2mwlDHHbsFK7CCOSD3FTa34Q0zxBd6Tc3/nb9InFxbeWwA3AY545H5Vu0UAYuleFdO0fxBqusWfm/atVZGuN7Ar8owMDHHFFn4U02x8Wal4ih803upRJFOGYFNqgAYGPYd62qKAPP7v4N+Hprq5eyutT023u2LXFpZXOyGQnr8uDjPeux0XRdP8PaRBpmj2y21pAMJGv6k+p96v0UAZviHw/p3ijQ7jSdZg8+0nADLnBBByCD2IPNch/wprw9cWTWmrXmqapAIzHFHd3W5YcjG5RgDcAeCc16DRQBzX/CB6QW0Bna5dtABFmWcc/Lt+bjnj0xVvXfCuneIr7SrvUfN8zSrn7Tb+WwA3+/HI4raooA5LxL8ONG8SatHqryXen6ii+Wbuxl8t3T+63ByKd4X+HOheEdXuNS0hbj7TdQrFM80u/zMEnceM7iTya6uigArE8O+EtN8LzalJpnnbtSumup/MYH5264wBgVt0UAc/4u8FaR41sbe31hZVNtKJoJ4GCyRsPRiDj/AOtWf4l+GmjeJr21v7me9tdRtYvJS9tJvLlZPRjjB79u9dhRQByPh34Z+H/DGt/2tpi3JvTbmCSWWXeZcnJZjjJb3/StTwx4V07wlpcun6T5vkS3D3DeawY7nxnoBxxW1RQBjeHfC+n+F471NM83F7dPdS+YwPzt1xgDiovFPg3SPF9rDHq0ciy2777e5gfZLC3qrdulb1FAHKeGvh3o/hvU5NTSS71DUZE8v7XfS+Y6p/dHAwKztR+EOgXmoXN1Z3WpaWLxt1zBY3Plxyk9SVweTXeUUAYll4O0LT/Cx8O22nxDS2Qo8BGQ+epJ7n3rlD8EPDMtm1ndXWqXNkBiC2lutyW/ugx1HQZzXo1FAHOa14E0PX/Dtpo+pQO8Nkqi2lVtssJUYDK3Y1naJ8LtE0fWotWnuL/Vb23BFvLqE/meSP8AZGBg+9dpRQAUUUUAFFFFABRRRQAUUUUAFFFFABRRRQAUUUUAFFFFABRRRQAUUUUAFFFFABRRRQAUUUUAFFFFABRRRQAUUUUAFFFFABRRRQAUUUUAFHWiigCEWlssxlWCMSHq4QZ/OqfiPTpNX8Malp1uyrLdWskKFugLKQM/nWlRQBzngjw03h3wTpGlagsMt1YwCNpFGRnJ6GuiZQylWAIPUEUtFADBFGsflrGoT+6BxSR28MKBYokRQcgKoAqSigBNoDZAGfXFG0bt2Bn1xS0UARfZoPO83yY/MIxv2jP51IFC5wAM9cDrS0UAMkijmQpKiup6hhkURQxwIEhjWNR0VVwKfRQAjKrDDAEehFNEMQ6RoP8AgIp9FABUTW0DyiR4Y2dejFRkfjUtFACFQwwQCPQigqpxkA46ZHSlooAQKASQACepx1oCgMSAMnqcUtFAET20EsivJDG7L0ZlBIqXp0oooAQgMMMAR6GmC3hEvmCJN+Mbtozj61JRQBx/j/TfF2r2K6d4TubK1gukeK7muAd8akYymO+Ca3fDmh23hrw3Y6PZD9zaRCMH+8e5/E5P41p0UAFIFUEkAAnqcdaWigBCoYYYAj0Iprwxyx+XJGrpjG1lyKfRQAxIo41AjRVC8AAYxTgoXOABnrgUtFACBQCSAAT1460pAYYIyPQ0UUARxQQwAiGJI8nJ2qBmiW3hnx58KSYORvUHFSUUAIAAMAAD0FMFtAJTIIYw7DBbaMn8akooATaNu3Ax6YpkdtBCzNFDGjMckqoGakooAKKKKACiiigAooooAKKKKACiiigAooooAKKKKACiiigAooooAKKKKACiiigAooooAKKKKACiiigAooooAKKKKACiiigAooooAKKKKACiiigAooooAKKKKACiiigAooooAKKKKACiiigAooooAKKKKACiiigAooooAKKKKACiiigAooooAKKKKACiiigAooooAKKKKACiiigAooooAKKKKACiiigAooooAKKKKACiiigAooooAKKKKACiiigAooooAKKKKACiiigAooooAKKKKACiiigAooooAKKKKACiiigAooooAKKKKACiiigAooooAKKKKACiiigAooooAKKKKACiiigAooooAKKKKACiiigAooooAKKKKACiiigAooooAKKKKACiiigAooooAKKKKACiiigAooooAKKKKACiiigAooooAKKKKACiiigAooooAKKKKACiiigAooooAKKKKACiiigAooooAKKKKACiiigAooooAKKKKACiiigAooJx1pN6+tAC0Um9fWjevrQAtFJvX1o3r60ALRSb19aN6+tAC0Um9fWjevrQAtFJvX1o3r60ALRSb19aN6+tAC0Um9fWjevrQAtFJvX1o3r60ALRSb19aN6+tAC0Um9fWjevrQAtFJvX1o3r60ALRSb19aN6+tAC0Um9fWjevrQAtFJvX1o3r60ALRSb19aN6+tAC0Um9fWjevrQAtFJvX1o3r60ALRSb19aN6+tAC0Um9fWjevrQAtFJvX1o3r60ALRSb19aN6+tAC0Um9fWjevrQAtFJvX1o3r60ALRSb19aN6+tAC0Um9fWjevrQAtFJvX1o3r60ALRSb19aN6+tAC0Um9fWjevrQAtFJvX1o3r60ALRSb19aN6+tAC0Um9fWjevrQAtFJvX1o3r60ALRSb19aN6+tAC0Um9fWjevrQAtFJvX1o3r60ALRSb19aN6+tAC0Um9fWjevrQAtFFFABRRRQAUUUUAFFFFABRRRQAUUUUAFFFFABRRRQAUUUUAFFFFABRRRQAUUUUAFFFFABRRRQAUUUUAFFFFABRRRQAUUUUAFFFFABRRRQAUUUUAFFFFABRRRQAUUUUAFFFFABRRRQAUUUUAFFFFABRRRQAUUUUAFFFFABRRRQAUUUUAFFFFABRRRQAUUUUAFFFFABRRRQAUUUUAFFFFABRRRQAUUUUAFFFFABRRRQAUUUUAcwni6a6WVrLQdSuIkkaPzUVNrFTg4y9J/wAJHff9C3qn/fMf/wAXUvg3/kXpf+vuf/0M1t1lBSlFO56WIlQo1ZU1STs7bv8AzOf/AOEjvv8AoW9U/wC+Y/8A4uj/AISO+/6FvVP++Y//AIump4r83xRNpEVpkQOEklaRVOSM5Cnkj3qrp3jkXuoQxS6bNb2txPLbQXDMCHkTORgHgHacH2quWX835GHt6P8Az6X3y/zLn/CR33/Qt6p/3zH/APF0f8JHff8AQt6p/wB8x/8AxdUbDx9bXGoT2t5B9nMVu9yGWVZAUQgNnB4PzDipG8Zva+H5dZ1PS5rW12K8GWUtLuOFBGeDyKOWX835B7ej/wA+l98v8y1/wkd9/wBC3qn/AHzH/wDF0f8ACR33/Qt6p/3zH/8AF1J4a8TJ4hS6XyDBPauFkUMGU5GQQw61f1DU008oHgnl35/1SbsfWhxkt5fkONWlJ2VJfe/8zM/4SO+/6FvVP++Y/wD4uj/hJL7/AKFvVP8AvmP/AOLrZs7oXtssyxyRhiflkGDXO+JdRMniHRdEtbyaCW4uC84hO1jEsbnr/vBaOWX8wOtSTs6S+9/5ln/hJL7/AKFvVP8AvmP/AOLo/wCEjvv+hb1T/vmP/wCLroAMACijll/N+Qvb0f8An0vvl/mc/wD8JHff9C3qn/fMf/xdH/CR33/Qt6p/3zH/APF10FFHLL+b8g9vR/59L75f5nP/APCR33/Qt6p/3zH/APF0f8JHff8AQt6p/wB8x/8AxddBRRyy/m/IPb0f+fS++X+Zz/8Awkd9/wBC3qn/AHzH/wDF0f8ACR33/Qt6p/3zH/8AF10FFHLL+b8g9vR/59L75f5nP/8ACR33/Qt6p/3zH/8AF0f8JHff9C3qn/fMf/xddBRRyy/m/IPb0f8An0vvl/mc/wD8JHff9C3qn/fMf/xdH/CR33/Qt6p/3zH/APF10FFHLL+b8g9vR/59L75f5nP/APCR33/Qt6p/3zH/APF0f8JHff8AQt6p/wB8x/8AxddBRRyy/m/IPb0f+fS++X+Zz/8Awkd9/wBC3qn/AHzH/wDF0f8ACR33/Qt6p/3zH/8AF10FFHLL+b8g9vR/59L75f5nP/8ACR33/Qt6p/3zH/8AF0f8JHff9C3qn/fMf/xddBRRyy/m/IPb0f8An0vvl/mc/wD8JHff9C3qn/fMf/xdH/CR33/Qt6p/3zH/APF10FFHLL+b8g9vR/59L75f5nP/APCR33/Qt6p/3zH/APF0f8JHff8AQt6p/wB8x/8AxddBRRyy/m/IPb0f+fS++X+Zz/8Awkd9/wBC3qn/AHzH/wDF0f8ACR33/Qt6p/3zH/8AF10FFHLL+b8g9vR/59L75f5nP/8ACR33/Qt6p/3zH/8AF0f8JHff9C3qn/fMf/xddBRRyy/m/IPb0f8An0vvl/mc/wD8JHff9C3qn/fMf/xdH/CR33/Qt6p/3zH/APF10FFHLL+b8g9vR/59L75f5nP/APCR33/Qt6p/3zH/APF0f8JHff8AQt6p/wB8x/8AxddBRRyy/m/IPb0f+fS++X+Zz/8Awkd9/wBC3qn/AHzH/wDF0f8ACR33/Qt6p/3zH/8AF10FFHLL+b8g9vR/59L75f5nP/8ACR33/Qt6p/3zH/8AF0f8JHff9C3qn/fMf/xddBRRyy/m/IPb0f8An0vvl/mc/wD8JHff9C3qn/fMf/xdH/CR33/Qt6p/3zH/APF10FFHLL+b8g9vR/59L75f5nP/APCR33/Qt6p/3zH/APF0f8JHff8AQt6p/wB8x/8AxddBRRyy/m/IPb0f+fS++X+Zz/8Awkd9/wBC3qn/AHzH/wDF0f8ACR33/Qt6p/3zH/8AF10FFHLL+b8g9vR/59L75f5nP/8ACR33/Qt6p/3zH/8AF0f8JHff9C3qn/fMf/xddBRRyy/m/IPb0f8An0vvl/mc/wD8JHff9C3qn/fMf/xdH/CR33/Qt6p/3zH/APF10FFHLL+b8g9vR/59L75f5nP/APCR33/Qt6p/3zH/APF0f8JHff8AQt6p/wB8x/8AxddBRRyy/m/IPb0f+fS++X+Zz/8Awkd9/wBC3qn/AHzH/wDF0f8ACR33/Qt6p/3zH/8AF10FFHLL+b8g9vR/59L75f5nP/8ACR33/Qt6p/3zH/8AF0f8JHff9C3qn/fMf/xddBRRyy/m/IPb0f8An0vvl/mc/wD8JHff9C3qn/fMf/xdH/CR33/Qt6p/3zH/APF10FFHLL+b8g9vR/59L75f5nP/APCR33/Qt6p/3zH/APF0f8JHff8AQt6p/wB8x/8AxddBRRyy/m/IPb0f+fS++X+Zz/8Awkd9/wBC3qn/AHzH/wDF0f8ACR33/Qt6p/3zH/8AF10FFHLL+b8g9vR/59L75f5nP/8ACR33/Qt6p/3zH/8AF0f8JHff9C3qn/fMf/xddBRRyy/m/IPb0f8An0vvl/mc/wD8JHff9C3qn/fMf/xdH/CR33/Qt6p/3zH/APF10FFHLL+b8g9vR/59L75f5nP/APCR33/Qt6p/3zH/APF0f8JHff8AQt6p/wB8x/8AxddBRRyy/m/IPb0f+fS++X+Zz/8Awkd9/wBC3qn/AHzH/wDF0f8ACR33/Qt6p/3zH/8AF10FFHLL+b8g9vR/59L75f5nP/8ACR33/Qt6p/3zH/8AF0DxJfZ/5FvVP++Y/wD4uugpR1FHLL+b8g9vR/59L75f5mPpniyG+15tHurK6sL0QCdY7hVG9MkZGCfSt+uL1SzmuvHN9LZf8flrp9vNB/tMJJflPsw4P1rq9PvYtR0+G7gJKSrkZGCPYjsaKbbWosVCEZrkVk0n96LNFFFWcoUUUUAFFFFABRRRQAUUUUAFFFFABRRRQAUUUUAFFFFABRRRQAUUUUAFFFFABRRRQAUUUUAFFFFABRRRQAUUUUAFFFFABRRRQAUUUUAFFFFABRRRQAUUUUAFFFFABRRRQAUUUUAFFFFABRRRQAUUUUAFFFFABRRRQAUUUUAFFFFABRRRQAUUUUAFFFFABRRRQAUUUUAFFFFABRRRQAUUUUAFFFFABRRRQAUUUUAc54N/5F6X/r7n/wDQzW3WJ4N/5F6X/r7n/wDQzW3UUvgR147/AHqp6s5u98Ii/wDEMGqXV88i203nQw+UoKtggDf1289Ky/D/AIHuIykusXkxSG6uJobQY2ozlgGyOT8pPHbNdxRWhxnH6X8Pbawlj+0X813DDZPZRwsiqqxtt9Op+Uc1ZXwaz6JJpd9q9zc24VFtyyKGh2nKnPc8DrXT02VmWF2QZYKSB6nFMCho+m3Gmxyi7v3vXkIIZo1QKAOgAqa+0uy1Eob2BZdn3d3asa38USWXhOy1LxFbS29zcMI2gjjJYOc4G3r2rV0bWLfW7E3NqsiBZGidJV2sjKcEEfWnKL6hGbi7xdmWbW0gsrcQWsYjjXoo7Vm69o8+pXGm3VlLHFcWFz5y+YuQwKMhHtw36VaudYtbXUPsUrMJvsz3OAP4FIBP6isa48e6TB5Z2XUiPBHcM8cJKxxyY2sx7dRQot7IJSu7tnTjOBnrRWRda15PiKw05cqLlWbcyHD4XOAemarWPig3nia90o6fcotsVAmKfKcgnJ9Bxx60crFdHQUVj6R4ltNaupYrOK42RlgJnjwjlW2nB+tas4kMDiBlSTadrMMgH6Ummtw3H0VzOm65qt74KbUYbaG4v1klQR7vLQ7JWTOeccLmpLfXb+88Af2zbWqvftatKlumWBcZwo7nkVTi0LmR0VFZN5rsWk6RZ3eqJIjXDRRFUQsVkfAxj0ya1gcipKCiuSufHEWneJr7TtQhl8mBoQssUZYJv4Bc9uat/wDCbaX/AGy+nbbgMlwts83lHy1lYAqu71ORQB0VFFc/Z+MbG/nuEtbe8kjt/MEkwgOzcnVQe5pAdBRXM/8ACeaStneT3C3MBs1RpY5Ijv2ucKQB1yQfypw8caabGScxXQlS4Ft9lMJ80yEAgBfcHNAHSUVyMHjJ5vB2oa00LxiCeWNAYjlAvQuvUe9X9X8XWOiSQQ3UdxNNNA04W3iL/IuNx9sZoA36K5m68ZRxa3p1nbWNxcwXsDzLNGmRgBcY9fvc+lW59Vnfxla6VbkLEts9xcEjJPICAfjn8qYG3RWSl/f/APCVT2b22NPjtVkSfb95yTlc/QCquj+MtN1u/jtbRLhTKjvE8kRVZApAbae+CRT5WK6OgoqrqeowaTps99eErBAu5yBkgVn6l4r03S2uluTKWtfK8xUjLH95nZgDrnBpJN7BdI2qKwD4qt5vD95qNtFOhtXaOSOSI7o3HXcPSodY8VtpFhpU62ct39vkjQtEvADDOfr6Cnyu9gujpaKw73xVaWN1a20lvdPcXMRmEKRZZEBAJYduSK2wcqD60rNBcWisRdSvU8cf2VI0TWsli1ymFwylXVcE55+8ai0rWtTuvFWoaZqNnDbxQRCWBkkLF1LEAnjjpnFPlYXOgorJ0e+1C7v9Viv7byYre4Eds+3HmptB3e/JIrWpNWDcKKz9bu7yx0qa4063jnmjUttkfaAAMk5wapPqGqXOg2l/YraxmSDzpvPYgL8ucDAq4021cTkk7G7RXF33jO7h02xuFit7Y3Fq85Nwx2kr/AuB1PX6VpXWu3VvPoE7RhbfUT5U0eOUZk3Kc/UY/GqnRnBJyJjUjJ2R0VFFFYmgUUUUAFFFFABRRRQAUUUUAFFFFABRRRQAUUUUAFFFFABRRRQAUUUUAFFFFABRRRQAUUUUAFFFFABSjqKSlHUUAYtt/wAlHv8A/sGW/wD6Mlqa1zpPiGW0Yt9lvyZoOOEk/jX2zwQP96obb/ko9/8A9gy3/wDRktaOtWD3+nFbdtl1Ewlt3zjbIvTPt2PsTWVPZ+rO3F/FH/DH8kaFFVNLvl1LTYrlVZCww6N95GHBU+4NW60OMKKKKACiiigAooooAKKKKACiiigAooooAKKKKACiiigAooooAKKKKACiiigAooooAKKKKACiiigAooooAKKKKACiiigAooooAKKKKACiiigAooooAKKKKACiiigAooooAKKKKACiiigAooooAKKKKACiiigAooooAKKKKACiiigAooooAKKKKACiiigAooooAKKKKACiiigAooooAKKKKACiiigAooooAKKKKAOc8G/8i9L/ANfc/wD6Ga26xPBv/IvS/wDX3P8A+hmtuopfAjrx3+9VPVhRRRWhxhRRTZX8uF3AyVUnHrQBQ1fSzqn2LEgj+y3SznIzuwCMfrWZGbjw3JcpFp95qIu7iS43WyriPcfuncwqS08QXd94LXW4LJUmaIym3lcrgDqM4/pUk+tag2h2V/pumfamuIVldTKEEYK56nr6VdmtGToZt/pmpeILlNSsd2lTfZpbOSO8iDEo5B3Dax5ytLB4KeHSLiyN4GM2nwWe/Z0MYxu/GrB8XeZ4b07VrWykcXs8cJjbqm5sE8Z6Vt3Gp2drfW1ncTqlxdEiGM9XwMnH4U25JWBJPUxdS0LVbrXtOvbW7tkisAQiPGSWyu05NW00i8g8TT6jbXMXkXSIs8ToS2VBAKmtmub0fxrp2pX01jNKkF5HcywLESTu2E85xjOBnFTzMdkVLHw3c6JrdzrQEbKUcG0sIyvnlmzuYE43D+prYsNbuL27WCXRb+0VgcyzqgUfkxNLp3ifRtVvWtNPv45plBO1c84ODjI5wfStOaaO3heWZ1SNFLMzHAAHem5X3Fa2xgaboWpaVpF5p9teQPG7yPbM8Rym9yxDc8/eNWfC2k3miaFDp99cRXBg+VHiQr8vv71S1HxzpdtpJv7OZbiJLiKKQ4KhQ7hd3I5HOffFXv8AhLNE/sv+0Bfx/ZvM8rdg53/3duM59sUnJtMdkTa3ZX99awppd8LKVZ0d3KBtyBssuPccZrSHSsa98TWEOiR6lbXEMsUzBImLEKxzjGccd6n1HX9N0gQ/2jdLC0wyi4LEjucAZx70hmXqXhNr9tXYXQQ6iYsfL9zZj8+lZFj4X1W71bUkuZ1g07+147sI0fzyeWsZBB/ukr+hrp7rxRo1ldxW11fxRyyhSqnPRuhPpn3oOrvJ4qXSrdFZI7X7RO5PIDEhAPqQfyoAdp9hqNtrmo3V3qP2izuCv2a22Y8jA5575qpH4bePwne6Ol2Y3uRNidBgoZCTn8M1btdXkuPEd9phtyq2sUcglJ4ctnj8MfrVbS9dvL6DVxJYr9q064aARRSZEpCKwwTjGd2KOViukznrX4dTRG9aS5tITcxwRhLaDaq+U5bJ9Sc9a073whcS6lNqNneRx3P2uO5hDoSoKptKn6irujeIbi/1C90/ULA2d3aRpKyiQOrK2ccjv8p4q54e1V9b0C11GSA27XCbjETyvJH9KbTQJow38KaofB9/pA1C3afUJZnnmMR2gSdQBntVtfDl5NewXd9dQtLHZy2pEaEA7iuDz6ba6OsnxJqdxpWmRy2SRtNLcRQL5mdo3sFycfWpGZy+GLy1t9ENheRC40uBoC0sZKyKwUHvwflFXp9JmHi601a3K7Ps729wpPJGQVI+hz+dR67q97YPplpZCBrq+nERaQnagwSTgcnpW6OnNPzEIw3KR6jFcvB4ek0S30q4QvdtpVvJF5UKjdLvK9MkD+GupooTaBq5zF9PP4o0u70ebSr/AE9bqFk+0Tom1D26MTVaLwfqE97dXmp6hDJNcS2r4iiKqohJ4/HNdhRVc7WwuW+5zl34dvG0/V4LK6hRtSmZy0iEhFK4I478U2bw7f3PhyxspryFbuxljkilWM7Ds4AIz6V0tFLmYcqOU8SeFrzxBHbb5bOOeOPa1x5bCSNsgkowOR06Vdk1y6s5Psy6HqdyIvk85Fjw+O/L5reop82lmO3Uw7rSbu58QWOtWUywOluYJoZkzlGZWPIPDArW1aWwVnnmSIzsSvmKmCUySoJ9qdU0f3BUtsaQu0eg/KjaPQflWfr2tW3h3RLjVL4OYLcAuEGTywX+Zrix8bPDR/5ZXuPXyh/jWE61Om7Sdj0MNluMxcHOhTcktNO56G0aOhV0VlYYII4IqNrS3a1+zNBEYNu3yig249MdMVl+HfFmkeKbdpdIuhKU+/GRhl+oNbVaRmpK8WclWjUozdOrGzXRlaXTrKfb59nBJtUou+MHC+g9vanNZWrrEr20TLCQYgUGEI4BHpU9cb4j+Jui+G9YOmTpcXFyoBkSBN2zIzzz6c0p1VBXm9DTDYStip8lCHM/LsdjtHoPyo2j0H5Vy8HxA0ufXbLSRFcrc3kayR7kAABGRnn0rqaIzjP4WKthq2HaVWNr6r0E2j0H5UbR6D8qWiqMBNo9B+VG0eg/KlooATaPQflRtHoPypaKAE2j0H5UbR6D8qWigBNo9B+VG0eg/KlooATaPQflRtHoPypaKAE2j0H5UbR6D8qWudg8a6bP4wl8Nos322MEsSo29M9c+9TKUY2u9zalQq1lJ0435Vd+S7nQ7R6D8qNo9B+VLRVGIm0eg/KjaPQflS0UAJtHoPyo2j0H5UtFACbR6D8qNo9B+VLRQAm0eg/KjaPQflS0UAJtHoPyo2j0H5UtFACbR6D8qNo9B+VLRQAm0eg/Kom/1n41NULf6z8aAMS2/wCSj3//AGDLf/0ZLXQ1z1t/yUe//wCwZb/+jJa6Gs6ez9WdmL+KP+GP5IxEB0nxIUAxaakSw54ScDn/AL6GPxU+tbdUtX08anpskAby5eHik/55uOVb8DSaPfnUdNSWRPLmUlJo852OOCPzrQ4y9RRRQAUUUUAFFFFABRRRQAUUUUAFFFFABRRRQAUUUUAFFFFABRRRQAUUUUAFFFFABRRRQAUUUUAFFFFABRRRQAUUUUAFFFFABRRRQAUUUUAFFFFABRRRQAUUUUAFFFFABRRRQAUUUUAFFFFABRRRQAUUUUAFFFFABRRRQAUUUUAFFFFABRRRQAUUUUAFFFFABRRRQAUUUUAFFFFABRRRQAUUUUAFFFFABRRRQBzng3/kXpf+vuf/ANDNbdYng3/kXpf+vuf/ANDNbdRS+BHXjv8AeqnqwooorQ4wooooAr31t9r064tlIUyxMgPpkYrkL3TPFUvhOx0m3itYjGFhuWS4IMkSrj5Tt4Jx+Art6KpSsJq5S0iBrbSLeCS1itTEgQQxNuVAOAAcelVdRtLybX9Lnt7ezkt4Wfz5JkzLHlePLOOMnr7Vr1n6jrEOm32nW0qOzX85gjKjhSEZsn2wppathsjQriV8JXsMcDAw7o9XnvmIPJRw4Hbr8wrobfxFYT6xd6a0qxXFrIse2RgDISgf5Rnng1cXULN7s2qXULTr1iDjcPwos0O5w3g3SNVuDpNzeW9vbWuntcNG6Md8pdmABGOOufrW6+ma5q/hnVtP1uW2We4aRLZoQdoj/h3e/rW7Bf2dxcSQW9zFJLH99EcEr9RUk8jRW7yRxNKyqSEUjLewzxQBylzpGs6volvZX1nZ2zW1xbOPLkLB1jkVm7ccLwKr3XhbU4dUk1KxS2lePVDeRQSMQroYBGeccHOTW1beJ0uvDaatBYXcm+RoxbIoaTcrlCOuOoPOaSDxdZT+HL7VxDOi2AcXEDriRGUZK46Zx71XLIXMrGFN4a1qLwVJptvDayXV5cvcSjzCqRZk34HHPpV+fT9cj1i01q3s7WW4+xm0mtnmICYYsGVsc5zyK6NL+3axgupZFhjnVSvmED7w4H15qzUgcDqfg27uNfvLt7KK9g1BYzIhvJIhEVABGF4YcZFb8Wm3Fp42+3RRFra6sVgkYH/VNGzEfnuI/CjUfFa6dqqWD6ZfSySkiJo0UiTAycc9q1TqNrG0aTzxwyPjEbuA2T2xVunNJNrclSi212LWK5iDT9a0vUtcksIrWWO+drmB3kIKyeWqhWGOmVHPvXRrcQtt2yod5IXDdSOtMhvbW5leO3uI5HjOHVHBK/WpV1fQbsc/4N0vU9NiuTrVvD9ruGEk10kpdpn+hA2gDGBWj4n1C70rwzfXel25uLyOImCJVzufsMema1qKUnzO40rIr2DXLafA18FFyYwZQnQNjnFZXi+3ubjRofsVs91JDdwzGKMgMyq4JxkgdK3aKQzlPEWmzf2vo2u2WnzXFxbS7ZkjYbhGynPBOOuPeurHIoopgFFFFIAooooAKKKKACiiigAqaP7gqGpo/uCgDkfiv/yTHV/92P8A9GpWV8K9D0q/+G1hJe6baTyOZQzyQKzH94w6kZrV+K//ACTHV/8Adj/9GpXH/Dz4jeHPD3gWz0/UrtkuoTIWjWJj1diOQMdDXnVJQjirz25f1PsMJRxNbInHDJuXtel725fIzzax+C/jpb2+lZitLsqDCDwA4xj8+a6bXvHmt3vi+Tw54Mt4ZJoB++uJvug45/Lp9a5zQfP+IXxcGvQ28kWm2eGDOMfdGAPqTzWVPp1tpfxV1ODxFqN5pUNw7PHcwOV3bjuGSO39a5VOUYvk0i5eh7ssNRr1orErmq06SumubW/VLdpdDu/DXjrWptfu/DXiK2hi1ZIma2eP7sjBcgf1rz2wk8Uv8W7uWC0tpNb5MkT4KKNgHHOPu10vhCy8O3vxGR9Ku9W1G4tAWF5KwaMjb3J5xzin6D/ycVqf+43/AKKFU+aooc0vtW/rzM6fsMJUxHsqSX7nmaaa1vta91F72NO78RXEPxb07SZbCxJkiQvMYQZFO3nDfWjxR8Q9b0f4hDQ9OtI7uORAI48YZnYcc+mazNa/5OG0/wD3V/8AQTSaqM/tEWef7o/9ANW5zs0n9qxzU8LhnKnKdNNewcreaLMnj3xd4b8WWVh4rtbU2166gGEfdBOOD7Vv+PPHlzoF5ZaTodutzql9gor9FBOAfxOa5r4y/wDIzeG/+uv/ALMtZ3xTsDa+P9J1O+kuIdPliRGuICQ0eCc4PbAINE6lSmpxT2a/EMNgsHi54atOmk5Rm2ls3HbT9OpvQeOvE/hzxFZWHjW3tjbXzBUngx8hJx29M816kDlQR0NeE3tl4Tvtd0+wg1jWdblkYbDHJvEZJ/2ule6RrsiVR2AHNdOFlJ8ybuvW54meUKNNUpwhyyad/dcU9dGk9UeY654+1y68c3Hhzw4bK0Nvw094eHPt+dbPhDXvFdxrc+m+JtNTyowSl9bj92T6e+a47xhF4Q1zxxc2esLdaLfIMG8IAjlI6HHv61V8AXeoad8SV0bSdYl1fSth3yEkoBjqM9MH0rmVWarau6vbR/oe3UwGHqZe3TpqMlDmfNF/NqadnfomdHqPjzxDrXi260TwVb2+2zyJbifoSK0vBHjq/wBV1y78P+I7ZINUtQTmP7rgdf6V5ppunWel+PtXsPEmq3ukZcmOeGQoJOSeSPUHiuo8CW2hT+Nru90SXVb65tY3/wBKuCDHKMYHPXnt9KVOtUc02+u1/wBDTG5fgqeFnGNPRQTUlF7vq5Xs09rdDTu/EXj/AFTV7yPRdNhsLO2bCteKAZB26+uKueAPHl/4jt9UttVgjjvtPGS0f3W69vYiuE0bV7fxVe6nP448Q3Vj5TfJZRyNGpHORgfy61b+EDQDVvESW4ZIzDmNH+8Fyev6UqdaTqRalo79f06DxeW0YYKtGdJKUFGzUX1av7zfveemhY0T4keOPE1vJDomnQTTwtulkCgKq9hgnr1rf8SePtbtNZsfDWhWkVxrUsamdmHyIxGSAP1rO+AigaXrDY5M0YJ/Bv8AGqOu3I8JfHRNY1RWWxuV4m2kgArg/kaIzqKjGbk9Xr5IVXD4SWZ1sLToR/dxbiv5pWTs9dfJI6LQ/Fni6y8Ww6L4r0xZEnA23NsnypnoTjjFchf32o2Px1vm0a1F1eyDy4kY4UEqOT7Cu4T4oW2o+MrTRvD9p/aMU2PMuVJAj9eo5AFc5pgB/aLvc9kOP++BVVLSUVGV/e3MsIpUp1qlWgoN0W+Xo9Vq1ur9i9pnjzxNpXjq28P+Lre3xdEBHhGMZ6H3HavU68d+IH/JavDv0j/9DNexV1YeUrzi3ezPBzmnS9nh69OCi5xu0tr3seb+MPHuq2njOPw1oAtYJ9oL3F2cLkrkAfhVrw3r3jIeJRpniHT4bm1Zci+tQNi8ZH+FYPxD/wCEV1PxjHp/iGC70652ALqKgBGGMjPr6Vz3h6a88P8AxE0/TPDGuSaxYysBKoyUVT1yDwMDnIrllVnGrq9L9H+Fj36WAw9bL0oU0pcl/ei9X/Mpp2XkmdXr/wARdd074jXPh7TbKO7G1Vt4wuGLsgbJPoMk/hUaeP8AxT4a8T2lh41s7cW94QElhAG3Jxnjrg1ga7rMOgftBSahdqxgjKCQqMlQYQM/hmpfiNrtl428R6Hpvhx/tjpJl5I1OBkj+QGaiVWS5nz6qWiOill9CToU3h17OdJOU9dHbe+y6etzvfGviHxHYXdnY+FtLNw9wMtcuuY09q5u18eeKdD8Y2OjeKorSZLwgK9vjK5OAePeq3xC12/i8a6doNzqU2laSY18y4iJBbjk5HvxXJ6rDolp8RtEXQr2e9iWeLzrmaQvvff2J9sVVatJTbi9ml/SM8uy2jPDRhWpp80JSuk2+tm5Xsn5I9L8Z+PdRsPElv4b8L2qXOpygFjJ0TIzjH05qDRvFni/T/FcGj+K9MWWO4AK3FqmQmehOOMZ4rn/ABDP/wAIl8dItd1NWFhcqCJcZABj2fof0rqf+Fo2t94us9I8PWv9pRz4ElwhKiPnnqOQBzWiqXm3Kdmna3l6HHPBqGFpxoYdTjKnzOb0al197ZcvbqU9b8ea5qPi+Xw74Lt4HltwfOuJuVB7/l0+tWvB3jnVLrxRP4Z8VW8UGoxqWjeL7smBn+XNeeHTbbS/ijqtt4j1K80mKd2eO5gcruydwyR2/rXReDLPw7e/EYSaVdatqFxaAn7ZKwaNhtxyTz3xWcKtR1E2+trX6eh14nL8FTwkoqndezUlJRd+bvzXta+lj2Kiue0jxppmteIrzRbQS/arPPmblwvBwcGuhr1IyjJXiz4OtQq0JctWNnv8mFQt/rPxqaoW/wBZ+NUYmJbf8lHv/wDsGW//AKMlroa562/5KPf/APYMt/8A0ZLXQ1nT2fqzsxfxR/wx/JBWJKP7I8RrOMLa6kQknYLMPun/AIEOP+Aj1rbqrqdgmp6dNayEr5i/K46o3Zh7g81ocZaorO0S/e+0/FyFW7gYw3CL/C4649j1Hsa0aACiiigAooooAKKKKACiiigAooooAKKKKACiiigAooooAKKKKACiiigAooooAKKKKACiiigAooooAKKKKACiiigAooooAKKKKACiiigAooooAKKKKACiiigAooooAKKKKACiiigAooooAKKKKACiiigAooooAKKKKACiiigAooooAKKKKACiiigAooooAKKKKACiiigAooooAKKKKACiiigAooooAKKKKAOc8G/8i9L/ANfc/wD6Ga26xPBv/IvS/wDX3P8A+hmtuopfAjrx3+9VPVhRRRWhxhRRRQAUUUUAFRyQRSvG8sSO0TbkZlBKnGMj04JqSql5qdrY3NpBcybZLyUxQjBO5tpbH5KaYHF6p4XuJ9Q1y+jsFe5m1CzltpcLu2IIwxB7AYaqH9ka5P4zs7iTTJkMOpSSSXCJCkfkkOFwR87EgrnNeml1DYLAH0zS1oqjRDimef8Ahy1udD8QXU0tnJZaSqyvJPepEGV2kz8rqdxU5J+b2rrrTxDpGoXAt7LUbeeZgcJHICT+FX5FjljKSqjo3VWAINQw2ljFJvt7e3R1/ijRQR+IqXJS3Gk1scbZz+INB8JXtjY6JNNfQ3EvktuTZIJJWYOPm7Bs4OK1/CNgqeH5ILzT54XlkZrkXgVmnZuWYgEjBzjHoK2F1W0NhLeNL5dvCX3u4KgbSQTz24qxHcRSwLNHIrRsAwYHgg9Kbk2noFjD8WWnn6XaRRaQNTCXcJEIk2eWAw+fqPu9ce1b4+6PpSggjIOR6iqF9rFrp15a210XV7p9kRCEqW9MgYH41G+hRU1SyuJ/FGiXUUZaG3M3mtn7u5MD9agg0RJfGGoX17ZxyRtDEsMkihsEEk49O1Wr3xRpOnagLK8uTFMWVOY22gt90FsYBPuauHU7UasmmmT/AEp4TMqYPKZxnP1rZVJqNl2t+NzPkjdvzv8AocdDpurtcWmniwlhS1muSbssu07w20jBz39Kk8I6JJp1/DJd2V5bzW0DJJK5jEb56/d5b15rt8gnAIzUN9eQafYT3d222CCNpJGxnCgZNXLFScXG2/8Awf8AMhUVdO5m+Fdcl8RaINRmtDaq8rrGpOdyA4DfjWzUVvLA9ujQFBGQCNvAAqRWDDKkEeoNcpuLRQSB1OPrTfNTAO9cHpzQA6iml1BwWUH3NV77UbXTolku5Qis6xjvlmOB+tAFqiq/22H7eLTJ80oZMbTjGcdelTeYnOHXjrzQA6iq9pqFrfwtLZzpMiuyMynOCpwR+BqCx1m11DT5r2At9nid13kcNsOCR6jigC/RVax1C21HToL61kDW9xGJI3PGVIyDzVkEEZByPUU9gCijI9abvQEAsuT0GaQDqmj+4KovewpfR2jE+dIhcAKcYGM89B1p9tqVrPPPbwTJJLbsFlUHlCRkA/gaLMCe8s7bULR7a9hSeCTG6ORcq2Dnp9RWUPBnhsHI0Sx/78L/AIVrC4ViQpBI64NMubxLW2eeRWKoMkIpY/kOTUOEXujeniKtNWhJpeTY61s7axhENnbxwRjokaBR+Qqrqmg6XrSgapYwXO37pkQEj6HrVZvFOmJo8GptK/2a4OIysTMzH02gZ7HtSjxTpTaEdYS5DWKnBlAPB3bcY65zxVOndWa0IjWnGfPGTT731LWmaLpujRGPS7KG1VvveWgBP1Pelj0bTotTfUYrKBbx/vThBvPGOvWrCTh0VlHDDIpfN9qXKtrDdao25OTu99d/UrPo2nS6kuoSWUDXi/dnKDePxofRtOk1NdReyga8XpOYxvH49aj/ALe0/wDtgaX9oU3pUt5I64Az/KoYvE+ly6kLFZ8TlmVQyMAxHUAkYJHtV+xf8vnt+IvrEl9vy3/D/gFq+0fTtSlik1CyguHhOY2lQMV+makvdOs9StTb39tFcQn+CRAw/WqNj4n0vUbz7LZ3HmS4JUbSA+Dg4JGDj2qfTNZt9Wtnmtgw8uRopEYYZGU4INKVNxdpIUa8mlyy22129CLTPDGi6PMZdN023t5D/GqDd+datR+b7Ueb7VKioqyRVSrOrLmqSbfnqUtU8P6TrOP7U0+C5IGA0iAkD69adpmh6ZoyFdLsYLXd1MaAE/U1b832o832pckb3tqV7eryez5ny9r6fcUdU8O6RrRB1TT4LllGAzoNw/HrU+naVYaTb+TptpDbR9SsSBc/X1qfzfajzfajlV721E69Vw9m5Pl7X0+4zJfCegz6gb2bSbR7gnJcxDk+v1qxb6HplreS3VtYW8U8wIkkSMAuD1yat+b7Ueb7UckV0KeJrSVnN223exX07SNP0lHTTLOG1WQ5YRIF3H3xS6hpVhq0Hk6laQ3MYOQsqBsfnU/m+1Hm+1PlVrW0I9rU5/acz5u/UpaX4f0nRcnS9PgtmYYLRoAT+PWpE0bTk1NtRSygW8bgzhBvP49as+b7Ueb7UuWKVrDlXqyk5OTu99dytc6Np15fRXt1ZQS3MOPLleMFlx6GrtR+b7Ueb7U7JbESnKSSk72KupaLpusRhNTsoLoL08xASPoaj0zw7pGjEnS9Pt7ZiMFkjAY/j1q95vtR5vtS5I3vbU0VeqoezUny9r6fceXyeG7+4+O8uoXGntJpjoFaV1yjfucY/PivQdO8N6NpNw0+nabb28rdXSMA/nV/zfajzfas6dGMG33dzsxWZVsTGEXooxUbJvVLuU9U0LS9aVV1Sxhutn3TIgJH0NRf8IvoflQx/wBk2myA5jHkr8h9RxWj5vtR5vtWnJFu7RxxxFaMVGM2kvNkF/pdjqluINRtIbmMdFlQNj86g0vw9pOjFm0vT7e2ZuC0aAE/j1q95vtR5vtT5Ve9tRKvVUPZqT5e19PuKeqaBpWtKBqlhBc7eAZEBI+h60/TdG07R4jHpllDaq3Xy0Az9T3qz5vtR5vtS5Ve9tQ9vV5PZ8z5e19PuK1to2nWd9LeWtlBDczZ8yVIwGfPJye9Xaj832o832qkktiJTlN3k7klQt/rPxp3m+1MJy2aZBi23/JR7/8A7Blv/wCjJa6Guetv+Sj3/wD2DLf/ANGS10NZU9n6s7cX8Uf8MfyQUUUVocZiXv8AxKdeivwcW17tguBjhX/gb26kE/7tbdV7+zi1CwmtLgExyoVODgj3B7GqmhXktxZtb3hzeWjmGfjG4jowHoRzQBp0UUUAFFFFABRRRQAUUUUAFFFFABRRRQAUUUUAFFFFABRRRQAUUUUAFFFFABRRRQAUUUUAFFFFABRRRQAUUUUAFFFFABRRRQAUUUUAFFFFABRRRQAUUUUAFFFFABRRRQAUUUUAFFFFABRRRQAUUUUAFFFFABRRRQAUUUUAFFFFABRRRQAUUUUAFFFFABRRRQAUUUUAFFFFABRRRQAUUUUAFFFFABRRRQBzng3/AJF6X/r7n/8AQzW3WJ4N/wCRel/6+5//AEM1t1FL4EdeO/3qp6sKKKK0OMKKKKACiiigAqtc6fbXlxbTXMQeS1k8yFiT8jbSufyJqzUM95b20sMc8qo877IlY4LtgnA/AE0Aef6to9y+sa3qaR3ZuItRs/srK74CYjD7QOMctmu/kuYGRlWePcQQBvHWozqVk2pNppuEN1s3GHPzbfXH41j2+m+E31Q29vFYNextuMasN6ke2c1o3zKzJ2Zylvc6jcRWlilvqAltbe9Wd2jcLuwwQZPUngjFaPhzSzot9A0kV39mm0RGu95kfdLuGfU7sE8Dmu3iu7ea4mghlR5YCBKgPKEjIz+FTUOelrBynnOl266v8PtY0s21406/angjnjkQkFn8vBYDPBHFPvrS2n8A2MNkbuy8qWMyo1tM291UZVlA3bTjqOK725uoLONXuZViVnVAWOMsTgD8Samp+01FymD4Uuz/AMIxaG9hWxlw37l3PA3HB+b5gCOcHpnFV/GBZrfTLyCN7iK1vo5JfJUuQvQnAyT17Vr32haZqUwmv7KKeRV2hnXJA9KsWdjbafbiCyhWGIHIRRxU8yvzDtpY4rxNqi6vrdto0tpeRacGjuJ51tJG84ghlQELxyBkn6V2Q0+1OoJf+UPtKxeUsmTkJnOMfWpI7qCW4lgjkVpYceYgPK56Zqahy0sgS11Oe0hYh4x1spb3ySERbpJifJfj/ln/AFqz4ugkufBmsQQI0kkllKqKoyWJQ4AFaYuYTdNbCRTMqBymeQpJAP6GpajoV1PJ9d0t9C0nU4bZL2O0ksbNm2yOWaTzGD7ST94jHT2rZ0O+k0PTte1Kw07ULjTY2R7W1KP5jttG/Yr84zj9a7i8sre/tjBeRiSIkMVJ7g5H6iooNTsptNa+hnU2iBiZeigL1OfTjrTuBgeK4Z9b8P6UqRXUQuL63MyRlldIy3zAkcjjrXP+NtNNm0Gn6fZzparbyvHJGs0xMhx8g2n5T3yfw71313rGn2NnHd3d1HFbyY2SM3ynPTmlvdW0/TmjF/eQW5k+4JZAu76ZosxXPNJtH1HUNMvr68jvmvYNFtmt8M6kT/OWwB1bgZp+s2Uk/iCX7baX8uoHU7eS2dFkMawDHp8oAO7Oec4r02W8toZIElmRWuG2xAn7564HrU9F9bhY4lryKH4lMYob0JJaNDI3kSmMy7hjnG3oDz0rP8N6DLa3OiyyxXe67s7hb4yyOcklCoOTx3xXo1U01W0k1eXTUdmuokDuoQ4UHpzjH4Uhs5TwRp0OnW2p2P2Se3vRcXBJdH2shc7SGPynjHTmtPwRGreBbKxnQ77eL7LcIePnT5W/UGte11ezvdQubO2kZ5rU7ZcIdqn03Yxn2zVxVVc7VAycnA6mncDk/EehRyL4d0y1hmWwguwskcLsAI1icAMQc4zjrVrwfmx0FrW8dojDdTpEs7nd5YkYJ97kjGMV0dUL7QtM1KYTX9lFPIBtDOMnFVzXVmTbqjmfE9/NZ6vcvBFdXEdzpjxwm2RpB5u7p8ucHB6msS70W8mj1O/eK9N3Amn/AGUh3GCFTfgDg9816TZ2Ntp9sLeyhWGJSSEUcDNT01Pl2Fy33OK1C8it/iXZyrDe+WbV4rh0glaMuSu3kDb0zzTdH0u10vxprqvaXEUlwySW0qq7KV8kBvm6Zzng129FLm0sO2p5/wCBVlsdYuoJFkmtxCWN/NHLExYv9xxJwW56j0runmimidIpUdipACsD2ou7O3vrZre7iWWJ8bkYcHvVWy0HS9On86xsooJMY3IMHFEpKWoJWORs9en0LwIkUemXct/byGDyjbOQjFj83A5UDnIzWv4b0jT7nwh9inWW4imkaS486Joi8hfcx2kAgbuldPRQ5XBRsY+u+ILfw9/Z0ckEkpvblLWJY+oJ7/QVsVDNaW9xLDLPCkjwMWiZlyUJGMj04qaoKOV1a5hg8caS62s58sSiWSO3YjLKAuWAx/hVf7b/AGx4tQXFrcQQ6e7C2Q27gTSEYLlsYC84HNdlRXSqySWmtrbmPs3d69bnnPhSyuYNe0zKXTeSlwJ4poSiWu4kja2Oc9Opre8Jna2v6gfltrjUXkiJ4yqoik/mrV1FMMMZhMRRfLYEFccEGprVnVlzW/q9x06apqxneHNdi8R6HDqdvDJDFMW2rKOcAkZ/StSo4IIrW3SC2jWKKMYREGAo9AKkrE1CiiikAUUUUAFFFFABRRRQAUUUUAFFFFABRRRQAUUUUAFFFFABRRRQAUUUUAFFFFABSjqKSlHUUAYtt/yUe/8A+wZb/wDoyWuhrnrb/ko9/wD9gy3/APRktdDWVPZ+rO3F/FH/AAx/JBRRRWhxhWJqY/svWINVTIhlxb3YHQDPyOfoSR/wL2rbqK6tory0ltrhA8UqlHU9waAJaKydBuJfs8mn3jFrqxby2ZjzIv8AC/4j9c1rUAFFFFABRRRQAUUUUAFFFFABRRRQAUUUUAFFFFABRRRQAUUUUAFFFFABRRRQAUUUUAFFFFABRRRQAUUUUAFFFFABRRRQAUUUUAFFFFABRRRQAUUUUAFFFFABRRRQAUUUUAFFFFABRRRQAUUUUAFFFFABRRRQAUUUUAFFFFABRRRQAUUUUAFFFFABRRRQAUUUUAFFFFABRRRQAUUUUAFFFFABRRRQBzng3/kXpf8Ar7n/APQzW3WJ4N/5F6X/AK+5/wD0M1t1FL4EdeO/3qp6sKKKK0OMKKKKACiiigAqlfaTbahd2NzcBjJYzGaHBxhipXn8GNXaKYHKa3PDY+P9Gubpliie3mhErcAuSpC59eDWPq1xbTfELRHsLi2uFS7dXtbeMCWNvLcM7sOcZ7H1r0F40kx5iK+DkbhnFNW3hSQyJDGrnqwUAn8atTsQ43K1ppVtZaje3sIbzr5laXJ4yqhRj8BWX4RuUuYdSKajPf7L6RCZo9nlEH7g45A9a6GokaCNXKGNQD85BAwfeoLOb+IUD3Ph2CGN3jL6hajenVf3yciuWv7+6sHXTrvWLuCzj1v7M1wzfOYjCH2lsdNxxmvUSquo3AMOoyM1Sv8AR7PUZ7WW5jDNaymVBjgsVK8+vBpLQOhy+heKo9L8LxXOsTz3EMt+1pazmMs0qmQqhOB09/bNSeJbsf8ACV21rqepTabppszKkkb+WJJtxGC3sMHHeuv8iIoqGJNq8qu0YFRz/ZXdIrnyWY8okmCT9AaYHm2rQ3MOsa3qljfXKG2FoYwh4l6ZLcc5HFSPq14fETN/aVwNRGrRW6WP8JtyE3HbjkYLHdXo5+zh/Lby9zfwnGT+FHl2/wBoDbIvOxwcDdj+dFxHI2urwR/EPU7eC/SYvZRmOJnBxLvfKjv0A4rJ07U5z4Pvb+11W4ufEP2OZ5LRzny5Bn/lnjjHGPX3r0QW0Ak8wQRh853BBn86PJgiZpBHGjN959oBP1NIZwPhl9TuLPUxBrEN95liDHGkxkeOUhvmyQMZ449q6Dw3aWmqfDuys8H7NPZCJwDggEYYfXrW7AtsjH7MsSluT5YAz+VOgt4bWLy7eNYkyTtUYGScn9aYjm/GdisHw5v7W2jZ1gtcIMbjgVneNdQ03UPCrra6pYQyyW7FJJoxJvXGCF98+ma7kgMCCMg9QahNpbMFDW8RC/dBQcVSl3FbsY2k6Xb6joug3VxDLFJZxrJFG7fMhK4w3rV+XXLKHX4NGeQ/bZ4mmRAp5VSATnp3rQ6dKpjSbP8Atk6r5IN4YvJ80k8JnOB6Um7u40rIuVzmnMf+Ex8QLEyCUxW+wN67W/Sujquun2i6g18tvGLp0CNMF+Yr6ZqRnPeBTMLfV0vmjN4NUn87y/u5yMYHXGMda6mq0OnWdvezXcFtHHcT/wCtkVcF/rVmgAooooAKKKKACiiigAooooAKKKKACiiigAooooAKKKKACiiigAooooAKKKKACiiigAooooAKKKKACiiigAooooAKKKKACiiigAooooAKKKKACiiigApR1FJSjqKAMW2/5KPf/wDYMt//AEZLXQ1z1t/yUe//AOwZb/8AoyWuhrKns/Vnbi/ij/hj+SCiiitDjCiiigDE1lf7OvoNajACRjyrv3iJ+9/wE/oWrbByMjkUyWJJ4XilUOjgqykZBFZWgStbibSLh901iQEJPLxH7jfXAIPuDQBsUUUUAFFQl2yeaN7etAE1FQ729aN7etAE1FQ729aN7etAE1FQ729aN7etAE1FQ729aN7etAE1FQ+Y3rRvb1oAmoqHe3rRvb1oAmoqHe3rRvb1oAmoqHe3rRvb1oAmoqHzG9aN7etAE1FQeYf71Lvb1oAmoqHe3rRvb1oAmoqHzG9aN7etAE1FQ729aN7etAE1FQ729aN7etAE1FQ729aN7etAE1FQ729aN7etAE1FQ729aN7etAE1FQ729aN7etAE1FQ729aN7etAE1FQ729aN7etAE1FQ729aN7etAE1FQ729aN7etAE1FQ729aN7etAE1FQ729aN7etAE1FQ729aN7etAE1FQ729aN7etAE1FQ729aN7etAE1FQ729aN7etAE1FQ729aN7etAE1FQ729aN7etAE1FQ729aN7etAE1FQ729aN7etAE1FQ729aN7etAE1FQ729aN7etAE1FQ729aN7etAE1FQ729aN7etAE1FQ729akQ5XmgB1FFFABRRRQBzng3/AJF6X/r7n/8AQzW3WJ4N/wCRel/6+5//AEM1t1FL4EdeO/3qp6sKKKK0OMKKKKACiiigAooooAKKKKACuL8Q6N/Y/gvxC0FwzveSG4Bb+AkgY+nFdpUc8EV1A0NxGssbjDIwyDVRlZiaucBJr+paRbX+n3uoyTTq1sLeaOJQwMmBt5+Xrnk/rUdr4j8QXvh28S3mVrmz1EWzyho/MaParHHOwuM4/DpXdXOj6deJKt1ZQyrMFEgdAdwXpn6VD/wjWi/YTZ/2ZbC3Z95iEYClsYz9cCr549ieVjPC+prq/h22vFnkn3blLyJsYlWKnIHGQRjiszxmkMd3oV1IEVk1BF808bQc8Zq7d+HZX8pNL1a60q3iTYtvaJFsHJOfmQnvVqLRo30r7Dq0raqhOWa6RSW5yOFAHH0pXSfMh62sch8QoIIxDqVqtqJY7iEz3CzEToN44QZwcjt3zXWjSVk8Qwaz5z7ltPIEXYgndn605/DujyXcd1Jptu08e3ZIYwSuOn5VpUOWiSC2tzF0y7uJfE2qwS6jbTww+X5dtGP3kGRzu+vatW6tYb23eC6jEkTjDKe9MisLWC8muobeNLi4x5sirhnx0ye9WKhaFHD6La2+leGNZ1KyhVLq3e5EchJOAvQc9uKvC61TTbLT7m/1FZvtlzCjgoFWMNnIH6da6QWdstvJAIEEUpJdMcNnrn6025sbW8tPs11BHLBx+7ZcjjpXS66lK8l1MPZtKyOMvfEup3DR29hKMT308QnjKAhIwuAC3y5OT+VdDpurNbaLaSeIJ4IbiWTyQ29cOxOABg4yfSrZ0PTDZfZDYQfZ928RbBtB9frVe98NafenTlePZDp04nigTAQsOmR7daVSpTlFRirDhCSlds16KKK5jYKKKKACiiigAooooAKKQkAZJxS0AFFFFABRRRQAUUUUAFFFFABRRRQAUUUUAFFFFABRQSB1OM0UAFFFFABRRRQAUUUUAFFFFABRRRQAUUUUAFFFFABRRRQAUUUUAFFFFABRRRQAUo6ikpR1FAGLbf8AJR7/AP7Blv8A+jJa6Guetv8Ako9//wBgy3/9GS10NZU9n6s7cX8Uf8MfyQUUUVocYUUUUAFYuvIbKSDWoutnkTgDO+E43fiMA/gfWtqkZQ6lWGQRg0ACOskavGwZWGQQcgilrF0NvsFxPokrE/ZvntiwxuhP3QPXb90/hnrW1QBAeprz/wASa9dt4h+x2d6sSLiLAjfIYsCc/QKfwNegHqapHSbJr77YYAZ9wfeSeoGB+hNUtxErl1sGLkbxGcleBnHavOtO1m+gs9Ltry5kd5LtZo3LHMkZDZU+uD/SvS2UOhVuQRg1m/8ACPaYVtAbVf8AQzmDk/JQmIzNM1+/uLywN0kH2fUd/lLHndHtBIyc88CuhupJIrOaSBPMkVCUT+8ccCqdpoOn2V2Li3hKyLnZlyQmTk4BOBV+WNZoXjkztcEHBxxQxnKR+KrqLRLu5uFR7uHYPs/kvGULEDBB6jJ6inr4g1KKwnN7EsMgdFhkMD4kLdgmc5rYi8P6fHDPGYTILgBZDI5YkDoMk9qafD1g1s0DrK6lg25pWLKR0IOeKNAMdPE1+2hXUwhj+1wXSW4DKVVtxUZIJyPvVeur7VrQ2dmzWrXd5KyrIFYIihdx4zknj1q5DoGnQWzwRwHy5JRM+XJLOCCDkn2FWL/TbbUo0W6Qt5bbkZWKsp9QRRoBz2oS6vFrsHky2/npYSPJkNsOG4wM9eldFpt0b3TLe5YbTLGGIHYkVHFpNpEVKxkssTRBmck7SckZPvVm3gjtbdIIF2xxrtUZ6CgDC1XW7ux1yOBwkFmQmJniZg7FsEbhwv41Xl1/UY766kC25s7a9jtiuDvYNt5znHG6tm70SyvrkTXKO5yCV8xtpI5GVziqdv4Ztl1S6vboea0tyJo1DEAYVQMjoSCCaFYClF4luX1uGJdktpNO0IZYmXBA/vHg/hViy1fULmzm1RhALJPMIhAPmYXPfOM5HTFXY/DmmxXi3KQsHRzIg8xtqsepAzipItDsYLp54o2UuSWQOdhJ6nbnFAGXoGt6pqN3H9stNtvNGXDrGyhD2GT1z7Vqa5qD6XpMtzCivICFQN0yTgZ9qWy0az0+XfarIuAQqmRiqg9gCcCrN3aQ31rJbXSCSKQYZT3o0A45tZ1HS7zU2n8u4uWkghjCBtgLZ5xnP4VavNS1ifwnqckqC1mgRtspjZd67eoBOQa2E8N6YkE0XkMwnKtIzSMWJHQ5zkEVOmj2iWM1oyvJFOCJBJIzFgRjqTRoIybuG40zwTPsMRZImd+Xwy45Gc5B/Gn3+p6il9a2enCBTJbPMzSgnG3HHB961r7TLbUbT7NdKzRYwVVyuR6HBpkGj2cDo6IxeNGRWZ2YhWxkcn2FAzJudTnutL0S9CxiO5ni3plgQW9CD9etPvJNT/4TC2gt7mFIHt5HCMhPQr15681el8PafNBbwvG4jtgBEqysAuOh4PX3qafSLS4aBpUcvbgrG4kYMAcZGQeeg60AUr2eaPxXp8bbGikikK4yGUjbnPOD19Kox+Ib9riO4KQfYpb1rRUGfMBGfmznHbpite50Oyu75buZZDMn3WErDb64APtSLoGnLffaxCfM3mQDedoc9W25xmgRlaVr2pXF5ZG8W3FveGRVCAhlK9Cee9dHFPFMXEMiOUO1trZ2n0NVotJsofs/lw4+zljFyflJ60+y02105p2tIvLNxIZJOSdzHvzQMtUUUUgCiiigAooooAKKKKACiiigAooooAKKKKACiiigAooooAKKKKACiiigAooooAKKKKACiiigAooooAKKKKACiiigAooooAKKKKACiiigAooooAKKKKACiiigAqaP7gqGpo/uCgB1FFFIYUUUUAc54N/5F6X/AK+5/wD0M1t1ieDf+Rel/wCvuf8A9DNbdRS+BHXjv96qerCiiitDjCiiigAooooAKKKKACiiigArlrk6j4W0DW9ReZbyVp2nt0cnCKcALXU1Be2UGo2clreJ5kMgw65xmqTsJmL4c1fUby/vrHWFt/Pt1jkVrcEKVdc45J5ByKuaxqsmnX+lQRorLe3Jhct/CNjNkflTL3R7lJ2utCmt7S6lCrNJPE0gdVHAwGGKgPh+51S2MHie4gvFR1khNtG8LRsO+d5NV7rdydbWMYeK9a1CS2g0qGzSWaW7UvNuKqIWIHAPfFT3+t3d1oGgaiFjVLq7gSZAWBBaQLwQemex61uaf4a0rTFgWytvL8jzPL+cnG85bqe9QXng/SL21tbaaGUQ2uPJRJ3UKQcg8HqD3p80LoLSKOo3GuL4+s7W0urZLSS3dzG8bHOCM5wevPFMbxLqEXjRtMvEitLQyrHA0kD/AOkZUHKyfdBzxjrxW1deH7C8a0adJDJZ8QyLKwYDuCQcnOO9RT+GbCbUv7QKu10rb498rMivjAbZnFJOPULM2K5Tw7B5l74msfOmES3hjT94S0YMSH5Sc45JNXrez8SrdRtc6rYPAHBdEs3ViueQD5hwfwqxL4c02a+uLsxOs11GY5ikrKHGMZIBxnHfrSVlcerOe8JyXcPijWtMuPtUEccMUkMF1N5rclgXDehx0z2rXtrfVNA8DiETxXmpW0DYknfajvyRknoKuaT4e0/RppprKN/OnAEkssjOzAdBlieBk8e9WtR0+21XTZ7G+j8y3uEMciZI3KeoyKJyvsEVbcfZySy2UL3AQSsgLhDlQcc4PpXIeKL3WbbxjajRZIcrp88rpcbih2lMcAjntn3rsbe3jtLaO3gXbHEoVBnOAKgn0u0ub0Xc0W6YRNCGyfuNjI/QVD30KW2pxN1441h0uLvT7ezFpaabDfyrMW3uH3ZUYPHC9a7iDULadokEyCaWMSLEWG7b64rmz8P9Ml1uS5uI91oLWG2igV2GFQtkNz8wORwfSt06Fp512PWDB/p0UJgSTceEJzjHSnoLUyU1XW7zxTfWlqtnHYWDR+Y8gYvIGGSBg4GKxbHx3qE2qGJ44Zraa1mnt5kgkjU+XjoW4YHd1FdvDYW0FxczxR4kuiDKc/ewMD9KybTwTodlcieC1besbxJulZgiNjKqCcAcCl0H1Obj8dazZ6c8+p21m0k2mpe2ywlgASyrtYk+rjkVd0S41xtb8TQ389s91DFbmLYG8oZVz93OR+ddBL4X0ieFYprRXRbX7IFJP+q4O3/x0c9eKitfCOk2Vvdw28cy/bNvnv57l329PmznvVXQjDh8QanF4S8NtpscButTkSEmcsypmNmJ65P3fWqt7r+v3ujaXPbTWttP/aps7jCsVdlZl45+6dvSuosPCmk6dDbRW0D7LWUSwK8rN5bBSvGT6MeKll8N6XNp0li9t+4kna4IDkESFtxYEHIOTSGZWvvcPq3huwu2XbNdFpzGCFcpGzBfpnn8K1L/AE27ufEOm3sN15dtaiTzocn95uGB+VPutDtrm2soi0imylWWGQNllIGOpznIJB+taVCdhPU4l/FmrprUuYbX+zYdSWxYYbzG3D72c44JHauwu5jb2U8yjLRxs4B7kDNUZvD1hJHKFgUPJOLrJJI80dG6+w4qrFYeJTMou9U0+WAnEiLZuCy9xnzDirfK1oJXTMpvGl0NPtJ1gh3z6Q9+VyeHXb8v05q1oes61eXNxZaktmtwbKO7gaINtUPxtbJ5we4xVq18E6FZvK0No37yFoCGlYgRsclQCeB9Kvvodi5dvLZWeBbcsjlTsU5ABB4ptw6CSl1OTl1PVW+F8l9YTRwXSSSh3bc3SVl4yc9u9aOs6xrmj6DYzLFFcSyOBcTRW8kiwptJ3bFO49h+Nadj4V0rT9NuNPghc2twCJIpJWcHOScZPGST0pZPDGny6bFYt9oEMLEpi4cMM9t2cke1HNG4WZa0e+GpaPbXYlim81N2+IHaT7Z5rF8Qgw+LfDcsckiGW4licByFZRE5AI6dasvpGrWSRW3h+8srOxiQKkMts0hH4hxVibQ01XTYIdfKXM8L7xLAGi2t6rhsjjjrSVk7j1asc54tF1pev6dfWrXiRzXsKTXH2jMKKzBdhj9+OfU9a6WPTrpfFM2otc5tHtEhWDJ4cMxLenIIH4VDJ4T0qfUUvJ4pZZEdZFV5nKBlAw23OMjArapOSskgtqMSaOSR0SRWZDhlByV+tNuoXuLWSKOZoHdSokTGU9xnisrRPDqaPqWq3zTtPPqVx5rkjAVQoVVA9sdfeteaJZ4XifO11KnBwcH3qVoxnKaMFl8H3A1bUbhYoLmTfcGXa5VWPBb/AArKeTUl0ewj33ksd3qDGC38zZM9vt4BY9O557V0o8GaMLCay8iQ28zh3QzOcsDnPX1qdvDGmtZpbMkpWOTzI2MzlkbGOGzkV3e3ppt+fb/gnM6c2reXc5a4ubk/DH7bJcS/bLC481C7fOro/CE9+OD65ru/PjRYvNdUaTAUMcbj6Cs6Xw1p8mmW+nqjJawTrP5at99lO75ieTzyaZrHh9NY1bSLuaYrFpszTiID774AU59ua5KklKba2bN4JqKTNmiiisywooooAKKKKACiiigAooooAKKKKACiiigAooooAKKKKACiiigAooooAKUdRSUo6igDFtv+Sj3/AP2DLf8A9GS10Nc9bf8AJR7/AP7Blv8A+jJa6Gsqez9WduL+KP8Ahj+SCiiitDjCiiigAooooAyNegkiSHVbVXaexJZkQZMsR++mPwB+qitOCeO5t454HDxyKGRh0IPQ1IQCCD0NcxZW+o2+pXmmabeRRWttteMSxFyofJ2jDDgYwPatIQ5762sZVKqp20vfT9f0OgPU0lZRtNbyf+Jla/8AgM3/AMXSfZNb/wCgla/+Azf/ABdX7OP8y/H/ACMvbT/59v8AD/M1qKyfsmt/9BK1/wDAZv8A4uj7Jrf/AEErX/wGb/4uj2cf5l+P+Qe2n/z7f4f5mtRWT9k1v/oJWv8A4DN/8XR9k1v/AKCVr/4DN/8AF0ezj/Mvx/yD20/+fb/D/M1qKyfsmt/9BK1/8Bm/+Lo+ya3/ANBK1/8AAZv/AIuj2cf5l+P+Qe2n/wA+3+H+ZrUVk/ZNb/6CVr/4DN/8XR9k1v8A6CVr/wCAzf8AxdHs4/zL8f8AIPbT/wCfb/D/ADNaisn7Jrf/AEErX/wGb/4uj7Jrf/QStf8AwGb/AOLo9nH+Zfj/AJB7af8Az7f4f5mtRWT9k1v/AKCVr/4DN/8AF0fZNb/6CVr/AOAzf/F0ezj/ADL8f8g9tP8A59v8P8zWorJ+ya3/ANBK1/8AAZv/AIuj7Jrf/QStf/AZv/i6PZx/mX4/5B7af/Pt/h/ma1FZP2TW/wDoJWv/AIDN/wDF0fZNb/6CVr/4DN/8XR7OP8y/H/IPbT/59v8AD/M1qKyfsmt/9BK1/wDAZv8A4uj7Jrf/AEErX/wGb/4uj2cf5l+P+Qe2n/z7f4f5mtRWT9k1v/oJWv8A4DN/8XR9k1v/AKCVr/4DN/8AF0ezj/Mvx/yD20/+fb/D/M1qKyfsmt/9BK1/8Bm/+Lo+ya3/ANBK1/8AAZv/AIuj2cf5l+P+Qe2n/wA+3+H+ZrUVk/ZNb/6CVr/4DN/8XR9k1v8A6CVr/wCAzf8AxdHs4/zL8f8AIPbT/wCfb/D/ADNaisn7Jrf/AEErX/wGb/4uj7Jrf/QStf8AwGb/AOLo9nH+Zfj/AJB7af8Az7f4f5mtRWT9k1v/AKCVr/4DN/8AF0fZNb/6CVr/AOAzf/F0ezj/ADL8f8g9tP8A59v8P8zWorJ+ya3/ANBK1/8AAZv/AIuj7Jrf/QStf/AZv/i6PZx/mX4/5B7af/Pt/h/ma1FZP2TW/wDoJWv/AIDN/wDF0fZNb/6CVr/4DN/8XR7OP8y/H/IPbT/59v8AD/M1qKyfsmt/9BK1/wDAZv8A4uj7Jrf/AEErX/wGb/4uj2cf5l+P+Qe2n/z7f4f5mtRWT9k1v/oJWv8A4DN/8XR9k1v/AKCVr/4DN/8AF0ezj/Mvx/yD20/+fb/D/M1qKyfsmt/9BK1/8Bm/+Lo+ya3/ANBK1/8AAZv/AIuj2cf5l+P+Qe2n/wA+3+H+ZrUVk/ZNb/6CVr/4DN/8XR9k1v8A6CVr/wCAzf8AxdHs4/zL8f8AIPbT/wCfb/D/ADNaisn7Jrf/AEErX/wGb/4uj7Jrf/QStf8AwGb/AOLo9nH+Zfj/AJB7af8Az7f4f5mtRWT9k1v/AKCVr/4DN/8AF0fZNb/6CVr/AOAzf/F0ezj/ADL8f8g9tP8A59v8P8zWorJ+ya3/ANBK1/8AAZv/AIuj7Jrf/QStf/AZv/i6PZx/mX4/5B7af/Pt/h/ma1FZP2TW/wDoJWv/AIDN/wDF0fZNb/6CVr/4DN/8XR7OP8y/H/IPbT/59v8AD/M1qKyfsmt/9BK1/wDAZv8A4uj7Jrf/AEErX/wGb/4uj2cf5l+P+Qe2n/z7f4f5mtRWT9k1v/oJWv8A4DN/8XR9k1v/AKCVr/4DN/8AF0ezj/Mvx/yD20/+fb/D/M1qKyfsmt/9BK1/8Bm/+Lo+ya3/ANBK1/8AAZv/AIuj2cf5l+P+Qe2n/wA+3+H+ZrUVk/ZNb/6CVr/4DN/8XR9k1v8A6CVr/wCAzf8AxdHs4/zL8f8AIPbT/wCfb/D/ADNaisn7Jrf/AEErX/wGb/4uj7Jrf/QStf8AwGb/AOLo9nH+Zfj/AJB7af8Az7f4f5mtRWT9k1v/AKCVr/4DN/8AF0fZNb/6CVr/AOAzf/F0ezj/ADL8f8g9tP8A59v8P8zWorJ+ya3/ANBK1/8AAZv/AIuj7Jrf/QStf/AZv/i6PZx/mX4/5B7af/Pt/h/ma1FZP2TW/wDoJWv/AIDN/wDF0fZNb/6CVr/4DN/8XR7OP8y/H/IPbT/59v8AD/M1qKyfsmt/9BK1/wDAZv8A4uj7Jrf/AEErX/wGb/4uj2cf5l+P+Qe2n/z7f4f5mtRWT9k1v/oJWv8A4DN/8XR9k1v/AKCVr/4DN/8AF0ezj/Mvx/yD20/+fb/D/M1qKyfsmt/9BK1/8Bm/+Lo+ya3/ANBK1/8AAZv/AIuj2cf5l+P+Qe2n/wA+3+H+ZrUVk/ZNb/6CVr/4DN/8XR9k1v8A6CVr/wCAzf8AxdHs4/zL8f8AIPbT/wCfb/D/ADNapo/uCsP7Jrf/AEErX/wGb/4uieLXLaylm/tG1by1LY+zNzj/AIHR7JPRSX4/5A68krum/wAP8zeooorA6gooooA5zwb/AMi9L/19z/8AoZrbrE8G/wDIvS/9fc//AKGa26il8COvHf71U9WFFFFaHGFFFFABRRRQAUUUUAFFFFABWNpdpqvlammq3DAS3DG1eMjdHEQMduuc1s0U7iOM0vxJJp3gBL7UJzc3RuJreEyEAyv5zIgP5DPsKTw9qGta34Bvil7HLrCtcQpKmAquGYL+HStiz8Jafawz28u+7s5JWmS2uArJEzMWJXjPUnrmrOheH7Hw7aS2+mx7EllaVuB1Y57dh0HtWjlHWxKT0GXt9f6XpFmyWMuoXLNFFMsR5XOAz/QcmtYdKzta0dNatYoZLi4txFOkwaB9pJU5wfY45rRAwMVmWcPe+K9R0nxRqytaNdafbNBubzAvlB+DgY59at/8JtMNUmjbS2FhDfJYvdeaM73C7SFx0y4Fad74Xsr46gZXlH2/Z5u1hxs6Y49qyLHwQf7avrvULuf7PJqC3cVqjjy2KogVmGM5BXpnsKAOvkkWONnc4VRk/SuPufE+p33g3U9WtrA2lt9immtbjzgXyqnBK44zjPet2y8PwWWsalqCzzytqG3zIpHyiYGPlHaqNv4Ngt9OudNXUL1tPmheFbZnXbEr9dvy54zxkmkBnReOLm0sZ11TS3ju4oYHiiWUMZvNJVRnHB3A5q/b+JLu7sNUjfT/ACNQ0/AkhEwIIK5DK2PT27VNqHg/T9RM5neYNLbxQBkYAp5bFkYcfeBamw+Eo4LC9hTUr37RfOGnuyyGRgBjb93AGPam9gRBF4lli8O6LJbW8l7e6miiFJJApPy5LM2McD0FV9Z8cTaPPbWUumqb+SFppYjcAKig44bHJParcfgyGPRrOwGpXu6xcPa3G5fMiwMbR8uCMeoqS48JJPJbXA1O9jvoI2iN0rJvkUnOGBXH044odrgVpdZfV9W8Nx2zTW0F5HJeOp+ViEC4Q/i/P0rWuodTbxNYS28gGmpBKLhMj5nJXYf0amXOhebNpc8Vy4m09/8AWONxkQjDKenXA59q16L2Ec1a3NxB4/1C1lvJZLT7Gk6xSEbYyWYHHHTiszw/4ruNb8cOqXMf9lz2rvawjGW2sBvz/tZOB6V0d1oENxrsWqpPPDMsflSKhG2ZM52sCD+mOtQ2vhHRrHXI9Us7OOCeOIxKI0AUAkc9OvFWnHqS0yxo0OpRNf8A9qSBw95I1tgg7YT90Vp1HOHa3kWLG8qQuemcVleFNIudD8NWtjqF013dIu6aVjnLHk49vSo3LJvEkskHhnUJYXaORYGKspwQcda57xDfHTPA9paQXNylzeGKKObcS2WZd2X7cZ611Oq2J1LSLqyD+WZ4mQPjO3I64rNvvD9xqPhH+ybi7j+0BUxcLFhQysCDtz7etIDZtoFtbaOCMsVjUKC7FicepPWpKitVnS1jW7kSScKBI6LtVj3IGTj86loAKKKKACiiigAooooAKKKKACiiigAooooAKKKKACiiigAooooAKKKKACiiigAooooAKKKKACiiigAooooAKKKKACiiigAooooAKKKKAClHUUlKOooAxbb/AJKPf/8AYMt//RktdDXPW3/JR7//ALBlv/6Mlroayp7P1Z24v4o/4Y/kgooorQ4wooooAKKKKACsex/5GrVv+uUH8mrYrHsf+Rq1b/rlB/Jq2p/DP0/VHNW+On6/+2yNE9TWBrfie30zzIYd0lyjIpGwlV3EcEjgHGa3z1Nctqfh/UZ7i9Szkt/s95LHK5kzuUrjIH1xXPPmtoejho0nP95t/wAH/I1X8Q6fHqH2RpG3hxGXCHYHP8Jbpmqg16afxQdNt4isMSjzHeJsknPQ9AOOpqqvhmWLVppRBaTwy3HniSQtvTJyRjofatmCwePXLq9LKUmjRFHcFc/40lzPc0kqEE+XXT8dC7I6xRtJIQqqCWJ7CsGXxbZSaddzWLM0sEBnRZYyokUfxDPUe4ravLf7XYz2+dvmxsmfTIxXKr4Y1S4tyl5LbK0OntZQmMHDZI+ZvT7o4rrpRptXmzjVuptab4is9St3aLzPMjiWR0MTBiCM5APJH0ptt4gt/wCw/wC0byRVjMrINqHJIcqF2nnPbHrVTTrK8024k1PWWi/dWqWyrbqTkA8tj1J7VRh0KbV/CMUezypVvJLmNJ1IDAysQCOoyDWnJTv5XQaG0PE+mGwa7MrqqSCIxtGRIHPRdvXNQ6h4pt7LT4bpbe5cSyrHtMLArlgpyMcdeneqP/CN3Ys0e2hs7W6huhcIibmR8LtIYnvgnn6Voajp+o6noYilNvFeLMkqhclPlcMAT+FLlpJrtcNCbU9aSz06G5QMnnSIi+bE2BlgOfTrxmp5tZsreS5jnl2Naw+dKCOic8+/Q1n65YarqmjxW0S2yyl0klLOcAq4YAcc5xVfWPDt3q81jM0kUD4Ed6q5IkiDbtoP1H6mpjCm0uZ23BeZeuPFGl20yxyyvkqrMyxkiMN03H+H8aRtWmm8YRaXbbPJjtPtNwxGSQxKoB+IJrMv/CkkmtXV1Db2lzFdbMi4LAxlQBxjqMDpV/8Asu4tvGkWowRhreeyFtPg48soSynHvuI/KpqKmkuUT8iLTvF8GoeJLzSVtLpGtioEjQthsjvxx079as23irTLzWJdMtWmlnhkMUpWFikbAZwWxgHFQQaRqFn4wu9RtzA9neoglViQ6MuRx2IPFWtE0mTS/wC0S5Rmurx7hdo6AgAA/lWQEeneII72bVCf9VYvgqImDgbQTkEcn0xS2fiGDWVurfSmaK9hQN5d3AyFc52sVOCQcH8qwV8PeJJG18NJZ239rI2yWKRi0LbNq9hnpmpfCPhS+0XXrvULxbWKOa1igWK3ZmOVLEsWbrndQBq6H4gN34Lj1vVdkW2J5ZvLBwoUnJHftWpp2oW+q6bBfWL+Zb3CB42xjINYWjaNrGleGbrSRJas0aOtlNgnJJJG9fbIra0iG7t9HtYtSaJ7tIwJWhXahbvgdhQBDrGv2WhrD9tMjPOxEUUMZkd8cnCjnis+48c6HBDZyCaWYXkTTQiCFnLIuMnAHGM07xDpGoXOqadqmkGA3FmJEMVwSFdXAzyOhG0Vyq+H9d0jWtEg05be4uI7C5E8sqsItzshODzjnoPakB0l743sba/0yGCG4uodQQuk0MTMNuMgjA5/pWnP4h062jvHnmKCyRHnypygbpWGvhXUNP0vw+mmzW8tzpClWEwKrKCuDjHSq3iHwtruo3GqLp81mkGqRQrKZN26MpnOMdc5/CmI25fGWkQ6wdNeWXz1mWByIWKI7DKgtjAzUv8AwlGnLrC6bIZ4ppJDFG0kDKjuP4QxGCeD+VZtz4VuZk1HZLGGutQiukOPuqu3IPvwayI/A+rnxNbXtxNayxwam14bhmYyuh3bUx0GM0DO8ujOLWQ2ao0+0+WJDhSfeuY8Pa74g1LUryPULSxhtrGZoZmikYsSBnIGPetfTINYi1bUpNTuYZbKSRTZRouGjXByGPftUWk6NNYTaw8kisL+5aZMfwgqBg0hDdM8XaZrHmHTvtEqIjP5gt32tg4IBxgn2FGneJIrjQJNUn3PGs8kYWCFy3yuVA24znjml0PSbrQ/CcFhF5Mt3DGQCSQjNn1rnU8LeIW8NT6bK9oha9a6AjlYCUNIXaMkAEDnGaBm5deI/tnhu81DQXTzbTd5kd1EylSoyVK8EGn6pq95b+Do9YtVj8xYop5EYcFDguB74JxWb4e8JXen6LrdpeNbxNqTsyLb5KxAptA561NcaZrcngX+yJkt3u2RLYvEx2iPgM/PfaDxT9ANjUNf0/SrS1ub6by4ruRIojtJ3M33RWlWPq9hqL2NlBoslvGYJo/M+0JuBjHBA9/etigQUUUUhhRRRQAUUUUAFFFFABRRRQAUUUUAFFFFABRRRQAUUUUAFFFFABRRRQAUUUUAFFFFABRRRQAUUUUAFFFFABRRRQAUUUUAFFFFABRRRQAVHqH/ACB7n/rk38qkqPUP+QPc/wDXJv5VcPiRnU+CXoy5RRRWZqFFFFAHOeDf+Rel/wCvuf8A9DNbdYng3/kXpf8Ar7n/APQzW3UUvgR147/eqnqwooorQ4wooooAKKKKACiiigAooooAKKKKACiiigDM8Qz6lb6T5mjRCa58+JdpXPyGRQ5/BSTWLrXi+XQ/E0lrNZz3NnHpwupDBHkx/OwZic9ABXW1hap4b/tG+1C5+0bPtmmmw27M7clju68/e6e1XFrqJ36EOqeNLLSZ4Bc21x9nmCH7QFGwBzgd8nrzgcVPB4pguvEE2l2tpcSm3cJNOqjYjFQwB5z0I5rA1P4dTX87eVqUKRSJCsnmWu+QGMD7rbhtBx0we9X7vwlcTeJItWa4t9lswkRIrbbM+FxsMm7kH6VdodyfeOsrnNE1i4EuurrFzG0Wm3JQShNgCeWrZPJ6ZNTW+u6pNdRxS+HLyFGcK0rSRkIM9Thqhfwp5uqak01wsumaoN1zaNGdxfaFyHB4GAOMfjUJJXuPfYh8K+I77XbrVRdW6wRwuptkwQ+xlyN3v3q5ZatfWfgtdU1+1kF3FC0k8EMeWyCeAvrimaB4Qs/D+r397aO5F2EARmY7Ao9STmtTV7S4v9IubWyuzZ3EsZWO4VdxjYjhsd6JtfZCN+pPa3AurSK4RWRZUDBXGCM+orB8UX2s6dJayaZPaLDPPHblZoWYhmON2Qw49q3bSKSCziinl86RECtIRjefXFVdX0v+1YrZPN8vyLqO4zjOdpziqpyjGab2FJNxstylc69JpMlpY3kEt9qFxGz4tIsA7cZOCeOo71M/iO0jjuHkSVPs8iRyKV5BfGP51Yl0zzNet9S8zHkQvFsx13FTnP8AwGsjU/CtzfajPJDqCw2txJHLLD5O5iyHs2eh+laR9jK3Np3+/wDyIfOr2/rT/Mlj8aabLrIsEWXDTm3E+BsMg/h9fxroa5qy8Kvp+rGa3ntzatO05R7bMgJ5ID54GfarOgwawmqaxcatKfs8tziygJB8uNeM/wDAuuKmqqd17MqHPrzG5RRRWBoFFFFABRRRQAUUUUAFFFFABRRRQAUUUUAFFFFABRRRQAUUUUAFFFFABRRRQAUUUUAFFFFABRRRQAUUUUAFFFFABRRRQAUUUUAFFFFABRRRQAUUUUAFKOopKUdRQBi23/JR7/8A7Blv/wCjJa6Guetv+Sj3/wD2DLf/ANGS10NZU9n6s7cX8Uf8MfyQUUUVocYUUUUAFFFFABWPY/8AI1at/wBcoP5NWxWPY/8AI1at/wBcoP5NW1P4Z+n6o5q3x0/X/wBtkaJ6mkpT1NJWR0BRRRQAjMqIWchVUZJPYVVs9VsNQkkjsbyC4eMAusUgYrnpnFLqcTz6TdwxDc8kDqo9SVIFcZoekjwxeaPeXkMVhawaILe7ldgqiXchwT653U0B3F1K8NrJJFEZnRSRGCBu9sms7TPEFpfeH49XnIs4G3bvOYDZhipyenUU+11/SNUka20/UrW4mKn5IpQxx9BXHLaa7b+Df7Kj0uYS2t4fMZVR/NiMpbdHnjOCOtAHdQanZXUcMlvdwypOSImRwQ5Hp60251bT7OB5rq9ghijbY7vIAFPoT615mdMvdJ8IatqN3FJY3FvqQvbBbl13NgKCvy8Zb5hgetW7nwvfx6boN49vdXLK0txexW23zBJKCd2G4OM7fpQB6HNqljb2yXE93DHDIMpIzgKwxng/SopNd0qKO3eTUbZFuf8AUlpQBJ/u+tcnH4XEsHheD7BObS0uppporsqzRgq+3djj7xGAOnFM8X6PdpqsU/h7TJ3ultlhQrGjWxXeWKsp5XqTketAjvgcjI6Um9c4yKbDvEEfmAB9o3AdM45rmpfDF0+pNcD+z9pl3827FsZz139altrY2pQhK/NKx1BIAyeBWVpviXStWvrmzsbyOSe2k8t0DDJO0Hj1GD1rUA+XB9K5XQrCXSvFurpJpTCG8ufPhu0C7FXy1Uqe4OVP50zI3o9Y02W7+yxX1u8+0t5ayAtgdTimWes213bXNzuWO3t5WjMpcFWAAO7I7c1i+E9CXRtEmmudOAvTNPKcKC75Y4wfcYrDto9aXQfENtZaFcW8t1dPcwLNGm0oQg2gZxu4PHSmB2kmt28mkS3+lFNSWMH5YJV5x156VLo2px6zotpqMKNHHdRCRVbqAe1cj4P0fUIr3XpLm0ubWG8jiWH7Vt3MQGDEheB2qxpFxrmjfDtILfRJZNT0+IRJbu4AmI7qRnigDq73ULTTYPO1C5itos43yuFGfqaVL21lMflzxt5ib0wwO5fUe1cz4vsrjUNN06cWV495CxkX7Kqv5TlcfMrcEdqyza6/af2HqM+ktc3S6dNbXENrtURyNsK8ZwBwfpSA7OfWtMthCbi/t4hOMxF5AN49vWln1nTba4SC4vreKWRdyI8gBYeoFeQ6xYXWieGpV1XTluJJtCit1Bdd1s653ZB7EkcjuKseJoHsbfUIbnThdS3y2hgn3LmHHG3B5BznAHXJqrCPWJNVsIb9LGW8hS6kGUhZwHb6Cj+1tPOoGx+2Qfa1GTB5g3gfTrXBXHhu5Pim/N9ZajcJdXqXENxbMmxVGMAkjcu3Hardtpuo23jzzNO0+4SzmvJJrt7pEZMEH543HzAk449CaSGdTp3iTStUvbi0sryKSaB9jIGGScZ49RWoSACTwB1rktNiGg+JNXe807yLSaUTpf8AyiNF2gEE9RyK6Kz1Kz1S0kn0yeK9RMg+S4bJ9M+tICG01q1ure5uN6R29vIUMpcFW98+nNNl8RaTFpc+ofb4HtoMh3RwQCO319q5OXQNWu/DniHTRo7wfb7jzoVaRNpXcny8Hg4BrRPhOZZ/EkUFnEltfW0S2yjG0usZU8ducUB1Nn/hI9Ofw9JrFvcJNbRw+aSjA9RkD680l5rn9neF/wC2L62ZNsSO8CtkqWIGM+2ayH0K9v8A4byaSNP+w3Yt408tmUh3TaeoOMErjmuoS28+wjju4VO5F3xtggH0/OnpcWtiC61fT7CNHv7yG2DruHmyBcj8frVtGV0DIQysMgjuK5nXPDMuqeK7e7ktY5raLTZ4QXI+WRiuOPpnmtXwzYXVh4X060vU2TwW6Ruuc4IAGM1TStcNbjbvWTZ69ZadJauVvdwjnDDaGVSxBHXoKsNq2npqAsXvYBdnpAZBvP4daz/ENjftq2jX1laNdLZzu0sauqttaNlyMkDqRXL634e8Q6jrckosXK/2hBLC8bxqixKULFv4i3DCnGKdtRNtXO9+3WvliT7RHsL+WG3DG7OMfXPFMi1SwnvpLKG8he6jGXhVwWX6iuT/AOEQ1D/hMmAVRonnm/X5+k5Tbtx6Z+f61U8L+Dbuwv7J9Stbz7Ra3E0n2hZo/LbcW54+Y5BHBo5Y2vcV3fY7WPWNOlu/ssd9A8+C3lCQFsDqce2KdZ6pY6iZBYXcNyYjhxE4bafQ4rnvDvhMafoF+t5YJ9ruJrl2KsN7h2bGG7EqQPam+DdH1XSr+5guLZo9NWBFtzMI/N3AnKkoeQBjk+tDjHWzHdm5oWsxa9pa31vG0aM7ptfrlWKn+VaNQyQNZ2Ev2C2QuqM0cSkKGbk49snvTdMe8uNNgl1G1FpcuuZIA4fYfTI61DtfQrUq67rlvoGnNeXUc0qKCdsKFjgDJPsMd6vwyCaFJV6OoYZ96zPFdpd3nhm+tLG2NxNcQvEqhgMEgjJJ7UjTatbaHataaUZbkMkckDzKu1ejNnkHA5xWjjH2aa3uRd89uhr1la14hs9C+zC73M91KIo0QZPJAz9BkVrhGwMjmuJ8U+E9c1HUJL2wureTc8Ijiki5iVWycNuHfk+uBVUIwlO1R2Qqrko3itToZNZWHxHBpU0RX7TA0sEueGKn5lx6gFT+PtWnWHfaTe3XizRLry18ixinMsuQMswUAAdexNb3lt6VgaDaKd5belHlt6UANop3lt6UeW3pQA2ineW3pR5belADaKd5belHlt6UANop3lt6UeW3pQA2ineW3pR5belADaKd5belHlt6UANop3lt6UeW3pQA2ineW3pR5belADaKd5belHlt6UANop3lt6UeW3pQA2ineW3pR5belADaKd5belHlt6UANqPUP+QPc/8AXJv5VKVK9ai1D/kD3P8A1yb+VXD4kZ1Pgl6FyiiiszUKKKKAOc8G/wDIvS/9fc//AKGa26xPBv8AyL0v/X3P/wChmtuopfAjrx3+9VPVhRRRWhxhRRRQAUUUUAFFFFABRRRQAUUUUAFFFFAGX4h1OfSNJ+1WtubmTz4o/LHo8iqT+AJP4VDq3izSNEulttSuDHMYvOKhC21M43HHQZHWtqub1nw5PqOpancRvGFu9JNigbqrkscn2+YVUbdRO/Q6KORZY1kjO5WAZSO4NUW13T18zdcAeXdLaNx0lbGF/wDHh+dZ0PiCDS7eKxms9Rkkto1jZ4rR2ViABkHHIrIm8Naxc6k72zWyadcapDqRMhYSgKEym3H+x61Sir6kuWmhu2Pi7RtS1MWFpdb52Z1UbCAxT7wB6Ein2fiCG6uNSGQY7FgGCqxfpk5XH5YzWbp/ha5szpBMkRNjc3E0hGfmEm7AH/fQqTRNN1q08S6he30VmtvelSfKmZmXaMDgqM5otHoF2SaT4007UvD0mrzeZawRKWl81SAoBI6456dq1tM1S21a2aez8zarbSJEKEHAPQ/UVz9p4d1CDwpdaHdW9ldwAMsO92AlUsThuPl69Rmk0UXfhPTpI9XF1ciedmghtle58hML8u7GeuTz60OMXewXfU1PFWq3Wh6BPqNnFHKbcbnSQkZX296g8WeKE8M6L9rW3N1cMpaO3VtpYAZY57ADmk1IL4v8MahY2qXFq8sZRWuYGTB7HB6is/XfB114i0uWW5uWtNTaze2CwS5hwfqueeM/SiKjpzA2+ht32rT215pMUNsZEvpdkjD/AJZDbnNWX1eyj1qPSXmAvZYjMkWOqA4J/WprG3NpYQW7yNK0aBS7nJbHc1RltNRbxTBdI1t/Z627I4K/vd+RjB9Kl2uUrmox2ox9BmuY8P8AjvTNZtE82TybryWmePacAKcNg98ZGcV07jcjAdxiuJbwpd2Oj2ADRu1hYXEMgTOXZwuMf981L0Q1qzf0XxXpGvymPTLnzXEYlAKFdyHowz1HvWhf39vpmnzXt7IIreBd8jn+Eetcd4P0PWBHpuo6l9ngNtpQtbeOLOW3bSWfIGMbBxz3rTk0bW9S8AXGla1dW82p3ETI80YIj5PHb0pvQSLUfjDSJbA3kUkzw7wgKwsSxIJGBjkYHWmTeNtCgtLa4a83JchjEEQszbfvDA5yO9ReJ9CvdT06xg09o9tvMHlgeRo1mUKRtJUZ6kH8Ky/D3gm90s2jXUluTCt3uWPJAMzhlxn0AxQM09Y8daRpemLcpcCZprb7TCqqSGTsSR0BJAyatnX1F5pNsdqy36hirZ6bC2FOME8dPSuYbwVrVpp4t9Pks5Hn01bKczM2EK9GXjngnjjtWtqOj6297ojWUdm8WmMHJlmZWc+WUIwFP97NAGgfGGijWDphuv8ASRL5JGw4D4ztJ6ZwKj0jxbaavrd9psMUyPaSBAzRkBsqGz0461nyeE7t/PbzIQ8uqpfZyeFGMjp14NaNhpV/p/irUruPyJLLUHSRiWIkjZYwuAMYIOPUUATaFq0+r3WpOUVbS3uTbwEfeYrw5P8AwLI/CoLTxPGmh3ep60n2GG2uZISWB5USbFb8ePzp/hzTbrSrjVLeZQbZ7tp7dweof5mB+jE/pU/iTSpNZ0N7KFkVmlifL9MLIrH9Fpq3UTv0JdI1yx1yKWTT5S4hfZIrKVZTjPIPsQasT39vbXdtbTSBZbossS/3iFLH9Aawwf8AhHNY1O8uYriePUZkeNbWFpCm2NVO7HTkVBfm78QXGn6jokDRT6dM5Md/G0IcPGVOOD0znpT5VfTYm5cu/GuhWcUUk12SJVd02IWJVGKseOwINT3niCCC40yOF0Yagw8tmyAykE8HGM+1Yej+D76ytYVvJYJJVsbm3crnG+WVnBHtg0/UNB1w2ugwWKWcg0so7tLMy72VSuBhTxz1qrRvYLysabeLLRfFbaGYpvNWFZPMEZIyWK46e3XpVqDxHptzq8mmwSs9xG5R8IdoYDJXd0zjtVWbTNRXxVBq9sLdle1W2uI3cgqA5bcpxz1PBxWV/wAI/qFn4tfWIVjtLRXeW4W2ldzdDbgAx4wG4HIPaklFjbZ2Tbth2Y3Y4z61iaFrkt7Y6jNqixQGwuXhkZG+XCgHdz9afa+Jra7ukgSy1FGc4DS2jqo+pPSs1fCtxOus6deygabqNwbgSQyFZQSFBUjGMfL19+lJK24X7E2heLH1zTdVuo7F4fsUrJGjNkygIGDYxxkN0rX0S+l1PQ7O9uITBLPEHaI/wE9qy/DHhqbQL3VZZb2W5S8nEkYkbOAEVeeBzx+QFWPFl1qtp4cnfw9D52oMVSFdu4Ak4yR6CiXLfQI36m1WNrWuT6Te2MSWLTQ3M6QvPvChCxwOO9a0O/yE87Bk2jdj171ieJ9O1PUls00xbbbBcpcMZnK5KHIHAPWqpKLmlLYmo2oNx3DWNbv9InWV7GN7HzUjMnnYcljjIXH9aqP4wddeNmLRPJF4tmT537zcRndsx938aLzStdvPEEF3OtnNaW4UxQNKwCP/ABPjbyfSqsvhG9fXmuR9m2tfi7F2SfOVR/yzAx0/H8K6oRo29+2xjKVS/um3Y6tNL4n1HSblVHkRxzQMo+8j5GD7gqfzFbFYdjptyPF2parcrtjaGK3txnJZV3Et+JbH4Uvhu51e7bUpNYiEMYvHSzUrtbyhwCfrXCdRt0UUUgCiiigAooooAKKKKACiiigAooooAKKKKACiiigAooooAKUdRSUo6igDFtv+Sj3/AP2DLf8A9GS10Nc9bf8AJR7/AP7Blv8A+jJa6Gsqez9WduL+KP8Ahj+SCiiitDjCiiigAooooAKx7H/katW/65Qfyatisex/5GrVv+uUH8mran8M/T9Uc1b46fr/AO2yNE9TSUp6mkrI6AooooARjtUk9AM1n2Gqadr9vOLY+ckMnlypJGRtYc4INaNcFb339mSeLraSGRrtpGuYoFyplj8tRlSP6UAdrDZWkD74IIo26blUA1YzXk3h9LrUBrNppt6/l/YY7iJojIEWZWzgFic9MGi4v9b1vwlPrwkntYb26ijdBuPkwJhXOAc4Lg5I7UxHqdxa214qC6hjmVGDrvUHafUe9S5GOoxXmSQz/wDCA6hFp+ryXUcl/AsT24ZfIUyIGVSSSRyT+NXvGGk2ujaLZR298beFZ2leG5lkK3B2Y2lhyOefrSGegUVl+GbhrrwzYTPbvbF4gfKkYsV/E8mqOrQ6s+oubNLsxYGDFcqi9PQg0pOxpSh7R2vY6KqN1q9vaapa2DpK890GKBEyABjJJ7DkVatw4toxJnftG7ccnP1rB1GRI/H+keYwXdazhcnqcrxVIzehpW+s29xrdzpSrKlzbxrK29MKysSAQe/INaFczaSI/wATtQCMGK6XAGweh8yTiumpAFFFFABRRRQAUUUUAVbnTLG9mjmu7SGaSLlHkQEr9DRLpdjPeJdzWkMlxH9yVkBZfoatUUAFFFFADXRZYykihlYYKkZBp9pbw28ZW3iSNSckIuKSpYvumgB9FU9YuJLTRbu4gOJIoWZSR0IFefaRrfjXW7VrjT2hkjRtpyoHNdVHCyrQc00ku55+KzCGGqRpOLk2r6K56bRXDaH4x1GLXBpHiWBYZ3OEkAxz2z9fWu3eRI13SMFHqTWdbDzoy5ZddvM2wuLpYqDnDpo09Gn5jqKZFNFMu6KRXHqpzXEeKfEmpp4lt9I0WaKIuBukbnk+9Ohh51p8kdPUMVi6eFp+0lrd2VurZ3VFcjNJ4pgn0yNZ7eVW/wCPpxjB+ft/wHFdY0qIwVnUMegJ61NSk4W1Tv2Ko4hVb+61a2/mOoqMXMLSGNZULj+HdzUhIAyTgVlZo6E09goqOO5hlYrFKjkdQDnFSUNNbgmnsFFIzKiksQAO5pkVzDMSIZUcjrtOaLMLq9iSiuR8da/f6H9g/s+RU852D7lznGP8a6eO6iYIrSp5jKDtzzW0qE4041Okr/gc0MVTnWnRW8bX+ZPRWT4kk1KLR2bRSgut6434xjv1q3pT3L6TbtqBX7SUHmFemaj2f7vnv5eZoqydV0rPRXv0/wCHLdFRLdQPJ5aTIX/uhualJwOeKizW5qmnsFFRLdQPJsSZGb0Dc1geLvFX/COW8IhiWWeckLk8LjHJ/OtKdGdWahFaswr4ilQpOrUeiOkorF8Q3Opf2KkmgvGbgyKCWIxtwc9fwq9YTyDTbX+0HQXLRqZMHgtjnFDptQU7/LqNV06jp2eivfp95copGZUUsxAA6k0gkRk3qwK+ueKyNrodRUcdzDKxWKVHI6gHNSU7NbgmnsFFcP4s8S6lD4httI0WaKJpAN0jc8n+VdPpL3UOmxJq9zDLdHOWQ4DDPGPwroqYaVOnGpJ79OpxUsbTq1p0op+7u+l+xo0U15EjGZGCj1JoaVEUM7qoPQk9a57M7bodRUTXMKOEaVAx6At1qWizBNPYKKiN1AJNhmQP/d3c1m+JNeTw/pLXZj81shVTdjJNXCnOclGK1ZnUrU6UHUm9Fua9FYkepXeoeExeWRjF7JCHUZ4VjU3h2TUZdJRtZKG53HOzGMdulVKi4xbb2drdTOGIjOcYxT1V79P+HNWionuoI3CPMisexapMjbnPHrWVmdCaewtFRm5hCFzKgUdTnpTo5ElXdGwZfUHNFmHMmOooopDCiiigCKX7wqDUP+QPc/8AXJv5VPL94VBqH/IHuf8Ark38quHxIzq/BL0LlFFFQaBRRRQBzng3/kXpf+vuf/0M1t1ieDf+Rel/6+5//QzW3UUvgR147/eqnqwooorQ4wooooAKKKKACiiigAooooAR9wRtgBbHAJ71k+HdZl1m1uGurdbee2uHgkRH3jKnqDgfyrWdtiMxBIUZwBzXI+FbVrZda1y5iuIGubiSRYpQUGxRgHZ2J29etAHX1T1bUF0rR7u/dd4toXl25xu2gnH6VU8L6peaz4dt7/UbQWk0+5vKznC7jtP4jB/GofGWktrHhS/tovNM3ku0SRvje4BwD6gnsaGCEl8QzWHha31bU7VVeZ4VMUL7tvmOqryQP7wJ4qW78Uafp+vf2ZfzJbMbdZ1klcKrbmK7frxU+iyrf6BaNNbvGfLUNFNFsKsvH3T05FYXiLw3PqmsapcLbRyrNorWkDMR/rSznHt1HNWuW9mTrY6GfWdMt7uO1uL2COeXGyNnAZs9MCnHV9PXUBYG8hF2ekO8bvyrz7XvDniO+BtktpJk2WwhKTKkabMb946k5Bx+Fab6RqVn4w+3WNvLBbPMsl48sitDIoQAsB94Nxj8Krkj3FzPsd1WTouttqs1/DNam2lsZ/JdS4YH5Q2QfowpsHi3Qrm5SCDU4HlkYIqBuST2rI/sXVG1LxBZqGt7bVmMkV9GwJiJjVSCvBz8v61Kjvcd+xq6L4ostduNQjsVkK2MmxpGGFk46r6j3qXSdettT8Nw6zJ/otvJGZD5pxsAJHJ/Csbwj4b1HQtY1I3dxFJaSLGsIjhCZ2rjpk4rZ8QWjTeGL21tLCG8ZoGVLSQ7UlOPun0BonyrYI3e5pxyJLGskTBkYZVh0IrK1fXxpeoWtklpNdT3KO6rFt4C4znJH94Ve06NotMto3hWBljUGJDkJx0FY2t+Hl1nxPps93bpPZ28Myybj0Ztm3j8DV0lDn9/bX8iZuXL7u+hp/21ZReSl7PHazzKCIZXAYZ7Ux9WaLxFDpj2xCzwvLHMG4O3GRj/AIEK5bxVoOr3kl3a6fbM9q1skVsscoRUIznf3PbFb2o2l6muaXf21v8AaFgikhlUOARv2/Nz1+7Wvs6aSd97/loRzyu1baxpjVLFr42S3URuR1iDDcPwpsWqWVzcS21rdQy3EY+aNXBI+tc3FpOpQ+KnmsoJILSaeSS48x1ZGyPvL3BPpVfwz4cn0u6tPt1pceZZI4+0eeCjZ6kL1564NDo01Fvm6B7Sd7W6m9oms3Wq6XeSS2scN5aXEtu0Ql3IWQ4zux0P0pml69dal4Vl1NbNVuYzIv2cSZBZGIxux3x6Vn+FrVo11nWp4LuJru7ldIGUrmP+E+X/AHjjr1NO8NfaLHwLPJLZziUvcSLAUIkIZ2KjHqciuTobnQaVqMWraTa6hb/6q5iWVc9gRmrdcgJ73wb8M7Ux232m/t4IkEA/ikJAI4+prrIGka3jaZQkhUFlBzg9xTEPooopDCiiigAooooAKKKKACiiigAooooAKKKKACiiigAooooAKKKKACiiigAooooAKKKKACiiigAooooAKKKKACiiigAooooAKKKKACiiigApR1FJSjqKAMW2/wCSj3//AGDLf/0ZLXQ1z1t/yUe//wCwZb/+jJa6Gsqez9WduL+KP+GP5IKKKK0OMKKKKACiiigArHsf+Rq1b/rlB/Jq2Kx7H/katW/65Qfyatqfwz9P1RzVvjp+v/tsjRPU0lKeppKyOgKKKKACjA9KKKAK97YxX9jLazb1jlG1jGxRsfUUWVjb6dYxWdnEI4IVCIg7AVYooAQKAMADFBAPUZpaKACiiigAqGaztriaKaeCOSSE5jdlBKH2PapqKAIYrO2huZbiGCNJpseZIqgM+PU96moooAKKKKACiiigAooooAKKKKACiiigAqWL7pqKpYvumgCj4h/5FvUP+vd/5VzXwu/5F24/6+D/ACFdTrUEl1od5BAu6SSFlVfUkV59oVt4y8P2b21lpaFHfeTJgnP516eHiqmFnT5kndbux4ONnKjj6dblbSi1orkvxEwvivSGi/1uBnHX7wxUPi3U47/xounancSQ6bbgb1jySx256fXitPSPC+r6n4hTWPFDKDFzHEDnkdPoBUniTw/qVv4nj17RIVuGwPNhY9eMfyrtp1aMJQpOSbjF69Lvz/U8ytQxFSFSuotRnOLtbXlXdfoc/ZX1ppHi61/4R2ad7G4ISaOQHjPH/wBek1Xw7aL8RIdNDS+TcHe53fNkgng102lL4l1LXEuL23TTbFB80WAS1JqWiahP8R7TUorctaRgbpMjj5SKpYhRqv3knyvrfXpd6akvBOdBe62vaKy5WrLrZXbszI8XWq6f4o8PWsDN5cSooyeSN9P+IIlk8YaTFBK0TyIqhx/DlyM1p+LtD1DUfFWk3VnbmSGDb5jgj5fnz/Kl8WaHqGoeLtKu7O3MkEG3zHBHy4fP8qzo1oXpScl8MrmuJw1RxxEYxdnKFtHsrbGB4y8PQ+GY7G/06eYTtLtdmfJJxnNaPj3WrhdN0uzSZolu41knZepHH/161fiDo99rGmWkWnQGZ45tzAEDAx71F4p8MXeqaRp0tiAL2yRfkJ64A4/MUqNeE1RlWd2m/wDgXHiMJVpvE08NFpNRtbr3scdqMmlaWtpd+GLm6+2RsPM3qcMPX/61euWNwbrT7ecjBkjViPqK4gP4u1Oa3gTT49OWMjzZiAQ34V3kSlIkVjuKgAnHWubHzUoxT1evW7/I7sopOE6kopqLtpyuKv5Jtv1PPvFtxc614wtfD8czQ23Bk2n7x6n9KqeJvDy+DUtdU0S5mRlkCurtnNbfizw3qEusW+t6Fg3UON0ZON2O/wDSs29sPE/i+e3ttUtFsbSJ9znPX1NdlCpFRpuMkoJe8vP06nm4qhNzrKdOTqN+41eyXTXpbqQ/EO5N9pOh3K/KZgWHsSFp/iLwfBp3hv8AtSC5na+iCu8rP97P8q0fHHhy91G00u20qAyJb5ViCBtGAB/KqOqQeMNS05dEmsY9nAe5VuHAp0an7ul7OaSTd1fpcWKofv67q03JtRUWk/it/n1E1vUZtS+FFvczsTKZEVm9SDjNLrWr3Gm/DXS47WRo5LlApcHkKOtWPFumpo3w2hsA4Zo3QE+pzk1NP4ffxB8OdOhtyBcRRK8e7ofUVMJUVGEn8POy6lPEOpUpx+P2Ufvvqcjdx6LbaPDPpN3df2rGVYttIDHv9K3fE3iS9l8G6SqO0c18pEzDg/LgEfjmpVfxhNZw6fFpiW8keA10SOQK1/FHha51nw9axpKsl9ajIYjaHJ6/ToKuVamqlP2rT1et7/ptcyp4as6FX6umrxStyuOt9d27u10UZfhxFHa28mmXskN6hBaVm4PrgVj/ABG0sW0mn3U0rS3My+XK3QHbjkDt1q/M3jbVLaHT2tfsZRhvuVfaTj3FXPGvhvUL/RdPWz3Xc1pkOSfmfIHP6VNGrOnXg61RPf7vU0xGHpVcJVWHoyWkd01qn0Xe19Sr4x0mDQvAMdrZvIU+1q+XbJyQaj8Raa9z8PtJ1CDPm2cKMSOu0gZ/UCreuWuu+IfBKRXGn+Xei5U+UpA+QA88/Wul07TifCttp99Hg/ZlikQ9jtwRWHt3RhCTd5KTudP1RYirUhGLUHBJaWs76fccd4m8SNqfg/Tbe2bNxqBAkC9fl4I/MiofF8smh6RpWgwytFG6ZuHXq3TP6k0vhjwVqNp4oSTUYiLS0LNExIIY54wP1rf8b+G7nWI7a803Bu7VshScbh1/pW6qYelWhSi046u/m9vuOV0cZiMNVrzi1OyjbrZW5vvOK1CTStKktLvwvdXX2mNwJA6n5h6//W969as5/tdhDORjzYw+PTIzXErJ4u1S5t4lsI9NRD+9lIBDfhXdouyNVJzgYz61x4+alGKerV+t389D08ppOE6kopqLtpyuKv5Jtv1PKNc8P2ifEK3sA0nlXTB3O7kE5JxV3xhZppmueH7S3ZvLiAUbjk/fFbGsaJqFz8Q7HUYbctaxBd8mRxwaXx5oGoalNZX+lx+bLanlM8nnOf0rshiU6lFSlpyu/rrueZVwTjSxDhT151bTomnoR/FIkaBZ4OP9KH/oLVT8eMw8C6MVJB3Rf+ijUXiCw8U+JtNha409YRC4IhVvmY4Pze3/ANetTxdomoaj4S0u0s7cyTwtGZEBHy4jIP61NFwpexjKSum76mmJVTEPE1IQlaUY20epja34Vhg8FrrMlxNJfCOORnZuDuI4x7Z/StCXX7u2+FlvdrI32mUeUJM8j5iM/kK2td027u/ALWFvEXufIiXy89wVz/I1StPDE958OotIvF8i6UMygn7rbiRWaxEJ04us72n+FvyNZYSpSrTWHi1el/5Nfv3MvTfAMGpeG4rxrqUX86+YJS3AJ5pnjTRJLXwhay3901zdWpEYkHAYE96IR40tNI/sWKxGANiXKtyq59a1dV8N6lceAxYPO13fqRIS7Zyc9AT7Vr7WcK0ZTqJrm09P0RgsPSqYacKVGSlya3utV5dXfqUrTRrfTPhxdXVu0hku7YO+5sgH2qLR9Vl0j4Vy3cB/ehiqH0JbGf1q3p9vrt14NvNLvdP8po4BHBzy5qxo3hmebwDJo+pIYJZCSAecHOQfzqJ1IJP2rT99PvoaU6NRyj9Xi4/u2lo171/8zI0HwPBrmgLqWoXUxu7oMysG+7yQM+vSrXgbVbqax1PS7uQy/Y1OxycnHIx+lV7EeMtB086VbWCzxrkRTA52g1teFPDE2i6VdyXZDXt2CXAOQPQfnVYip7k/aSTTa5bdNfw0JwdFqrS9jTcWk+dtNX0/HU5bwT4fi8QQ3i6hNMbaKT5YkbALHv8AoK0PADS2PijVNKErPBFnAJ7hsZrW8AaNf6PbXq6jAYTJLuUEg5H4VD4a0PULHxrqd7dW5jt5t3luSPmy2adfEKbrQclayt6+ROEwcqUcLUUGpXfNvtrv5Ha0Vz+jza++v3iapEFsAT5DYHPPH6V0FeHUp+zdrp+h9VRqqrHmSa9dAooorM2IpfvCoNQ/5A9z/wBcm/lU8v3hUGof8ge5/wCuTfyq4fEjOr8EvQuUUUVBoFFFFAHOeDf+Rel/6+5//QzW3WJ4N/5F6X/r7n/9DNbdRS+BHXjv96qerCiiitDjCiiigAooooAKzbzWUsdasdPmgl/05mSKYAbd4UttPOeintWlXI+MB9u17w9p1rcvb3X2tpjLEMvEgifJ9MH7vPrQB11FY0mvLD4sttAWCSWSS1Nw846IAcc/U1snkelAGbDrC3GvXGmQ28rG1VTLNxsUsMgdck49qi/4SbTvsOoXe9/K0+Uwznb0YY6evWsjw2P7O8Ya7Y3l29xcTSRzRvKMM6bAMDHGF6cVb8U6LG3hDVrbTbQeZdjc6RLzIxIyfriqjZ7idzejuoJIfNSVCmOTuHFO8+LyvM8xNn97dxXmuoaLPpFvqtppmj7tPmNqzRiDzF7B2CfxEYBxVO10eZ/CN7b3ttfxWy6oJbaL7EGBTYp5hB+4WzwO9aezXcnmZ6wrK6hkIYHoQetZ+oa1b6Ze2ltcxzZu38uORUyob0J7Vn+Fbv7P4Ys01OGDTZsNi3GEAXccHb2yMHHbNReLS81ppt7ZRPeR2l6ksi243tt6Egd8ZqOX3rDvpcu6j4q07StQW0vvtEZZlTzvJYxKWOAC/Qc1cbVbUaymlkt9pkgM6jHGzOOtcf42kl1kW1pY2mqm5WWGSOMREW8nzBv3h6YHf0xXaJYwG7jvXhT7UsXleZjkL1Iz6ZptJJNhdt2JgIy5C7Sy9QO1NubiO0tZbic4jiQu5x0AGTWHpEESeMNbkTT7mB3EW65kYmOfj+Edsd609ciebw/fxRKXd7d1VR1JKnipirtJjeiIdL8Q2er7jarOqqobfNEUUg+hPWrF/qcFhpsl64eaGIbm8kbiB3Nc1PpM9h4GKQx3F5NJFGskFwxlCj+LCE9h29qq+HtNuzomv2kdvNFFOCLZZYREGymCQo4HNdbo03eSeiZzqpPRNas7WO6iktUuNwWORQwLccGntNGihmkUK3Qk9a4vVFXU/C9gJ7S8ja2kAML2nmhmC/xJnleetZuo6XeXcGkSapZSw2i2hQ29vbiUQyE/3M8cdD2pRw8XvK2rB1muh291rKWmt2mnywS4vA3lTDBTcBkqec9PaiTWUi8RwaRJBKHuIXmjl42EKRkdc5+Ydq5fVLdp7jwxpFve3Ed3G3mtOV/fIgU8sOQM9Oa0ryRG+JOkQq+94bG5MnH3cmPGfrg1ytJOx0J3RtQ6tBNrVzpmGW4t40kIYcMrZwR+VXq5qON7n4lSzxoRFZ2AikfHDM7ZA/AL+tXtH19dY1TVbSK3dF06cQGY/dkbGTj6UhmvRRRSAKKKKACiiigAooooAKKKKACiiigAooooAKKKKACiiigAooooAKKKKACiiigAooooAKKKKACiiigAooooAKKKKACiiigAooooAKKKKACiiigAooooAKUdRSUo6igDFtv+Sj3/AP2DLf8A9GS10Nc9bf8AJR7/AP7Blv8A+jJa6Gsqez9WduL+KP8Ahj+SCiiitDjCiiigAooooAKx7H/katW/65Qfyatisex/5GrVv+uUH8mran8M/T9Uc1b46fr/AO2yNE9TSUp6mkrI6AooooAKKR92xtmN2OM9M1yOmXuoW6avql+yyiB5EVFlbAIIwADwB71LlZm1Oi6ibT2t+J19Fc9b65fxi7j1G3hE0Vn9rj8pyVIx0OR1zV3RLrUr21S51GGCJJo1eNYnLEZ5wcihSTHOhOCbdvvNSisvxLPdWvhu+nsQhkjhd/mcrwAScEdDjpU2iTm50GwnbOZLaNzubceVB696owL1FZHiS5ntNPjkhAKefEsnzlWwXUcY+tUtY17ULK/uYbK3gkitLUXMjSOQSMkEDj0FS5Jbm9PDzqJOPX/gf5nSUUyCTzreOUDG9A35isG51bWJfE02maXbWrRQRJLJJNIQTuJGAAD6VrCDnsc0ny7nQ0VyEXjC4PiKKzaOCW2muGgDxb/lIHqRg+4FR2XjDUT9nudRtIEs7lZzH5TkuPKyeRjvitvq1S39f10M/bQvY7OiuLHjHUrNHm1SztxEbB72MQyEtx0U5H05qfR/FOo3iXf22w2eVbefG6I4Unn5DuA56UpYepGLk9kONaEmoo60EHoc0Vw1prF7o3w20q+tES9vb6WIHznIDPK/JJwfWt3wzrF5qi38GpxRR3VjdGB/JYlWG1WBGf8AerCxobmcdaK53xzuj8KXNzFLLDLAA6PFIVIOR6dar+KvE11ojWsNh9mkmkiaQxyB2YhcdAqnjnqaQzqqK4dviC8NhFeXFmEiutMF5agNkyPwGj+vzLj61W1Hx9q9rqk1pbaSJ2so4jcoiuzO7DJVCFIGB69adgPQaK5a713XJ/FU+k6NZ2jRW9vFPJLcyMp+ct8oAB/u9aitPFl5N4yl0m6jtrSNZ2iijlLCSZQOHU42nPpnpQB1wIPQ1LF901y2kyvB461yxVi0DRwXKqT9xmDBvz2g1paPe6lc3GoLqNrHbxw3BS2aOTd5kfZj6H2pAbVFQ729aN7etAyaiod7etG9vWgCaiod7etG9vWgCaiod7etG9vWgCaiod7etG9vWgCaiod7etG9vWgCaiod7etG9vWgCaiod7etG9vWgDmvEXgo+IdUW5m1CSOIKF8oJkDH4+9dLaWsdlZxW0AxHEgRfoKN7etG9vWtp1qk4KEnotjlp4WjSqSqwXvS3ZNRUO9vWje3rWJ1E1FQ729aN7etAE1FQ729aN7etAE1FQ729aN7etAE1FQ729aN7etAE1FQ729aN7etAE1FQ729aN7etAE1FQ729aN7etAE1FQ729aN7etAE1FQ729aN7etAE1FQ729aN7etAE1FQ729aN7etAE1FQ729aN7etAE1FQ729aN7etACy/eFQah/yB7n/rk38qlJJ61FqH/IHuf+uTfyqofEjOp8EvQuUUUVBoFFFFAHOeDf8AkXpf+vuf/wBDNbdYng3/AJF6X/r7n/8AQzW3UUvgR147/eqnqwooorQ4wqC9u0sbKW6mV2SJdzCNCzY9gOtT1DeOkdjO8pCoI2yScdqAG2F9b6np8F7Zv5kE6B42xjIIyKsVxfg6+fRfhtFqWqyg2cMHmxKifNHF2BP8Rxj0rrbC8j1DT7e8gDCK4jWRAwwcEZGR+NNiItV1W10awa8vnZYlIX5VLEknAAA6kk0ralaRm085/Ke8O2FHGGY7S2MeuAfyrnfHouFtdOmMqCxjvoTcRkYZvnGCG7YODXQXemWmo3FldTrvezl86Bg3AYqVz78MaFbqDHQTWM+oXPkGNrqHbFMQPmXjcFJ+hz+NW8jOM815pqNlcQa/4g1a2mu45otSsljWORgjKViVsqOG4J/KqyazeN46tDbyzQs+pSwTWxllc+WFcbmU/KoOARj2rRU77EuVtz1P5S3bNNmmS3heWU7UQFmOM4FcF4RvZY/F11aTXL6huWWQ3S3EhVB5nCvGw2qQOBj0rvtytwGBP1qJR5Sk7lBdf0ttIXVPtsYsmJAmY4GQduPzGKfHrWmy6XJqUV5E9nGpZ5lbKqB1zXGaV4gsdB8D3P26Fpbmyu5s2xjJYO87lO3Q5Bz6Vo+E9LsNR8K38MsyXQ1KV3vBCCqqzjlF6dBgZ/GrcErsnmehvXWi6LrJju73TrS8ZkGyWaFXO3qOSOnNW7KxtNOtxb2FtFbQg5EcSBVH4CsHxX9nsNDsImub20iS6gjRrMEsfmACn/ZPQ+1dIPuj6VF3YqxRu9c0yxuvs95ewwzYDbGbnB71eDBgMHORkVybadcXfj+9kiuntkS1hziJWD/M3GT/AErHv9Sul8Xp9nlliddRigaHzJGLxnaGbb90Lg11LDqdlF62uYOq43bXU7u21O0vLqe2t5g81vjzEwQVz0/lVrIPSucSdLXxxfLOxjNzaReSdpwxBfOPpXN6bfajFZ6vb2U0l9eLZvJHdpK7Atk4BRhhW9h6VKw/NqvL8SnVtv5noF7eR2NnLcyq7pGMsI1LN+AHWqcniHT4/Do1sSPJYmPzfMjQsdvrjrXO+E5TG11LNqwubf7OpkjZ3Oxuckl+hPp7VS0fz4fgvcPdzR+S9hKbdcYKIQ2AT3PvxWNWHs5OJcJc6TO1uNXs7TT4r2eTZbysiq+DgbjgZ9OtXQcjIrkfEhX/AIVTcRkZeaxEUS9zIy4UD3yRWvf63baDZ6eNRLl7qWO2TYMku39KgpbXNbAznHPrS4Gc45o60Uhhio4beG3DiCJI97l32Ljcx6k+9SUUAFFFFABRRRQAUUUUAFFFFABRRRQAUUUUAFFFFABRRRQAUUUUAFFFFABRRRQAUUUUAFFFFABRRRQAUUUUAFFFFABRRRQAUUUUAFFFFABRRRQAUUUUAFFFFABSjqKSlHUUAYtt/wAlHv8A/sGW/wD6Mlroa562/wCSj3//AGDLf/0ZLXQ1lT2fqztxfxR/wx/JBRRRWhxhRRRQAUUUUAFY9j/yNWrf9coP5NWxWPY/8jVq3/XKD+TVtT+Gfp+qOat8dP1/9tkaJ6mkpT1NJWR0BRRRQAVSTSbVLW6t9haO6ZmlBPUt1q7RRZMpSa2ZlWnh6ztIp0DTSmeLyWeWQswTGNoJ6CtGCFLe3jhj+5GoRc+gGKkopJJDlUnP4ncoazpEWt6e9ncTXEMT5DmCQoWBGCCR2o0fSYtF09LO3muJokwFM8hcqAMAAntxVfxRNdWvhq+urC4+zzW8Lyq2wNnaCcYP0qC98RNpehWN5LayXL3ESltjouCVyT8xFMgvaro8OsRpHcyzoikNtikK5IOQT9CKYdAtGWYSNLIZ7f7PIzuSWTJPX15NUbTxppt3Hby4kiiuLR7pJJAAMISHXr1GKzr74k6dZeV/otxIzWwu5VG0GKIk4JywycDOBk0uVGiq1FHlT0OwijWGFI0+6ihR9BVeLT4IdSmvkB86dFRznjCk4/max77xdHb6ja2Njp13qE9zai7QQBcCMnGSWIxSw+LI7jxDJpUFjcM8DKk0hKARllDdC2TwRyBVK62MnruPi8H6dDqEd0r3H7qYzRRGY+WjHqQvvmrKeHLCOG0iWNilp5nlKzZHz53Z9etatcvD45tW1g6fc2k9vIVkaMsyNv2DJHysSOPWtHWqPdkqnFbIqaN4Mlh1GeXVFQ2zWzWyQCdpQUY8j5gNo9hXQ6bokOmbwlzdTqyhQtxMXCgdgDWFbfEO0ltJLm40+8tYvsb3kBlVf38afe24J59jjrT0+IFjHZ3dxqdnd2H2a3W5EcyrukjYkKRgnnIxg1VStUqbsmNOMdjSt/C9lDoltpbtJJb2lws8AzgoVfco9wDUVxpOo2F1cT+HPsoa8lM1z9qZjlsADbj2FZqfEexNjcStZXXnwSxRm3TYzN5pwhBDYOSD3qwPHETWZ26ddm++1mz+xYXfvADdc4xg5zmsdTU0E0691XSLqx8TrbOk42YtSw+X6nkGqtz4J0+7S3866v8AzII2i80XTB5EY5Kse44rJXxTqF54GuL1Q1veT37WUG9QGhLPtXI6ZGa1PEev32gyaTBaWEt6Lq5SB5MrzkHgZI+bj6UAVrzwYJ7zQbOKOFdJ0YrJGWctKzKMBemMdCTntWne+FbO81N79Li8tZpAol+zXDRiXb03AdaZqvif+zJrC2/s26uLu+RmjgiC5XbjO4k4HX1pL/XJ4NQ0aFre4tlvpQrFkVgDtJ2H5uDx1GelAjTi0u3h1a41FA32i4jSOQk8bUzjj/gRqh/witk2uJqc893PJFKZoopZ2aOJzkZVe3BI/Gq+o+MbfTNcjsLq0mVJJViE4ZMbm6cbt2O2cU+1vr1fHd3p01z5tr9lWeNCgBQliMZHWkM0LHSYrLUr++3tJPeupdmH3VUYVR7DJ/Ok0rQ7TR576W08zdfXBuJt75+c9cegrQdgiMx6KMmua03xrBqWn3V+ljcR2kETSiRih3gHpgNkH2OKAOmornr7xlYafC0k8cxAtFugFUEsGYKFHPXJFVV8dwLBffatNvLe6s5IojasFLyPJyoXDY/WgDq6K5GT4hWUFjNLdWN1Bcx3YsxbPsDNIV3YB3YxgE5zS/8ACwbFtKtrqK1nea4umtBb5QFZFBJyxbbjCnnPPFMDraK5XXfFV9p0OkSWmlTSfbp1jdSUymQTt+914+ldNBI0tukkkTRMwBKNjK+xxxQBJRWLq+ryWWu6TZhJVjvJmQyBVKsQjNtPOR0zkCqN144gtdZuLI6fdvFa3MVtPdKF8tHkC7e+T94dqQHUUVzFj4lv7rxhe6U+lTLBbqhEuV4znk/N0OOO9WdIv7nUfFGtBpCLWxdLaOL1bYHZv/HwPwoA3qKwotR1Gxk1+71eIixs28y12gZeJYlZv/Ht3Wm6D4qTXLxrZrC6s3NulzGJwv7yNjgEYJ7joarlYrm/RVLVdUi0i1jnuFZleeOEBRzl3Cj9TWTqHjK1sWuUW0ubiWC8Sz8uJRl5HUEYyRx8woUW9gukdHRXMXPisyeEL7VILS5hktfMSWMqpeBlHJI3YOOvXmna74jvNKg0prOwlvBeTRozLtHDduSOf0o5XewuZHS0Vz2p+LF027tLNtPuJbu5iMvkqyAoB1ySwBPPQGugVtyBsYyM4pNNK47i0Vz9ze3tt48sLIXO6zu7aZzCUHysmzBB6/xGmSX0moeN4rK1vXWC0hMk8cR4L54Vj9AeKuNNy+65MpKJ0dFc7p9+1p4v1DS7y8Z1kSOa1SXrzu3AewwKu6XJqj6tqi6jHttUmUWZwPmTbz+vrRKDi/lcIyTNWiorqZ4LSSWKJpnRSRGmMt7DPFcXoHi6/Ph261rW4bgo82y3gSNBuJYqEXDZJ6dcVmWdzRXMt42toNE1G/vbK5t5dNdVuLVgpkG7G3GDgg59aral4+Gk2yS32iahEzq8gjITdsXGW+9/tDjrQB19Fco3jqIaUt4umXOfNkikjZ41MbIcEHLYP4ZqK88azmTQZdJ02a6tdUYfP8oOCjNgZYc8fSmB2FFc9qup3R8RaJpluWt/tO+4n6Z2IPuf99MPyqbUNXktvFGm6dtljjud/wA+xSshCk4znIx16UgNuisE6lPbePV02SQvb3lkZ41P/LN0YKQPYhs/hW9QAUU2UuIX8oAybTtDHgntmsTwzqWo30mpQ6t5JmtLgRjyQduCgbv9atQbi5diXJJpdzdooqhrUt9DpU0ml+T56KWBmztAHJ6dalK7sNuyuX6KwIbzUb/wxZX0d5BZu0PmzyPHuGMdhnisO58W6jHpOkTXMsVj9s87zJzCXzsztIXrhgAfxreOHnJ2Xp+f+Rk60Urs7uiuQvNdv08NaJrRcIZLmKO4iX7siyOI8/huDVo69qFzpmtaNLHIfstzObaaPHXcvyt+BH61jKLi7P0NU7q6N6iiipGFFFFABRRRQAVHqH/IHuf+uTfyqSo9Q/5A9z/1yb+VXD4kZ1Pgl6MuUUUVmahRRRQBzng3/kXpf+vuf/0M1t1ieDf+Rel/6+5//QzW3UUvgR147/eqnqytFqVnPfS2UVxG1zCAZIgfmUHvirNchetcJ8U7L7DHG5bT3FxvO3au9cEYzk9eP1rr606HGFR3FtDd27wXUSTQuMNHIoZWHuDUlFAFS70uyvdMbTrm3RrRlCmEDC4HQYHbirSIsaKiAKqjAA7ClooAiubWC9t2gu4Y54X+9HIoZT9QafHGkMSxxKqIgCqqjAAHYU6igAwPSk2rnOBn1paKAILqzhvLWS3mU7JBhtjFSfxHNULDwzp2m3a3Nqs4kUEDfcO459icVrUU7tCsmIVU9QKAoXoMUtFIYEA9RmiiigApNoznAz60tFABgHqKQKB0AFLRQBDcWlvdW7wXMEc0Mgw8bqCrfUGmzafZ3Fl9jntYZLbAHkvGCmB046VYooAie2gkjSN4UZIyGRSoIUjoR9KjutOtby4tprmFZJLV/MhLfwNjGas0UAFFFFABRRRQAUUUUAFFFFABRRRQAUUUUAFFFFABRRRQAUUUUAFFFFABRRRQAUUUUAFFFFABRRRQAUUUUAFFFFABRRRQAUUUUAFFFFABRRRQAUUUUAFFFFABRRRQAUUUUAFKOopKUdRQBi23/JR7/wD7Blv/AOjJa6Guetv+Sj3/AP2DLf8A9GS10NZU9n6s7cX8Uf8ADH8kFFFFaHGFFFFABRRRQAVj2P8AyNWrf9coP5NWxWPY/wDI1at/1yg/k1bU/hn6fqjmrfHT9f8A22RonqaSlPU0lZHQFFFFABRRRQAUUUUAVtSsU1LS7mxmJVLiJomK9QGGP61zN34Nvbu001ZtVikn0/csby2ispUrt+6TjcPWuvooA861nwVM2jaF4dtlnnFvcGSa+UBFWJmYyKRn+JWIwB3rc1Lwb52sHUdMuYbeSS3W3kSa2WZdq52kA9DzXU0UxGXFooj8QJqhmyy2QtPLC4Bwxbd+vSsvUPCD6j4mg1Sa6hVIJllQJaqJfl/h8zOdua6iikMyLXR7qDxFf6hLqc01vdRqsdo33ISOpHPeuZtvh5Lp80M6X6zLZxziGJbZUaQyA/fbOSeetd7RQB5tH4M1U+C5Gvrl7m7h0ia1tbQRhTGXXkE5+Y8AfhWmngOXUdPnGu6k1zPNaR28bCIL5IQlgcdCcnn6V21FO4jlU8ITyWiRXt7ATHcwTqbe0WL/AFbbsHB5z+lFz4Nka9nvrLUDBdtffbInMQYJ8gQqRnkECuqoouM5X/hD5k8H3Gl/bvPvGuGu47l02gS7twJA7A1pa1os2s2NmFufst1aTpcRyKu9Q6g8YOMjk1sUUAZbaO8ur6dqNxc75rOGSJgEwJC+3J9vu9Peqev6BqOr6lY3FrqaWqWUomjja3D5fBHJyOMN0roKKQHF3fgGS71aW6Ooosc12l3IPsymQsuPl35yF46Vt3OhzP4oh1i0vPJIi8meJowwkTORg9j15rZopgZNhpF1Z6xqd5Nqc1xFeFTDbuPlt8A52898/pWLZ+BPLvr66u7uJmu7V7ZhbWywhtxBLtg/M3HX612FFIDg7nwLcjTbt9Q1KbUJfsSW8SQQqjLsYMpGTgnIHWs610LWL3T9b1PU0vPtU09vLa4hRZd0QxnZu2456E8jNem0U7gedaR4P1DVrC5u9Wka3vX1H7ZbtPApIwmz5owSMEE8Z9K3bvwrdXegrYSXVizGQvJusEMbAg4ATPBGetdRRQBzB8HbPDGm6XbX8iTadIssNwyBvmGeq+mCRirNxq+r2Mv2caJdagUUZuYWiRZDjkgF8jmt6igDmNS0fVdeuNNv0uxphtJDMttLAsjK5VlOSGx0Y0+48Ii5i1EPeHdfXcF0xCfdMWzjr32frXSUUgMY6HPF4nfVrS98pJ41juIGiDb9ucEHPHWnafpEun+ItSvI3Q2t/skZP4llACk/QqF/KteigCrqlkNS0m7sWfyxcwPCXAzt3KRn9ax5NMm0a4g1Gzgm1CWGxSyFvFtUsA2d2WIH4V0VFNOwjl7tdQ8U2Mlhc6bdaQVZJormUxuA6OGXhWOeRTLPwZNHLJPe6mbm4l1CO+dhEFGVVV2gZ6fLXV0VXO1sLlXU5q+8K3E+i6rp9pqAgGpzSPK7Q78K6hSoGfbrUtz4evLzQ7S0m1JRd2cyTRXCwADKdAVzz+ddBRS5mOyOX8R+E7rxHYx21ze2+PKKSO9mrMGPV0JOUNWJNW1PT3+yW/h+9u4oQEWcSxYkAHXlwa6CinzO1mLl6mFe6RcapfaZq8EzafeWqOrRyIJMq+3cp5xn5RyDTrjSrpPFVvqlmIDGYTDOGJVsZByMDnvwa26KcZuOwOKe5jadpdxH4g1DU70Q5uFjjhCEkqq7uSSO+7p7VskZBFFFTKTk7sIxUdjJ0DSLrSLCa3vdSm1B5JnkEsvVVPRep4FUT4RA8Jro8d4ySRS+dFcBBlHD7gcd66SipKOVbwbJc6VqkN/qHm3epyI806xBQAhG0Bc+g/WrfiTwuviFgXuTDi2lt+Fz98qc/ht/Wt+incDirv4ftLdC4ttQRJPMuG/fWyyKBMwJwCeCMcGrieDnt9C0Wys9RMdxpDBop2iDB/lKnK57hj3rqaKAMXUdGnudU0nUYZU+0WTFZSwwJI2XDAehzg/hVfWPD+o6jr9lqNvqkdulmxaKI2wfkrg5OR610VFIDITR5H8WNq9yyFYrX7PbqOoywZyfxAFQ6VbawPFes3d/Kw09/LSyg3ZAwo3N7ZOa3aKYCMCVIU4OOD6VgaXomo6TPqVy+oLdtd5k8oQhPn2gDnPoK6CiqU3FNLqS4ptN9DG8J2mqWfh2CPXrgz3zFnkJOduWJC574BA/Cr+p2095p01vazi3kkXb5hTdgHrx9KtUVKdncdtLHJzeEb+bw7a6U2sfu7dwSfs4xIg6KwzyM/nVu58PX032K4TUo0vbVHj8z7ONjK3bbnjHFdDRW31io/8Ahl1M/ZQRzMvhRv7I0nSopw1paXK3Fwzj5pCreYAB/v4/Cr+q6PJqes6XM7qLWxkaZk7u+3C/gMk1r0Vk5OTuzRJJWQUUUVIwooooAKKKKACo9Q/5A9z/ANcm/lUlR6h/yB7n/rk38quHxIzqfBL0ZcooorM1CiiigDitA1yDSNMmtL63vUmW6lbC2crAguSDkKRWh/wl2n/88b7/AMAZv/ia6N/uGoazjGcVZP8AD/gndVxFCrNzlB3f97/7U5WHWNCg1SbUY7S/+1zqFeRrOcnA7DK8D6Vd/wCEu0//AJ433/gDN/8AE1u0VVp9/wAP+CZ8+G/kf/gX/wBqYX/CXaf/AM8b7/wBm/8AiaP+Eu0//njff+AM3/xNbtFFp9/w/wCCHPhv5H/4F/8AamF/wl2n/wDPG+/8AZv/AImj/hLtP/5433/gDN/8TW7RRaff8P8Aghz4b+R/+Bf/AGphf8Jdp/8Azxvv/AGb/wCJo/4S7T/+eN9/4Azf/E1u0UWn3/D/AIIc+G/kf/gX/wBqYX/CXaf/AM8b7/wBm/8AiaP+Eu0//njff+AM3/xNbtFFp9/w/wCCHPhv5H/4F/8AamF/wl2n/wDPG+/8AZv/AImj/hLtP/5433/gDN/8TW7RRaff8P8Aghz4b+R/+Bf/AGphf8Jdp/8Azxvv/AGb/wCJo/4S7T/+eN9/4Azf/E1u0UWn3/D/AIIc+G/kf/gX/wBqYX/CXaf/AM8b7/wBm/8AiaP+Eu0//njff+AM3/xNbtFFp9/w/wCCHPhv5H/4F/8AamF/wl2n/wDPG+/8AZv/AImj/hLtP/5433/gDN/8TW7RRaff8P8Aghz4b+R/+Bf/AGphf8Jdp/8Azxvv/AGb/wCJo/4S7T/+eN9/4Azf/E1u0UWn3/D/AIIc+G/kf/gX/wBqYX/CXaf/AM8b7/wBm/8AiaP+Eu0//njff+AM3/xNbtFFp9/w/wCCHPhv5H/4F/8AamF/wl2n/wDPG+/8AZv/AImj/hLtP/5433/gDN/8TW7RRaff8P8Aghz4b+R/+Bf/AGphf8Jdp/8Azxvv/AGb/wCJo/4S7T/+eN9/4Azf/E1u0UWn3/D/AIIc+G/kf/gX/wBqYX/CXaf/AM8b7/wBm/8AiaP+Eu0//njff+AM3/xNbtFFp9/w/wCCHPhv5H/4F/8AamF/wl2n/wDPG+/8AZv/AImj/hLtP/5433/gDN/8TW7RRaff8P8Aghz4b+R/+Bf/AGphf8Jdp/8Azxvv/AGb/wCJo/4S7T/+eN9/4Azf/E1u0UWn3/D/AIIc+G/kf/gX/wBqYX/CXaf/AM8b7/wBm/8AiaP+Eu0//njff+AM3/xNbtFFp9/w/wCCHPhv5H/4F/8AamF/wl2n/wDPG+/8AZv/AImj/hLtP/5433/gDN/8TW7RRaff8P8Aghz4b+R/+Bf/AGphf8Jdp/8Azxvv/AGb/wCJo/4S7T/+eN9/4Azf/E1u0UWn3/D/AIIc+G/kf/gX/wBqYX/CXaf/AM8b7/wBm/8AiaP+Eu0//njff+AM3/xNbtFFp9/w/wCCHPhv5H/4F/8AamF/wl2n/wDPG+/8AZv/AImj/hLtP/5433/gDN/8TW7RRaff8P8Aghz4b+R/+Bf/AGphf8Jdp/8Azxvv/AGb/wCJo/4S7T/+eN9/4Azf/E1u0UWn3/D/AIIc+G/kf/gX/wBqYX/CXaf/AM8b7/wBm/8AiaP+Eu0//njff+AM3/xNbtFFp9/w/wCCHPhv5H/4F/8AamF/wl2n/wDPG+/8AZv/AImj/hLtP/5433/gDN/8TW7RRaff8P8Aghz4b+R/+Bf/AGphf8Jdp/8Azxvv/AGb/wCJo/4S7T/+eN9/4Azf/E1u0UWn3/D/AIIc+G/kf/gX/wBqYX/CXaf/AM8b7/wBm/8AiaP+Eu0//njff+AM3/xNbtFFp9/w/wCCHPhv5H/4F/8AamF/wl2n/wDPG+/8AZv/AImj/hLtP/5433/gDN/8TW7RRaff8P8Aghz4b+R/+Bf/AGphf8Jdp/8Azxvv/AGb/wCJo/4S7T/+eN9/4Azf/E1u0UWn3/D/AIIc+G/kf/gX/wBqYX/CXaf/AM8b7/wBm/8AiaP+Eu0//njff+AM3/xNbtFFp9/w/wCCHPhv5H/4F/8AamF/wl2n/wDPG+/8AZv/AImj/hLtP/5433/gDN/8TW7RRaff8P8Aghz4b+R/+Bf/AGphf8Jdp/8Azxvv/AGb/wCJo/4S7T/+eN9/4Azf/E1u0UWn3/D/AIIc+G/kf/gX/wBqYX/CXaf/AM8b7/wBm/8AiaP+Eu0//njff+AM3/xNbtFFp9/w/wCCHPhv5H/4F/8AamF/wl2n/wDPG+/8AZv/AImj/hLtP/5433/gDN/8TW7RRaff8P8Aghz4b+R/+Bf/AGphf8Jdp/8Azxvv/AGb/wCJo/4S7T/+eN9/4Azf/E1u0UWn3/D/AIIc+G/kf/gX/wBqYX/CXaf/AM8b7/wBm/8AiaP+Eu0//njff+AM3/xNbtFFp9/w/wCCHPhv5H/4F/8AamF/wl2n/wDPG+/8AZv/AImj/hLtP/5433/gDN/8TW7RRaff8P8Aghz4b+R/+Bf/AGphf8Jdp/8Azxvv/AGb/wCJoHi7T8/6q+/8AZv/AImt2lHUUrT7/h/wQ58N/I//AAL/AO1Od0a7GpeOL+9t4bhLf7BDEHmgePLB5CQNwGeCPzrqaKKcY8qIr1VVndKySS77KwUUUVRgFFFFABRRRQAVj2P/ACNWrf8AXKD+TVsVj2P/ACNWrf8AXKD+TVtT+Gfp+qOat8dP1/8AbZGieppKU9TSVkdAUUUUAFFFQG8hbzRBIk8sYJMUbgt9MZoAnorL0jXoNW0qS+8uS1SOR45EnIBRkYqc4JHUU3QPENv4ht5bizhlSFHKpJJtxJg4yMEnHHfFAGtRQSB1OKAQehzQAUVFNcwWwBuJo4gxwC7Bc/nVT+2bUa2+mEkSpbLdFzjbsLFRz9RQBoUVlz67Hb+ILPS3tps3is0VwNpjJUZI65zj2q+11brOIWnjEp6RlxuP4UAS0VEt1bvMYUnjaUdUDjcPwpDeWyy+UbiISf3C4z+VAE1FRRXVvO7JBPHIy/eCOCRT3dI0LSMqKOpY4AoAdRUK3ds8TSpcRNGv3nDggfU0sdzBKivFNG6scKysCCfagCWio2nhRCzyoqg7SSwAz6VGdQsxGshu4AjHCsZBg/Q0AWKKytR16PTdSsLWW2mdL6UQxzptKKxyQDznse1atABRUJu7ZZhC1xEJScBC43E/Sl+1W/nmDz4/NAyY943Y+lAEtFUbbWtPu5riKC7iZ7Z9kg3dDjP9auNIi43Oo3dMnrQA6ioorq3nVmgnjkVeGKODj61S1HXrHTrF7p5VmSN0RliYMQWYKO/qRQBpUU1ZEcsEdWKnDAHOKytQ8Tabpmt22lXkpS5uYXmj44KpyeaANeisDSPGWla39h+wtIwvllaEsmMiNtrZ9OadrXi2y0PUBaXMF1K/kG4cwRFxHGDgscUAbtFc/ceM9Ojngis47i/aWFZz9liL7I26M3pn061b/t6MeIo9Je1nR5oTLHMcbHAxkdc5Ge4pgatFRC6t2nMKzxmUdYw43flQl1byTNEk8bSL1QOCR+FICWioo7q3mkZIp43dPvKrglfrUFrqUN19pIyiW8nll2I2twDkHPTnH4UAXKKxtD8TWuvQzz2sciW8TELNIVCyYJBI5zjI74q9aajDdaal6+beNgT+9IGMHHPbtQBboqIXUBhEwnjMR6PvG0/jVDVtdttM0xbxP9K8yVIYkhYHe7NgAH6mgDUoqmdSgS/+ySny5PKEmWIAwTjH14qaW5SKWJCCzSNgYI49/pS5kVyS7E1FVL3UbexCeawLM6oEBGcscDii61K3tZYY3YM80qxhVIyCfWlzR7jVOT2RbopgmiMhQSIXHVQwyKEnikYrHKjkdQrA4qromzH0UyVzHCzqjOVGQq9TVew1GK+sRdAGFMlSJCAQQcHNLmV7D5W1zFuimLNE6gpIjBjgEMOaGmjRSzyKoBwSWxindCsx9FMM0QQOZFCnoxbg05HWRQ0bBlPQg5FArMWimPNFGwWSRFZugZgM1HJdLHdRQYLNJnkY+X60roai2T0Uzz4vM2eam/ONu4ZoE0RkMYkQuOqhhkU7oLMfRTFnidiqSIzL1AYHFDyxxxs7uoVRkknpRuKzQ+iqllqdnf2ouLWdHiboc++P51O88MYJklRQvXcwGKbi07MV09SSis7VdZi0zS2vxE91CvLGAqdo9eSOKuG6hS3SaWRYkYAguwHWnyytcLq9iWis7VtZi0qG2bYZnup0giRDyxY4z9AMk+wpl7rqWOuWOmzWsx+3bhHONuwMAWKnnOcD0qRmpRUTXdukwheeNZW6IXAY/hTvOi27vMTGdudw6+lAD6KiW6t3nMKzxmUcmMONw/Ck+12xm8oXEXmf3N4z+VAE1FQx3UE+8W80crJ1CODg+9UtN1kapoZv7eBxIu5WtyRuV1OCp98igDTqPUP+QPc/9cm/lVbRtUh1rR7bULYMsc6bgrdV9QfcVZ1D/kD3P/XJv5VcPjRnU/hy9C5RRRWZqFFFFAHOxHVtRuL5odSW3ihuWhVPIVuBjv8AjT/sGs/9Blf/AAGWptD/AOYr/wBf8n9K0a66lRxlZJfcv8jz6NFVIKUm7u/2n39TI+waz/0GV/8AAZaPsGs/9Blf/AZazL3Xb2e+gFtEsdmmpC2eQP8AMxGc8elSad4sl1HUo4o7Jvs8zsiOFbK46FjjGDjsaw+su9rL7l/keg8rko813/4E/wDMv/YNZ/6DK/8AgMtH2DWf+gyv/gMtVdDk1C61rUJr1hsilMSoshKrgDtj9a0ta1I6Vpj3KRec+5URM43MSAOfxq4Vpzsklr5L/IxqYKEJcvM//Apf5lf7BrP/AEGV/wDAZaPsGs/9Blf/AAGWsa/1/U2aO2WBI763v44nRJPkkVkYjnrjj9KuTa3dz+G72fyFjuLWR4plWQjG3upx9K3aqJJ2X3Ij6rDu/wDwKX+Zd+waz/0GV/8AAZaPsGs/9Blf/AZao6v4ok0ya1tba28+WS389iwYgAYGPlB5Oalj1+9vriGHTbFd5tluJhcMUKbui49etL97a9lb0QvqsO7/APApf5ln7BrP/QZX/wABlo+waz/0GV/8Blqu1/q3/CWizVIPs32bzNpY5+8Bnp19qmN7cDxa9oy/J9jMkYD8N8wHIx1zU80/La+y/wAg+rQ7v/wKX+Y77BrP/QZX/wABlo+waz/0GV/8BlqlF4vR40Jt/nSGaW5UH/VCMlSPxYUzR/Fc+pGXzbFo1+zG4jcK2P8AdJIHP0qn7VJtpaeSH9Vj3f8A4FL/ADND7BrP/QZX/wABlo+waz/0GV/8BlrFsNXudI+HSax5cl9cTHznUktjzJPbJ2qD27LSt4xvJNP0x9Pt7O8udQumt18uY+WmFLEkkZHTpisvay7L7l/kT9Xh3f8A4FL/ADNn7BrP/QZX/wABlo+waz/0GV/8BlrAl8dzLo8E6W0Ed20k0Utu7O3zRkg7dikkHHXtmrUHi681VtPi0Swjee6svtkn2iQqsa7ioHAySSDR7aXZfcv8h/Vod3/4FL/M1fsGs/8AQZX/AMBlo+waz/0GV/8AAZa57U/iBcWWtz2NvpbTizaNLgIrsxZgCQm1SOAQeSK1JLqS2+IFnGjOYtQsn3xknCNGchsdiQ2PwFHtZdl9y/yD6tDu/wDwKX+Zd+waz/0GV/8AAZaPsGs/9Blf/AZams769n1m+tbiy8m2g2+RceYD52Rzx1GK0aXtpdl9y/yD6tDu/wDwKX+ZkfYNZ/6DK/8AgMtH2DWf+gyv/gMta9FHtpdl9y/yD6tDu/8AwKX+ZkfYNZ/6DK/+Ay0fYNZ/6DK/+Ay1r0Ue2l2X3L/IPq0O7/8AApf5mR9g1n/oMr/4DLR9g1n/AKDK/wDgMta9FHtpdl9y/wAg+rQ7v/wKX+ZkfYNZ/wCgyv8A4DLR9g1n/oMr/wCAy1r0Ue2l2X3L/IPq0O7/APApf5mR9g1n/oMr/wCAy0fYNZ/6DK/+Ay1r0Ue2l2X3L/IPq0O7/wDApf5mR9g1n/oMr/4DLR9g1n/oMr/4DLWvRR7aXZfcv8g+rQ7v/wACl/mZH2DWf+gyv/gMtH2DWf8AoMr/AOAy1r0Ue2l2X3L/ACD6tDu//Apf5mR9g1n/AKDK/wDgMtH2DWf+gyv/AIDLWvRR7aXZfcv8g+rQ7v8A8Cl/mZH2DWf+gyv/AIDLR9g1n/oMr/4DLWvRR7aXZfcv8g+rQ7v/AMCl/mZH2DWf+gyv/gMtH2DWf+gyv/gMta9FHtpdl9y/yD6tDu//AAKX+ZkfYNZ/6DK/+Ay0fYNZ/wCgyv8A4DLWvRR7aXZfcv8AIPq0O7/8Cl/mZH2DWf8AoMr/AOAy0fYNZ/6DK/8AgMta9FHtpdl9y/yD6tDu/wDwKX+ZkfYNZ/6DK/8AgMtH2DWf+gyv/gMta9FHtpdl9y/yD6tDu/8AwKX+ZkfYNZ/6DK/+Ay0fYNZ/6DK/+Ay1r0Ue2l2X3L/IPq0O7/8AApf5mR9g1n/oMr/4DLR9g1n/AKDK/wDgMta9FHtpdl9y/wAg+rQ7v/wKX+ZkfYNZ/wCgyv8A4DLR9g1n/oMr/wCAy1r0Ue2l2X3L/IPq0O7/APApf5mR9g1n/oMr/wCAy0fYNZ/6DK/+Ay1r0Ue2l2X3L/IPq0O7/wDApf5mR9g1n/oMr/4DLR9g1n/oMr/4DLWvRR7aXZfcv8g+rQ7v/wACl/mZH2DWf+gyv/gMtH2DWf8AoMr/AOAy1r0Ue2l2X3L/ACD6tDu//Apf5mR9g1n/AKDK/wDgMtH2DWf+gyv/AIDLWvRR7aXZfcv8g+rQ7v8A8Cl/mZH2DWf+gyv/AIDLR9g1n/oMr/4DLWvRR7aXZfcv8g+rQ7v/AMCl/mZH2DWf+gyv/gMtH2DWf+gyv/gMta9FHtpdl9y/yD6tDu//AAKX+ZkfYNZ/6DK/+Ay0fYNZ/wCgyv8A4DLWvRR7aXZfcv8AIPq0O7/8Cl/mZH2DWf8AoMr/AOAy0fYNZ/6DK/8AgMta9FHtpdl9y/yD6tDu/wDwKX+ZkfYNZ/6DK/8AgMtH2DWf+gyv/gMta9FHtpdl9y/yD6tDu/8AwKX+ZkfYNZ/6DK/+Ay0fYNZ/6DK/+Ay1r0Ue2l2X3L/IPq0O7/8AApf5mR9g1n/oMr/4DLQNP1nP/IZX/wABlrXpR1FHtpdl9y/yD6tDu/8AwKX+ZlWkuo23iCOzvb1bqOSBpOIgmCCPT61uVjy/8jjbf9er/wAxWxRW15X3QYfTmjfZ9Xfou4UUUVgdQUUUUAFFFFABWPY/8jVq3/XKD+TVsVj2P/I1at/1yg/k1bU/hn6fqjmrfHT9f/bZGieppKU9TSVkdAUUUUAQ3aSSWU6QnbI0bBD6HHFcl4Fto7O1t7W40Sa01KGArc3UiDEjZG478/NuPzV2dFAHJaBbSpa6vpGo6fJhrmeZXkQGOVXcsuD68jj2q74K0oaT4XtYXtFtp9p81QoBJyeuK6CigDK1zTZtSiiWARkoxJ3yun/oNSaLYSafZtFMEDFs/JI7j825rRopcqvc19rLk9n0OJ8f2M1xNaXNpBPNcwRyeUgtlnicn+FgehPrWN4i8Pa5qWtW1/DblY7bSoDPZLgJcsshZoc/T8DxnivT6KZkcrrRuV1Hw5qsGnzyQ25kE0UajfEHjwOPY8cVzL+H7mTxheTajHqO+bUYri3mghjYbAEx85+ZQMEEZHGeua9Qop3EeWWthrE3jGxuZtOmhlj1CRp2jt40jWLBAO8fM+eO9dDpvhqNZPEV7c2IN5PdyNbyuMtt8tQNp7DOa7Kil0sPrc4Pwt4em0fU9GlisTAP7NeO7YDGZMggN6nk1Y1eTVPFPw4v0udJls7uYmMWu7LFQw5z7iu0op3uLY8v1zwvfIdVg0qykisWls5mit1UeaqlvMCqeCcBeD1qa10yXTLOC9sbXUpo49VSeWF4VQhdm0siLjjpnj1r0qii4zzo6Pfav4ZhivdOnjE/iAXEsEh+YQl85OD0xUnjHSZYrq2tNO0n/iX+RKf9FtI3bzTjC/MMKD6/rXoNFIDg/sWpweCvCkk9pPPc6fNBLdRDBkACsD35IzXXLrOn7R5l3BE+OY5JFDKfQjPBq9VCXQ9KnmaWbTbSSRjlnaBSSfUnFMDjbzw7JPeanqUNl5l0+qwTW84wT5YxkqfTrVDSvDlzH4oZtVTUPtS6pJcJNHChR0JO3MmN23BwVz+FenIixRqkahUUYVVGABTqNg3OFg0KBNU8QafJpBiF8S0FykShNpQDAYdDkdK52HS/GeswiHVoZIxHZSTW/wAwXZLjywmR3ILH8a9copAedaFpkzTXslho8+mW/wDZIt3idQvmzY7AHkgZG7vmpb3wkYPhbDY6TZ/Z9RkhtlkdEBkDB0LEk9SOTzXoFFO4rHEaL/avhfwzqkR0uXUNQtJi6yBub/c2d+fXB5HbHHFM13wzL4r8RWM15FNaR/2ZlpEPMUhkQlM+67h9M13VFFwPMtPsb7QNS0q4fS7qSC3lv1KwIGKq8xKcehFat7o1z4n8VLdF77TbKbSzDJtVVZiZOUOQccc8V3FFIZxFnbyeDvEV4kGl3VzYXUEC27267ynloE2HJ46Zz0rQ1kXMHizRtSSzmntxFJDJ5QBMZbBBI9OK6eigDyqSw1m48X2ty2nTxSx6oWdordFRYeQGMg+ZsjGRn8K0vDun3en+MJFtbKZ7KVp3mlurdVkiJJI2yDlwT27DHpXodFPoB5/4Ps7rS9cuY0spmsFgkczT2qxzBy5OzcPv59fpV3wmga7121n0qe3trq7M0SzQ4Qp5aLjHTqDxXZ0UAcj4Y0yLRPAaR3el/vT5gmhSEFnBkbGR34IrmTp+pXvw/wBJsfsN7D9huw91D5SlnTexGFbhgMg4r1SijrcR50fDfn+Eo7KCG9lgm1eGaSK4RYyI967sKuMLgHj61t+J9Ph03S9Pm0+0VLey1CGeWKFMYXOGbA9Ac/hXVUEZGDzQFjm9X0s3+pXMzW3mqdPKREj+Mk9PfpS3ZkjOks1nNJNAVaR1TJAwQRn610dFc/sVdtPf/O51rEysk1t/lY428sZpNRl32Ess0l/HNHPtGFjGOM9sYPFL9gm/tSFXsJGuF1HzmucAjy+3P9K7Gis/qsb3uafXJWtY43StJmivI/tQuhdRyOWcRrtfPq3Ug+lWdH006ZJpUzQiALaOty54+bK43H1611NNkiSaMpKiuh6qwyDTjhoxSt0/4H+QpYyc732f/B/zI0u7eZtkU8bsRwFcE1zmy8i0G5sxZuZFuCSWQMChfOQDweO1dDFYWkEgeG2ijcdGVADVitJU3Pd9/wATKFVU/hV9nr5HFrbT2ujahdFHhNvcLcW3mgJuwOeBwM88U6fTLuXTrC4lErCSZri5RFDEFxkfKeoHSutuLaG6QJcxLKobcAwyM1KOOlY/VVs3/Vzf6490tb/pb/g+py40jzdP0y38qaSBb0yOswAIXDdQO2SOK31lsrJfIWSGEL/BuC4/CrNV5bC0nkLzW0MjnqzICa2jT5PhMJ1vafHsc9rkMkuqJd2ETXMhRVCtGHjYZ7H+EirWpMy+IbGZLOZvKz5siJngrxz3rdjjSGMJEiog6KowBTqn2O+u7TK+sbK2ya+85ryftXijzp7CSJIDiFljGHYj77H9AKpaXpM0WoobsXQuI55HLqi7WB3Yy/Ugg9K7Kil9XV7t9b/19xX1uSjypdLf195yOm2FyLi4tobdvIkif95cR+W6sWztLLyfrVvTvD0sEkv2uKBo3jKlRNJJn8G4ro6K0p0lTSSJqYqc7rucJBp80fgueyg0uSG7gmR3CoAZQswbgjrwKz9ZM9xJd3l5ptwLe41O2McMg+aRQqg8Z9QeK9LqOa3huAgnjWTYwddwzgjoa9KGKtK7XX/L/I82VG8bJ/1r/mcfa6XdS+Etdit7N7dLqSRrS2fAIXaBjHbJBOPeodctbnVDo9y9rdpawxuksQhV2R9uASjZBHUZruqKhYhqXNb+rWKdFNWv/V7nD3Vg+nab4YuFW5khsb3EgmA8xVk3ICQOwLD6CtTxVHcpf6JqFvay3Udncs0qQjLBWjK5A78mukIz15ornlJybbNIxUVZHlniqy1bUNfneHTbgOLq3e2eG2j5QFSzNIfmBHIwCOlXf7OupPiL/Y0bh9MeRNWnw2fLkHAQ+xZQ3516NVa30+0tbma4t7eOOac5lkVQGc+570hnnPhnw5c22v27amuoLfQ3kkrTLCnlyAk8mTG4qRgYJ/Cug0Dw5BbrrN5eWJ+1zX0zxyEAybCABtPbvXX0UdBnBeAbK70u+urY2jrp8cCeXc3FssMpbLZViPv4GDn3rW8If6L4fv8AUZwyRXd5NeKpU5WM4xx9Fz+NdPRgYxjj0oA5/wAD281v4TtjcRtE8zPN5bDBQOxYD8jW5qH/ACB7n/rk38qkqPUP+QPc/wDXJv5VUPiRnU/hy9GXKKKKzNQooooAxtD/AOYr/wBf8n9K0aztD/5iv/X/ACf0rRret/EZzYb+Evn+Zjv4asn1AXW6YYn+0eUHOzzP72KltNCt7K68y3lnSMOXEO87AT14/pWnRWHKkdrrVGrNkFtZxWjztFnM8hkfJ7mmajp8GqWMlpdAmN8Z2nBBByCDVqq+oJK+nzrbztBLsJWRQCVP0PFUny6ozbbd2ZbeE7F7Zo3kuGkeZZ2nMh3l1GAc+wNMvNDmg0OXTdJCP9qZjNNcOd2WOS3ufaquk+I7mPwFZatfL9quJEG/50iBPrliAKdp/jmxvo7NzDJEtzPJbFiysqSICSCQcHIU4IrX2s76u4XZp3egwXb28pllhngj8oSwvtJXuD+VJP4ft5poZknuIpY4hEZEkILqOzev161hXXxHsIYbZobWWV7hJJURpEjzEjbd+WIBz1A6mrtx4ziDaZHpun3F/JqdubiFY8LhRjO4sRj71T7SfcVzWudIhuNQhvfMljnhTYGR8blznBHfkVC2gwtrA1L7TcCYLtAD/Ltznbj0zVIeLlfxH/ZCWMhljWMzFpUUoXXcAFJy2O5Ga6F22RsxBIUZwBSU5JbgZlv4d062u7+4SHL34xMCcgjHIHpmnadokOm5Ec88kezy1jlfcqr6Ci01uG7ulgS3ukZs/NJCygfiRWlS9pKS3LlGUXaRi2vhxbbQn0tbydYvNZ43RtrRgvu2g+gzj6VkXvgKFl0yGwnlijgvXu7ibzCJGYowyD65I46Yo0zxA+l+ELvWtUlmuz9tljCfKNuJ2jUA8ADpkmrdz4x+zabY3B0yaWe+n8iKCKWN8tgnO4HGOPWkZjm8DaZ9ltoYZLmAwCQebHKQ7iQ5fce+TTz4M09ILJLSW5tXs4TBHLDKQxjJztJ78nNVpfHMK6PFfR2TljI8UsMk8cbRMhwwyxAPTtmpW8ZRzrZLpFhPqE13b/ahGjKuyPOMksQM5BGKBliXwpaPqDXkNzdW8sgQTeVKQJtvALe+BjNXE0hR4gbVZJWdxbiCJCOIxkkn6nj8qw9V+IVhpWpvZy28jGBUNy29AYd3QbScsQDk4zV66uJ5vGGnQRXMkds1q8zRrjDkFcZ496BF+00a2stYvdSiaUzXu3zAzkqNowMDtWhWRHPqcOuak92v/EsjgRrcjGS3zb/f061S0DxhHrl5FAdPuLQXFv8AaLd5Sp81AcHoeO3X1p8rtoF1c6SiqOsarFo2nm8nRnQOqYXrliAP51lah4yt7GeWCOzuLiaO5itQkeMs8gyMZPShRb2BtLc6OiuYu/FLv4MvtVgtJ4JbbzI5o/lLQMvU8nBx196frviG+0u40mOz09rpbyZY3beo6qTgZI54+lPlYXR0lFc7e+LUs9ct9K+wyNcyRLK4MqJsBOMDJG48HgZroqlprcLhRVa1sLuPUJ55tQeaCQDy4GjUCL6EDJ/GpYLW4S4mee5EkbEeWgTGwd+e9AySioksZvKuEmu3fzXYxsFCmJT0A9cetVoNHuI9Eaxm1O4lmIIF3hQ4ycjtjjp0pAXqKbZWkltYwQz3DXEkcYV5WABcgck49am8r3oAjoqTyvejyvegCOipPK96PK96AI6Kk8r3o8r3oAjoqTyvejyvegCOipPK96PK96AI6Kk8r3o8r3oAjoqTyvejyvegCOipPK96PK96AI6Kk8r3o8r3oAjoqTyvejyvegCOipPK96PK96AI6Kk8r3o8r3oAjoqTyvejyvegCOipPK96PK96AI6Kk8r3o8r3oAjoqTyvejyvegCOipPK96PK96AI6Kk8r3o8r3oAjoqTyvejyvegCOipPK96PK96AI6UdRT/ACvemDrQBnS/8jjbf9er/wAxWxWPL/yONt/16v8AzFbFa1do+n+Zz0N5/wCL9EFFFFYnSFFFFABRRRQAVj2P/I1at/1yg/k1bFY9j/yNWrf9coP5NW1P4Z+n6o5q3x0/X/22RonqaSlPU0lZHQFFFFABRRRQAUUUisGGVII6ZBoAWiiigAooooAKKKQMrEhWBKnBAPSgBaKYs0buyJIjMv3lDAkU+gAooooAKKKKACikVg33SDg44NLQAUUUUAFFFFABRRRQAUU0Sxs5RXUsvVQeRTqACiikLKGALAE9AT1oAWiiigAophljEgjMihzyF3DJ/CnMyoMsQo9SaAFooooAKKKYk0cjukcis0Z2uFOSpxnB9ODQA+imiRGGVdSCcZBpdy5xuGfTNAC0U0ui/eZR9TQZEC7i6hT3JoAdRTTKg6uo+ppwIIyDkeooAKKKKACik3Lu25G7rjPNLQAUUgYEkAgkdcHpS0AFFNeRIl3SuqL6scCgugTeWULjO7PFADqKY88UWzzJETzG2puYDcfQevSn0AFFFFABRRRQAUUUUAFFFFABRRRQAUUUUAFFFFABRRRQAUUUUAFR6h/yB7n/AK5N/KpKj1D/AJA9z/1yb+VXD4kZ1Pgl6MuUUUVmahRRRQBjaH/zFf8Ar/k/pWjWdof/ADFf+v8Ak/pWjW9b+Izmw38JfP8AMKKKKxOgKR1DoynowwaWoL26FnZyTsjuEGdqKWJ/AUDSbdkcyfA7/wBixaauqSGK1uRPa74lby8Z+Vhj5h83f0FZ2reC7qLwjLo1k0t5c3d79oN2WSP7OS2WbjHGMgADvW5pfifztEGo6lGYxIyiKOOF9zbhwBn7x+lXG8SaemmC+d5FiMnlFTG24PnG0rjOalSRtLD1U7W62+Zn3vg6N5rGbTLn7HJZ232QAxLIrR8YBBHUEdavw6CI9VsL+S4aSWztGtvugB9xUljgcH5e3rWhZXa31qJ40kjBJG2VCjDHsaz9W1sadqmmWWMNezbNzRsVxtY4DDgNx37Zq9zBxs7Moav4QOsa7BfXF8VihmSZI1hQOpXsHxnBPJFdK6h0ZW5DDBpazl1QNrslh0EcHmncjAnkcg9COaV0tCoxcrtdBbbRLC0uFngiZZF6EyMf0JrQrK0/xHYandi3tjLuKsys8TKr4ODgkc4NaU0qwQSTSHCRqWY+wGaUbPYuqqil+8vfzOcsPDuoQeHrrS5bqBN9zJLFIkW/5XkLkMrcHqRWRc+BryztdLt9JvHV4tSa7mnCqBHlGHyp0xnAwPU10Nv4tsLu0kubeG8eFFDBhav84Jx8vHPNNbxjpS2KXJM53zfZxEIWMgkxnbtxnpW/sat/hZze0hbcy2+H+ILcwanIt1GZjLO8SP5hlOWIBGAR2x6VYh8GSWEWntpWqS21zZ2v2RpTGrebHksMgjqCSeKvP4v0xLG3ugZ5FuN+2NIWZxsJDEqBkYwabc+MtJtoLeUySus8XngRxMxWP+8wA4HHej2NXblYe0h3K1x4QkbV5b+01Ewvcqn2kPAj72UY3DI4JAx6e1X7nTLtvEljqFtJD5UMLwyq4O4gkHK4+lMuNZkl8R6Zp9gUaKeF7mZyM/uwMLj6k1He6xqenazbR3FvbNZ3VwIY9jnzeR97HTHr7VMIOTshykoq7NueIT28kROA6lSR2zXPp4ffR1sLqwWS9m0+1NskO5U8wMRkkngdK6SquqXbWGk3V3Gm9oIWkC/3iBnFTG97IbS3ZiXsGpeJdPm03UdMk02ORcrcrOjlGByvAz3qOy8FmG6a6u9Slup3vY7tmKKoygwFAHarWhazda3p9y3nWYuFXCCAk+WSONwPNGm+J4pfBS69qSmJY4ma4CKW2lSQ2B1PIq581NuL0FG01dEd94Ue50PUdNtr94E1GeWSV9gY4cYKj/Gpbvw9c3mmWUMupOt3ZTrNFcrGvUAjBXpjBrZtbiO7tYriAkxyqHUkY4PtUtTzNDsjmNe8Iya+0S3d/iNVUNiBN+QcllbGVJq5LqmtRTtHDoDSxqcLJ9qjG4euCa26KXM9mOxLES0KFl2sRyM9KJp4rdN88qRLnG52AGfxpyfcFcf8TiR4Tjxx/pSf+gtWlCl7arGntdnPi67w2HnWSvyq51A1KxJwL23J/wCuq/41YVgygqQQehFee6T8PdP1Lw/aXZurlJp4Fc4YYBIz6UeCr+70nxNdeHb6VpUUt5RJzgj09iOa654Sm4ydKd3HdWsedTzGsp01iKfKp7NO+vS56HRXNat440/S79rNIprudPvrAudtT2Xi/TtQ0i5vrfzD9mXMkJHzj8K5fqtZRU+V2Z3rHYZzdNTV1+m5rTahZ28oinuoY5D/AAvIAfyp63Vu83lJPG0nXYHBP5V49pt7p2o+K7q41i3uLhJ5T5SqT8pLcZwewrstMGkp8QrhIDdfbVUhg2PLxgdO9dtbAKkrNu9r7aHmYbNniGmkrOVt9evl9x2lFc1deOtMs9SubKdJhLbjsud544HvzRo/jjT9X1IWPlTW1w2dqzLjPtXH9UrqPPyu256KzDCuap86ve3zOlorF17xTYeH2jjud8s8nKxRDLEVDonjGw1q7NoqS21yBkRTLgn6VKw9Z0/aKOhbxuHVX2LmubsdBRRXPa34003RLr7K4kuLjvHCMkfWop0p1ZcsFdmtavSoQ56srI6GojcwCcQmaMSnpHvG78qxNC8Y6drtwbaISQXAGfKlGCfpXKa5fw6b8Uo7q6YrFGgLYGf4D2rqpYOc6kqc1ZpNnBiMypU6UK1NqUXJK99v+GPS6iluYIGVZpo42b7odwCfpXN2Pj7TLzUUs5Yri1eQgIZkwGz0qt4zOl/2vpf9pNciTd+68nGPvDrmphhZ+0VOomrl1MwpewdWjJSs0t7HZUVla14hsfD9pHLesxL8JGoyzVnaV4507U79LOSKa0mk+4J1xurKOHrSh7SMdDeeNw8KipSmlLsdNRWRr3iaw8Pxp9sZmkk+5FGMsaoaT4607U9QSyeKa1nfhBMuN1OOGrSh7RRdhTxuGhV9jKaUux02cdaikuYIZFSWaNHb7qs4BNeZ6j4xceO45nNwbK2Yr5AHU4IJx3rZ8Q3OkXes6PcXn2tZZQrwrHjHJ43Zrq+oTi4qfVX0/I4Fm9KcZuna8XbV2+f+R3FFYjeKLOLxGmiyxyxzuBsdh8rZ6U7XfE1noD26XKSSSXBIRIxk8Y/xrjVCq5KKjq9Uei8XQUJTclaLs/JmzRWHrfiyw0IxR3IkkuJRlYIxlqZofjCw1u6a1RZLa5Az5UwwT9Kf1atye05dBfXcOqvsedc3Y36rzahZ28ojuLqGJz0V5ADS312thYzXUisywoWIUcmvH7XUNP1Lxbd3WsQXFxDNIxjRScrluM4PYV0YTCPEKUnsuxyZhmKwkoQVuaT66JLv1PZgQygqQQehHelrEtvEdkfEDaDFFIJoV64+XAFLqHie007XbbSpo5DNcY2so4GTjmuf2FTm5Uul/kdn1uhy8zkrXt8+xtUVhav4t0/RdVisb0SK0ib94Hygc/4Vnw/ETTJL9LaaC5gEhASSRMA+/wBKqOEryjzRi7Gc8wwtOfJKaTvb5nW0VQ1fWrPRLE3V9JtTOFA5LH0FYFr8RdMnuo4p7e5tlkOEkkT5TSp4atUjzQi2i6uNw1Gap1JpM64nHXio5riG3UNcSpEpOAXYDJ/GvOfHfiaRNctrO2kmSGBlaZV4EnIIx68VpeKNU0nV/CtjfX63cVvJcHYsYAfcAw5z24NdMcDO1OUtpHDLNqXNVhC14d3ZPv8AcdurBlDKQQRkEd6WsttTsdI8PQXdxKY7dYU27vvEYGB9awY/iXpbTKJLa6jiY4ErJxXPDC1ql3CLaR2VMdhqLSqzSbOyorO1LW7XTtDbVWJltwFIMfOQxAH86wZ/iNpccKSRW9zMpALlE4j9iemaVPDVqivCN+g62Ow1B2qTS0v8jr6KpaRq1rrWnpeWTFo24IIwVPoau1jKLi3GW50wnGpFTi7phRRRUlgelQDrU56VAOtMRnS/8jjbf9er/wAxWxWPL/yONt/16v8AzFbFa1do+n+Zz0N5/wCL9EFFFFYnSFFFFABRRRQAVj2P/I1at/1yg/k1bFY9j/yNWrf9coP5NW1P4Z+n6o5q3x0/X/22RonqaSlPU0lZHQFFFFAFDXLqWx0G9urbAlhgZ0yOMgcV55aeLPEdu979rvIbgR28xjHkhcOqK4Jx/vEY9BXp88MdzA8M6B45FKsp6EelUT4f0o782MXzhg3HUEAH8wBQBh6Bf6xJqE1hql9HM8thHdxyLEF8otwVx3GfXmqlhqGqr8PZptJWKS/W7mj+UAZAuGVmAJxuxk4z1rq5dIsJt/mWynfCIGOSCYxyF+lUofB+g29nLaw6ciQzEF0DtyQc56+vNAjldT1W91P4c3dxaatMtxbTiOZ3gEcgIcAqR2xnqK7nTEnj06IXVz9qk25MgUDP4CorfQtMtdLfToLKJbSTO+LGQ2euc9ansNPtdMs1tbGIQwpnagJOPzpjMvW9audOvFigMO0puO+GVz19VGK1NPuHutPhnk27nXJ2qVH5Hn86sFQeoB/Cl6dKlJ3NZTi4KKWpxfiPXtT0nxPF58zWuj/ulEsUIlDOz4Kv3UdMEDvWVbeILy1+I2o6XGPs9tdaipa8lXK5EEZES+jHHf19a7W88N6Rf6gt9eWUc1whUh2J6jkHGcHFSzaJptwsyzWcbieVZpMj7zrgBvqNo/KqRizDtY4LP4l6mYkVDLpkMjBeN7eZJk+54FYugeKfEV+8WqXcajTJhK0qnZtgVc4K4bcTxyCPyruLjR7C6v4L24tke5txiKXnco9KrQ+F9Ft757yHT4kmfduIzg7uvGcc/SkM5jw54o1S58RLZ3cjzW91ZvdQvLGiMuDxgKScHPfmoItb8Sp8PpPEkuoQPNLBuit/IwqHdgHPU+9ddp3hbRdKuTcafp8UMxUpvGSdp7cnp7Va/siw/ssab9lj+xqu0Q4+UDOcU9AMHQtYvLe/1e0169ilSwjjn+0lBGFRwSQe2BtPNS6/rU0sOkx6HexRLqk+xbwAOqrtJyvYk44rYl0fT5xdCa1RxeRiK4z/AMtEAIAP5mopvD2lXGkw6ZLZRtZwY8qLkBMdMHqKAOF0zVr+18Px2sF8zX9zqN189vEreYFbkjedqjmnz6tq+taD4Y1BdR+xvPqCRSiNRtY/MM9enHTpXYP4R0J9PisjpsIt4XLxoMjaT1IIOeanbw7pDaQmlmwh+xRkMkOOFPqPSi4jk/F3iXUtIkli068aSewsxcTr5KbGznBZmI4ODwvNO1LxPqlrq1pc3UjWekSRQkSRRCUF3+8H/iUdMEetdHeeEdC1Axm802Kby4xEu4n7g6A88j60+bwvo1xeRXM9hG8sQUISTgbfu8ZxxQrAcvL4h8SXfiW9XTYc2tjeC3MJ8sK68bmYlgwPPGBj61b0lNT/AOFh63HLqpeGJLdxAyDBBD8D06de9b9x4b0i61MahPYxtdAg+ZkgkjoTg4OPepptF06fVE1KW1Q3kYws3IbHp79aEM5jQdf1NvFkmn69M0Msxla3txCDEyKwwVkGcnBGQfWuoiv7bUorqPTbyN5YWMTtGQ3lP6EevtUNl4b0jT79r2zsY47lgQZMkkAnJxk8Z9qsWOlWOmNcNYWyQNdSmWYr/G56k+9IDzrTLi98OeEte8QLIt5em9miBdACT5+wEn09ulaQufE03hvWo7+ZofKg8yC6Ij3t8p3LhCQPY12Y0qxFjNZ/ZYzbzszSxEZVyxyxP1JqHT9A0zS4ZorG0WKOcYkXJbcOmOSaYdTmf7T1TTPBejlNQjnub9oIVuZlG2EMmSTjqeO/c1Hrttq41Lw7bx6uj3RuZgbryhwPKc/dHGa6ZPDOjR6XJpyafELOQ5aE5K59vT8KltNB0yyjgS2tEQW7M8XJJVmGCck98mh6itoVvCmo3OqeHYbi+KtcK8kUjIMBijlM499ua5jxZr+vWviN7XS7yO3gQxphogxJZHYnn0210d1oN8sgXRdVbTbbk+SkKMNxJJOWBPJNTWvh+Hyg2rFdQu92WuHQKWxkDgccAkUDOfM63mp+DdUuFjS6ulbzJBxuzAxx9M9qyvEuq6nqNzeYvYoLOy1e0tha7fmky8bbs9c5P0wK7y60HTL2xgs7mzjkt7fBhQ5/d4GBj04qC48K6Jdagt9cadE9ypVhIc5yv3T16jA5o63F0OTk8YagviWD7LO0+nz35sirxKigjIO053EgjrjFX/DrahD4i8RvfasZYbW5GYmQdPIRsj0HPb0rcHhPQhqX28abD9q8zzRJzw/94DOAasnQ9NOqtqRtI/tjLtaUZywxjnseOKOgzk/DfibUrvxNbWtzK89nf28k8LSxohAU8FQpzgj+9zWn4BJm8PzXUpzc3F5O05PXcJGUD8FVR+FaWn+F9F0q8+16fp8UE+CokXOQD1AyeB7VbsdMttPkuntVKfapfOkXPG7ABIHbpRoI4HxRoN5pOg6Jp2mXkslymovPE2du9/nkVT7ZwK40weIE8Yx5uJV1VbmS8eESZUssKv5XpjHy17rPZ291JC9xEsjQPvjJ/hbGMiq/9i6d/ag1H7JH9sBJE2PmyV2n9Bito1bLUiULnmDXNr4g+H/ibUZGZwt+8kDFyDGfLTgc9ueK3/EHh9xDpb6daW9/p9rbvv0+S6MeScHeDnkjnr610kvhDQJ7F7OTTITbvMZ2jGQC56twadP4T0O5tYLabT0aK3UrEu5htB6jOaXOr6f1oHK+pxusWWja3pPhjVLa0kRLy9t4SHlbd5eSCh55r0S0tIbG0jtrVPLhjG1FyTgfjUR0qxNvbQfZYxFaOrwIBgRsvQj6VbqJSurIpKxwWpeJtWh1LULuC6gS106/js/sTIN0wbbls9Qfm4x6Vppda1qXjG+tLa9itbKyWF9vlbmkLZyCT0HFa8/hvR7nVV1Kewie7UhhKQeo6EjoSPWrsdnbw3U1xFEqzTACRx1bHT+dPmVtEFmc1HezWvjXVxKyTiOxjlj2rhgMv8vv0/Ws/wAMeIdXvNZ0lL6/t7iHVLCS8MUaAGAgphc+nzd+eK6RfC2jJqh1FLFBeFtxl3Nkn88Vk6L4Fh0zxA+qSvCSYXhWOCLyxhyCSeTzwOmB14ppxsJ3KL6ve6XoPiy5ikhkvLKZikm3Ac7VwSPxpH8Q6rph1ey1O+Es8KWzwTRQDdulLDYF6HleCfXmuhg8HaBbef5OmxqLhCko3Md4PUHJ9qt3ehaZfef9rs45ftCokuc/MFzt/LJo5oitK9zk7a/utb8L+IrHWkE8lhlQzqu45TcMhSRke1bFtpw174c21gLgx/abGNDKvJX5RzWrp2h6bpMEsOnWkcEcxzIFyd56ZOetSadpdlpFr9n023W3h3bti5wDScl08ikn1MHxzH9m8ESSIx8+0aJ4H77w4Ax+f611CElAWGDjkVV1DTbfU1hW7UukMqzKueCw6Z9fX8Kt1AwooopDCiiigAooooAKKKKACiiigAooooAKKKKACiiigAooooAKj1D/AJA9z/1yb+VSVHqH/IHuf+uTfyq4fEjOp8EvRlyiiiszUKKKKAMbQ/8AmK/9f8n9K0aztD/5iv8A1/yf0rRret/EZzYb+Evn+YUUUVidAUyVPMhdBxuUin0UAYT6FcDQtNtoJoxc6eUdGYHYxVSvI9ME0yLw/P8AZUFxNG0xvftcu1Tt78CugoqeVHR9YqWsFc54l0nWdT1DTZdMlskispxcYnViWbay44PTDV0dZ99rum6bdR217eRwzSjKox5IzjP0zVHOXo9/lr5uN+Bu29M98Viy6dqj+IjfLJaiHyTBtKtu2ls569asS+JtGg1T+zptRgS73BDEXGQSMgH0yOlPj8QaVLqf9npfQm63FfK3ckjqB6kelJq5cKjhexVsdCktJNPYyqfsgkDYH3t1at5AbmxngU4MsbICe2RiqcPiHSri+ks4L6F54s70VwduOo/DvTtO17S9Wlki069huHjGWVGycZxn6e9OK5dgnUlUd5GdfeH7ifwra6ZbzostuIg24EJIFxlTjnBxVHS/B9zZyRyTTW4K6gbspEhCgeXs2jNdXNPDbqGnlSJScZdgBRDcw3Kk280coBwSjA4/Kt1iJpOKe5g6KfvWOJ1LSr3QUjurNzLcM1wuFtnlG2QlsYXoQe/SiDwddPa2F0YrSSf7CtvNDeIxC4JORgj+9giut1LV7DSEjbUbmOASNtQOeWPXgVWvPFGi6e8K3mpW8LTRiSMM4G5DwG+nvWn1qdrLcj2Mb3K8ujTw+IdK1C0WMJBA1tcIOAEIyu0ezDp6GoF0XWP+EtfU5p7Oe3yFhR1bdDH3284yfWtK58RaTaXkdrc38Mc0m3arN13fd59+1Om1/S4NSXT5b2FbpiAIt3OT0z6ZrCNSUb26mkoKVr9CnpEmtS+JdYOoDZpqOiWSkDLfLlm+mTj8K2LpZmtJVtTGJip2eYMrntkelUoPEOk3Wptp9vfwyXSkgxK4zkdR9R3qHTtVur7xDqVmYoltbJlQMCd7MVB+mOahFFbTdJ1Gzv7/AFW6Ns93PCsUcNuCqfLuIyT3JbrTbHQb/T/An9lWlzHHqPktidl3KJWJJOO4yauadrUuq6Zd3Nra4kgnkhWN3xvKHGc44zSadr4v/CKa4YDGGgaYxFs4xnjP4Vc3Kbu/IUUoqyNKzjlisoY7l1eZUAdlGAx7nFTVzlxrmo2vhSLV5YbYtxJLGCcCM+h9ea0Na1kaRbWkphab7TdRW+FONu84z+FEqcl+QoyT2NOigVzuo+L7az8TWuiQostxMC0haTaIwCB+JO7p7VmWdSn3BXH/ABP/AORTj/6+k/8AQWrr4zmMYrM8Q6DD4i01bO4leJRIJNyYzkAjv9a6MLUjTrxnLZM48fRnXws6UN2iLw1cQxeEdNaWVEC2qZLMBj5RXGaO39r/ABOvL6z+aGIOd46HjaPzrUX4YWQwDqF2V9Nw/wAK6fRdAsdBtTDYR43cu7cs31rtdahSVSVOXM5abWtc8uOGxeIdKFaKjGnZ73baWh5z4S/tdtX1JtNjtHuN37z7STkcnOPxrb8L6VdweLby7nnsj5iMJoLeQHacj+H61p6p4Ftb3UnvrO6msZ5CS/lHAJPU1f8AD/hez8PpIYGeaeX78shyTWtfGUpwlKL1kkrW/U58JltenUhGotItu/Np91r+py3gZFPjTW8qDh3xx0+ejSf+St3v+638hXUaP4Xt9G1a8v4ZpHe6JLK2MDJzxRbeF7e28TTa0s0hllBBQ42jNRPFUpTqNPeNl66GtLL68aVKLWsZuT9NTk9Lgjm+LN4ZUDbNzLkdDgD+tO8RxpF8UtLaNQpcIWwMZ5IrqrTwvb2niWbWUmkaWYEFDjaM0ah4Xt9R8RW2rSTSLLbgbUXGDin9bp+1Ur6clvnYX9nVvYOFtfac3yucVqZvn+Kkn2dYWuBjyVuD8n3KuXGl6tceL7G7vptOt7mJlzHFLhmXPoTzxXTeIPCVnr00dw0klvdRjCyxHBqHRvBVrpeo/b7i5mvbkfdeU52+9V9cpezTTs1G1rfr2M/7Nr+2lFq8XPmvzWX3WvdHS/SvNfBYhk8daqdQ2tcBn8vzPXdzj8K9Krmdb8EWOr3v22KWS0uT954jjd7muLC1YQjOnN25lv2PUzDD1akqdWkruDvZ9f8AgnOeJ1ij+JWl/wBmhRMTH53l+u7nP/AabrXkf8LYt/te3y8p97pnHH64rqNB8GWWiXZu2kkurojiSU52/Sm6r4JsdX1ptQu5Zcsm3y1IA6YB/rXbHF0YyUbuyi1f1PLnl+JnBz5VzSmpct9El/WpgfFBYFXTTCEFzvONvXb2/WmeOt39peHt/wB7C5+uRW1YeALO21JLy7up7xoiDGspyBjpXOeLdWt9b8WaZa6fudreYRv8vfcOn5VthpxlOEKbuoKV36nPjqdSFOrVrJRdRxSje+zQ/wAaG4bx5pqoIyRHH5Qm+4TuPX8ak17S9av76ybUJNMtZomzGUl2luR6muv17wzZ+IbaNbotHLF9yVDgrWdp3gO2tdRjvL68nvpIiDGJW4GOlY08ZSVOLvZxTW1zorZbXlWqK14zad72t6q19OljB1HafirZrqODGFQJv6dOP1rqtWfw7DrFp/aaxfbDjyDtJPXjp71J4g8LWXiFYzcF4po/uSxnBA9KoaT4Ds9P1FL26uZr2aPlPNOQp7GsXWo1IRlKTTirWX+f5nTHC4qjVnCMFKMpc130+Xl0MO6VP+FwW4IXaVHBH+yaf46wPGGi46bl6f71bviDwVba5qSXwuZbadVClo++P60+88HW97Np0stzNusVVV6fPg9+K1hiqKlTm3tGzVjCpgcS4VqSjpKaknfzRj/ESxeBbHXLUYltXCsR6dR+v86o6dP/AMJj8QI7sA/ZLKNWAPqP/r/yrv8AUtPi1PTZrK4/1cybSR1HvWf4c8M2vhuCWO2d5GlYFnfGeOg4rKni4Rw7i/jV0vRnRWy6pPGqcf4balL1jt9+hw98b5vilP8AZlga4H+pW4Py4xxV5tL1WfxrZXl9Np8FzEy7oopcMy/TPNdJr/hGz124S6MkltdRjAliOCfrUWi+C7XStQ+3z3E15dAfK8pzt962+uUvZpp2aja1v17HL/ZtdVnFq8XPmvzWX3Wvc6RgCpBGRXnfg5FPxB1oFQQGkwMdPnr0WsPSvC9vpWuXepxTSPJdFiytjAyc8VwYetGFOpF7taHr4zDzq16M4rSLu/uOXs2CfGK43HG5SBnv8opvieRH+J+lqrAlNgbB6HJrf13wTbaxqY1CO5ltLnADNGeuO/1qOHwFZQ6haXouZ2mt23MzMCZD6niu+OJoXjUb15eW1utjyJ4HF2lRUVZz5r36X7GH4whSf4j6VFKoZGCAg9/mNS/E+KNP7MdEVW8wjIHbiul1Lwtb6l4gtdWkmkWS3xtRcYODmneIvDMHiJbcXE0kXkNuGzHP51FPF04zotvSK1Na2X1p0sSktZyTXorHI/EEk3+hCb/j32gtnp1Gf0rq9ePh6Kytn1lITBvHk8Z5x7dsVa1fQLPWtNWzvFJCY2OvDKfUVgWvw4s47mN7y9uLqOI5SJzwPaojWozpwU5OLjfbrc0nhsVTrVJU4KSqW36W01XUyfHnktrOgNbgeUwUrx1XcMfpV/4ohR4fsggAH2odP91q3PEfhS18RRQCSR4Ht+I2TsPSq1z4KgvPD9tpVxezusEplEhI3EnPHT3rSliaKVGTfw3v8zGvgcTJ4iMYq1RKzv1VtLHNeOy/9i+H1fP2Yxpvx0ztH9M10fiWLSx4ElwsIhEK+SRjrxjFa97oVnqOjJpt4pkijRVVv4gQMA/WubT4a2vmKs+oXUtupyIS3FKniKMowUpOPK2/XW5dXB4mFSo6cFJVIpavayt9xkIZj8Gp/OzjzF8vP93zB/XNbWg2cA+Fr/uly9rM7HHU/Ng/oK39T0G21Hw+2kAmC3IUDy+oCkH+lOs9Fis/Dv8AZCSO0XlPFvON2Gz/AI1E8XCdNpaNz5vkaUsuqU6yb1Sp8t/O5zXwvcL4ZumdgFW5Ykk8AbVrtIp4p1LQSpIoOCUYEVi6R4Wt9I0K70yGeR47rdudsZG5dvFT+HtBi8PWD2sE0kyvIX3SdegH9KwxU6VWpOpF7vQ68BTr4ejSoyjolq77M1qKKK4T1APSoB1qc9KgHWmIzpf+Rxtv+vV/5itiseX/AJHG2/69X/mK2K1q7R9P8znobz/xfogooorE6QooooAKKKKACsex/wCRq1b/AK5Qfyatisex/wCRq1b/AK5Qfyatqfwz9P1RzVvjp+v/ALbI0T1NJSnqaSsjoCiiigBkxdYXMShpApKqTgE9hXOeGfFz+Jb64gisjALIGO7Lt9ycHBQeo6nP0roriE3FtJCJGj8xSu9PvLnuPeueg8Kx6CBc+G0xdLCIWjlkwk/OdznBJbrz70wNfWZ7u20W6m09Ee4jiZkEjYHA65rn9O8R6pb/AA7GuarbRSzJapKqxvzLkDk8cHmtWybXbmR4dZs7KO1dCrGGZmY57YIqK38J28GgT6M95dTWcoCosjKTEo6Kpx0475pAUrrxJq+n6Kt5qFlZW0s0irBG1wTkEZ7DJb2FVpfFlzqfw/udXtrYxSRGRJlWXaU2MQSpI9uMit3WvDsGs29ojXE9tLZv5kM0JG5TtK9wQeCe1Zx8C2o8NtosOo30UEkjySurqXl3kkgkqeMntTEN1fxLqNjdW1lpWnx3cj2BvHeaXYFVeo6ck1v6XfLqWk2t6q7BcRLIFJ6ZGcVn2vhiGCSOWa7ubqaO1a0EkxXJRjnsAMiqtz4Wla+8PpaXbxWOklmdN3zSnbtUHtjuaBnS1y1x4vmg8Wr4d/s8teSsHhbf8jQfxOT2IwRj6etdTXO3HgyxmvpdRMkx1BrhZ0udw3ptGAg4wFxkY9zSA6E52nHXHFcfouv6yb7X5NYigFlp9wwJR8tGoiVsAY565yfWtKO48VeeoksdNEW4BmFw2cevTrUqeGbdNWu71bi4Ed8D9ptdwMUjFQuSMZzgDoe1AGBo/wAQLrUGlaXSJPLNq9zD5IYk7RnY2Rjce2KuaN4pv9c0S7uLaKx+0xIGWJLgkpnPDjGVI+nNXNO8JrpsckUOq37QGJooondcQg/3Ttzkdsk1No3he30i5u7lrq4vLi7VUklnK5KrnAwoA7mmwIfBOo6pqvhazvNYWLzJYVcSI2S+e5GOPpXQ1zf/AAi82n+E7/SdHv5iZYGitRcMCtvkEAAgA4Ge+a1dD006PoVnp7TPO1vEIzK5yXI7mgRBq+uLo99p6XEYFtdyGJpy2PLfGVB+uDUnh/Vjrmiw6j5Pkxz5aJSckpn5T+I5rO8baHceJNCGlW8UZSeRfMmd9phAOdy+pqe4TW7DyrbQ7KxazijVV82VlIx2wB0oGUvEOq65Z+KNItNMige3uTJuEkmN5C5weOMVJqviDVLfxDbaNpenQ3FxNbNcPJLNtRApAI6c9asXWiXGuWlpLqkjWF/ayF45LKTOzPHVhzkeoq6ujwjWotTZ5GuI7c24yRgqSCSffigDndQ8bzadr0dnLbW8kPnRwy+XKWeNn9cDAwexOa0DqVyvj77DMrLD9geWPbJlWwygkrjg8+tRXngayvNUku3vLxI5LlbprZHURmUY+bpnt0zippfCYl8SjWTq9+JQpQRApsCEglPu5xkDvn3oQGdo3jS+1HUrNLrTI7ezvpZYYZFl3NuQnqPQgGuyzWJbeFbK1Fh5Ty/6BK80WSOS+c549zTfDWiXekyapPqF158t9ePOqgkrGhPyqM+1AF3XdRl0nRbi/ht/tDQLvMYOCVzz+Qyfwqvo/iBNa1K9itI91rbLHi4DcSMy7sD6Aj86v6kJm024W2hWeVkIWN22hs+prnNA0HU/CnhG1sNKhtZ7reXn82QqoLZJweScdB7UAW/G+o6lpXhW5vNHEfnR7cu5xtG4DIGOaoa14wvdDtdOguLKF9Svi21FdmjVVGSxIGfTjHetRbPUta067sPElrbRQTJtH2aUsT+Y4qK48IxXVlaRy6lem6s3LQ3u5PNXIwR93aRjjkUAZFz4/uI9J026XTlt2vHkSR7tmSKIoSDlsd8cZ7VZ1jW9cj1fw8mmRWrQ3zHzB52Q58pmxkDoMZBHWr974V+26bDZvq9+gjVlkdShMwbruyuPyAxUl14VtJ9N020gnuLT+zMfZpYWG9MLs7gg8EjkUCNqMsY1MgAfA3AHgGsibXzFdtD9jLYbbu8+MZ98E5rXjUpEiFi5VQCzdT7mqr6Pp0kxleyhaQncWKDJPrUu/Q1puC+NXLgOQDXJ6J4vn1jWruylgt7UQtIqxPLif5TjcUI6HrxXWVz9r4Sgh11dUuL66u5Yg4hWYrti39cYUE8HHJNMzMjwL4sfxHbtYJumNqjrd3LttbeWbAUdTx/F0pdP19tA8M65e30k96ljevHEHbLEfLtXP1NbNh4TsNMu7O5smliltY3iJBH75GJOH45wTkUyXwdYzPqSyTXDW2pHdLbbxsV8D514yDwO9MFsZFn49uptOvpLqxit5rZY2R5HZYXDnAG4jO4eg68etOg8fSSeGNT1FrANc6dOIWhRiFkJCkEEjI+93rQfwZHPpslpd6rf3GXjkjldk3RFDlSuFA6juDmi28EWMGmX1nJdXU/2+dZ55ZWG8sNvoMD7o7UaCILnxFr9qunwSaRam91CZ0iQXHyqoTdknH14rY8Pawda0OC+miFvI5ZXj3ZCsrFSAe/Iqe50qC6vrC6kLb7FmaLB4O5dpz+FZVz4MsbnSrWwM9zHFa3f2pSjgEtuLYPHTJoAz/EfjLUdK17+ztO02G5AEIMkkpX5pSwXjHQbOaqv8QruSykvrLSkktLO0jur0vLtZQwJIQdyACa6K98L2V9qRvpmlEuYTgEY/dlivb/aNZkvw702SNIY7q8hgMCW9xFG4C3KKTgPx7kcY4oQzM1zxbql1MV0m3WKwt9Tt7Sa583DliylgF/u4YD8asRfEGWfxAbSDTWks0vPsbSqGL7s4L4xjaD71oXfgSxutUN0Lu7hia4juntY3AjeVMYYgjPYd+1WYfCUNrq73lnf3lvFJP8AaJLRGXy3fueRnnuAcUaCItHeaPxxrdq1zNLAsFvKkcjZCFjJnHoPlFdBcSmC2klCNIUUtsXq2OwrJvtCb+2H1nTp5Y73ygjRbwIp9udofgnjJ5GOtRwP4luJhFf2ljDbvlXkgnYuo9RkdaXQZi2HxCMvhvUNXvreBRaQiX7NDNmVc/wupGVNWtE8R3PiWG/sb60kspI4g6zQFgpBzwGIHzDHP1qeDwLYBL4ahc3OoPfQiCSSdlBCDJAG0DuevWtLSNDbSllEuo3d95ihR9pKnYBnptA9aegjmrXxbNo/w20O/uQ17e3qxQpvJ+d2UnLEDpgGp4fHF3PpcGzTP+JlcXn2OKNiyxsdpbfuIztwDV1fA9kmkf2ct3d+THMs1qS4zaMM42HHTk9c1NN4TiudLjtbrULyWeGf7RDeFlEsb4IyMKB0JGMd6AKOv6v4ksrXSTFa2sU094sMy+dlTnOADjocfUVb8Rajf2NjpzvEE825iScxS4KEkDAyOR+VWbnw3HeaLHYXV9dyyRSiZLssvmq4OQemO/TGKh1fwr/bFpaQT6vfxi22ndGUzIwIIZsqecjtgUAVNc8W3un6lfRafpyXNvpkSS3jvLtYBuQEHc4yaq3Xjm8i1C6MGmRvp1nNbxzTtLhyJguCFx23Cr9/4ItdRm8ybUL1TLEkV3sdR9rVem/j+WOtWp/CWnzw30RMqpfSwyyBSODHt2gcdPlFAzb3DkAjOOlctoOq69d+LNYtL6G3FpayxqNsmTGDGG445yeeelasPh+3h8Uz66s05uJ7cW7Rl/3YUEHIHrxQmgRQ+IpdXt7q4iecL58CsPLlKrtBIIzkD0I6UgMrTPE+qalNezrp0EOnWc08LTyT4ZjGSN2OwyKj8N+M5tb1SfT5baETLbfaYXhdijrnbjJA7kcjitm38PWdvpN7p4LtBevK8uTzmQktj8zWfpXgqDSrx7uPUr6a4a0+yJJKykxx5BGAFAyMd809AM+38UXdj4T1DUpLZri5hv8A7P5DTZBZpQgAbAwPmra8Pa1d6nNf2upWsdtd2MyxusT71IZAwIP0aqNp4Ft7e0uLaXU765huJlndJWTiQSB9wwo6lauXOnX+nX91e6DDBPNfSK9wLmUqF2oFG3A9BQBF421LVNK0EXGjrH5nnxIzO2MBnUccHOc4qnrvi++0VdPtHsoX1G7V3Kh2aNFXvkDJzx2rROn3+u6Vc2PiOCCBJMbDaSkkEHIOSOCCAaZdeE0urez36nfC8s9wjvQyeYVbqp+XaR+HagDJu/H08VnpcyWKW322N3dr5zEkZU425x1OMjParOr6xrsPirRrXTobZ7a7jlZlaX75CA9ccY7Y61b1Lwimp6fFZTapfLCsRilAZD56nruyp556jFWdR8NW98lh5VzcWcungiCaBhuUFdpHIIII9qBGwudo3cHHOK5aLxdNL4ym0ZoLeCOKQRgzylZJflB3ICMMOcfgatzTeKUmZbay0+SJThHknYMw9SMdaa3hVbvWINSv725kaKQTLa7l8pJMdjt3Y/GgZn2XjO+n1GD7VpkcWn3F69jHMsuX3gkAlcdCRirnhuSdfEWv2slzLNFBOnlCVs7AUBIHtmqeg+B/sd59s1K7nkMd5LcxWu8GJWYnDYxnOPfFbY8PxR6/NqtvdXEEk6BZokYbJCAQGIIzkZ7GjoIztG1PUbqTXlMQN3a3XlrE82Yx8ikYOOBz785qHwrrer3Xgcapq8cTOLcyI6NkyEZ6jAx0FXtG8KjRtSubxdVvro3TF5o5ym12wBnhQc4Aqxo/h2HRraa1huZ5rSThLeYgrEOchcDOOe5NJjI/Bvmv4Q0+a5maaa4iE0jsc5ZuT+HNa+of8ge5/wCuTfyqnoWlf2Jo8OnrMZY4MrGWHITPA/AcVc1D/kD3P/XJv5VcfjRnU/hv0ZcooorM1CiiigDG0P8A5iv/AF/yf0rRrO0P/mK/9f8AJ/StGt638RnNhv4S+f5hRRRWJ0BRRRQAUUUUAFcd4t0HU7/WIbzRIWiu1jWMXYuAqhd+SroQdw+nrXY1BcXaW8sMbAs0z7QB246n24o2Gk3ojzubSdT1XxJ4jsrazgMU19aO9274MeyONjgdT04x61MfCevz+KrS7uVDJb6jJO1wbngxEOFVYwOCAwB+ldlea1a2WpQ2W0yXE/O1MfKOBk/mK06FJdByhJJN9TjNO0HVIdEvdCns4EjkFwEv0kGT5hYg7cZz83PNHg3wxLo91HJd6d5E0FqLf7R9sMofBHRewOM110dzBLIyRzI7qMlVYEim/bbbypJBPGyx/fIYHb9aLi5X2INU086jbrEJFTa2csgb9DSaTpp02F0Miyb2zlYwmPyqezvrfULdZ7SVZI2GQQaknnitoTLcSpFGvV3bAH40rK9y3Oaj7NnOeM9GudVhtXsLaSS5gLmKaK5ETRErjuCCD3Fc5qWnazNr7WItLe+u5vDy200sjBFRmdxuHHI9hXoUmoWcUCzS3UKRMMq7OApH1olvLSCSPzriGN5eE3OAX+nrTMzzzW/Buv3n+ixgXESpbrDIbnYsYTG7KY+Ykg4Oe4roNP0rVNK1+/YWNvd21/cJN9oMoV4QEVSCCOcbcjHrXSzXltbMi3E8cTSHCB3A3H0HrQby2F0LYzxidhuEW8biPXFO4jh/DXgyfSdUtxeWRm+zTSyJe/azg7iSD5frzg1uaNHcW/izWxNayrFcSJLHMV+RgEAxn1yKvrq5fxLJpKWzERW6zyT7xhQxYAY7/dNQnxNZC21ibbJt0dmW446lUDnHrwaFdga+xQpCgLn0FcjZeHbw+BJdA1K3XdBEyQyRTf63qQfbr0NdNb6lZ3NqZ4riMxqMud4+TjOD6U8X1q1qblbmIwDkyhxt/PpVRlKDuhNKW5zOom9v/AK2S2NwLq4jFuyFACp6EnsB710tpZQ2dnFbRL+7jA2hiWx+JqWKaOeJZIJFkRuQynIP41n6vrcejy2Ynt5pEup1gEkYBCMxAGfzq5Tclypdbkxgo6jdQbWhrmnDTktzppL/AG1pD846bdv61DPpEsnjO21MInkR2kkLHvuZlI/katatqp037Kkdu1xLdTCKNAwXnBOST9KP7VK6+umS27IZITLHLuBDAEAjHbqKhQla/qVzLY0LKL7LZpEz7iuefWrG9fWshNZt38QS6OA/2iKBZ2OPl2kkD8eKvswVSzEADkk9qi1irljevrRvX1rA0rxNZazfXkFkHaO0do3nONjMpwQOc/jWjFe2s9uZ4LiKSIdZEcFR+NAF7evrRvX1rOOqWAUsb23wrbSfMHB9PrStqVisCzNeQCJztVzINpPoDQBobl9aNy+orJu9b06xvLa2urqOOW6JESk9eCfw4FNu9YhttWsdPVGlmvNzDaeERRyx9s4H40WA2N6+tG9fWs19QjXVI7EKzSPGXLL91cY4PoTmo7TVUutVvtPMTRzWmw/MeJFYZDD26j6iiwGtvX1o3r61h6Nrf9rTahE1s1vJYz+S4Zg275QwII9iK045UlXdE6uucZU5FAFnevrRvX1qCigCfevrRvX1qCigCfevrVKHStNgujcw2kKTE5MgXmpqKak1syZRjJpyV7E+9fWjevrUFFIon3r60b19agooAn3r60b19agooAn3r60b19agooAn3r60b19agooAn3r60b19agooAn3r60b19agooAn3r60b19agooAn3r60b19agooAn3r60b19agooAn3r60b19agooAn3r60b19agooAn3r60b19agooAn3r60b19agooAmLr61EOtJSjqKAM6X/kcbb/AK9X/mK2Kx5f+Rxtv+vV/wCYrYrWrtH0/wAznobz/wAX6IKKKKxOkKKKKACiiigArHsf+Rq1b/rlB/Jq2Kx7H/katW/65Qfyatqfwz9P1RzVvjp+v/tsjRPU0lKeppKyOgKKKKACiiigAooooAxfEnii08MwQyXkNxN5xbasCbiAqlmJ9gATWYvxD057e3eKyvpJriVoktlhzJlU38jt8pBrQ8S+Hm19IVWdYfLSZeVznfGU/TOao6d4Nex1iC9N2riKZpNmzGcwrHjOf9nNNW6gTaj4riXw5Z6pZLKI7uaNA7QlvLzIFIYZGOcj61Z1PxRbabq8WmC2ubq6eETMlum7YhO3cfxB4FZV74R1R/CtvothqFrGsc/nSSSwM24ibzVAwwxzwetJ4h8I6p4gjthPd6ekiRhXuFtWEiMGzmNt/HGODmjQRevfFU1r4rg0ldLupY5ITIZUT3HTnpzzXSDkVhahot/Jqun3+mXkMUtrEYZBcRFxIhxnoRg8danGn6n/AMJUL86l/wAS77N5f2HZ/wAtM537vpxikMxJvHS3Gv6fY6bbzGCe8a3e5eI+W+1TuCn1BH86vweMrSbV/wCzntLuGdlcwiSPHm7Bkge/1rMtPBOo2upWajU4TplldyXMUPkHzMvnILZxwWPaotE8A3mma9YXs99ayRWJmI2W5WWbfnl2LHJGfSmBp+H/ABdLq9vfyz6XdQi0llUER53Be3X73tV3RPFFrrd5cWkcM9vc26q7xTLg7WyARj6Gs7/hFdQFjrenJqMSWWpea0e2IiWF3HPzbsEfgPrUGgeFL7w9fX+pyS2s0slmkMdvZwGIZQsQeWOSd1GgHZVi+JPFFp4Yt45byGeYSByFgTcQFGWP4CneFI9Wj8M2Y8RS+bqJUtMcAYJPTjjgcVF4n8Ot4giREuFh2QzR8rn/AFibc/hSBFIfEDT3tYJI7K+eaed4Etlh/eb1UMcjsMEHNS3/AIti/wCEXttXsklWO5ZQGeEt5WWwdwyMelMsfCD2mrxXpulYR3Ms+3Z13xqmOvbbn8arX3hHVJPCsWi2GoWsa+YzyySwM2fn3ADDDH61WlxGrqnim20vVItOFtc3d1JF5pS3TcVTOMn/AAqtqPiuax8WWmkJplzNHPBJIZETPKlOnPT5ufwql4h8I6r4htoEuLrTklWPY9wtq4kjbP3ozv47cHNamqaHfTarp2o6ZeRRT2cTwt9oiMgkR9pPQjB+Qc0gN7tXM6f4rmvPFmoaQ2mXKR2oj2y7P7wbJbnp8vFXzp2p/wDCWLqH9p/8S0WxjNjs6yZB37vpxioP7EvofFlxqlndwrbXkcaXMMkRLfIGAKsCMfe7g0DG2/i+zm11dKltrq2mkLCJpo8LIV649PXnrUMHjrT7hrp1tbxbW0aRJrpoSI1ZCQRn8KydK+H97Ya9ZXs1/ayRWcsjjZbkSzb8/fcsckZ9K2E8MLb+ENT0meVpVupJ5S0S4Yb2LAAdyM0gIoPiBpbwXUl3Bd2X2WBbh1uIipKMcKR659KafHdvNo2o3NnZXJurFA72zp8wBBKt16cVzWmeG9U8Ttqia00iRSWcNvFNJaGH5kbdnYxJPIGex7V1emeGriHTNQtr82CtdxeVusrYxYGCMnLHPWm7Ah6aze6t4Kl1G1glsbr7OJk81BgnaG4HPB6VraRqC6rotlqCDat1AkwHpuUH+tZMOla1b+DZtLe5tbm5EIt4JEjMYC4C5bJOTjJrY0yxj0vSbSxh/wBXbQpEv0UAf0odhdC1RRRSGFFFFABRRRQAUUUUAFFFFABRRRQAUUUUAFFFFABRRRQAUUUUAFFFFABRRRQAUUUUAFFFFABRRRQAUUUUAFFFFABRRRQAUUUUAFFFFABRRRQAVHqH/IHuf+uTfyqSo9Q/5A9z/wBcm/lVw+JGdT4JejLlFFFZmoUUUUAY2h/8xX/r/k/pWjWdof8AzFf+v+T+laNb1v4jObDfwl8/zCiiisToCiiigAooooAK5/xEJDqGmvDYT3DQTiRpIkzhdrDGfqRXQUUmrmlOfs5c1jDk01bjxZbXzWg8v7IwZ2Xo+5SM++Aa2pATEwHUqcU6ihKwSqOVr9DjLfQLq3tbb7NbmG4aC4SVxwctkrk/XFSaPpUklyc6a1pCtgIJVlAxLLnr7/WusllSCF5ZTtSNSzH0AohmS4gSaI7kkUMp9QeRUKmkdLxdRxd1v/w5k+GITa6Uls9k9rLCAjllADkdwe9U/HFh/aGjwp5N3K0c6yL9lQOQR0LKeo9q6WirSsrHLUnzzcu55dcJcq3hldd0I3Uqw3e+zt4hx/dbZnGcYyM8E1V1fRNeOhwWMumTzldLKQmCNHZZSzkIztnAUFenvXqUz2q39uJQv2lgwhJHOMfNg1Zp3Is0cCNOuLTxAlzq+iz6pHNYQRRMih/Jdc7gQTxyc5qlH4cuR4vuJL+21Jnk1FLiC4gVDGEG3ALEbgBggj0+tel0U76iOct38r4jXiukgE2nwhG2HaSryEjPTPI/OrPiPSxP4V1qDT7dftF5bSghBgyOUwM+/QVtYGc459aKE7DPOr7QL7TI75dE0tfJl0+1RoxGGDMrvvwp4LBSOvtVK10G7k0bVku7DU44JL6Ke3RY08w7QPmKDjGRyK9SorT2jI5Ecv4b1VNK8PW8XiOa0025LOVicrCWTPDFc8E96d4kkXWdDt7nRGTURa30M7LbOGLBGBYDtnHat+4sbW7YNc28cpAwC6g4p0FtDax7LaJIkznagwM1PMr3HZ7HM61uGpaJrEi3SwrLiS3dMiLKn5io6EdM1LfwnUfHFgIXmiW0t5GlkjBGSSmFJ6EHB49q6YgHqM0YGc45rRVrJabJr7yHTvfzsRC1gW6a5ESCdlCGTHzFR0GfSs7Tb291C71O21HTGtbeCXy4JHbcLlOfmx2Fa1FYGpwI8L3MXgjxBa2diIby5u7holX5TJGZMgA+hFVjot5eaP4oOn6RPp9ve2sUVvaONrM6g7iFHTqB74r0eijpYDzzxX4MSaztoNJ0tSiWkoKxrj95hQuffrzWfd6HqlparaLpUz2f2i7YCCFHdSzfuwN3CqRnnHpXqdFMDzlNBuoNE8JXN9pEl3PYhUu4goeRR5RXv1wcV0N3DLD460m/EDm3ls5LUkL/AKpiVcZ9OEIrpaMUXA4zUGnj+JFnew6PePDHbvBLcRxDaxYrtOc8gAGtKwjefxzqd75bpDBbR2wZlwJG++SPUDIH510NGKQHK+E90moeJJ/LkEc19mMuhXeBGoOM+4NXfB9sLTQBGulyaWPPlP2eSQueXJ3ZPr1/Gt0ADoMUUwCiiikAUUUUAFFFFABRRRQAUUUUAFFFFABRRRQAUUUUAFFFFABRRRQAUUUUAFFFFABRRRQAUUUUAFFFFABRRRQAUUUUAFKOopKUdRQBnS/8jjbf9er/AMxWxWPL/wAjjbf9er/zFbFa1do+n+Zz0N5/4v0QUUUVidIUUUUAFFFFABWPY/8AI1at/wBcoP5NWxWPY/8AI1at/wBcoP5NW1P4Z+n6o5q3x0/X/wBtkaJ6mkpT1NJWR0BRRRQAUUUUAFFFFABRRRQAUUUUAFFFFABRRRQAUUUUAFFFFABRRRQAUUUUAFFFFABRRRQAUUUUAFFFFABRRRQAUUUUAFFFFABRRRQAUUUUAFFFFABRRRQAUUUUAFFFFABRRRQAUUUUAFFFFABRRRQAUUUUAFFFFABRRRQAUUUUAFFFFABRRRQAUUUUAFFFFABUeof8ge5/65N/KpKj1D/kD3P/AFyb+VXD4kZ1Pgl6MuUUUVmahRRRQBjaH/zFf+v+T+laNZ2h/wDMV/6/5P6Vo1vW/iM5sN/CXz/MKKKKxOgKKKKACiiigAooqtLqNnBfRWc1zElzNkxxMwDPj0HfpQBZooooAqaqrPo16qAszQOAB3O01yOhRtHC62CXSINLInEoYfvscYz369Pau5owB0FQ43dzppV/ZwcLbnFXmlXFr4St5bNrgTzCL7W7FnYrkFuM5/LtUDLJBoyRCVri3ku/vmCQLANnTbnJBPvjJrvMUm0YxgflS9mjZYyVrNdb/wBeh58sGtXWj6Z9jaRbhGuRukQhtnOAM/dJHAJzXbaRIkmk27RJJGuzGyTO5SOoOe+auYHpRTjHlMq2I9qrWtq/xuFFFFWcoUVHJcQxTRxSSKskpIjUnBfAycetMivrae7mtoZVeaDHmqP4M9M0AT0UUUAFFFFABRVTUdUs9Kijkv5hEssgjTIzuY9B+lTNdQJcx27yoJpFLJGT8zAYyQPbI/OgCWiiigAoooJABJ4AoAKKijuYJbdZ4pUeFhlZA3BH1qWgAooqs2o2aagli9zEt067lhLDcR6gUAWaKqXOqWdneQWs8wWe4/1cYGS3v9PeltNRtb2aeK2lDyW77JVxgqarlla9hXV7FqioobqC4klSCZJHhbbIqtkocZwfTipScDJqRhRVaz1Gz1ASGxuYrgRtscxuG2n0OKs0AFFFFABRSb137Nw3YzjPOKiN5bi+FmZV+0FPMEffbnGfzoAmoqNbiJ53hWRTKgDMgPKg9CR+FRQ6ja3Ni13BMJIE3bmXnG3g/lg0AWaKrafqFrqlkl3YSiaCTO1174OD+oqzQAUUVHLcQwsgmlRC52qGbG4+gpgSUVAb62W/WyaVRcuhkWM9So4JH51PSAKKKKACiiigAooooAKKKKACiiigAooooAKKKKACiiigAooooAKKKKAClHUUlKOooAzpf+Rxtv8Ar1f+YrYrHl/5HG2/69X/AJititau0fT/ADOehvP/ABfogooorE6QooooAKKKKACsex/5GrVv+uUH8mrYrHsf+Rq1b/rlB/Jq2p/DP0/VHNW+On6/+2yNE9TSUp6mkrI6AooooAKjeZVVyPnKDJVeT+VNuxK1lOtucSmNgh9GxxXHeArext44o5NMu7fWY4CL2eaFgHfI3fOeGy3I9qAOn0rWrXV9Pe8txJHGkjxuJl2srKSGBH1FN0bXLXXYJJrFZvJViokkjKh8HGV9RxWDoMAex1nRdRsZtxubib95EfLkR5Cy4boeo4o8MWo8MfD/AO0waW5uY4mke3jQiSRgTgY9aAOovr6DTbGa8vH8uGFC7t6ADNVrfWoLjR/7SENwkW3cEeIhyPZetY3iSH/hJPh3NJNp0gnmtvMS2dSXjcjpj1qn4osLOx+HgsoNOlaRoR5EVvAzlZNuc4HT60AdXc6paWjWq3Uoia6bZErdWbGcfkDUeo6vb6bLZxSBnlvJhDCiDJJ6k/QAEn6Vx3iO0tdY0/QNVk0u4uY7WdRcK1u3mBNpH3OpG4g1q6v5cGu+Fr6OFks45JIsFSPLMkZVMjtzgfjTsI6rcOeRx1pa858VWV7c+LvtNlZXj6ZAYhqaRkj7VhsrsXHzbeCcdRxXoCXMHlriRQMDAJxil0GRw6laXF9PZwzK09vjzEH8OelWPMTdt3Dce2a4nTdIstL+I1/I+luv2pY3trhISUBwd2WHAP1p2l+Ho1vdf1a4sGmvxeyNamXPKiNcBfYnNPoB2iyI+drA464PSoba8juvO2B1EMhjYuuMkAHI9Rz1rzPwbDc23ikXLWdxFatYSfalSxeFA4OQuCTuPXnvSgNdeEPEulWOn38Jnu3lt0Ns6ZiIQfKSPY8U7CPUldXGUYMPY0tcTpcUfhG88R3C2rwaZb2sVyqgEKzBW34J78DNdRouprrOiWmopC8C3MQkEcn3lB7GkMvZGcZ5oBB6VyXj+e40nTbbX7FfMn02XJizjzY24Zfr0P4Vp+GbU6R4dtLa/mVrsp5k7M33pG5Y/nSA0bjUbW1vILWeZUmuCREp/iwMmp2kRBlmAHua43xhpljNruj6rcac17BE7pO0MRlYAr8uQOcZp2peH4Na8d2LX1m8unx6e+FYERh9y4BHrjPFMDsPMTft3Dd6ZqE3sY1AWe1/MMZk3bflABAxn156V5hrdpeHxhutdPlimgv4RC0Nmx3QjALmXOMY4xit6W7ig+KBlhsb1Uks5LeWZbV9jS712/NjGMA80IDtxIhbaGBb0zVPTdVh1NrpIlaOS0naGVH6gjofoRyK4Pw9oE+nahod8tnPHcy3VyLuRlOdh3EbvbgYrpPDSmfxL4jv4/8Aj3luI4U92jUq5/Pj8KLAdNRRRSAKKKKACiiigAooooAKKKKACiiigAooooAKKKKACiiigAooooAKKKKACiiigAooooAKKKKACiiigAooooAKKKKACiiigAooooAKKKKACiiigAooooAKKKKACo9Q/wCQPc/9cm/lUlR6h/yB7n/rk38quHxIzqfBL0ZcooorM1CiiigDG0P/AJiv/X/J/StGs7Q/+Yr/ANf8n9K0a3rfxGc2G/hL5/mFFFFYnQFFFFABRRRQAVzHi2WG01bw5d3LLFFHqJ3yscBQYJQMntyRXT02SJJk2yoHX0IzQB5j4k8VXkHieX+zr14lgvbaDynuRiQPtzti28jDHnNaI1fW/wDhLJPDwmkaS3ne9aXH37YqSqZ/3yF+gruWs7ZpBI0EZcADcV54qpY6LBZapd6h5ks1zdYDPK2dqjoi+gpgcP4L1TXNQ1W3nvdUhcTeb9ptGudzKRnAWPaNpUgDqavaQmrTeEb3V5tdmF1J9oWLzmAhhxIyqcY7YHNdslrBHM0qQosjdWC8mneVH5Zj2LsPVccUAcZ4T8RrHoeqT6rPO/8AZuGuJGnFwuNgYlGAGR7dqm8UeIo30PSrjTp5Y49SlHlyifyFC7S3zMQcDA/OurjtYIoTFHCixt1ULwaHtYJIRFJEjRjopHAoEeWWPiS7v7DRF1TX5LGGZrxZLiOQDzfLJ2fMR7dcDOKS58R38sMLX2uzafIuhm6hVSF8+YSOFJB65Crx3zXpFxodjc31tdSxAm2V1RMDbhuuR+FDaHZSaz/aUke6byFgCtyoUMWGB65NAzzu81zxFd61In9pQ6a0MFu8KT3HlK5ZQWYrtO8E5Xr2rQ+3aumqXF++p3DLHrcNktsCPK8t1jB478sTmvQJLWCZ1eWFHZPukr0p3kx/3F+9u6d/WgR5fo1/LqPi7w7cXmqST3zzXnn2TMMW+FIAC/w8AfWuk0V2jsvFJjmSC9W9mLSydEPlrtY+wGK6pbS3SYzLCgkPVwvJpqWNtHcTTpCglnAErAcuB0z+dIZ5j/wkl/B4R1dX1KeO9tfI33a3KzooZsFlIAx0OV7cVO/iG5t7PULeDVJ722F7BDb3huAmC65ZTLg8D6d8V3uoaFY6hpr2UkXlwu6uwjwMkEEfyq0LG2W28gQR+V/c28UxHm+n+I7+60O0S91VoLVtWltZb+OQMRGoBUb8DqTjdipPEGqaimpafYaZreLFrWSRLyS6EfnOGx9/aQdvp3r0U2luYTCYU8s9U28GkaytnhWJ4I2jX7qleBQM5W+kuJdO8JyX80U87X0JkliOUc7G5HtXRXGj29xrtpqzl/PtIpIowD8uH25yP+Ain3+k2Op28cN/axzxxuHRXXIVh0NXKdxHnlnf6qusQXkmp3EkcuvS2JtmI8sRDdgY9RjrXdak0qaXctbkiVYmKEdjjinzWsU0LRkFAxJ3IcEE9wex96zrbw7Fa3KTC/1GQoc7JbpmU/UHrTbTQldM4K68ZXlzpedO1MvLHoH2iVoyDtm3IMn35PFdFYTT2d3r+najq87wW8EEiXEzgMhdWzhvTKj866tLK2jBCQRqD1wvWnvBFIGDxqwf72R1qnNNWSEos86u7gax8Gopkv3MsMMTTGBwDncud2Pzq94nv57TS9Pl0rWRNbKzvLm8WOSdQP4XwQcHtXbR2sEUbJFEio3VQODTWsrV41jeCMopyFK8CjnQcrINEu1v9BsbtfNImt0ced9/lQfm96w/EssNn4s8O3Vy6xRCaRGlc4AJjOATWreeH4ry5Mxvb+HIA2QXLIox6AVdisoo7SO3fdOsY4aZt7H3JPWpuk7j1tYwd0x+I8f2ry9n9nv9nKdx5iZz79KktDcf8J3qIthH9m8mLzy33g2Djb+HWte50uyvLqC4ubdJJrc5icjlPpTrTTrSxlnktIEie4ffKyjl29TWrqx5flb8TPkd/ncr6fpFtpNzqN1Azlr6Xz5txyAQoHH4CqcWr2XijwvdXOlXMywkSIJEGxgykg4z7it3r1pkcMcSFI0VVPUAcVzvXc2Wh5vaGXRvAehLFqM9rBfTxrdXJYZiUgng4+XJAGfepF1bVbnwmFttUm51dbWG+GC8kJkAJz0PUjPtXobQRPD5Txq0f90jihYIljWNY1CL91QOBT6geb+Izq1hr8Wn2uuagIY4bclvMG5jJcFGycf3eBWZrHi7UoNPjkh1CWK5tbSORmkuQglYuRxHtO8nHPIr1xoY3bc6KT6kVG9lbSMrPBGxUYBK9KAONeNE+I9rcXmpz24udNRo1MoVXfzOUH+HvWjpeR8R9a8/PmG1gMOf+eeW6f8AAs10jwRSFS8asU5UkdKabSA3i3RiXz1TYJMc7euKAOX0TVLdvHerWa6klwphiaNWkBIbL7lGPTA47VY8H/8AH34gKf8AHqdUfyvT7ibsf8C3frXQJZ20cvmJAiv/AHgvNMj060hsGsooES3cMGjA4O7OfzyaQGN4E/5FOHH/AD2m/wDRrVb8TT6jBotw+lxqziJyWLlWXjgrgHJq/Yafa6XZR2lhAkFvHnZGgwBzmrFJq6sXTlySUmr2KunPdyWatfxxxy+kblhjHrgVzXjcabBc6Rd3TRJdJfw7XdsEJu+b8PWuvqOW3hnx50avjpuGcVtRn7OakzKqvaJpaXOc1mRJfF3htrRlaVjMxZT1i2Dd+GdtdPUAsbYXi3YhTz1Ty1kxyF9PpU9ZlBRRRSAKKKKACiiigAooooAKKKKACiiigAooooAKKKKACiiigAooooAKUdRSUo6igDOl/wCRxtv+vV/5itiseX/kcbb/AK9X/mK2K1q7R9P8znobz/xfogooorE6QooooAKKKKACsex/5GrVv+uUH8mrYrHsf+Rq1b/rlB/Jq2p/DP0/VHNW+On6/wDtsjRPU0lKeppKyOgKKKKACjA9KKKADFFFFABRgHqKKKADA9KQqGGGAI96WigAxWI/gzw5JK0j6NZs7NuLGIZJ9a26KAEVVVQFAAUYHtS0UUAGB6UmB6ClooAiubaG8tpLe6iWWGVSro4yGHoRUiqqIFQBVAwAO1LRQBTv9KstTaBr+3Wf7PJ5kQfkK3rVe/8ADWi6pc/aNR0y2uZtoXfJGCcDtWpRQBXsrC0020W2sLeO3gUkiONcAfhViiigAwPSjA9KKKADFIqhfugDvxS0UAFFFFABRRRQAUUUUAFFFFABRRRQAUUUUAFFFFABRRRQAUUUUAFFFFABRRRQAUUUUAFFFFABRRRQAUUUUAFFFFABRRRQAUUUUAFFFFABRRRQAUUUUAFFFFABRRRQAVHqH/IHuf8Ark38qkqPUP8AkD3P/XJv5VcPiRnU+CXoy5RRRWZqFFFFAGNof/MV/wCv+T+laNZ2h/8AMV/6/wCT+laNb1v4jObDfwl8/wAwooorE6AooooAKKKKACiiigAooooAKKKKACiiigAooooAKKKKACiiigAooooAKKKKACiiigAooooAKKKKACiiigAooozQAUUUUAFFFFABRRRQAUUUZx1oAKKKKACiiigAooooAKKKKACiiigAooooAKKKKACiiigAooooAKKKKACiiigAooyPWigAooooAKKKKACijOaM56UAFKOopKUdRQBnS/8AI423/Xq/8xWxWPL/AMjjbf8AXq/8xWxWtXaPp/mc9Def+L9EFFFFYnSFFFFABRRRQAVj2P8AyNWrf9coP5NWxWPY/wDI1at/1yg/k1bU/hn6fqjmrfHT9f8A22RonqaSlPU0lZHQFFFFABRSMcKT7Vy9treqnRLrV7jyDDEZQkCIcnaxUEnPt6VLkka06UqiuvJfedTRXL2epa3d2l2s8fk/6N5sc5i2gN3XG459jS2mpX9n4a024nmSd52hQsVwQGwDk55PPWlzo1eGktLq97HT0VzV14gvEsdTktkiaW2u0t4t3Q7io5/76NSXd1rVvcWNms9s010z7pDEcKAuemeeaOdC+rT6tL/hrnQ0VQ0S9k1DR4LmcKJGyH29MgkH+VYviyKWLVNHvI724jBvIojAsmEIJOSR3relH2kkrnLVvTun0OpozUT3dvHcpbvMizSAlIy3zMB6CvNNQ1K/fxZcTW1xKJLTVIony5CiJtiiMDoc5YmtKNB1W1sZ1Kipq56hRSE4TOCeM4FZ1vrDT3KwnTb2Lccb5I1Cj9a57m8YOSujSoJwMniqWs6h/ZOh3uobPM+ywPNs/vbVJx+lZuirqWqabu12W0uILuEN5UMZATPUZydwxjnigk3wQRkHIoBB6HNcToMt2vwmjexuBFPHBIQ7DdjDN7irfguNNG8FW11qVzCqyxrLJM3y8kDliScn3oEdXRXOeLNZ1DTLK0n0qMvDJJ+/mSHzjGmMghARmqTeJL3UH0O00e6ti+pW8lw148R27U28KmepLevGKBnYUVw+s+I9dtLy7tbWSyV9N09bu4Z0OJ2Jb5V5+UfKeeetWJdd1rUtdsbHSDbWsVxYfa5JJoy5U5ACgZHrTEdhSF1DhCw3EZAzyRXByeLPEE3iC6hsLAzW1ndrbOixA+YON7byw24zwMGtbTybn4jay0zfNZ2kEcAP8KvuZj+JUflRYZ09FcZoPivUdU8W3GiTC1X7AX8+ZCT5wyAuwdsD73XBwO9dddiU2kot3VJdp2sy5AP0pAS0V55pviHV9I+HN3rF5OuoTRSukSFSDu83aMnJyOelWovEPipNG1J30xpZ4BGbeQwhC4J+f5AxyVHI55pgdzRXA6nr2oah8Ob+90/UlW5t5NkkgtzE64YDbt3fKea7C0me10tJdVu4WYAbpcbF56dSaAL1FAORkdK5XxL4qn8Oak0c8aNbz2jNaN3a4BAEf45z+BpAdVRUFi1w2n27XoUXBjUyhOgbHOPxrmhLrB+JEtsNQjFqLFZRCYzjHmEf3uvvR1sLodZRXAaf4w1/UtcY2unM+npfNasojHCKdpffu65GcbelXdG8SandeI59N1Vlsp3Mot7d7c4ZVztZZM4bjBIwKdhnZUiOsihkYMp6EHNcn4Im1W4OpHUr5blI72WNV2EEYPY5PHtU/g0mKXXLKP8A497TUmSAegZEcj/vp2pAdNRRRQAUUUUAFFFFABRRRQAUUUUAFFFFABRRRQAUUUUAFFFFABRRRQAUUUUAFFFFABRRRQAUUUUAFFFFABRRRQAUUUUAFR6h/wAge5/65N/KpKj1D/kD3P8A1yb+VXD4kZ1Pgl6MuUUUVmahRRRQBjaH/wAxX/r/AJP6Vo1naH/zFf8Ar/k/pWjW9b+Izmw38JfP8wooorE6ArM8Rav/AGFoFzqAi81oQNqZxuYkAc9hk1p1X1CwttU0+ayvohLBMu10PcUAYlwurT+GdQ/tvyYpViLxvZSsMYXPXg8H86yvEF/q0fwttbrTrhVme2g82ZnIf5ioJBHfmum07QrbTrOa2SS4uI5hh/tM7SnGMYyxOBioYvC+nRaG2kYmezJUhJJmbaFIIAJPAGBxTEW9ItprPS4YLpt0qj5jvL5/E8mqGpeIWsL9rcRW7BQOXuQh5HpityontYJX3SQozepXNTK72NabhF++rodE/mQo5AG5QeDkVylp4qvZvGE2l3cUFpEJGjhSQMJJgFzuU42n6eldcAAABwB0rHHhiwOsJqUj3Ms0btJGklwzRxswIJVScDgn86Zmzm/Avim41u4m0sgkWrTefNOxEj/vWC7B3UDjP4U+x1yTQfDniG8cy3f2K9ZIY5JCx52hVycnGTXRW/hjTLS5tbi3hZJbUyeW4c5w5JYH1GTnBpsnhXS5Z76R4pCt+MXEXmN5bHj5tvQNwOetMDnLfxtqo0m8k1CzitZo2iEEsiSKkpcgbQMZLD268dKdD461CXwnfXy2EbX9pfR2flMxRXLsgB5GRw4raPgzTXsGtJpb2ZC6OryXTs8ZU5UqxOVx7U+18H6TaafNZxxytHPcpdSGSVmZpFKkMSeeqijQDMvda8UWlxZWAtdOa8ullkLeY2xVRQR2yTk4rd0bWE1HRbG8nKQyXcYIj3fxdwPXmrM+nW1xfQ3kqEzQI6I2egYYNZ8nhPSZBpYaFv8AiVOXtfnPyE+vr+NAjE1rxdq9hrF/Ha2dq9jp7Q+c8jkO4cgHAxjgHNQp461K48SyW1ppZlsYrxbV2VGLHIGXzjAAz09q6e68O6deG8M8TH7bs87DkbtvT6VCvhXT49UN/A1zDI8iyvHFcMsbuMAFkBwTwPyo0Ao2Hiua8OkB4I1N/c3ELAN90R7sEfXb+tV7HxJrVzb6hqNxBY22m2jToHeVtx2Zwx44HHPWtK28G6TaaxHqUKT+dFI8kSmZikbOMMQucDNXf7BsP7IudMMRNrdb/NQsfm353c/iaQznvDviS58SXWoaVqUPlmOBJllh3x7lcsO+CPu9a0/A88tz4J0yW4leaVovmd23M3J6mp9H8L6fol5Nd2nnyXE8axySTzNIxVc7Rlj2yarDQLvR4fK8Lzx28bOWeO63yqvsgz8o68CmA7xHq+pWN/pljo8FvJPfvIpadiFQKuc8DmuZm+Iepy2+nRWGnRveT2zzzjDOqlW27RgZ5IPPauss9LvJ7mC616S3nubVmNu1uhQLuGDkEnNQyeDNJaO3WEXFu9uGEctvO0bgMckFgckZ7UgMiXWfEV3r+h/ZY4bSG9tZZXtpy24MAmQ3uM8Ul58RIrFdQs54V/tW3lmSGAH5ZNpXbk9i24fka6K88OWN7HZiU3CvZAiGWOdlcA4BBYHJzgZqvdeDdEvNUfULi0D3LyxTM+48tHnaf/Hj9afUOhj2fjHU5tSt5JrO3XTbjUG09Csh80OM/MRjGCVPFWbDW9d1S61NhbWkOnWdzNbb/MbzX2ZG4DGB2q/F4P0mHWBqKRyeYJjOsZlby1kPVwnQN71o2ml2tlDcxW6FUuZnmkBYnLOcsaT2A5X4d+KbjxDpcSuMRWlrEssk7ETSSFclsH+H0Pel8farqEFro83h24Zna9yUhbInVUdinHXOK3bXwvpdlNDLawtG8Vr9jBDn5ohjAb1xjgnpk0zTvCOkaVYafZ2cDLDp0pmtwZCdrEEE+/3jT6iRxWka1rb3cBv7udWuNbizCzY8qN4XfyvoOPyra8cXs8OtaXbxzaksUsUxKacxDsw27TwenNbeoeEtL1JpGnWZHkuFuS8UzIwkVSoIIPHBqWz8OWVlcW86vcTS24cRyTztIwDYyMk+woA5LR11vWNQs9L1/ULuze3sPPkWCXy3lYtgFiO4HUdMmtrU1ks/GHh5Y7mciUSRygyHEgWMkEjpnPOa09W8N2OsXUV1cGeK5hUos1vM0T7T1UlTyOBxT7/w/ZalDaJcecGs2DQyRysjqQMfeHPQ8+tFxnN33ji5s/FMdmsUE9k12tq7Rh9yMR3bG3IPb9as6T4rvbzxNdadexQWux5Vht3DCWRUPDAkbSCOeOmauSeB9Hl1IXrrcF1uBciP7Q3liX+/tzjNWYfC1hFq/wDaTPczTjf5fnXDOsW7720E4X8KOgGX4X8UX2tahc21/Hb20yIzLakOJUw2BnIww9xRo2o6lcaLrbr5Yvre5kQb5GZOADxnkDHatOy8LWFjeS3SSXck8kRhEk1y7tGhOSFJPy8+lGleFbDR2uTayXbfagfNWa5eQMT1OCevvSAwvDTaxH8PZr+aVZ7ueEzq0kztkYyeT074xSX/AIvu9N0Hw+ljbedd6lCGzJuk2AJuJOOWPaulk0CzfQl0hDPDaqgQCKZkbb6bgc1SHgvS10+3tA94Batut5ftT+ZFxtwrZyBjjFPqIzJPFetS6bof2XS44r/U55IXjuWZVj2Bju6ZIIXOPerd813ceIfDtnqDrG372eZYWOx3RflH0yc/hWtHoVnH9gJ82RrBmeF5ZWZssCCST14J60/UNJi1C8sbpneOaxlMkbL7gqwPsQaA1Mg6nf2mr3zBUktFvIojvY7l3Kg4H45rR+1TJ4hljmx5S23mJtY9M9x61Zk0u1k83ch/fSrM/PVlxg/+Oiozo1sdQ+2F5/N6f65tuPTGcY9q5eSotn1/zO11KUlqraW/L/gmImt35ure9ukjW2NtNMkcbkkhRwD70xtdv7O8nur5EYCyWSKGJyQSzEDPv71tQ+HdPgmMipI3yMgV5CVVW6gA9BSReG9Pi835JJPNj8pvMkLYXsBnpWXsq/f+rehv7bDfy/h5+pmr4i1L7I5ayXzfNiSNmDKrbzjuM8Vr6Rez3kdwt2iJNbzGJvLOQeAc/rRHotskYRmmlAdXHmSs2CpyOtJLZXUEkjaW8UfnOZJfNUtlsAcc8dK1jGrF3k7mE5UZpxiref8AXzIfEZZNPjljkeN0njAKsRwWAOfWq+u67PpcmLdY5dkXmuhDFsfgMAcda0BZS3ljJb6uY5Q548oFcfr1qG48O2N0uJjOcx+U/wC+b5154bnnqaVSNV3cNLjpzoxsqmtr/oVp/EMkMskPkqZn8s2y5+/v45+mOahXxHeS6u0MNmXt47jyGIBz7tnpj2q62jmXXba7kEYhs4ysIHLEnHJ+mP1qwNHtlvWuYzLGzPvZEkIVm9SOhpctZvfS/wCA+fDxXw62/H+vzK9rf6jd6rcRxwwLa283lsxY7m4zwPxrSuZXhtZZI4zI6KSqD+I+lR/ZPIjuGssJNMxcl+Ru9f0qslvqkjbLyeBoWBDiNCrfgc8VquaKs9WzF8kndWSRX0jVrnUrScv5AuEUERjcChIPDAj9abaahMnhkXhaNHUsXMrkjgnv1q5Bo1tAs4R5i84AeRpWL4HQbuo61CPDlj9hNoTOYS4faZmOCPTnjrWfLWsu9n/wDVzoNvtddPvKE3iHUILGy8yzVbq7LELgkKg7kDnPI4pZvEV7HaWkr2q2/mBvNeUMVQg47DPPXNakmi20sEUbtMWiYskvmtvUn/a60k2iW88CQyS3GxQVOJmG4Hrnnmk4V9bSKVXDaXj3/X/gFG88Sta3IiEdq42qdzXQXORnpioBfa1J4wjgje3Fo9p5uwknjcBn681vCxtVVV8iMhQFGVHAHSoLrRrW7v4Lx/NjngXarRSFMrkHBx1HA4Nd1F8rfOcVZwlFKmrP8zJ/4SeUJETCmZNSkssbv4VD/N9flqvo3iXUr+6tF1C2t47bUPMSIwyEspXPX6gH6VpP4S0xtQN6FlEolM6r5rbBIQQW29M8moPD3hK30ZYppmea6j37SZGZE3Nk7VPAzXVzUOR2Wv8Aw/n6HLarzIpWOrvo3h3WruQy3ItLyRI0dyx+8Aoye2TTY/EuqTeHdYmurTyJrW1MkMqoyqxKnjkdQa3W8O6e0l4zRuVvRiaPzDsY8c7egPHWnWuhW1raT23mXE8c6bHE8zSfLjGBk8VE50pRemrKjGaktdDD1C1+z/DANFcTCWGyEyzJIVYvtyWyPUkmn+IPEl3o+n6eLHyZbiaHeUkV3ZgFByAo/Mmtq20a3g0BdIlLXFssXk/vDyUxgD8uKz5vBWlz2tvC8l5/o6NGji6ffsbqhbOSvtXMzZGUfH7xWEF3c2aol3p32i2Ab78+ceV+ZGKrXfjvWItYe0ttJE32TyVulRXYs7qrMFIGBgN361qX3gyO5udDtI0iTSdIkEyKxLSFwDtHPbkHPtWldeF7C61RtQ3XME7lTL9nuGjWXb03AHB9Oe1GgjPbXNbu/FlxpmmWtqLa1SKSWWd2DEN1UADrgVHoviq+v/FE2m38UFoFeRY4H3CV1XowONrA9eOldFBpltbajcX0SET3CqsjE9QvTiqVt4YsLfWF1LfczTxljEJrhnWLd97apOBn2oApeGpnXXfEOnFi8Fvdq0WTnaHjViv5kn8af4NlkFpqFk7tJHY30kMTMckrwwH4bsfhWnpmkxaYbt43aSW7nM8sjdSxAA/AAAfhS6PpMOjWH2aBmky7SPI/3nZiSSfzoGXqUdRSUo6ikBnS/wDI423/AF6v/MVsVjy/8jjbf9er/wAxWxWtXaPp/mc9Def+L9EFFFFYnSFFFFABRRRQAVj2P/I1at/1yg/k1bFYMF3b23ivVPtE8cW6KDG9gM8NW9JNqaXb9UcuIaUqbff/ANtka56mkqqdVsMn/TYP+/gpP7VsP+f2D/v4Kj2c+xr7Wn/MvvLdFVP7VsP+f2D/AL+Cj+1bD/n9g/7+Cj2c+we1p/zL7y2RkYqtFp9rDYtZpEvkPu3IeQdxJP6k03+1bD/n9g/7+Cj+1bD/AJ/YP+/go9nLsNV4LaS+8ZZaNZ6eHFujAOuwhnLAL6DPQVGPD+nCweyEJ+zuwbZvPykHIx6fhU/9q2H/AD+wf9/BR/ath/z+wf8AfwUvZS/lL+ta35/xIYdB063tJLaODEUkglcFidzggg5+oFW5bWGa4inkTMkOdjemRg1F/ath/wA/sH/fwUf2rYf8/sH/AH8FHs5diXiU3dz/ABJrW1hs7dYLdNkakkD6nJ/U1R1Xw9p2tSRPqETSNCcpiQrg+vHerH9q2H/P7B/38FH9q2H/AD+wf9/BVxjUi7xTREqtOfxST+ZG+i2EmpWt+8O65tEMcMhJyqkYP86ik8OaXLqw1J7YG53By2TgsBgMR0JHrVn+1bD/AJ/YP+/go/tWw/5/YP8Av4Kf71dyeei+q/At0VU/tWw/5/YP+/go/tWw/wCf2D/v4Kj2c+xftaf8y+8syxJNE8Uqh0cFWVhkEHtWbpHh3TtDZzp0TxhgF2mQsqgHOFB6DntVn+1bD/n9g/7+Cj+1bD/n9g/7+Cjkn2F7Wn/MvvK9n4e02wiuorWDy4rvPmxhjt5znA6DqelLe+H9N1DQDot3bCSwKCMw5ONo6Cp/7VsP+f2D/v4KP7VsP+f2D/v4KPZz7D9rT/mX3kF9oFhqFpBb3CSCOAYj8uVkIGMYyDUM/hTR7iws7Q2ojishi2MTFGi+jDkVd/tWw/5/YP8Av4KP7VsP+f2D/v4KOSfYXtaf8y+8zbzwZod8sK3NnvEMXkj5yNyf3W/vD2NaSaZaR363iQhZ0i8lWHZM5xR/ath/z+wf9/BR/ath/wA/sH/fwUck+we1p/zL7ynP4X0qfVG1BoGW4dlZykhVZCvQsBwce9WG0i3OtHU1LLO0BgcKeHXORn3HOPqak/tWw/5/YP8Av4KP7VsP+f2D/v4KOSfYftaf8y+8zz4W0+3ggOlwx211a7zbTFd2wt94nkbs98nmnWdlr8d2jX2rW88APzxrZ7Cw+u44q9/ath/z+wf9/BR/ath/z+wf9/BRyT7C9rT/AJl95Tj8LaRHFeRLagw3pJniLEoxJyTt6DnnimReFNLhsprVEmMcxUsWnYt8vTDZyMe1X/7VsP8An9g/7+Cj+1bD/n9g/wC/go5J9h+1p/zL7ytbeHNMtdJn06O2BtrgkzK5LGQnqSTyTVHV/B1rqXhtNEjmkhsxMkjgsXLKrBtuSfUCtf8AtWw/5/YP+/go/tWw/wCf2D/v4KOSfYXtaf8AMvvLSqEQKvAUYFYWu+HW17WNLlupI/sVhN9pEWzLPIAQOewGc/hWn/ath/z+wf8AfwUf2rYf8/sH/fwUck+we1p/zL7zPurLxDJdSNa6xbRQk/IjWe4qPrvGanl0G1u7u1vr5d99boF8+MlN3OcYB6Z5wc1Z/tWw/wCf2D/v4KP7VsP+f2D/AL+Cjkn2D2tP+ZfeUl8LaSmqNfx27RzNJ5rBJCEZ/wC8VHBPvTrPwxpdlqf2+GFzcDdsZ5CwTd97aD0z7Vb/ALVsP+f2D/v4KP7VsP8An9g/7+Cjkn2D2tP+ZfeQ2mhWFjqVxfWkRinuTmXax2sfXb0zwOafpOk2+j2bQWxZt8jSu7nLOzEkkn8af/ath/z+wf8AfwUf2rYf8/sH/fwUck+we1p/zL7y3RVT+1bD/n9g/wC/go/tWw/5/YP+/go9nPsP2tP+ZfeW6Kqf2rYf8/sH/fwUf2rYf8/sH/fwUezn2D2tP+ZfeW6Kqf2rYf8AP7B/38FH9q2H/P7B/wB/BR7OfYPa0/5l95boqp/ath/z+wf9/BR/ath/z+wf9/BR7OfYPa0/5l95boqp/ath/wA/sH/fwUf2rYf8/sH/AH8FHs59g9rT/mX3luiqn9q2H/P7B/38FH9q2H/P7B/38FHs59g9rT/mX3luiqn9q2H/AD+wf9/BR/ath/z+wf8AfwUezn2D2tP+ZfeW6Kqf2rYf8/sH/fwUf2rYf8/sH/fwUezn2D2tP+ZfeW6Kqf2rYf8AP7B/38FH9q2H/P7B/wB/BR7OfYPa0/5l95boqp/ath/z+wf9/BR/ath/z+wf9/BR7OfYPa0/5l95boqp/ath/wA/sH/fwUf2rYf8/sH/AH8FHs59g9rT/mX3luiqn9q2H/P7B/38FH9q2H/P7B/38FHs59g9rT/mX3luiqn9q2H/AD+wf9/BR/ath/z+wf8AfwUezn2D2tP+ZfeW6Kqf2rYf8/sH/fwUf2rYf8/sH/fwUezn2D2tP+ZfeW6Kqf2rYf8AP7B/38FH9q2H/P7B/wB/BR7OfYPa0/5l95boqp/ath/z+wf9/BR/ath/z+wf9/BR7OfYPa0/5l95boqp/ath/wA/sH/fwUf2rYf8/sH/AH8FHs59g9rT/mX3luo9Q/5A9z/1yb+VQf2rYf8AP7B/38FR3+qWDaTcqt5ASYmAAkHPFVCE+ZaGdSrT5Je8tu5r0UUVidIUUUUAY2h/8xX/AK/5P6Vo1naH/wAxX/r/AJP6Vo1vW/iM5sN/CXz/ADCiiisToCiiigAooooAKKKKACiiigAooooAKKKKACiiigAooooAKKKKACiiigAooooAKKKKACiiigAooooAKKKKACiiigAooooAKKKKACiiigAooooAKKKKACiiigAooooAKKKKACiiigAooooAKKKKACiiigAooooAKKKKACiiigAooooAKKKKACiiigAooooAKUdRSUo6igDOl/5HG2/69X/mK2Kx5f8Akcbb/r1f+YrYrWrtH0/zOehvP/F+iCiiisTpCiiigAooooAr397Fp9hNdTnCRLuOBkn2A7ms3S9Fiks/tGr20U17cEyymRA2wn+AH0XoPpSXhOq6/DYru+zWWJ7ggcM/8Ce/diPZfWtumm07omUYyVpK5lHRtMyf+Jfbf9+hR/Y2mf8APhbf9+hV49TWPc+JbG21r+y9s8twoUyeVEWWIN93ce2a09pPuzP2NL+VfcWv7G0z/nwtv+/Qo/sbTP8Anwtv+/QrMj8Vxv4sn0X7FcfukVhKIzgkkj8uOtXF8R6cyROJjtluntFJXrIm7cP/ABxvyo9pPuxexpfyr7if+xtM/wCfC2/79Cj+xtM/58Lb/v0K5weP7S58QWtpYpI9rJHNI8zREB1QdUPcZretdf069uLSG1n817y3+0xbR1j45Pp1FHtJ92HsaX8q+4l/sbTP+fC2/wC/Qo/sbTP+fC2/79Cp7q7gsoDNdSCOMHBYiorLVLPUCws5xKU+9gEY/Ol7Wd7c34l/VoW5uRW9Bv8AY2mf8+Ft/wB+hR/Y2mf8+Ft/36FR6xrlpodvFJeeYzTP5cUUSFnkbGcAfQE1ny+N9HjsrS5Vp5ftjvHDFHCS5dM7lK9iMHr6U/aT7sn2NL+Vfcan9jaZ/wA+Ft/36FH9jaZ/z4W3/foVh6h46s7VdJls7ea7h1GUoHjQ/LgNnj+8CuMVqy+ItPga5Wd3ja1tBeSqyHKxnPP1+U8Ue0n3Yexpfyr7if8AsbTP+fC2/wC/Qo/sbTP+fC2/79Csq68c6NaXv2aR5iy+WZGWIlYxJjYWPYHNWLjxVp9rqqWNwJ4y8ixrMYj5ZdsYXd75HtR7Sfdi9jS/lX3F3+xtM/58Lb/v0KP7G0z/AJ8Lb/v0Ku1j2Xiax1HUms7NZ5QrMnniI+UWXqN1HtJ92P2NL+VfcW/7G0z/AJ8Lb/v0KP7G0z/nwtv+/QrLt/G2j3LTmNpxBbhzNctCwiQp94FvXin2XjHTL6O5aIXCvbxiVonhIdkPRlHcHBo9pPuw9jS/lX3Gj/Y2mf8APhbf9+hR/Y2mf8+Ft/36FYt144sY9A1LULaC4km09C0ls8ZV1O0kZ9AcdasDxfYx6HBqN3FcQ+eypHCYjvdyM4Ud/rR7Sfdi9jS/lX3Gl/Y2mf8APhbf9+hR/Y2mf8+Ft/36FGk6va61Yi6sWYpuKMrLhkYdVI7EVBq/iGz0aa3huFmlnuNxjihj3MQuMn6DI/Oj2k+7H7Gl/KvuJ/7G0z/nwtv+/Qo/sbTP+fC2/wC/QrJ1TxfFpuradZizuZVvQzb1jPygDPTufbtV+48Rafax3rzyMgsUR58qflDdKPaT7sXsaX8q+4n/ALG0z/nwtv8Av0KP7G0z/nwtv+/QrC1vxvbWF8ljZpJLP9rit5H8smNSx5Xd/exzWonibTHjjYTHMl4bJUKnd5ozlcfgeaPaT7sfsaX8q+4s/wBjaZ/z4W3/AH6FH9jaZ/z4W3/foVT0vUrnUPEGrRZUWdkyQoMctJjLEn05A/Ok0TVZ7rU9W0+9KtNYzjayjGY3G5PxxkfhR7Sfdh7Gl/KvuLv9jaZ/z4W3/foUf2Npn/Phbf8AfoVdoo9pPuw9jS/lX3FL+xtM/wCfC2/79Cj+xtM/58Lb/v0Ku0Ue0n3Yexpfyr7il/Y2mf8APhbf9+hR/Y2mf8+Ft/36FXaKPaT7sPY0v5V9xS/sbTP+fC2/79Cj+xtM/wCfC2/79CrtFHtJ92HsaX8q+4pf2Npn/Phbf9+hR/Y2mf8APhbf9+hV2ij2k+7D2NL+VfcUv7G0z/nwtv8Av0KP7G0z/nwtv+/Qq7RR7Sfdh7Gl/KvuKX9jaZ/z4W3/AH6FH9jaZ/z4W3/foVdoo9pPuw9jS/lX3FL+xtM/58Lb/v0KP7G0z/nwtv8Av0Ku0Ue0n3Yexpfyr7il/Y2mf8+Ft/36FH9jaZ/z4W3/AH6FXaKPaT7sPY0v5V9xS/sbTP8Anwtv+/Qo/sbTP+fC2/79CrtFHtJ92HsaX8q+4pf2Npn/AD4W3/foUf2Npn/Phbf9+hV2ij2k+7D2NL+VfcUv7G0z/nwtv+/Qo/sbTP8Anwtv+/Qq7RR7Sfdh7Gl/KvuKX9jaZ/z4W3/foUf2Npn/AD4W3/foVdoo9pPuw9jS/lX3FL+xtM/58Lb/AL9Cj+xtM/58Lb/v0Ku0Ue0n3Yexpfyr7il/Y2mf8+Ft/wB+hR/Y2mf8+Ft/36FXaKPaT7sPY0v5V9xS/sbTP+fC2/79Cj+xtM/58Lb/AL9CrtFHtJ92HsaX8q+4pf2Npn/Phbf9+hR/Y2mf8+Ft/wB+hV2ij2k+7D2NL+VfcUv7G0z/AJ8Lb/v0KP7G0z/nwtv+/Qq7RR7Sfdh7Gl/KvuKX9jaZ/wA+Ft/36FH9jaZ/z4W3/foVdoo9pPuw9jS/lX3FL+xtM/58Lb/v0KP7G0z/AJ8Lb/v0Ku0Ue0n3Yexpfyr7il/Y2mf8+Ft/36FH9jaZ/wA+Ft/36FXaKPaT7sPY0v5V9xS/sbTP+fC2/wC/Qo/sbTP+fC2/79CrtFHtJ92HsaX8q+4pf2Npn/Phbf8AfoUf2Npn/Phbf9+hV2ij2k+7D2NL+VfcUv7G0z/nwtv+/QqVNF0zYP8AiX23/foVYqaP7gpe0n3Yexpfyr7h1FFFZmwUUUUAY2h/8xX/AK/5P6Vo1naH/wAxX/r/AJP6Vo1vW/iM5sN/CXz/ADCiiisToCs/WtZt9D0/7XdJJIpcRqkS5ZmPQCtCs3W9J/te1hh8zy/LnWXOM5x2oAxbb4iaTc6e10kF4B5kcaxmL53MgJXAz3watTeLIZPC1xqtrDPGYXeJ0kjy0LqcHcM9BjsaoWPgQ2bW5+2hvJe3f7nXylZf13fpVm98L30mh6jYWN7DGdQuZJZHkiLbVfnA56+9AdS7qPie20uSygkhmubm7jMiRwKM7RjLckDuPeq2p+K30/xBp+nJptxMl4hYyKBxgZ45/OqmseE9S1nSbW1urnT2lhQo0rWxJX0ZDnKkD3q9f+HbuSTSLiwvlS501dhedN4lUrtOeRz3zTEdADlc9OKzk1/T5LkQLI5kLbMeS/X64xWiM7eeuOazE0C1S6FwJrssH34N05XP0zjHtUu/Q2p+zs+e/kaMsqwwvLIcJGpZj6ADNczL4yW68M6hqem200Yt4DLDJOo2yDsRgn8jg100yNJBIiEBmUgEjIBx6Vxdr4CnS31eOe7t4xqNt9n8q1hKRKc/fK5+99KZka0XiEaxoN5Posw822iz9oaPdGXAywHrjpTV8WQ2XhbTNR1QFri+RAkUIGZHK5IGSAO55NGh+E10KG8sbScDTLiPC2wXHlORhip9D1x61nz+Cbu40bT7Se9tppdLm3WjSW+5Cm3btdSeTg9RTDoaJ8aWLaTFqFvb3NwjsyMkarujK/eDZIHHsTntT7vxhp9tbafLDHcXZ1JS1tHBHlnwMnrjH41lXvgi7urez2T6fHLAJVdPsY8n5/4lTP3h6mtLSvCzaauhhrkSHSoZIidmPM3jGfagRHc+O9OtL0201teBk8rzm8oYg8w4Xdz6+ma6UEFQR0IzXN6l4SN+2rMLoJ/aJix8mdmzH55xV+HTdQj8Rm8bUS1h9mEQs9nAcH7+fpxQMx18cJe+JdNsNPgmNrcvMrXDx4WXy1z8hz68cir1p4ws7u9lsxa3UdykbSpE6rulUcHbg/ocVl2Xgi+tb6yVtUQ2Gnmf7PGsWJB5oI5bPbPFHhvwNc6Jrltf3F3bSLbW7wKsNvsaTcQdzNnk8UAX9C8XHVfDR1W4025h2qSUUA7/AJiPl59u+KB460v+y5rxknV4Z1tmtyo8zzGxtXrt5z1ziqjeDr4+F59D/tGP7OJA9s3lcgb921+fmB6duKhtPA11a6fqMTT6fLJfTpKY3tB5KhRjaFz7detAGxe+LrOw0+1uLi3uBNdsVhtcL5jEde+OPXNUrvxzEsekzadY3F3BqE3lllUAp1yME/eBHSqY8ASJpOmRLdwzXWnySsn2iHzIismMptJyAMDHPFadx4aun0fTora4tra8sbgXCNHb4iJ5yNgPTBoAsXXiq1ttVh077NcyXMkSyuiKP3Sk4BbJ9Qemelblcl4i8I3mv3Fu73NpCyKgadICJkYHJKPnIz6HNbDadqJ8TxXy6iRYJbmNrLbwz54fNAGP/wAJNqNx4+fSILZ4bO1jR5neIEvuLc53cD5fQ1YsfHWl6jefZ7VJ2Lo727lRtuAvXZzn88ZrQj0XZ4jvtTaXK3dvHB5ePu7N3Offd+lY/hvwY+gXEMYaxktbdGSFhahZ8dsv7D86NAJtC8ZpqWj3moahZy2MNpJKHkcDbtRiOxznjpUWo+NGi0UX8Gn3cKi4hTbPFzIjnGVAJ59utPh8IzLpOq6RcXqvp988roFjxJGZG3HnODg+1SjQdWvNPittX1GCYwzxSRtFBszsOTnnqePpQI09G1qDW7WWWCKaFoZWhlimXDIw7HGRVHxB4vsfDl1FBdw3MryJ5mIUDbV3BcnJHdgPxqNvtPh27vJLfTrrUxf3BnP2fYPK4AwdzDPTtVK70afxXc/bZ7e40sxxCERXARi37xJNw2sf7mPxoGWLjxFcXB0O901wlpfXX2eaGWP5wdrE854IK4qLxV42TRlubawglnuoGhWSQR5jiLsoAY56kHPFTy+FZxotra2l6sdzaXjXcUrR7lySxwRnphiKpat4M1G/nvDBqcMMWomB7xTDkl4tv3TngHbQI1rnxbZWesR6fdQ3EZkkESTlRsZyMgdc/jjFQ6P4qk1PXNTsH024hWykVBIwGOUDc88deKybnwBcz699s+3weT9uW8y1vmY4/g354X0raTQLuDXNTure9RbXUlBljMfzowj2Aq2fYGkMfp3iuz1HU3sPJntrhY2kRZlA8xQcEjBPqODg0nhvU7vVtEn1GYg+bNL9njC42orFVHvnbn8ax/DngS40bWLe8uLu3lS3tWtlWK32NICQd7tnluK3fDWlT6Lp0tjKyNElxI8BUnOxmLAH3GSPwp6Ac7qXjXU9D0/Qp9VskRryV1vQeDCgz8w/Q/SsrS/ijqFx4it7XUNPiispZGV5VJ3RqSBGT9Syg/Wu41bQY9W1TTrm4KPFaGTfC6bhIHQrj9awv+FeQvrWoXc1wGgvIXiEITGzO3BB9ttapw6ozal0ZXl8W65ceHbHU7BLJDcXzWjrKrHH74xqRg+gyataj4n1G28TR6R5+n2bLDG5e6DAXLE4IQ9BjHuearR+BNUtPC2maPZ6vD/oVx9oeaWAsZGEhcd+OvNaXiLw3qniC1azlvrRbaaJUl3W251P8TIc8Z7elP3Lh71iK+1LxNF4pttNt303yrqN5Y2ZHJVVxweeTzXWglYwXIyByayjon/E706/WY4srZ4NhGS24DnP4VquodGVujDBrKTVlYtbmDpfjDT9V1BLWGO4j84ObeWVMJcBfvbTnt74p2leK7bWZJPsNneNEgf98YwEZlOCo568fSqGjeEbyw1Cwe91BLi20xZVtI1i2sN/HzHPOBxWtpGkTaN4dFhbTo0yeYUkZPlyzFhke2aqXL0Er9SlB4rgj0B9SvBI/wDpJt44o48Oz7tqpjPXPHXFKfFkFx4c1DUbSG4RrJnikSSP5o3VQTkZ5AyOhrGufDGq2fh+Vbi8S4kivVvrc21v8yyb9xyC3K+3XFGiaLrl54T1iG4lS2utUvJXLzQ/8s2RVztB4PHHNVyxtcV3c2rvxbbada6b50Nxd3F/A0sSW0eSwUAscE8feFNu/G2nWum22oCG5ms7iHz/ADkQYRPU5IP4DJpuneGbyG60m4v7yKV9NgmgURRFQ6uEA6k8jZ+tYV38NbqXTIbOHUbcqtgLJmnt9+zljvTJ+Und+gotC/8AXn/wBXkdJcardx+K9Kt4ZY3sL+GVtuz5gVAIIb0O6rL3eojxXFaLBnTmtmd5sdJMjAz9M1VvfD9y50mawu0iudNUoGkj3K6sAGGM+wrfHTmoduhSuYljqlwfF2paVcsGSOKK4tyBghW3AqfoV/Wtusex0maPxRqOrXLIfPjjggVf4UXJyfclv0FbFQUFFFFABRRRQAUUUUAFFFFABRRRQAUUUUAFFFFABRRRQAUUUUAFKOopKUdRQBnS/wDI423/AF6v/MVsVjy/8jjbf9er/wAxWxWtXaPp/mc9Def+L9EFFFFYnSFFFFABVXUr5NO06a6lDMI1yFUZLHsAPUmrVYlxnVvEUdtgm10/E0pzw8p+4vvgZJHqVoAtaJYy2en5uzuu7hjNcHOfnbqB7DoPYCtGiigCA9TXG+IPCuoar4hjvbJra0KvGftcbus21eqkDhgenPrXZHqapXGr6fa3iWlzewxXEn3ImcBj+FPqIz5tL1CLxd/alk9u0E0Cwzxy5DAKSQVx9e9YX/CHau2owxNdWv8AZsOpTXwADeY3mB/l9OC5ro08T6U+vSaQLqMXcaglSw5JONo9+OlXxfWpCkXEZDSGJfmHLjOV+vB49qBHG6R4S1TTb7Tmvri1k0/SoZYoxGrGSRW6EjHXHGBTvh7o0lrJqOoTJKsUkzw2KTJtaO3DkgYPIGSevbFbcni7Sl1yHTIrmKaRxIZGSQEQ7Bk7q1lvLZpIo1njLzJvjUMMuvqPUcimAl7ai8tjCZZIsn70Zwah0/TRYFyLiabd/wA9WzirU00dvC0s7rHGgyzscACqSa/pMlibxNRtjbK20y+aNoPpn1qbK9y+eSjy9Cn4j0i91CbTrzS5IUutPnMqLODscFSpBI5HDda5eTw7relXuhfYmt5737VdXE7srCEGRWOMjkDnAPtXWX/irR7DRjqkl7FJa7toaNwdxzjA96lutesbfRzqMc8U0RHyYkUBz6Ak4zVEmCPCF9b+H9LgtLmFr6wu3uyZFIjdnZiw45A+c4pniLwvrWp3V3PYXFpE2oaaLK4EgY7DljuXjn7xHNdHda9pdh5a6hf29rJIgcJLIAcUl1rlrB9i8qSOf7Y6rFtkUblP8QyeR9KAMCfwZcy2epxC4iDXsduqtg/L5aqDn8qz73wJql3rn2hp7R4vt8N2JZNzSqibT5Y7AZU8j1rtLrWdNsbgQXl9BBKcYSSQAnPSh9Y06O/Wxe+gW6f7sJkG4/hRd3uIr2drrEfiK9nu7yOTTJEUW1uq4aNh94k45zVDw7o+r6C4sBLaS6Wksjo/zCbDEttI6cE9c9K0YtYE/iafSoY9wt7dZZZc/dLEgL9cDP5U469ppe5igvIZp7ZC0kKSAsMDnikPyMmLwkW8D32gXEyg3YmBkQdN5JHHtmstPBeoNo17bCPTbK5lgWJLi0DBnwckMeCAfQV0uieJdN12xSe0uYi5jEkkQcFowfWptP1m3v7a6uVdFgt5Wj83zFKsAAd2QeOvensG5y+k+CLuC11+K8e1gGrW6wKlqDtiAVhnnGfvZqbUPC2qapomnRXpsZLvTpg8akMYpVC4IbjIJ9s4rpbfWdNu7SS6tr63lgiz5kiyDan1PaqV/wCLtFsNFk1Rr6KW2jO0mJwST6D3oEUrG4HheyFtPpREkrtKy6bAWjGfUnGTxVTXtPuPGFnDJY2ccLRb1D3m+GWInHzIV5x7d66C816yttFk1KOaKaFVOzEigO390EnGatpdwNIsRlQTMnmeXuGdvr9KQzBvNA1PyNEltLuKe90wYd7nOJsrhiSOQe9Z3iDwprWpXGpixubOODVIoVm8wMWQpnO3HY5/Cunm13SrZIXn1G2jWf8A1RaQAP8ASr4IIyDkHvTEcVdeE9XbUJY7W4tRp02opfvvDeYCOqjtjIHNR6dozXfxPvtRRJV062UMqSRlVa6Pys6564UYz713NVk1Gze5+zpcxNNkjYGGcjrSukUot7GdpWnXOn+IdWkKg2d6yTxsDyr4w4I/AH86TQtMuLfVNX1G9QJLfTgKoOcRoNqfiRz+NbTMFUsxwAMkntVOw1ez1Eyi2mVmjdlIzzwcZ+lLmSdrjUZNNpaF2iq0epWUzMsV1E5RdzBWBwPWmwajDLYm6kZYogzDcWBGAcZyKXNHuPkl2LdFUbnU0TTXvLMLdIgJOxh0HWpTf28dnFc3EqwpIoILnHUZxRzx7h7OXYs0VGtxCyK6yoVYZU7hyKy9W8SW2k3dpBJDPL9qkVBJEuUTJwMn61pGLm7RM5PlV5GxRXPax4xstGvzbzwzOkZQTzJjbEXOFBycn14zxTbzxpYWWrCzkilaPzkge4GNiyOMqvXJ4I6DvWioVGk0iHVgt2dHRWZFrAbxLNpE0Wx1t1uInz/rFztP4g/zrTrE0CiiigAooooAKKKKACiiigAooooAKKKKACiiigAooooAKKKKACiiigAooooAKKKKACiiigAooooAKKKKACiiigAooooAKKKKACpo/uCoamj+4KAHUUUUhhRRRQBjaH/zFf8Ar/k/pWjWdof/ADFf+v8Ak/pWjW9b+Izmw38JfP8AMKKKKxOgKr319babaNdXsoihTG5yDgZOOcVYrN1+2u73RLi108Q+dOvl5nGVUHqcd+O1AFm01G0vpJ0s51mMDbJNvRWxnGehqh4j8SWnhuzjnvFkbzJFRVRCerAZ4HbNY2hQL4B0s6ZfNJPaCQm1mhgeSRgeTvCqeQe/erWqSL4u0CeHRw6zwyxyL9rgkiUlXDY+YA446imI0rzxLpOn2dvc3l15Udy22HdG25zjOAuM549Kjn8W6LbLC092Y1mUOrGF8AE4BJx8vPriq97pN5qmoaFe3UUEbWM7yzRhiwGY2UbTjnlh6Vi+MPCmr63qFx9kMT200CxxCS4eMQMDljtXhs+/SkM6i41qKHXbTTFKGS4VmIbIOAM8cYP51FB4r0W51X+zYb1WuvMaLZsbG9c5XOMZ4PGay9T03XJPEWkXVna2j2+nqQWkmZWfcm08bT0qC38JXkLWj7oQ0WsS3zkE5KPvwOnX5hTQuh2dQ3l5BYWkl1dv5cMY3O5BO0evFZOgahqt/qer/wBoW/k2cNyIrPK4Z1Cjc3uM5xV/WIrqfSLmHT1ha4kQonnfcGeMn1wOcUhjrTVLK/mlis7hZmhCl9nIXcMjnp0OaqeIvENr4b0z7ZeLIyl1QKiEkkkDsOOtYHh+x/4V9YyWV67XFlI++GWG3d5NxHzBginjPQ+mB2rQ1GeLxfoN3Z6X5scylHU3VvJEpKsGA+YDPTtTEXrnxTpFpYwXdzcmOO4JEYMT7mx1+XGePpRceKdGtltjJeBhdR+bF5aM+5P73yg4Huawdc8OanrEumajNaW73NtG8Utqt1Ii4burqAc8dxVbVfCGoPZ6fHo1rBZXNvb+WtxHdyKYCWLEYx8685waAOhuvF2nWfiGHSJfN82WMvvWJiB0wOB71ujmuev9M1Jdc0zUrJbe4aCFoJ1lYpkNj5hgHnjpUkV/qsvjeayFuF0qGzVzKy4LTFjwD3AAH50DNuSRYomkkOFUEk46CqkGs6fcvaJBdJI14hkgC5+dR1P61ccqEJf7uOeK888I28el3Wq6zcee+m28htdOAgcssRbcxCgbsFmI6dFFAHcatqcOj6XPfXO7y4VLEKpJPtxVCx8V6Xd+Hf7ZkmNvaqgeRpUZfLz9Rz16imrrVj4hhn062F0jzQsu6a0kjUcY6soFZj+H9Uvfh/JoN5HapMsawoyOSrqMcnI46dOaEBrDxdoxsfta3LmEvsBEEhJOM8DbnGO/SlvvEtlBplpe200csd46rC53bWyQOoBx171R8VaJqGoJp/8AZoRooC3nW5neESZACncnPBB496yP+EY1208B6dodtFZzTQyiSV2lZVG2TcAPlJOfegDptR8VaNpN59k1C9WGfYrlNjHapOAxIGAMjqa2AcjI6VxmpeF9Q1X+2biVLaKfUNLjtUXcWCOC+ecdPmFaUd7q6eMLbTY4B/ZsdlvnnZesmQFAP4GgR0DEKpJ6AZNUYNb065FmYLpH+2gtb4B+cAZP0x71fONpz071574Xso7LXNY1l2mfSrOR47BfJbKh2DS7VxkjcABgdqQzu728isLOW6uCRHGu5tqlj+Q5rH0vxnpWo+HE1l5WtoPLV381GG0t0HT5j9M1La+JLDVpjZ263YkkUgGWzlRenqygVzsnhDVLvwTbaJcrbB9NkiaBklcC4CAjDYAK5HpmmB0g8V6MdM+3/bB5Hm+T/q23b/7u3G7Ptiq2q+M9M0u1sLhjLLHezCJCsTcdckjHbHTrWM/hOZvD0kK6TbpcSXYnKC+lyCFIDiTqG/pVp/DusP4T0+3nuIrjUbK6W4HmsSrAE4QtjJ4OM47UAdZBOlzbpNCSUdQykqQcfQ81DLqljBKYpryFJB1VpACKltmma1jNyixylRvRGyFPcA96zLvQTdXjTi9aPcQdghjOPxK5qZX6GlNQb992NgEEAjkGsuDxHpl1eT2lpcebPBuDARttyvUbsYyPrWmo2oB1wMVxeneGtUtPFU91CsdlYSGZpYkuXdZ2cnDbCMIcnJxTMzZ0bxLb6zZQ+WUS9mhMot8k7QDgZIHHNJpPiRLnQJ9S1YRWa288sUpDEqNjlM5684/Wsbwd4NvPCd4rQyRyQ3aH7arOWKyA/KyE9scEcCmXnhDU7zQdT0V2t/s8l39rt5Q7AsTKJNjADgdRkGmB0EfizRpbB7yO7LRRuI3AifcrHkArjP6U9vFGjJo66q98i2TPsEpB+9nGMYyDnjFcq/hHUxpb/Y7SG0mkuUkniS+lP2hFXGDJjI59OwqTTfBd/B4ahsbn7P5i6ot4yh2dQgkDYyRknHrQI3pvGug29vFNPfFFlVnQGF9xVThjjbkAVtwzR3ECTQsHjkUMjDoQeQaw9T0GS91xrtBF5f8AZ0tqAw5DMeD06Uy2sdesf7CtbSa2Flbw+XfhgSzYXC7Dj1+lIZLceNNAtdSawuNQCXCuI2Xy3wG44zjHcfnU8XijRptWOmx3yG63FNu1sFgMlQ2MEgds1zOo+Cb66vL2aNrcefNI6licjcI8dv8AYP6U218Haqlxb2MptRYW9694LlWPmtuBO3GPUnnPSn0QG1D420y88QW+m2MyzK8cryS4ZVQJjkEjBHXkelXbHxJp2s+dFo11HPcRpuVHVlDDoDyORnuM1ylr4M1mVbexvRZw2lrY3Nmk8LMZH8wYDEY4wPfrWj4Q8LzaNeLJd2MEckMHkrcR3MkhcZ/utwo74oEbvh3VpNa0SK9mhWGRmdWRWyAVYr1/CrGp6rZ6Pai41Cbyo2cIvylizHoAACSawdKln8I6e9rq6b7YTObeW1jklZwzFvmVVOMZpusSw+LtK8nTrOSd7eZJMXAmtSp5wyttByPakM1rnxRpFnY293cXW2O5z5Q8tiz46/KBnjvxUF74hMT6TNYLDdWOozpCJg5yN2cEccjiuaufBWrTW+jXV3Il/d2MUsUsT3Dx7g5BBDjkkYxz1rYuPDt3F4Z0i30uC2guNNuI51tzIxjO3OV3Yz364p6CNW/8TaRpl+tle3qxzsASu1iFBOAWIGFz70sviPSodVGnPdZuiQCiozbSegJAwM+5rlNT8F3d54gu76azt7uPUEj81HupI/KKjBGFGGH1rXsNJ1XSPEF61rDa3Fjf3IneSRyJIuACMY56cc0DLel+LdP1XWLvTrfzRLbOFy0TANxnOSOPxqxZ6/a3UmokyxpBYsA7nI28ZJYEDFVbLTtQsPFOoXCR28ljfFZC+8iSNguMYxgjp3rGfw/rmonxBb3sNpbQavEFEkczMYyFwONozmgDci8ZaDNY3F4uoKILYKZmdGUqG+6cEZwfWr2l6xY6zA8unTeasb7HypUq3oQQDXHS+EdY1Vb2fUUsreWWC3t0hhYshEb7ixJA69hitubStXtG8QXGjyW8d1etG1p5mSqlVwdwx/jRoIu+IfEdp4ctI57wSN5kioqohbqQM8D3p154m0nT7O3uby68qO5O2HdG25z6BcZz+FV9a0zUNU8LR2+6E6gnlSEtkIzqQSOBkAkVHe6RearqGh3t3FbxtZTNLNGGLAZQqNpxz19qBk83i7RbcQme7MazKGVmhcAAnAycfL+OKmuNahh1610xWQyTqWIbIOAM8cYP51yvjLwjrOu6hd/ZGhe2uIUSHzLiRBAQcsdi8Nn3rS1TTdck8RaVdWdraSW9gDlpJmVn3Lg8bT0oA1IPFei3Orf2bDfK115jRbNjY3rnK5xjPB4zWrLKsELyyEhEBZiATx9BXHr4ZubKOC4cxD7PrM2oyFASxjYSYAwMlvnHFbFr4r029uo7eFL0PIcDfZSqv4krgUAR6N4x0vWNPubtXeCO2eQSGVGUKqOV3ZIxzjOOtTQ+LdEn0+4vUvlEFuVEpZGUru+78pGecjHHNYbeFdSuPDer6DP9nS3uJpZ7e4R23EvN5m1hjgc44NQweEZzol/FPo9qJ7gRqU+2yt5mwg53kZXBGRikBual4y0zT9C/tXMssJkEYUQuGySByCMjr3rYs7yG/tUuLYs0b9CyFT+RANcrb+GtXk8E3WmX1yj3UkvmQCSRpBGA4ZULkZbp196028RrpkMMWtW8sV0ybmS0glmQc4+8FpgXNS8QabpNzFb31xsmlXcqLGznbnGTtBwPc1Dd+LNFsdQFjdXyx3B25XYx27vu5OMDOe9c/wCINOuvFEttqOgRGGVYzGl3JJLbyRfNnlMfMvfBqjfaLrGp6/rVjBFbtBcpbRzXMoIZcAFmXjnvgcYNAjsF1a4His6VLDH5LW32iKVWO4gMAQRSw65BNrl5YKy4tIFlk4bcCSe2ORgdRmq13pl/D4ksNRsBDLHHb/ZZ1lYqQu4HcuAcn2qpb2Otr46n1SW0tBaTWy22RMxcKrs27G3GTu6ZoGXfD/iux8QtcJaCRHglZCHjYZAOM5Ix+HWpvDurS63p8l80apA87rb46lFO3J9yQfwxVXw/pd/pV9qEE6QNZzzvPFKjHf8ANj5SuMevOak8JWFzpOjtp11HtFtPIsT5H7xCxYH/AMex+FAG5SjqKSlHUUgM6X/kcbb/AK9X/mK2Kx5f+Rxtv+vV/wCYrYrWrtH0/wAznobz/wAX6IKKKKxOkKKKKAKmqX403TZbkoZGUYSNerseAo9yaj0WwbT9OVJ2D3MrGW4cfxSNyx+mentVOQHVvEix4zaaYQ7c8PORx/3yM/8AfQ9K26ACiiigCA9TXA+ItK1Q+MPtuiWE5mlaFZZn8p7d0XrkMdykDPQV3x6mkp9RHLy2E9n49a+j0r7TbXdukZmj2DyWUk5IJB5z2zWB/ZGunULbTxpki28OsXF4b3zF27JFl24Gc5y47V6PRQB5loPhy/h1XSYb/RRbQ6fbzw3N6WTE27uMHJB68irnw+sppLq+vJWW4h00Pp2nSA5DxK2c/oq5/wBmvQGUMpVgCCMEEdabDBFbRCK3iSKNeiooUD8BTA5HUIdf8R+ArqLUdNjtdQMwK2okBEiJKGxn/aVf1rl9c0+8S1vdRl0Q2sV3qNl5WnsUy+wqCTglRk8de1es02SKOVQJY1cAggMM4I70gOAXw5fX3hrxBnS1tZL66We2s3K5QKFHYkAsVJ4PetHxAt7qHgN7W28PT/abhDGLbMQMR/vH5sY+hzXYUUAeb6n4d1DXdRtb2bSHiEcFrGUnZCylJyzdCR05qW+07VbXQ9As4dDnupbG4WeR4njARRITtGWHOMe1eh0UAcNr9vf6t4osPtfh+efS4FSb920WWmzwHyw4Xg4Gcms1/ClyPFV495p19cx3OoR3UVxBMiogGzG7JDDaV6AHNel0U1oBzdhZT2XjjVSyMYL+3jlSbHAZcqVz9AD+JrldN8NasJNNtH0j7K+mrdede70xc7wQoGDk5zk5xXp1FIDzrwlo19Z32ly3+jrpUOmWEkNxKzpicsR/dJ4GCefWkGlSa94N8U2mkFSLjVJGi2NtWVQseQD0wcEZr0SSNZY2jlQOjDDKwyCKbBbxW0Qit4kijHRUUKB+Ap3EebjwtdT6HqLWml3kNxI1u7wXkyEXIjYsUG0kDI4yeua2tV0+fX/BOpW0GhfYLl1xFDL5eZGAHPykgenWuyooGch4jW81L4f3Vpa+H5xc3ULwrbZiBiYjAY/NjH0Oao+ItP1zUNLsNR0XT5LXU40ezkimdAyxOAC+QSDggEc13tFIDzLWvBUtvrC+Xp93facdOjtEjtZUVo9ucg7yODkcj0rp/wC159L1zQvD1pZNKk1s7zyO5JgRAoBJ7kk4rpqTYu/ftG7GN2OadxCnpXMJpMlv5U7wKjJqbzySZGRGd3OfxFdPQQCMEZB7Gsp01NpvobU6sqd0upSj1fTp5BFHdwuznAUNnNUdKtJrOa+gez2CSWSSOZduCGOQPWtdbaBWBWGMEdCEFSUuRtpy3Q/aKKcYrR9zG0ew/s3QYw1mDcKh3IoXcxPUZrNhg1JdAltksJIn+0NJglDlGcnC84ziuroqXQVkk7WVi1iZXbavd3Oa0jTLtNN1aKWF4ftLExLIwJxtxzii9t7m70ey8ywuUuLYjaI2QlSFxnk4INdLRS9hHl5bj+tS5+a39Wsc0+hX2oWdo119jSdItriSANg+2OBVXxBY6jFpenWdlp5uzBcJM7QbUUBWzjBIrr6K6aNqUlJa2Ma1SVaHI9Eed+IPDuqahrtzOlk8sF/FGUUuoW3kwFYvzyQucYzTL3wnqTeIbhBbNPbzzQSQzblCQhdm8kZzuITA4716PRXZHGTikklorfl/kcbw8W7tnOrazXPxD+1+Wy29nYeT5hGA7s27A9cAD866KiiuI6AooooAKKKKACiiigAooooAKKKKACiiigAooooAKKKKACiiigAooooAKKKKACiiigAooooAKKKKACiiigAooooAKKKKACiiigAqaP7gqGpo/uCgB1FFFIYUUUUAY2h/8xX/AK/5P6Vo1naH/wAxX/r/AJP6Vo1vW/iM5sN/CXz/ADCiiisToCiiigAooooAKpXOs6ZZTmG71C1glAyUkmVW/ImrtefeIfCl5qPia7vEsklSSZSjsV5UWkid/wDbZf50Adq2r6ct0ts19bCdiAsRlXcSRkcZz0oXU4n1htPTDOkXmOwdfl5AwRnPfPTFcGPCF/8AY9QlayU3klzYPC5Zd22NYg+DnjG1/rW3It8vxDF9Ho0/2U2ZtmnV4xuYuDuxuzjA9M0+oHRR6rp8sssUV7bu8IJkVZQSgHXPpUOka/p2uQvJptykux3RlDDI2sVJx6ZFcv4X0fUdP8SToLOaLSnWVmW6ETEOz5wjL8xU5J+ar/hSyu9HtL+zk0vypEmnlinBTbMGkZlHByOoHIoEdNcXENrA011KkMSjLPIwUD8TWVYeKdLvoryYXMUUFrceQZnkUK52hsg596xdWt9c13whYzX+mIl9DdpNPYJICHRJOmScHgA8msWLRdbisbhodJe1hudWa4ktojC0giMYA27jtB3DnnPWj+vyGdxqHiXStMhtZrm8iEd1IscTBwQxJxn6e9WZtW0638rz763j84Zj3yqN49RzzXB2nhnU4vA9hHPpvmXdpqX2n7MzoWMfnFsA525waf400vW9XMq2emSm3l00xwxRmFSkxLZDknOACMbTjrQB6KDkZHIo6VzcWsXdjrOh6CLMymazL3Muf9SFXA9jluK6KQExsB1IpMCnFrelXE/kQajayS8jYsyk8deM0+21TTrt3js723maMZZYpFbaPU4rzrS/BepWc9vKbFUdFi3MGXOQZd3f/aWtXw94bu9Fn0SYWCr9m0+aK6CFcs5IIHXnJzzVWEdbZ6tbXdtcXAdI4IJGQymRSpAAO7IPA571DeeI9KstGm1SS9he0hBLSRuGBIGcD1PtXKW+nXlzoOv6de6FdxRXty80apLECVYKABhsAjBPPFPttD1i+8A65pt/bqZphItkJkiWRgUABfZ8uc559KQHb2t1BewLNaypNG3RkYEVT1LXtO0i4tob+5jie5k8tAzAc4PJ9uOtZ1xfava+Fkm0bQwL5XVfscrovHdsqcfrTfFWnTXR0u8t9PW9e0u1lkiG0MyYIOC2B36Zo6jNmXVtPgkjSa+t43lAKK0oBYHpj1pbnVLCzkEd3e28DnGFklCk56cGuA8baRrury3aWemzNDNZIlskbQrskyd28nnjjGDit+Dw803jSbUNQtI5Yf7PigjeTDYcFiwx+XNFhG+NV083htBe2/2kHHk+aN2fTHWkTVdOaSWKK9tmeEEyIsi5QDrkdq8xFvJB4s07TPssT3SazPO13HKjMUZWPIB3DGRnIxwK0/B/hO4069sk1Oyu/tFpHIjXLSxmKQnGTgHcd3XkcUWGdnpXiDTtbtppdLnSYxM6FAwzlTg8eme9SaHqya3pMV4iGJiSkkTHmN1OGU/QgisXwlYz6LDf2l1pvk7bmeZLhNhWRGcsAADuzg9CKteC7Se20BpbqNopLy5mu/LYYKCRywUj1AIoA6CiiikAUUUUAFFFFABRRRQAUUUUAFFFFABRRRQAUUUUAFFFFABRRRQAUUUUAFFFFABRRRQAUUUUAFFFFABRiiigAooooAKKKKACjFFFABRRRQAUUUUAFKOopKUdRQBnS/8AI423/Xq/8xWxWPL/AMjjbf8AXq/8xWxWtXaPp/mc9Def+L9EFFFFYnSFUtXv/wCzdNknVPMl4SKPON7nhV/OrtYi/wDE28SluDa6YcL/ALU5HJ/4COP+BH0oAu6Pp/8AZumpC7B5SS80mPvyHlm/E1eoooAKKKKADFGB6UUUAGB6UYHpRRQAYHpRgelFFABgelGB6UUUAGB6UYHpRRQAYHpRgelFFABgelGB6UUUAGB6UYHpRRQAYHpRgelFFABgelGB6UUUAGB6UYHpRRQAYHpRgelFFABgelGB6UUUAGB6UYHpRRQAYHpRgelFFABgelGB6UUUAGB6UYHpRRQAYHpRgelFFABgelGB6UUUAGB6UYHpRRQAYHpRgelFFABgelGB6UUUAGB6UYHpRRQAYHpRgelFFABgelGB6UUUAGB6UYHpRRQAYHpRgelFFABgelGB6UUUAGB6UYHpRRQAYHpRgelFFABgelGB6UUUAGB6UYHpRRQAYHpRgelFFABgelGB6UUUAGB6UYHpRRQAYHpRgelFFABgelGB6UUUAGB6UUUUAFFFFABRRRQBjaH/AMxX/r/k/pWjWdof/MV/6/5P6Vo1vW/iM5sN/CXz/MKKKKxOgKKKKACiiigAooooAKKKKACiiigAooooAKKKKAE2ru3YG7GM45paKKACiiigAooooAKKKKACiiigCFbO2S4a4W3iWZusgQbj+NTUUUAFFFFABRRRQAUUUUAFFFFABRRRQAUUUUAFFFFABRRRQAUUUUAFFFFABRRRQAUUUUAFFFFABRRRQAUUUUAFFFFABRRRQAUUUUAFFFFABRRRQAUUUUAFFFFABSjqKSlHUUAZ0v8AyONt/wBer/zFbFY8v/I423/Xq/8AMVsVrV2j6f5nPQ3n/i/RBRRRWJ0lDWb9tO01pIVD3EhEcEZ/jkPAH+ewp+lWA03TYrYMZGUZkkI5djyWPuTzVCD/AIm3iN7jObXTiYo/R5T94/8AARgD6tW3QAUUUUAFFFFABRRRQAUUUUAFFFFABRRRQAUUUUAFFFFABRRRQAUUUUAFFFFABRRRQAUUUUAFFFFABRRRQAUUUUAFFFFABRRRQAUUUUAFFFFABRRRQAUUUUAFFFFABRRRQAUUUUAFFFFABRRRQAUUUUAFFFFABRRRQAUUUUAFFFFABRRRQAUUUUAFFFFABRRRQAUUUUAFFFFABRRRQAUUUUAFFFFABRRRQBjaH/zFf+v+T+laNZ2h/wDMV/6/5P6Vo1vW/iM5sN/CXz/MKKKKxOgKKKxPGFze2nhK+m0zeLhUG1o13Mo3DJA9QM0Aal5eW9hatcXkgihT7znoKSS/tYtP+3S3EaWuwP5zNhdp6HNc5pyadN4X1NNH1GbU0aEgmSQyYbYeAT3PpWJrAtta+Edsbe4kY28VvG6xMVIbcgKsPUehpgeg2t1De26z20gkif7rDvUV9qVnpsaPfXEcCyNsTecbm9B69Kzb3VbDwna6fbXH2iRbq4W2iIBc7myRuPpx1rI8XaQl/wCLvDbSSXAVrmQMI5CAMROc8dD70gOte6gSaGJ5VEk2fLUnlsDJxUiyxtI8aupdMblB5XPTIrjdc1Wz0/x9oyPqIj4dJ4mk+VRs+UkdiTTNOtLSy+JOo/aLy4SWcRSW8bzNtl+U7sDocenamI6+O+t5r6azjk3TQKDIoH3c9Mn19qsVyGhslvd+KxfyNC4ufMkkzgiMxLtYfQD8xVLwHqOpXmqXCa5Pc71hH2FJV2iW3zxIfV+mfwoGd1JIkUbSSuqIoyzMcAD1JpVYOoZCGVhkEHgisTxnYtqHg/UokMwcW0jKImILEKcDjr9K5y4lA+GduNC1K48x5rSJ5lkLPEWkjVhznGATxSA7+op7qG1VDcSLGHcRqWPVicAVwHiuP+xLez0+O/uVEgll+03F04AYKPlyvLMTyB9ahvtdA8J+Fr3UdQaG9aeBpFZtu9PMAZmX6CmB6VRXmuvTXtxqer6laaldrFZm2e1jhf8AdnJBJx3yOK7ePXrNteTRS7fbjai5K7eAhOOv1FAGnRTJY/NhePcV3KRuXqK4fwjf6rqXiB7K+mlxocbW9wx4FxKxOCfXCBT9WpAd0zKiFnIVVGSScACkjkSWNXiZXRhlWU5BFZ3iOyN/4dvbdWkVmibb5TFWJxwMiuLhm8j4QynRdQuPtaQorvvLPC/AIwemPSmtQPR6iuLmG0i8y5kWNNwXcxxyTgCuE8SQf2DYafZC/uyt3I7vdXN06qhCjgsOeew45zWfJrjt8NtEvNT1GSK+89cb2KmVRIAxIPXj1oA9Qqt/aFt/aX2AyYufL80IQeVzjI9a8+8Sz3V9qGsX2n6ndLb2WkxXNqLd8I0hL/Nx1+6OK6C+kNx438PeV/rltp5JsdkIQc/jj8qLCOqooopDCiiigAooooAKKKKACiiigAooooAKKKKACiiigAooooAKKKKACiiigAooooAKKKKACiiigAooooAKKKKACiiigAooooAKKKKACiiigAooooAKKKKACiiigApR1FJSjqKAM6X/AJHG2/69X/mK2Kx5f+Rxtv8Ar1f+YrYrWrtH0/zOehvP/F+iCs7W76Sx0/8A0YBrudhDbqRnLnpn2HU+wrRrEtM6r4glvTk21jmCD0Z/429+wB9m9axOk0dMsU03TobWMswjXBdurHuT7mrVFFABRRRQAUUUUAFFFFABRRRQAUUUUAFFFFABRRRQAUUUUAFFFFABRRRQAUUUUAFFFFABRRRQAUUUUAFFFFABRRRQAUUUUAFFFFABRRRQAUUUUAFFFFABRRRQAUUUUAFFFFABRRRQAUUUUAFFFFABRRRQAUUUUAFFFFABRRRQAUUUUAFFFFABRRRQAUUUUAFFFFABRRRQAUUUUAFFFFABRRRQAUUUUAFFFFAGNof/ADFf+v8Ak/pWjWdof/MV/wCv+T+laNb1v4jObDfwl8/zCiiisToCggEYIyPQ0UUAMjijiUiKNUB6hVxSiKNVKiNQp6gL1p1FADWRXxvVWwcjIzilKgkEgEjoSOlLRQBG0ETvueJGb1KgmnGNC4YopYdDjkU6igCMW0ImeURJ5kgCu2OWA6A1X1HSrbU7XyLkOqcYMTlGGPdSDVyigDK0zw7ZaTO8tqbhmddpEtw8gx9GJrSEUartWNQM5wFHWn0UAMeKOXHmRq+Om5c4pGt4XADxRsB0yoOKkooAb5aAYCLj0xVWLSrOHVZtRjhUXc0axvLzkqucD26mrlFACMNykZIyMZFY9v4X0+30uexTzilxL5s0nnMJHfjksDnsPyrZooAyNN8NWOlXf2i2a5L7Sv725kcYPsxIrUEUaqQsagHqAo5p9FADXijlUCRFcDoGGaabeFlAaKMgdAVHFSUUAMEUYXAjUDGMbe1ILaEXBuBEomK7S+OcemakooAKKKKACiiigAooooAKKKKACiiigAooooAKKKKACiiigAooooAKKKKACiiigAooooAKKKKACiiigAooooAKKKKACiiigAooooAKKKKACiiigAooooAKKKKACiiigApR1FJSjqKAM6X/AJHG2/69X/mK2Kx5f+Rxtv8Ar1f+YrYrWrtH0/zOehvP/F+iM3Xbya1sBFZ/8fl04hg/2WP8R9gMk/SrOn2UWnafDaQA7IlCgk5J9ye5rNsFOqa7PqTj9xa5trXJ6nP7xx9SAP8AgJ9a26xOkKKKKACiiigAooooAKKKKACiiigAooooAKKKKACiiigAooooAKKKKACiiigAooooAKKKKACiiigAooooAKKKKACiiigAooooAKKKKACiiigAooooAKKKKACiiigAooooAKKKKACiiigAooooAKKKKACiiigAooooAKKKKACiiigAooooAKKKKACiiigAooooAKKKKACiiigAooooAKKKKACiiigAooooAKKKKAMbQ/8AmK/9f8n9K0aztD/5iv8A1/yf0rRret/EZzYb+Evn+YUUUVidAUUVV1O6ey0u5uYgGeKMsoPQkChuyuOKcmki1RXL3OtavY6TbTzpBJPfSIkKRRk+XlSxzz83T2qK91LW5dDWVgtnMlykZLREeYpcAEDPA9RUc6OpYWbtqtXY62isabVLq0vxaz+U5FlJcMyqQCykDHXpzVT+2NTu30qKxFuj3ln9okaRSQv3egyP71PmRCw83r0/r/I6SiuWuNe1WC+ucrbG2tLiGCQbTufeFyQc8YLeldSelNSTIqUpU0m+v9fqFFc1oKT23ivWbaa8nukVYnXzmzt3AkgegqfxNqyw+FNQurC6TdENjSxMG8s5APTuAa3dJ86iutvxObnXK5Pz/A3qK4vwLc3p1HULa4eRrbZHPAkrFmQMMck+uN2Peupv7/7CiN9muJ9xxiBNxH1pVqfspcrZVJuqtEW6Kr2V59tgMnkTQc42zJtNYurarqj+JItG0U20Un2X7VJLcoXBG4qFABHcdayLacXZnRUVy2pRtD478Oyltss8c6TbWO18R5HH1zVW7ttTvfibFHJcwm0trVZ44trDGXIPRsFuOuPwoEdnRUC3kEss0ME0cs8I/eRK4LLnpkdq47SfGd/9m1KTXI0hubS1e5+wi3eNwq56MSQ446igDuKK46417XtO8NHU737BM9z5S2yRKyrG0jYG4ljuAyPSoJ/FusWGj60s8VrPqOmyRqjIpWOUPjGRkkHk96dhXO4oJCjJOB71xWr+IPEOkLp9k6W1xf6g8jLJBbMyxoiqSNm7JOT60Xt/f6ppXh6PVbdrOS71BEuY8FchckD2BIHFAztaK4/xN4svdB1+00yKO2k/tLEdq7tjynzglxnleRjpzxXXrnYN2C2OcUgForkNNutcPjjWori8gezto4H8oRNkKQ/3fm4PHJ71S8OeMNf1maG5fSybC7ieSMrCU8rHKAuSQ2fYCmB3lFcZ4f8AEWraxY30N1JBbanHCsn2eS0eMw5z1Bb5hx1GKveBrrUZ/Btjea1dxTeZbI4kClSBt5LEk5PvxQB0tFNjkSaNZInV0YZVlOQR65rB8R+I28OXlpJdKg0+dXR5D1WULuUfQhWH1xSA6CiqGh3V3faHaXeoRrFcTxiRo1BATIyB9RWDfT64PiNa2lreW6Wj2MkvlPExzh0Bz8w554NPrYXQ62iuETxhrl14jnisNNM2n2979lcLCSxA4Z9+cDB7Y6Vb0zxJqlz4muNN1ARWTM0q2sMls4MiqflcSZw2RyQKBnYUAgjIORXKeCp9Zu4b5tWu4biJbueJQsZDAiQjqWPGO1TeCZX+yalaElorS/mjhY/3S27H4EkfhSA6WiiigAooooAKKKKACiiigAooooAKKKKACiiigAooooAKKKKACiiigAooooAKKKKACiiigAooooAKKKKACiiigAooooAKUdRSUo6igDOl/wCRxtv+vV/5ipNeuporNLWyO27vG8mJgfuZ6v8A8BHP5VHL/wAjjbf9er/zFM0sf2pq8+rvgwpm3s+/yg/O4/3jgfRRWtXaPp/mc9Def+L9EallaRWFjDa2yBIoUCqo7AVPRRWJ0hRRRQAUUUUAFFFFABRRRQAUUUUAFFFFABRRRQAUUUUAFFFFABRRRQAUUUUAFFFFABRRRQAUUUUAFFFFABRRRQAUUUUAFFFFABRRRQAUUUUAFFFFABRRRQAUUUUAFFFFABRRRQAUUUUAFFFFABRRRQAUUUUAFFFFABRRRQAUUUUAFFFFABRRRQAUUUUAFFFFABRRRQAUUUUAFFFFABRRRQAUUUUAFFFFABRRRQBzFhrNjp1xqkN5P5UhvZGClTyOOas/8JPpH/P4v/fJ/wAK2pI0KklFJ+lQ+VH/AHF/KumU6Undp/f/AMA4o0q8Fyxkrej/AMzL/wCEn0j/AJ/F/wC+T/hR/wAJPpH/AD+L/wB8n/CtTyo/7i/lR5Uf9xfyqb0ez+//AIBXLiP5l9z/APkjL/4SfSP+fxf++T/hUc/iDRLm3eGa6Vo5F2sNp5FbHlR/3F/Kjyo/7i/lRej2f3/8AaWJTupL7n/8kYNzqnh67sltZ51aJcbRhhtx0INRfbvDf9mvYvPvgc5YPuJJznOetdH5Uf8AcX8qPKj/ALi/lR+5/lf3r/ItSxaVlNfc/wD5I5i5m8MXccKXE28QqUUkvnaeoJ7irMOq+HreSB4p1VreLyYzhvlTjj9BW95Uf9xfyo8qP+4v5Uv3H8r+9f5A5YxqzqL7n/8AJHPyaj4cl8/fMp8+RZJOG+Zlxg/oKuf8JPpH/P4v/fJ/wrU8qP8AuL+VHlR/3F/Knej/ACv71/kS/rT3mvuf/wAkcvayeF7PVZNRgnIuZCS7lnOc+3Sn29x4WtbK6tInTyLt2eZCGIct1610vlR/3F/Kjyo/7i/lWjrQe9/v/wCAZqlXXWP/AIC//kjnNLvfDejRulhMqeYQWJ3EnAwOT7Cr/wDwk+kf8/a/98n/AArU8qP+4v5UeVH/AHF/KplOnJ3af3/8AahiErKUf/AX/wDJGX/wk+kf8/a/98n/AArM1abwvrUkUt7NmWIEJJGXRgD1GR29q6fyo/7i/lR5Uf8AcX8qm9Hs/v8A+APlxP8AMvuf/wAkc1f3PhjU4rZLuUN9lOYWG5WQ4xwRz0qyusaAuofbRcL9o8oQ78N90HOPzNbnlR/3F/Kjyo/7i/lT5qPZ/f8A8AOXEfzL7n/8kc3bXXhmz1K+v7eVVub/AB9of5vnwMCq9gnhLTpppYHDPNH5TmUu/wAn93noOeldZ5Uf9xfyo8qP+4v5UXo9n9//AAA5cR/Mvuf/AMkcdDaeDoLK4tFYNb3ChGidnZQASQFB6cntUtunhK202ayjZTDO4kl3FizsMYJJ5PQV1nlR/wBxfyo8qP8AuL+VHNS7P7/+AHLiP5l9z/8Akjm9UvPDWsQxR304byW3Ruu5WQ+oI5FRTS+G5dKgsFu2SO3kWWJgWLK6nIOSPWup8qP+4v5UeVH/AHF/Kjmo9n9//ADlxH8y+5//ACRy92/hS/luZbxklkuo1jkZg2do6AenXtVOTVr9ZWFr4ksUgB+RHsXZgvYE7+frXaeVH/cX8qPKj/uL+VHNR7P7/wDgBy4j+Zfc/wD5I5k3PhuTVk1SWcfbVQI0iblDgZxkdD1PX1qC0i8JWNzJNayeXvVl8sM+xQ3XC9Bn2rrfKj/uL+VHlR/3F/Kjmo9n9/8AwA5cT/Mvuf8A8kctpTeFdGkmkspcSTKFeRy7sVHQZPbnpVeWPw5FoOoaZpV79iW9jKZG5hHn+6D06npXY+VH/cX8qPKj/uL+VHNR7P7/APgBy4j+Zfc//kjA0rVtD0jSLXT7a8HlWsSxJkHOFGPSs3xPcaZ4jhtrOTUIVslmWWdWiZmfacgA9uevBrsfKj/uL+VHlR/3F/KjmpXvZ/f/AMAOXEfzL7n/APJHI3+tXD3bHTNfsra2wAkclkzkceu4fyp8s+g6h9jn1e7Se+tRxcQq8fuQAD0OBxmur8qP+4v5UeVH/cX8qOaj2f3/APADlxH8y+5//JHJuvhN9WOoiTZOziRthcK7DoxUcE0tr/wilpq51KKXN1lirOzsE3HLbQeBn2rq/Kj/ALi/lR5Uf9xfyo5qPZ/f/wAAOXEfzL7n/wDJHNWt14asdQuL2zn8qa5yZNpbaSep29M+9SaVqeg6RYi1tbzK72kZnBLMzMWJJx6k10PlR/3F/Kjyo/7i/lRzUez+/wD4AcuI/mX3P/5Iy/8AhJ9I/wCfxf8Avk/4Uf8ACT6R/wA/i/8AfJ/wrU8qP+4v5UeVH/cX8qV6PZ/f/wAAOXEfzL7n/wDJGX/wk+kf8/i/98n/AAo/4SfSP+fxf++T/hWp5Uf9xfyo8qP+4v5UXo9n9/8AwA5cR/Mvuf8A8kZf/CT6R/z+L/3yf8KP+En0j/n8X/vk/wCFanlR/wBxfyo8qP8AuL+VF6PZ/f8A8AOXEfzL7n/8kZf/AAk+kf8AP4v/AHyf8KP+En0j/n8X/vk/4VqeVH/cX8qPKj/uL+VF6PZ/f/wA5cR/Mvuf/wAkZf8Awk+kf8/i/wDfJ/wo/wCEn0j/AJ/F/wC+T/hWp5Uf9xfyo8qP+4v5UXo9n9//AAA5cR/Mvuf/AMkZf/CT6R/z+L/3yf8ACj/hJ9I/5/F/75P+FanlR/3F/Kjyo/7i/lRej2f3/wDADlxH8y+5/wDyRl/8JPpH/P4v/fJ/wo/4SfSP+fxf++T/AIVqeVH/AHF/Kjyo/wC4v5UXo9n9/wDwA5cR/Mvuf/yRl/8ACT6R/wA/i/8AfJ/wo/4SfSP+fxf++T/hWp5Uf9xfyo8qP+4v5UXo9n9//ADlxH8y+5//ACRl/wDCT6R/z+L/AN8n/Cj/AISfSP8An8X/AL5P+FanlR/3F/Kjyo/7i/lRej2f3/8AADlxH8y+5/8AyRl/8JPpH/P4v/fJ/wAKP+En0j/n8X/vk/4VqeVH/cX8qPKj/uL+VF6PZ/f/AMAOXEfzL7n/APJGX/wk+kf8/i/98n/Cj/hJ9I/5/F/75P8AhWp5Uf8AcX8qPKj/ALi/lRej2f3/APADlxH8y+5//JGX/wAJPpH/AD+L/wB8n/Cj/hJ9I/5/F/75P+FanlR/3F/Kjyo/7i/lRej2f3/8AOXEfzL7n/8AJGX/AMJPpH/P4v8A3yf8KP8AhJ9I/wCfxf8Avk/4VqeVH/cX8qPKj/uL+VF6PZ/f/wAAOXEfzL7n/wDJGX/wk+kf8/i/98n/AAo/4SfSP+fxf++T/hWp5Uf9xfyo8qP+4v5UXo9n9/8AwA5cR/Mvuf8A8kZf/CT6R/z+L/3yf8KP+En0j/n8X/vk/wCFanlR/wBxfyo8qP8AuL+VF6PZ/f8A8AOXEfzL7n/8kZf/AAk+kf8AP4v/AHyf8KP+En0j/n8X/vk/4VqeVH/cX8qPKj/uL+VF6PZ/f/wA5cR/Mvuf/wAkZf8Awk+kf8/i/wDfJ/wo/wCEn0j/AJ/F/wC+T/hWp5Uf9xfyo8qP+4v5UXo9n9//AAA5cR/Mvuf/AMkZf/CT6R/z+L/3yf8AClHifSM/8fi/98n/AArT8qP+4v5UCKPI+RfyovR7P7/+AHLiP5l9z/8Akjk9V1VNU8Q21ro0xeW5geEyKCPKUkbm+oGce+K7G1torO1it4ECRxKFVVHAAp4jQEEIoPqBTqipNSastEa0acoJ8zu27/1uFFFFZmwUUUUAFFFFABRRRQAUUUUAFFFFABRRRQAUUUUAFFFFABRRRQAUUUUAFFFFABRRRQAUUUUAFFFFABRRRQAUUUUAFFFFABRRRQAUUUUAFFFFABRRRQAUUUUAFFFFABRRRQAUUUUAFFFFABRRRQAUUUUAFFFFABRRRQAUUUUAFFFFABRRRQAUUUUAFFFFABRRRQAUUUUAFFFFABRRRQAUUUUAFFFFABRRRQAUUUUANf7hqGpn+4ahpiCiuPsfGbrrV7ZahaztEuqNZQ3CINinGVU85z15rSh8X6fObZEWbzbieWHyivzIY87y3oBj9RQBvUVydn8Q9LuLdbm4t7qzt5LVruGWdABLGuN2MHr8w+ual0/x5puoQXkgjmia1t/tLI20lo/UYJ59qAOnorm18ZwnS4719Mvo1uHRLWNkAa4LgkYGeOBnmo28d2YitxHY3kl1PcSWwtgg3pIgJYHnGMDrTA6iiuSuvGxaPRptM0+aeLULowSAgBkKq5ZcZ+8Cn866uNi8SsylCwBKnqPagB1FcnrGu6qnjSx0ewhkjgaFp5ZfLDbwGUYGTwPm570lv8Q7C41VLIWV4u+UxiZlGz75TPXpuUigDraKwodexqWsJcLIkenxCQxtGAduCcg55zj2qPSPGFrqzsq2l1bH7ILyPz1A8yI9xg0gOhorndG1S9bwadVut1xNMsk6oABsUklR9AMVJaa1PBpdtNqEcss124EaIgHVc+vT3rOVSMZcrNYUpTjzRN6isgeJLT7PHK0Nz8+flWEttIJBBx7iqWoeNbOxkKpZ3lwY7f7VOI48GGLJG5gf908e1VGSlsKVOcFeSOkori28di11zUEuLeabToY4ZBPEgxEjjq3PPr7CtttYY+KbXTxvSOWB5FJQFZcY5DZyMZ9KuxmbNFcvYeP9J1DVo7KESBZpHjinJXa7JnPGcjoeSKt6b4nGrRNPZabePbFWMM5UBZcccc9+2aQG7RXP+F/EV1rnh5dQudPlikKsQq4xJhiMLz7d6bpnieFtD0+8vWdhe3P2dXMYXa5YgAjJxyMdaYHRUVzV546020iVgksjyXMlvCg2r5hTG5gScbRnrWtousW2u6TDqFlu8qXOAw5Ug4IP40gL9FFZ7avH/arWKRSO6Y3sMYXP45qXJR3KjCUr2NCismLxDBJeCHyJlQzm3EpUbS47U6DX7eW+Nq6PE4RnBYg5C9eh461KqwfU0dCouhqUVkr4gh+wyXstvPFaqnmLK6jDjtj65pkXiezkjkLRzB4yoZETeec4Py59KPawulfcPq9X+U2aKwL/AMX2VjYx3DQ3DGWdbeNGTYWcgn+LAxgHmkvvFsdibKM6deS3F5G8iQRqpKhcZyc471otTKUXF2Z0FFczd+ObC10y11AQTyWtxF5u8FVKjuME5JHoKtP4pgbURZ2Fnc3zrGksrQqMRK/K5yepHOPSgRuUVy0vxA0mHWm09hIQlwLZ5vl2rIe2M5xnjOOtdTQAUVBfXaWFlJcyhmWMchep5xWbbeJIbkS7badWjUttYD5sNtPfsah1IxfK3qaxpTnHmitDZorIj8SWj2sk7JIiQyCOXofLz0JI7cir9jepf2ouIVYRsTtLDG4ev0ojUhJ2TFKlOCvJFiiszU9dttMnWGRWklZDIVUgYUd+TTf+Ehs/JlkG8iOJZRx99W4GPx4pe1gna5So1GlJLRmrRWXPr0FteRwTxSIJGVQ5I6tjHGc96W3uLgeIrm1llDwiBZUG3BXLEYz36Ue0jey9Bexna77XNOisq11+C7jmljgm8mIMd4AOcHB4HNEetC+jlj02GX7SELRi4iZEJ7ZNVGUZWs9wlRqRvdbGrRXIDxPqEfhQXc/2dbxrz7Jv2kRp8+3cRnoBz1rPh8c3s2kfOYobhbt4muHiO3y1QPv2Z6kHpmuxYWo7272ON14Lc7+isfwtq8+taBFdXkQiuQzRyoBjDKcVsVzzi4ScX0NYyUkmgorMvtcg0+6WG4jcKSBvBGOfbOaSO5uV8SPbPKHgaDzFXbgqc461j7SN7G6oztd9rmpRWRD4jtprhEEMyxy7/LmIG19vU0kPiS2kXc8FxGGi82PKZMiZAyAPqKSrU3syvq9VfZNiiuW8Q+LhZ+Hbq90+K4EsBQ4kgIyC4BAz1ODVmHxfatxc2tzaut2tpIkqj92zDKk4PQ+vvWq1V0Yyi4u0kdBRXNXHjeyjkSO1tLq7kluZbaNYlHzNH945J6cHmq8/xG0iKC1eNJpZLiJpjF8qtGqnDbskcg8YoEdbRXPT+MbRZNOjsbW5vn1K3NzAIFHKDHJJPH3hTJfG1nDfNC9pdCGOVIJrjYNkUjgYU857gH0NOwHSUVzVv43s7jUhaizu0ja7ks0uGQBHmTOVHOf4TzT/AA74jutZvtQguNPkgW1uDErnGMAA4PPXmgDoqKq6ldPY6bPcxQtO8SFhGmMn865+08abfB9rrWpafcRmcRKI41B3s+ANoz0ye9IDqqK5Wbx/ptvbZnguIrr7T9lNo4UOH27upOMbec1s6Hrdrr+mLe2W7YWZGVsZVlJBHHuKANGisXVfE0Gl6vBpv2ea4uZo/NCx7Rhc47kZOe1OuPE1nbfbfNWX/QniSUbe8mMY/wC+hQBsUVzX/CcWP9prara3TRNdfZFugg8sy4yR1zgdM+tNtvHVhcXsMRtrqOC4MwhunQCN/KBLnrkfdNAHT0Vylj8Q9IvfNO2aJEt3uUZtp8yNBliADkHHODVj/hK2n8M3eq2enTnyYjJGrFTvGM54P50AdHSjqK506nf6n4KmvbeKSwvDbGSMuAfm25HrxmtXRr8apotnfAY+0RK+PTIpgalFFFSMKKKKACiiigAooooAKKKKACiiigAooooAKKKKACiiigAooooAKKKKACiiigAooooAKKKKACiiigAooooAKKKKACiiigAooooAKKKKACiiigAooooAKKKKACiiigAooooAKKKKACiiigAooooAKKKKACiiigAooooAKKKKACiiigAooooAKKKKACiiigAooooAKKKKACiiigAooooAKKKKACiiigAooooAKKKKACiiigBr/cNQ1M/3DUNMRzr+FEbzD9pb59UGo/d7j+H/AOvWfpHh6Y+L9a1qa3kt45UMVrDIR1I/ePgdNxVPyrsqKAPPdD8AXNz4esoPEl48nlacbVLcIFMO/aWyc/MRtAFbll4WuYtLu7K8vopVng8hXjthGQMYyeTk/lXTUUbgtDD1Lw617o1ha290YLjT3SSCfZuwyjbyvcEE8e9c7d+DtVgvtKksL7dci9mubq7MQ2gupH3M9Ocda76incDlx4OaHRNPtLXUGS6sbprtbh4w2+Rt24lfQ724rRu9JvrnVdLu11WWKOzDefBGuEuSRjkZ4wea16KAM2XSBL4kg1bzSGitXtxHjg7mVs5/4DWJH4FjjuElF42Uk3gbP+mrSf8As2K62ikBzA8Mai+qalc3GqxvFqEJhkjW2wQu0hcHd2z+NW7Lw1HaXttOZi4g00WBUrjcAQd36VuUUAY2jaPPY+HH0q5lVlAkjidR0jYnaD7gED8KsnSgY9PXzD/oRBHH3vlK/wBa0KKlxTd2XGcoqyMhPDloYttwXkO92BDFcbmLY4+tZereC2u7iR9M1BrJLiz+xXClPM3x7mPBJ4PzHnnrXV0URioqyHKpOfxM4y78BSzXFwttqrQ2V3FFDPB5QJZE44bPBI4q+LW6uPG9pMtnLFaWFtJEZpCMSFsY2/l3xXSUVdzM5bR/B76PdBIruJ7BXdkha3HmANk4356An0q34f0C90JUtBqQn06EMIYDCAygnIBbPOPoK3qKQGDpGhX+jaXNY2mpIYgSbUvBkxZJJzz83X2qhb+DLhfCdxod3qYlVvmt5kg2NC+4sG6nOCQfwrraKAOTk8DImlaRBZ3QS50sMEmliDiTcBv3LkZzjPWpr3StbjtNHs9OvFTy7tZLyeNfLDRjJKhR68CumopgFY97obXuqRXTzIFikV1AiG/jtuz0rYorOcIzVpFwqSpu8TnLHQ7p53a7nKQJeyTxwheSexz6c9KfY+F/stxE8tyJI4oniVBGFyGxyT3PFdBRWaw9NW0N5Yqq767mIugzNpb6dc3pltvL8uMeWAy4xgk98YqWLQw8LR6hIswJBHlJ5eMZ9Dz1rWoq1Sgnch4io+pg6p4ZW50s2dhJHErOGcXEXnK4wRjBI9f0rAbwbqdjdaJa6TetGlnbTpJdNGGGXK/Ltz0649MCu9orTYxbcndnDXPw5L28MNpqXlBbMWkjSQh2Izkspz8pJzmtNPC95Y6iLrSNTFt5kEUNyrwhxJ5YADDkYOOO9dNRTEctD4QltNamurO9jW2uLj7RJDJbh2DHlgrZ4BPtV3SbbWF8SaxdajMfsMjRrZQbshVCjc3tk5rcooAr39oL6ye3LbA+OcdMEH+lY83hdZYnUXJBYHHy5HMnmdO47V0FFZSpxn8SNoVqlNWizAj8NN5FxFPd7kupVkmVE2hlAA2j0HFWYEutIgW1ggkvIlzsbcBsGeF98VrUVKoxjrHQcsROWk9V/XYxJ9Mm1K5S+2i0uFQxFZFEgZc59u9SXegpd3FlM8pU2+A4VcCUA5AP4jNa9FP2MHuHt6itZ2sYFz4aafUHnF0Fje4Scr5YLZXHG70+WtGTT5Dq630E+wmMRSIVyGUEkfTrV6ihUoLZeYnXqSSTfkYlv4dC6hJc3Myv5kbRkRx7NwPckHk1ah0W3s/MexLRTMhVXZiwU+uDWjRVQhGHwoU61Se7ORPgmW40G50y/wBQE6STC4jYQhdj7t3IzyM9qdL4HWazTzLsNepeC885ogV3YAxtz0wo4zXWUV1/Wavc5PYw7HK3uharaaHYafol4yS/bUlu7onBKbsvx79MV1Q6DNFFYyk5O7NUklZGBf8Ahpr29mmF0ESdkZx5YLfL2B9Kvz6a76pDewz+Wyp5bqVyHXOfwrQorBUYLZG7r1Gkm9tDlLXR7savBDiUWFt5oUOoAAboAQcn9KvWvhvYyC9umuI4YTBEoXbhSR1I6ngVu0VEMPCJpPFVJeX9f8Ewr/wpZ3WnS2sDPD5hUlixb7rBuh+lZvifw/LJpGu/Y4ZLu41UxiNEwvksq4DZPYda6+iujZWOaUnJ3lqcLc+E9Rtl8N22kz+S1gr+fclA4LFcEkZGcnNTR/D/AOyfZJrC+VbqKFoppJ4BIs25txOMjBzn867SincRkQ6F5esWOoNNue1s2tdoTAbcVO72+5096y7zwZJdalOy6iyafdXKXU1r5YJZ1x0bPAJAJGO1dXRQBw2h+EdQN8Z9Tu2S1g1a4vYbTyxnLM4U7s9MNnGOtb+naHPpus31zBe5tbx/Na3aPlXwBkNnpx0xW1RQIyNI0a5sNOu7bUNSm1A3EsjiSXqisThB7AHFc9qnhXVovCEGk2d79pMF1AbdxEFaKNHB55+bAHt0ruKKQzjJPAUkububUQ+pm8+1mdoQUJ2eXt2Z6beOtaM3h7UJNJs7WLV2tZoLkTSy20WwSrknZtB4Hauiopgc14q8KyeJdkbXUMUIXaQ9uHdTnO5Gz8p/Oq2qeCbi+upTb6s1vbXBgaeLygxdoiMHdnjO0A111FIDzqfwzqY8Vw29itwulpqAvX8xFEYO3Jw2cnJ7Y655pth4W1JvEtpaSLcDRrJrrAmRQAJVYYVgSW5Y9QMCvR6KYHL6T4Uu9Lt3t11CF41gaGA/ZQHXPQsc/Nj6DNJongtdMi1VZ7hHOpJskWCERIowRkLk889a6mikBz40XVIfCVxpS38c07RGGCZotmxSMDIBOSK2NOs49O063s4RhII1RR9BVilHUUwJ6KKKkYUUUUAFFFFABRRRQAUUUUAFFFFABRRRQAUUUUAFFFFABRRRQAUUUUAFFFFABRRRQAUUUUAFFFFABRRRQAUUUUAFFFFABRRRQAUUUUAFFFFABRRRQAUUUUAFFFFABRRRQAUUUUAFFFFABRRRQAUUUUAFFFFABRRRQAUUUUAFFFFABRRRQAUUUUAFFFFABRRRQAUUUUAFFFFABRRRQAUUUUAFFFFABRRRQAUUUUAFFFFAEZuIBcC3M0YmYbhGWG4j1x1qSuC0RL611LxVq90mnzT208g8wW7CTKwRkKGLHCe3rmtOPxBrUWi219eWtmZtSMMdjaRMwIdxnMjnjGPmwBwARzR/wPx2B6P7/wANzqqK5+31XVbLV4tP11LST7VG721xaBlXcnJRlYk5wcgg84PArIi8Wa8NA0zW5rKwa1vWiiNurusgaQ7VbdyANxHGCcc5zxQB29FYWm6nqi+IZdJ1lbRma3+0wTWoZQV3bWVgxPIJHOefQVV8TNcr4n8O/YUjecyXATzSQo/dHk4546471cI87t6/hf8AyM5z5Ff0/G3+Z09Fcjd6vrLafrun3DWkV/ZWwmWeAOEeNlboM5VhtPcjpVbUbjX4/DGhyC9tlllurZS6rICwYrtDfNz33evtWiotu1+34mcsQkm7PRN/cdvRXO3eq6ymv2+j2cdm00lkZ5J5FYIjBgpOAckc8DOfeoZvFF5YaZqov7WE6hppj3eUzCJ1k+7JzkqOuRzjbUqlJrT+tbfmU60U2n0/yv8AkdRTZJEhiaSV1jjQFmZjgKPUmsXTb/V57e4kf+zdQTyi9vNZSlUd/wC4clvb5s/hUPiF7i88N2ljdQrDc6nLFbzRI+4IG5kAPfChqXs3zcrH7RcnNbobzXEKLGXljUSsFjJYDeT0A9TUlYV/i68X6bbdI7GGS8f0yR5aD9XP4VS/t/XJ9Lk1y0tLNtNTc62zlhPJGpPzBs7QTgkDB+tNU20mv6/qwnVs2mv6tf8AU6qiuZfXdUv9ebT9EjtPJNlFdrc3AYhQ5bggEZzgY6d+egrP1vWdWuPC+oIphsr+wuUhuTGWIYEqVZCCCAdw4PuPemqMm0v610JeIhZtf11O2orGTUr6DXtP0y8Fu7XFtNNLJErKNyMoG0EnjDd6o6n4mvLKHWGgt4pWsLiCKJOfnD7c556/NxUqnJtJdf8AO35lurFJ36f5X/I6eisCDVNXtNftLHWY7Ix3yuYWtd2Y3QbirbvvDGeRjp0rP1PxRqOjs1zqL6TFbrKFNl55NyULY3A5wTg5246d6aoybSXUmVeEYuT6b/n+R19FVdTv4tK0u5v7nPlW8bSMB1IA6ViHWNd09bW81i2shZXEiRvHAX8y23nClieGAJAOAMe9TGDlsXOpGG50tFcza67qtxd6nNJHZxabplzLHKxDGWRVUN8ozgHnqevoKp33iLxHY+HDrklnYG3kRXS3BcyRKxG0sc4bg8gYx74q1Rk2l6fjsZyxEIpt30v+G518s0UIUzSJGGYIu9gMsegHufSn1har/pnijSLEH5YfMvZRjqFGxf8Ax58/hW7WbjZJ9zZSvJrt/wAOFFFFSUFFFFABRRRQAUUUUAFFFFABRRRQAUUUUAFFFFABRRRQAUUUUAFFFFABRRRQAUUUUAFFFFABRRRQAUUUUAFFFFABRRRQAUUUUAFFFFABRRRQAUUUUAFFFFABRRRQAUUUUAFFFFABRRRQAUUUUAFFFFABRRRQAUUUUAFFFFABRRRQAUUUUAFFFFABRRRQAUUUUAFFFFABRRRQAUUUUAFFFFABRRRQAUUUUAFFFFABRRRQAUUUUAFFFFABRRRQAUUUUAFFFFABRRRQAUUUUAFFFFABRRRQAUUUUAFFFFABRRRQAUUUUAFFFFABRRRQAUUUUAFFFFABRRRQAUUUUAFFFFABRRRQAUUUUAFFFFABRRRQAUUUUAYEOhXMdr4iiZ4t2qTySQ4J+UNCiDdxxyp6Z4pbvQbifw7ptrDNHFf6d5MkMjAtGZEXBB6HaQWHrzmt6ij/AIH4bB1v6/juc/BpurahrEF/ra2duLON1t7e1laUF3GC7Myr24AA7nmqp8MXp8E6Po/mwfaLGW2eRtzbCI3VmwcZ6DjgV1VFC0d/60DpYzG02Y+LI9UDJ5C2TW5XJ3bi4bOMYxgetJqGmTXevaRfRtGIrJpTIGJ3HdGVGOPX6VqUU4tx28/xv/mTKKlv5fhb/IwZ9AmuNa1i5eWNYNQsUtUwSWUjfkkYxj5h3qvLousXXhe0s52skvrGeGSEo7GOQREEbuAVzg9M4rpqK0VWS/D8DN0Yu/nf8dzj7r+1T47tJLVbX7YukkywvI3lv+9XID7cjnkHb26Vet9I1iOPUb8z2keq3rJhAGeFEThYyTgnILZbA69OK6Dyo/O83Yvmbdu/HOPTPpTqbquySX9XuJUVzOTf9Wscvp2g6hbatdaolppunTNamGO3tWZo5XzkPIdq9MY4GcE81ZWC/u/EelnUYlzZWbSyyRK3lGd8JhSfQb/fkVv0UnVbdxqikrJ+f5f5GLpFvLLrOs311C8fmzLbxBwRuijXqPYsz1nLomvW2jyaFay2X2Fg0aXbu3mxxMT8uzbgsAcA7h24rq6KXtH+X4D9krb9/wATjI7a+svHNzHoawOtvpltF9nuHKKyhnAO4A4Ix6HOTVt/DN7c6Bqkd1cQDUtSlEzMgJijK7diDuQNo5xnk10wijEplCKJGABfHJA6DNOqnWlo1v8A0/zIjh4q6e3b8PyOdvdO1ue403VbdbBdStkkimgeRzE6OR0fbkH5VPT1qo3hrVbi11P7XPaNcX11BOPLLBUCbcr0z/Dx6+3braKSqyW39a3/ADG6MXu/6ta/3GVqOlzXmu6Texuix2bTGQEncd8ZUY49TXMyeD9WPh+fSLeDSYi+c3+W82f5s/MNnBPc5PTp6d3RRCtKFrdP87/qE6EJ3v1/VW/Qyr7T7vVY9TsNQa3GnXMIjgMW7zQSDuLZ464xis59K13UobSx1drFbSCRJJpoHcvcbCCo2lQEBIGeT7V01FKNRx2KlSUt/wCl2MWw0Vre01mC+ZGi1C6llHlk5COoXB468GuP1ia+uPBa6fFrGm3ds3lQ2xgz59zhlCqVJwp9cZ6dBXpVVU0ywivDdxWNsly2SZlhUOf+BYzV063LLmfl+BnVoKceVaXv+JQ0yGWXxJq19PFIiqY7WDzFIyqjcWX1BZ8Z/wBmtmiispO5vGPKFFFFSUFFFFABRRRQAUUUUAFFFFABRRRQAUUUUAFFFFABRRRQAUUUUAFFFFABRRRQAUUUUAFFFFABRRRQAUUUUAFFFFABRRRQAUUUUAFFFFABRRRQAUUUUAFFFFABRRRQAUUUUAFFFFABRRRQAUUUUAFFFFABRRRQAUUUUAFFFFABRRRQAUUUUAFFFFABRRRQAUUUUAFFFFABRRRQAUUUUAFFFFABRRRQAUUUUAFFFFABRRRQAUUUUAFFFFABRRRQAUUUUAFFFFABRRRQAUUUUAFFFFABRRRQAUUUUAFFFFABRRRQAUUUUAFFFFABRRRQAUUUUAFFFFABRRRQAUUUUAFFFFABRRRQAUUUUAFFFFABRRRQAUUUUAFFFFABRRRQAUUUUAFFFFABRRRQAUUUUAFFFFABRRRQAUUUUAFFFFABRRRQAUUUUAFFFFABRRRQAUUUUAFFFFABRRRQAUUUUAFFFFABRRRQAUUUUAFFFFABRRRQAUUUUAFFFFABRRRQAUUUUAFFFFABRRRQAUUUUAFFFFABRRRQAUUUUAFFFFABRRRQAUUUUAFFFFABRRRQAUUUUAFFFFABRRRQAUUUUAFFFFABRRRQAUUUUAFFFFABRRRQAUUUUAFFFFABRRRQAUUUUAFFFFABRRRQAUUUUAFFFFABRRRQAUUUUAFFFFABRRRQAUUUUAFFFFABRRRQAUUUUAFFFFABRRRQAUUUUAFFFFABRRRQAUUUUAFFFFABRRRQAUUUUAFFFFABRRRQAUUUUAFFFFABRRRQAUUUUAFFFFABRRRQAUUUUAFFFFAH/9k=)"
      ],
      "metadata": {
        "id": "zMf8W9n70XW9"
      }
    },
    {
      "cell_type": "code",
      "metadata": {
        "ExecuteTime": {
          "end_time": "2021-09-24T19:46:55.805597Z",
          "start_time": "2021-09-24T19:46:40.700435Z"
        },
        "_kg_hide-input": false,
        "_kg_hide-output": true,
        "scrolled": true,
        "id": "P9R2GF9gDyh7",
        "outputId": "002349b4-9177-48ab-9410-d5c45da2ea88",
        "colab": {
          "base_uri": "https://localhost:8080/"
        }
      },
      "source": [
        "!pip install optuna"
      ],
      "execution_count": null,
      "outputs": [
        {
          "output_type": "stream",
          "name": "stdout",
          "text": [
            "Collecting optuna\n",
            "  Downloading optuna-2.10.0-py3-none-any.whl (308 kB)\n",
            "\u001b[K     |████████████████████████████████| 308 kB 5.3 MB/s \n",
            "\u001b[?25hCollecting cmaes>=0.8.2\n",
            "  Downloading cmaes-0.8.2-py3-none-any.whl (15 kB)\n",
            "Requirement already satisfied: numpy in /usr/local/lib/python3.7/dist-packages (from optuna) (1.21.5)\n",
            "Requirement already satisfied: sqlalchemy>=1.1.0 in /usr/local/lib/python3.7/dist-packages (from optuna) (1.4.32)\n",
            "Requirement already satisfied: scipy!=1.4.0 in /usr/local/lib/python3.7/dist-packages (from optuna) (1.4.1)\n",
            "Requirement already satisfied: tqdm in /usr/local/lib/python3.7/dist-packages (from optuna) (4.63.0)\n",
            "Requirement already satisfied: PyYAML in /usr/local/lib/python3.7/dist-packages (from optuna) (3.13)\n",
            "Collecting cliff\n",
            "  Downloading cliff-3.10.1-py3-none-any.whl (81 kB)\n",
            "\u001b[K     |████████████████████████████████| 81 kB 7.6 MB/s \n",
            "\u001b[?25hRequirement already satisfied: packaging>=20.0 in /usr/local/lib/python3.7/dist-packages (from optuna) (21.3)\n",
            "Collecting colorlog\n",
            "  Downloading colorlog-6.6.0-py2.py3-none-any.whl (11 kB)\n",
            "Collecting alembic\n",
            "  Downloading alembic-1.7.7-py3-none-any.whl (210 kB)\n",
            "\u001b[K     |████████████████████████████████| 210 kB 50.9 MB/s \n",
            "\u001b[?25hRequirement already satisfied: pyparsing!=3.0.5,>=2.0.2 in /usr/local/lib/python3.7/dist-packages (from packaging>=20.0->optuna) (3.0.7)\n",
            "Requirement already satisfied: greenlet!=0.4.17 in /usr/local/lib/python3.7/dist-packages (from sqlalchemy>=1.1.0->optuna) (1.1.2)\n",
            "Requirement already satisfied: importlib-metadata in /usr/local/lib/python3.7/dist-packages (from sqlalchemy>=1.1.0->optuna) (4.11.3)\n",
            "Collecting Mako\n",
            "  Downloading Mako-1.2.0-py3-none-any.whl (78 kB)\n",
            "\u001b[K     |████████████████████████████████| 78 kB 5.6 MB/s \n",
            "\u001b[?25hRequirement already satisfied: importlib-resources in /usr/local/lib/python3.7/dist-packages (from alembic->optuna) (5.4.0)\n",
            "Requirement already satisfied: PrettyTable>=0.7.2 in /usr/local/lib/python3.7/dist-packages (from cliff->optuna) (3.2.0)\n",
            "Collecting pbr!=2.1.0,>=2.0.0\n",
            "  Downloading pbr-5.8.1-py2.py3-none-any.whl (113 kB)\n",
            "\u001b[K     |████████████████████████████████| 113 kB 41.8 MB/s \n",
            "\u001b[?25hCollecting autopage>=0.4.0\n",
            "  Downloading autopage-0.5.0-py3-none-any.whl (29 kB)\n",
            "Collecting stevedore>=2.0.1\n",
            "  Downloading stevedore-3.5.0-py3-none-any.whl (49 kB)\n",
            "\u001b[K     |████████████████████████████████| 49 kB 5.1 MB/s \n",
            "\u001b[?25hCollecting cmd2>=1.0.0\n",
            "  Downloading cmd2-2.4.0-py3-none-any.whl (150 kB)\n",
            "\u001b[K     |████████████████████████████████| 150 kB 14.1 MB/s \n",
            "\u001b[?25hRequirement already satisfied: typing-extensions in /usr/local/lib/python3.7/dist-packages (from cmd2>=1.0.0->cliff->optuna) (3.10.0.2)\n",
            "Collecting pyperclip>=1.6\n",
            "  Downloading pyperclip-1.8.2.tar.gz (20 kB)\n",
            "Requirement already satisfied: attrs>=16.3.0 in /usr/local/lib/python3.7/dist-packages (from cmd2>=1.0.0->cliff->optuna) (21.4.0)\n",
            "Requirement already satisfied: wcwidth>=0.1.7 in /usr/local/lib/python3.7/dist-packages (from cmd2>=1.0.0->cliff->optuna) (0.2.5)\n",
            "Requirement already satisfied: zipp>=0.5 in /usr/local/lib/python3.7/dist-packages (from importlib-metadata->sqlalchemy>=1.1.0->optuna) (3.7.0)\n",
            "Requirement already satisfied: MarkupSafe>=0.9.2 in /usr/local/lib/python3.7/dist-packages (from Mako->alembic->optuna) (2.0.1)\n",
            "Building wheels for collected packages: pyperclip\n",
            "  Building wheel for pyperclip (setup.py) ... \u001b[?25l\u001b[?25hdone\n",
            "  Created wheel for pyperclip: filename=pyperclip-1.8.2-py3-none-any.whl size=11137 sha256=57e1df197eab3cf5b6307fca381d7f20577bee27a5062692366ba03a39158c49\n",
            "  Stored in directory: /root/.cache/pip/wheels/9f/18/84/8f69f8b08169c7bae2dde6bd7daf0c19fca8c8e500ee620a28\n",
            "Successfully built pyperclip\n",
            "Installing collected packages: pyperclip, pbr, stevedore, Mako, cmd2, autopage, colorlog, cmaes, cliff, alembic, optuna\n",
            "Successfully installed Mako-1.2.0 alembic-1.7.7 autopage-0.5.0 cliff-3.10.1 cmaes-0.8.2 cmd2-2.4.0 colorlog-6.6.0 optuna-2.10.0 pbr-5.8.1 pyperclip-1.8.2 stevedore-3.5.0\n"
          ]
        }
      ]
    },
    {
      "cell_type": "code",
      "metadata": {
        "ExecuteTime": {
          "end_time": "2021-09-24T20:41:24.195740Z",
          "start_time": "2021-09-24T20:41:15.579691Z"
        },
        "scrolled": true,
        "id": "WDp5LCGBDyh8",
        "outputId": "28c2c83c-2e18-4981-92e8-54d10a056a57",
        "colab": {
          "base_uri": "https://localhost:8080/"
        }
      },
      "source": [
        "import sklearn\n",
        "import sklearn.datasets\n",
        "import sklearn.ensemble\n",
        "import sklearn.model_selection\n",
        "import sklearn.svm\n",
        "import optuna\n",
        "\n",
        "# 1. 최소화/최대화할 목적함수 (objective function) 정의\n",
        "# objective method needs to receive trial object as args, and return \"score\" to be optimized.\n",
        "def objective(trial):\n",
        "    iris = sklearn.datasets.load_iris()\n",
        "    x, y = iris.data, iris.target\n",
        "\n",
        "# 2. Use \"trial\" module to define hyperparameters dynamically\n",
        "    classifier_name = trial.suggest_categorical('classifier', ['SVC', 'RandomForest'])\n",
        "\n",
        "    #분류 모델이 SVC일 때\n",
        "    if classifier_name == 'SVC':\n",
        "        svc_c = trial.suggest_loguniform('svc_c', 1e-10, 1e10)\n",
        "        classifier_obj = sklearn.svm.SVC(C=svc_c, gamma='auto')\n",
        "    \n",
        "    #분류모델이 랜덤포레스트일 때\n",
        "    else:\n",
        "        rf_max_depth = int(trial.suggest_loguniform('rf_max_depth', 2, 32))\n",
        "        classifier_obj = sklearn.ensemble.RandomForestClassifier(max_depth=rf_max_depth, n_estimators=10)\n",
        "    \n",
        "    accuracy = cross_val_score(classifier_obj, x, y, cv = 4).mean()\n",
        "    return accuracy\n",
        "\n",
        "\n",
        "# 3. study 오브젝트 생성하고 목적함수 최적화\n",
        "study = optuna.create_study(direction='maximize')\n",
        "study.optimize(objective, n_trials=100)"
      ],
      "execution_count": null,
      "outputs": [
        {
          "output_type": "stream",
          "name": "stderr",
          "text": [
            "\u001b[32m[I 2022-04-01 08:16:51,218]\u001b[0m A new study created in memory with name: no-name-ddc846b8-086b-49f4-b611-267fab78999f\u001b[0m\n",
            "\u001b[32m[I 2022-04-01 08:16:51,252]\u001b[0m Trial 0 finished with value: 0.9599928876244666 and parameters: {'classifier': 'SVC', 'svc_c': 0.19727108620006917}. Best is trial 0 with value: 0.9599928876244666.\u001b[0m\n",
            "\u001b[32m[I 2022-04-01 08:16:51,369]\u001b[0m Trial 1 finished with value: 0.9599928876244666 and parameters: {'classifier': 'RandomForest', 'rf_max_depth': 6.812700906095755}. Best is trial 0 with value: 0.9599928876244666.\u001b[0m\n",
            "\u001b[32m[I 2022-04-01 08:16:51,383]\u001b[0m Trial 2 finished with value: 0.9601706970128023 and parameters: {'classifier': 'SVC', 'svc_c': 15.989059325575909}. Best is trial 2 with value: 0.9601706970128023.\u001b[0m\n",
            "\u001b[32m[I 2022-04-01 08:16:51,399]\u001b[0m Trial 3 finished with value: 0.4822190611664296 and parameters: {'classifier': 'SVC', 'svc_c': 3.8425193341393716e-05}. Best is trial 2 with value: 0.9601706970128023.\u001b[0m\n",
            "\u001b[32m[I 2022-04-01 08:16:51,416]\u001b[0m Trial 4 finished with value: 0.653271692745377 and parameters: {'classifier': 'SVC', 'svc_c': 0.025492645370061757}. Best is trial 2 with value: 0.9601706970128023.\u001b[0m\n",
            "\u001b[32m[I 2022-04-01 08:16:51,491]\u001b[0m Trial 5 finished with value: 0.9466571834992887 and parameters: {'classifier': 'RandomForest', 'rf_max_depth': 2.1292792099256794}. Best is trial 2 with value: 0.9601706970128023.\u001b[0m\n",
            "\u001b[32m[I 2022-04-01 08:16:51,505]\u001b[0m Trial 6 finished with value: 0.9331436699857752 and parameters: {'classifier': 'SVC', 'svc_c': 6105.310876132988}. Best is trial 2 with value: 0.9601706970128023.\u001b[0m\n",
            "\u001b[32m[I 2022-04-01 08:16:51,522]\u001b[0m Trial 7 finished with value: 0.4822190611664296 and parameters: {'classifier': 'SVC', 'svc_c': 1.533570012414539e-07}. Best is trial 2 with value: 0.9601706970128023.\u001b[0m\n",
            "\u001b[32m[I 2022-04-01 08:16:51,536]\u001b[0m Trial 8 finished with value: 0.9331436699857752 and parameters: {'classifier': 'SVC', 'svc_c': 37257.167265898956}. Best is trial 2 with value: 0.9601706970128023.\u001b[0m\n",
            "\u001b[32m[I 2022-04-01 08:16:51,552]\u001b[0m Trial 9 finished with value: 0.9400782361308677 and parameters: {'classifier': 'SVC', 'svc_c': 0.06308596967168517}. Best is trial 2 with value: 0.9601706970128023.\u001b[0m\n",
            "\u001b[32m[I 2022-04-01 08:16:51,628]\u001b[0m Trial 10 finished with value: 0.9599928876244666 and parameters: {'classifier': 'RandomForest', 'rf_max_depth': 30.88443960334369}. Best is trial 2 with value: 0.9601706970128023.\u001b[0m\n",
            "\u001b[32m[I 2022-04-01 08:16:51,644]\u001b[0m Trial 11 finished with value: 0.9331436699857752 and parameters: {'classifier': 'SVC', 'svc_c': 916865684.762335}. Best is trial 2 with value: 0.9601706970128023.\u001b[0m\n",
            "\u001b[32m[I 2022-04-01 08:16:51,660]\u001b[0m Trial 12 finished with value: 0.9466571834992887 and parameters: {'classifier': 'SVC', 'svc_c': 370.8114892336321}. Best is trial 2 with value: 0.9601706970128023.\u001b[0m\n",
            "\u001b[32m[I 2022-04-01 08:16:51,676]\u001b[0m Trial 13 finished with value: 0.9733285917496444 and parameters: {'classifier': 'SVC', 'svc_c': 3.471906981764087}. Best is trial 13 with value: 0.9733285917496444.\u001b[0m\n",
            "\u001b[32m[I 2022-04-01 08:16:51,763]\u001b[0m Trial 14 finished with value: 0.9532361308677098 and parameters: {'classifier': 'RandomForest', 'rf_max_depth': 22.11319455369794}. Best is trial 13 with value: 0.9733285917496444.\u001b[0m\n",
            "\u001b[32m[I 2022-04-01 08:16:51,785]\u001b[0m Trial 15 finished with value: 0.9331436699857752 and parameters: {'classifier': 'SVC', 'svc_c': 40277820.18185531}. Best is trial 13 with value: 0.9733285917496444.\u001b[0m\n",
            "\u001b[32m[I 2022-04-01 08:16:51,804]\u001b[0m Trial 16 finished with value: 0.4822190611664296 and parameters: {'classifier': 'SVC', 'svc_c': 2.369726102196702e-10}. Best is trial 13 with value: 0.9733285917496444.\u001b[0m\n",
            "\u001b[32m[I 2022-04-01 08:16:51,820]\u001b[0m Trial 17 finished with value: 0.9733285917496444 and parameters: {'classifier': 'SVC', 'svc_c': 56.075699418215805}. Best is trial 13 with value: 0.9733285917496444.\u001b[0m\n",
            "\u001b[32m[I 2022-04-01 08:16:51,897]\u001b[0m Trial 18 finished with value: 0.9399004267425319 and parameters: {'classifier': 'RandomForest', 'rf_max_depth': 2.3703374397865984}. Best is trial 13 with value: 0.9733285917496444.\u001b[0m\n",
            "\u001b[32m[I 2022-04-01 08:16:51,913]\u001b[0m Trial 19 finished with value: 0.9331436699857752 and parameters: {'classifier': 'SVC', 'svc_c': 765464.2823139236}. Best is trial 13 with value: 0.9733285917496444.\u001b[0m\n",
            "\u001b[32m[I 2022-04-01 08:16:51,933]\u001b[0m Trial 20 finished with value: 0.4822190611664296 and parameters: {'classifier': 'SVC', 'svc_c': 6.143913905386214e-05}. Best is trial 13 with value: 0.9733285917496444.\u001b[0m\n",
            "\u001b[32m[I 2022-04-01 08:16:51,948]\u001b[0m Trial 21 finished with value: 0.9601706970128023 and parameters: {'classifier': 'SVC', 'svc_c': 26.532549980704847}. Best is trial 13 with value: 0.9733285917496444.\u001b[0m\n",
            "\u001b[32m[I 2022-04-01 08:16:51,965]\u001b[0m Trial 22 finished with value: 0.9667496443812233 and parameters: {'classifier': 'SVC', 'svc_c': 6.157463918397261}. Best is trial 13 with value: 0.9733285917496444.\u001b[0m\n",
            "\u001b[32m[I 2022-04-01 08:16:51,984]\u001b[0m Trial 23 finished with value: 0.4822190611664296 and parameters: {'classifier': 'SVC', 'svc_c': 0.0004655415470967446}. Best is trial 13 with value: 0.9733285917496444.\u001b[0m\n",
            "\u001b[32m[I 2022-04-01 08:16:52,000]\u001b[0m Trial 24 finished with value: 0.9733285917496444 and parameters: {'classifier': 'SVC', 'svc_c': 2.6648719519139505}. Best is trial 13 with value: 0.9733285917496444.\u001b[0m\n",
            "\u001b[32m[I 2022-04-01 08:16:52,017]\u001b[0m Trial 25 finished with value: 0.9331436699857752 and parameters: {'classifier': 'SVC', 'svc_c': 1573.9191965341156}. Best is trial 13 with value: 0.9733285917496444.\u001b[0m\n",
            "\u001b[32m[I 2022-04-01 08:16:52,107]\u001b[0m Trial 26 finished with value: 0.9667496443812233 and parameters: {'classifier': 'RandomForest', 'rf_max_depth': 8.629290850071758}. Best is trial 13 with value: 0.9733285917496444.\u001b[0m\n",
            "\u001b[32m[I 2022-04-01 08:16:52,128]\u001b[0m Trial 27 finished with value: 0.4822190611664296 and parameters: {'classifier': 'SVC', 'svc_c': 0.004081428434554415}. Best is trial 13 with value: 0.9733285917496444.\u001b[0m\n",
            "\u001b[32m[I 2022-04-01 08:16:52,155]\u001b[0m Trial 28 finished with value: 0.9331436699857752 and parameters: {'classifier': 'SVC', 'svc_c': 115494.909103867}. Best is trial 13 with value: 0.9733285917496444.\u001b[0m\n",
            "\u001b[32m[I 2022-04-01 08:16:52,179]\u001b[0m Trial 29 finished with value: 0.9733285917496444 and parameters: {'classifier': 'SVC', 'svc_c': 2.8426896561023787}. Best is trial 13 with value: 0.9733285917496444.\u001b[0m\n",
            "\u001b[32m[I 2022-04-01 08:16:52,199]\u001b[0m Trial 30 finished with value: 0.9466571834992887 and parameters: {'classifier': 'SVC', 'svc_c': 351.51536251713014}. Best is trial 13 with value: 0.9733285917496444.\u001b[0m\n",
            "\u001b[32m[I 2022-04-01 08:16:52,224]\u001b[0m Trial 31 finished with value: 0.9733285917496444 and parameters: {'classifier': 'SVC', 'svc_c': 1.3719909229581777}. Best is trial 13 with value: 0.9733285917496444.\u001b[0m\n",
            "\u001b[32m[I 2022-04-01 08:16:52,248]\u001b[0m Trial 32 finished with value: 0.9731507823613088 and parameters: {'classifier': 'SVC', 'svc_c': 0.7144299796875063}. Best is trial 13 with value: 0.9733285917496444.\u001b[0m\n",
            "\u001b[32m[I 2022-04-01 08:16:52,272]\u001b[0m Trial 33 finished with value: 0.9598150782361308 and parameters: {'classifier': 'SVC', 'svc_c': 97.59426187942519}. Best is trial 13 with value: 0.9733285917496444.\u001b[0m\n",
            "\u001b[32m[I 2022-04-01 08:16:52,305]\u001b[0m Trial 34 finished with value: 0.4822190611664296 and parameters: {'classifier': 'SVC', 'svc_c': 0.004316733284330959}. Best is trial 13 with value: 0.9733285917496444.\u001b[0m\n",
            "\u001b[32m[I 2022-04-01 08:16:52,327]\u001b[0m Trial 35 finished with value: 0.9731507823613088 and parameters: {'classifier': 'SVC', 'svc_c': 0.6147795785524582}. Best is trial 13 with value: 0.9733285917496444.\u001b[0m\n",
            "\u001b[32m[I 2022-04-01 08:16:52,453]\u001b[0m Trial 36 finished with value: 0.9399004267425319 and parameters: {'classifier': 'RandomForest', 'rf_max_depth': 6.134226613090725}. Best is trial 13 with value: 0.9733285917496444.\u001b[0m\n",
            "\u001b[32m[I 2022-04-01 08:16:52,478]\u001b[0m Trial 37 finished with value: 0.9331436699857752 and parameters: {'classifier': 'SVC', 'svc_c': 1630527.6833016}. Best is trial 13 with value: 0.9733285917496444.\u001b[0m\n",
            "\u001b[32m[I 2022-04-01 08:16:52,505]\u001b[0m Trial 38 finished with value: 0.9466571834992887 and parameters: {'classifier': 'SVC', 'svc_c': 0.10346254184741992}. Best is trial 13 with value: 0.9733285917496444.\u001b[0m\n",
            "\u001b[32m[I 2022-04-01 08:16:52,528]\u001b[0m Trial 39 finished with value: 0.9733285917496444 and parameters: {'classifier': 'SVC', 'svc_c': 1.3181889483119922}. Best is trial 13 with value: 0.9733285917496444.\u001b[0m\n",
            "\u001b[32m[I 2022-04-01 08:16:52,621]\u001b[0m Trial 40 finished with value: 0.9532361308677098 and parameters: {'classifier': 'RandomForest', 'rf_max_depth': 14.809748185416966}. Best is trial 13 with value: 0.9733285917496444.\u001b[0m\n",
            "\u001b[32m[I 2022-04-01 08:16:52,637]\u001b[0m Trial 41 finished with value: 0.9733285917496444 and parameters: {'classifier': 'SVC', 'svc_c': 2.06814144165362}. Best is trial 13 with value: 0.9733285917496444.\u001b[0m\n",
            "\u001b[32m[I 2022-04-01 08:16:52,666]\u001b[0m Trial 42 finished with value: 0.9733285917496444 and parameters: {'classifier': 'SVC', 'svc_c': 1.6649814685100672}. Best is trial 13 with value: 0.9733285917496444.\u001b[0m\n",
            "\u001b[32m[I 2022-04-01 08:16:52,684]\u001b[0m Trial 43 finished with value: 0.4822190611664296 and parameters: {'classifier': 'SVC', 'svc_c': 0.002743213791247768}. Best is trial 13 with value: 0.9733285917496444.\u001b[0m\n",
            "\u001b[32m[I 2022-04-01 08:16:52,702]\u001b[0m Trial 44 finished with value: 0.9466571834992887 and parameters: {'classifier': 'SVC', 'svc_c': 0.10516660674619696}. Best is trial 13 with value: 0.9733285917496444.\u001b[0m\n",
            "\u001b[32m[I 2022-04-01 08:16:52,721]\u001b[0m Trial 45 finished with value: 0.4822190611664296 and parameters: {'classifier': 'SVC', 'svc_c': 1.8378607815637474e-06}. Best is trial 13 with value: 0.9733285917496444.\u001b[0m\n",
            "\u001b[32m[I 2022-04-01 08:16:52,740]\u001b[0m Trial 46 finished with value: 0.9331436699857752 and parameters: {'classifier': 'SVC', 'svc_c': 4852.20810415246}. Best is trial 13 with value: 0.9733285917496444.\u001b[0m\n",
            "\u001b[32m[I 2022-04-01 08:16:52,757]\u001b[0m Trial 47 finished with value: 0.9735064011379801 and parameters: {'classifier': 'SVC', 'svc_c': 8.934345417393974}. Best is trial 47 with value: 0.9735064011379801.\u001b[0m\n",
            "\u001b[32m[I 2022-04-01 08:16:52,777]\u001b[0m Trial 48 finished with value: 0.5874822190611664 and parameters: {'classifier': 'SVC', 'svc_c': 0.017359006195712626}. Best is trial 47 with value: 0.9735064011379801.\u001b[0m\n",
            "\u001b[32m[I 2022-04-01 08:16:52,793]\u001b[0m Trial 49 finished with value: 0.9669274537695591 and parameters: {'classifier': 'SVC', 'svc_c': 11.904137021740036}. Best is trial 47 with value: 0.9735064011379801.\u001b[0m\n",
            "\u001b[32m[I 2022-04-01 08:16:52,876]\u001b[0m Trial 50 finished with value: 0.9667496443812233 and parameters: {'classifier': 'RandomForest', 'rf_max_depth': 3.5398604222530645}. Best is trial 47 with value: 0.9735064011379801.\u001b[0m\n",
            "\u001b[32m[I 2022-04-01 08:16:52,892]\u001b[0m Trial 51 finished with value: 0.9733285917496444 and parameters: {'classifier': 'SVC', 'svc_c': 57.92388941241195}. Best is trial 47 with value: 0.9735064011379801.\u001b[0m\n",
            "\u001b[32m[I 2022-04-01 08:16:52,909]\u001b[0m Trial 52 finished with value: 0.9400782361308677 and parameters: {'classifier': 'SVC', 'svc_c': 456.5550629818641}. Best is trial 47 with value: 0.9735064011379801.\u001b[0m\n",
            "\u001b[32m[I 2022-04-01 08:16:52,926]\u001b[0m Trial 53 finished with value: 0.9598150782361308 and parameters: {'classifier': 'SVC', 'svc_c': 101.56231132886364}. Best is trial 47 with value: 0.9735064011379801.\u001b[0m\n",
            "\u001b[32m[I 2022-04-01 08:16:52,943]\u001b[0m Trial 54 finished with value: 0.9731507823613088 and parameters: {'classifier': 'SVC', 'svc_c': 0.32133952248596753}. Best is trial 47 with value: 0.9735064011379801.\u001b[0m\n",
            "\u001b[32m[I 2022-04-01 08:16:52,961]\u001b[0m Trial 55 finished with value: 0.9331436699857752 and parameters: {'classifier': 'SVC', 'svc_c': 18782.027511537544}. Best is trial 47 with value: 0.9735064011379801.\u001b[0m\n",
            "\u001b[32m[I 2022-04-01 08:16:52,983]\u001b[0m Trial 56 finished with value: 0.9733285917496444 and parameters: {'classifier': 'SVC', 'svc_c': 3.153561529281687}. Best is trial 47 with value: 0.9735064011379801.\u001b[0m\n",
            "\u001b[32m[I 2022-04-01 08:16:52,999]\u001b[0m Trial 57 finished with value: 0.9669274537695591 and parameters: {'classifier': 'SVC', 'svc_c': 11.038201652154486}. Best is trial 47 with value: 0.9735064011379801.\u001b[0m\n",
            "\u001b[32m[I 2022-04-01 08:16:53,021]\u001b[0m Trial 58 finished with value: 0.9667496443812233 and parameters: {'classifier': 'SVC', 'svc_c': 49.783206574703314}. Best is trial 47 with value: 0.9735064011379801.\u001b[0m\n",
            "\u001b[32m[I 2022-04-01 08:16:53,096]\u001b[0m Trial 59 finished with value: 0.9464793741109531 and parameters: {'classifier': 'RandomForest', 'rf_max_depth': 3.8624527225914824}. Best is trial 47 with value: 0.9735064011379801.\u001b[0m\n",
            "\u001b[32m[I 2022-04-01 08:16:53,116]\u001b[0m Trial 60 finished with value: 0.9066500711237553 and parameters: {'classifier': 'SVC', 'svc_c': 0.04100390127738099}. Best is trial 47 with value: 0.9735064011379801.\u001b[0m\n",
            "\u001b[32m[I 2022-04-01 08:16:53,133]\u001b[0m Trial 61 finished with value: 0.9733285917496444 and parameters: {'classifier': 'SVC', 'svc_c': 3.1956938416869702}. Best is trial 47 with value: 0.9735064011379801.\u001b[0m\n",
            "\u001b[32m[I 2022-04-01 08:16:53,151]\u001b[0m Trial 62 finished with value: 0.9466571834992887 and parameters: {'classifier': 'SVC', 'svc_c': 1035.0138583792736}. Best is trial 47 with value: 0.9735064011379801.\u001b[0m\n",
            "\u001b[32m[I 2022-04-01 08:16:53,168]\u001b[0m Trial 63 finished with value: 0.9669274537695591 and parameters: {'classifier': 'SVC', 'svc_c': 12.114133445447257}. Best is trial 47 with value: 0.9735064011379801.\u001b[0m\n",
            "\u001b[32m[I 2022-04-01 08:16:53,192]\u001b[0m Trial 64 finished with value: 0.9665718349928876 and parameters: {'classifier': 'SVC', 'svc_c': 1.2767527441371824}. Best is trial 47 with value: 0.9735064011379801.\u001b[0m\n",
            "\u001b[32m[I 2022-04-01 08:16:53,212]\u001b[0m Trial 65 finished with value: 0.653271692745377 and parameters: {'classifier': 'SVC', 'svc_c': 0.02215447453094151}. Best is trial 47 with value: 0.9735064011379801.\u001b[0m\n",
            "\u001b[32m[I 2022-04-01 08:16:53,237]\u001b[0m Trial 66 finished with value: 0.9731507823613088 and parameters: {'classifier': 'SVC', 'svc_c': 0.32614959796299176}. Best is trial 47 with value: 0.9735064011379801.\u001b[0m\n",
            "\u001b[32m[I 2022-04-01 08:16:53,278]\u001b[0m Trial 67 finished with value: 0.9731507823613087 and parameters: {'classifier': 'SVC', 'svc_c': 179.4182769400937}. Best is trial 47 with value: 0.9735064011379801.\u001b[0m\n",
            "\u001b[32m[I 2022-04-01 08:16:53,333]\u001b[0m Trial 68 finished with value: 0.4822190611664296 and parameters: {'classifier': 'SVC', 'svc_c': 0.0005346388869743142}. Best is trial 47 with value: 0.9735064011379801.\u001b[0m\n",
            "\u001b[32m[I 2022-04-01 08:16:53,372]\u001b[0m Trial 69 finished with value: 0.9331436699857752 and parameters: {'classifier': 'SVC', 'svc_c': 1883.435152848275}. Best is trial 47 with value: 0.9735064011379801.\u001b[0m\n",
            "\u001b[32m[I 2022-04-01 08:16:53,516]\u001b[0m Trial 70 finished with value: 0.946479374110953 and parameters: {'classifier': 'RandomForest', 'rf_max_depth': 13.3365272377596}. Best is trial 47 with value: 0.9735064011379801.\u001b[0m\n",
            "\u001b[32m[I 2022-04-01 08:16:53,541]\u001b[0m Trial 71 finished with value: 0.9735064011379801 and parameters: {'classifier': 'SVC', 'svc_c': 5.2234767856275095}. Best is trial 47 with value: 0.9735064011379801.\u001b[0m\n",
            "\u001b[32m[I 2022-04-01 08:16:53,564]\u001b[0m Trial 72 finished with value: 0.9735064011379801 and parameters: {'classifier': 'SVC', 'svc_c': 4.5431159744568514}. Best is trial 47 with value: 0.9735064011379801.\u001b[0m\n",
            "\u001b[32m[I 2022-04-01 08:16:53,588]\u001b[0m Trial 73 finished with value: 0.9601706970128023 and parameters: {'classifier': 'SVC', 'svc_c': 21.651223178044017}. Best is trial 47 with value: 0.9735064011379801.\u001b[0m\n",
            "\u001b[32m[I 2022-04-01 08:16:53,614]\u001b[0m Trial 74 finished with value: 0.9665718349928876 and parameters: {'classifier': 'SVC', 'svc_c': 0.9478781753929821}. Best is trial 47 with value: 0.9735064011379801.\u001b[0m\n",
            "\u001b[32m[I 2022-04-01 08:16:53,642]\u001b[0m Trial 75 finished with value: 0.9599928876244666 and parameters: {'classifier': 'SVC', 'svc_c': 0.14436815317498705}. Best is trial 47 with value: 0.9735064011379801.\u001b[0m\n",
            "\u001b[32m[I 2022-04-01 08:16:53,668]\u001b[0m Trial 76 finished with value: 0.9601706970128023 and parameters: {'classifier': 'SVC', 'svc_c': 23.622749547024316}. Best is trial 47 with value: 0.9735064011379801.\u001b[0m\n",
            "\u001b[32m[I 2022-04-01 08:16:53,693]\u001b[0m Trial 77 finished with value: 0.9331436699857752 and parameters: {'classifier': 'SVC', 'svc_c': 7173573103.5063}. Best is trial 47 with value: 0.9735064011379801.\u001b[0m\n",
            "\u001b[32m[I 2022-04-01 08:16:53,717]\u001b[0m Trial 78 finished with value: 0.9733285917496444 and parameters: {'classifier': 'SVC', 'svc_c': 3.5553750184843715}. Best is trial 47 with value: 0.9735064011379801.\u001b[0m\n",
            "\u001b[32m[I 2022-04-01 08:16:53,741]\u001b[0m Trial 79 finished with value: 0.9532361308677098 and parameters: {'classifier': 'SVC', 'svc_c': 77.49094042170759}. Best is trial 47 with value: 0.9735064011379801.\u001b[0m\n",
            "\u001b[32m[I 2022-04-01 08:16:53,764]\u001b[0m Trial 80 finished with value: 0.9733285917496444 and parameters: {'classifier': 'SVC', 'svc_c': 3.922324388933511}. Best is trial 47 with value: 0.9735064011379801.\u001b[0m\n",
            "\u001b[32m[I 2022-04-01 08:16:53,787]\u001b[0m Trial 81 finished with value: 0.9733285917496444 and parameters: {'classifier': 'SVC', 'svc_c': 2.562745724104557}. Best is trial 47 with value: 0.9735064011379801.\u001b[0m\n",
            "\u001b[32m[I 2022-04-01 08:16:53,816]\u001b[0m Trial 82 finished with value: 0.9731507823613088 and parameters: {'classifier': 'SVC', 'svc_c': 0.2977810941629134}. Best is trial 47 with value: 0.9735064011379801.\u001b[0m\n",
            "\u001b[32m[I 2022-04-01 08:16:53,845]\u001b[0m Trial 83 finished with value: 0.4822190611664296 and parameters: {'classifier': 'SVC', 'svc_c': 0.009230529152395368}. Best is trial 47 with value: 0.9735064011379801.\u001b[0m\n",
            "\u001b[32m[I 2022-04-01 08:16:53,869]\u001b[0m Trial 84 finished with value: 0.9466571834992887 and parameters: {'classifier': 'SVC', 'svc_c': 400.08723472485207}. Best is trial 47 with value: 0.9735064011379801.\u001b[0m\n",
            "\u001b[32m[I 2022-04-01 08:16:53,908]\u001b[0m Trial 85 finished with value: 0.9466571834992887 and parameters: {'classifier': 'SVC', 'svc_c': 0.07499934744001546}. Best is trial 47 with value: 0.9735064011379801.\u001b[0m\n",
            "\u001b[32m[I 2022-04-01 08:16:53,932]\u001b[0m Trial 86 finished with value: 0.9665718349928876 and parameters: {'classifier': 'SVC', 'svc_c': 0.925905176457209}. Best is trial 47 with value: 0.9735064011379801.\u001b[0m\n",
            "\u001b[32m[I 2022-04-01 08:16:53,963]\u001b[0m Trial 87 finished with value: 0.4822190611664296 and parameters: {'classifier': 'SVC', 'svc_c': 2.0620529068611873e-09}. Best is trial 47 with value: 0.9735064011379801.\u001b[0m\n",
            "\u001b[32m[I 2022-04-01 08:16:54,105]\u001b[0m Trial 88 finished with value: 0.9667496443812233 and parameters: {'classifier': 'RandomForest', 'rf_max_depth': 11.379679493242206}. Best is trial 47 with value: 0.9735064011379801.\u001b[0m\n",
            "\u001b[32m[I 2022-04-01 08:16:54,130]\u001b[0m Trial 89 finished with value: 0.9667496443812233 and parameters: {'classifier': 'SVC', 'svc_c': 41.77883649825937}. Best is trial 47 with value: 0.9735064011379801.\u001b[0m\n",
            "\u001b[32m[I 2022-04-01 08:16:54,158]\u001b[0m Trial 90 finished with value: 0.9735064011379801 and parameters: {'classifier': 'SVC', 'svc_c': 8.753316281948118}. Best is trial 47 with value: 0.9735064011379801.\u001b[0m\n",
            "\u001b[32m[I 2022-04-01 08:16:54,186]\u001b[0m Trial 91 finished with value: 0.9669274537695591 and parameters: {'classifier': 'SVC', 'svc_c': 12.79846221160774}. Best is trial 47 with value: 0.9735064011379801.\u001b[0m\n",
            "\u001b[32m[I 2022-04-01 08:16:54,240]\u001b[0m Trial 92 finished with value: 0.9733285917496444 and parameters: {'classifier': 'SVC', 'svc_c': 4.157805924348008}. Best is trial 47 with value: 0.9735064011379801.\u001b[0m\n",
            "\u001b[32m[I 2022-04-01 08:16:54,263]\u001b[0m Trial 93 finished with value: 0.9667496443812233 and parameters: {'classifier': 'SVC', 'svc_c': 6.290677066840148}. Best is trial 47 with value: 0.9735064011379801.\u001b[0m\n",
            "\u001b[32m[I 2022-04-01 08:16:54,287]\u001b[0m Trial 94 finished with value: 0.9731507823613088 and parameters: {'classifier': 'SVC', 'svc_c': 0.3843738265063907}. Best is trial 47 with value: 0.9735064011379801.\u001b[0m\n",
            "\u001b[32m[I 2022-04-01 08:16:54,313]\u001b[0m Trial 95 finished with value: 0.9731507823613087 and parameters: {'classifier': 'SVC', 'svc_c': 165.85986302949}. Best is trial 47 with value: 0.9735064011379801.\u001b[0m\n",
            "\u001b[32m[I 2022-04-01 08:16:54,337]\u001b[0m Trial 96 finished with value: 0.9331436699857752 and parameters: {'classifier': 'SVC', 'svc_c': 6738.883354130285}. Best is trial 47 with value: 0.9735064011379801.\u001b[0m\n",
            "\u001b[32m[I 2022-04-01 08:16:54,365]\u001b[0m Trial 97 finished with value: 0.9735064011379801 and parameters: {'classifier': 'SVC', 'svc_c': 5.39666057265556}. Best is trial 47 with value: 0.9735064011379801.\u001b[0m\n",
            "\u001b[32m[I 2022-04-01 08:16:54,389]\u001b[0m Trial 98 finished with value: 0.9466571834992887 and parameters: {'classifier': 'SVC', 'svc_c': 663.0430978341257}. Best is trial 47 with value: 0.9735064011379801.\u001b[0m\n",
            "\u001b[32m[I 2022-04-01 08:16:54,418]\u001b[0m Trial 99 finished with value: 0.9400782361308677 and parameters: {'classifier': 'SVC', 'svc_c': 0.0670908409398342}. Best is trial 47 with value: 0.9735064011379801.\u001b[0m\n"
          ]
        }
      ]
    },
    {
      "cell_type": "markdown",
      "metadata": {
        "id": "-2aafpbuDyh8"
      },
      "source": [
        "### Optuna 결과"
      ]
    },
    {
      "cell_type": "code",
      "metadata": {
        "ExecuteTime": {
          "end_time": "2021-09-24T20:41:28.383858Z",
          "start_time": "2021-09-24T20:41:28.356300Z"
        },
        "id": "qIwgx2kQDyh8",
        "outputId": "e5bb8a06-fad1-430d-c885-de8d9cf30a05",
        "colab": {
          "base_uri": "https://localhost:8080/"
        }
      },
      "source": [
        "# 시행된 trial 중 최적의 하이퍼파라미터 반환하는 메소드\n",
        "study.best_trial.params"
      ],
      "execution_count": null,
      "outputs": [
        {
          "output_type": "execute_result",
          "data": {
            "text/plain": [
              "{'classifier': 'SVC', 'svc_c': 8.934345417393974}"
            ]
          },
          "metadata": {},
          "execution_count": 28
        }
      ]
    },
    {
      "cell_type": "code",
      "metadata": {
        "ExecuteTime": {
          "end_time": "2021-09-24T20:41:29.984875Z",
          "start_time": "2021-09-24T20:41:29.977269Z"
        },
        "id": "QzHvTdShDyh9",
        "outputId": "0d7d2a60-53cf-42ea-a005-d4dabc349410",
        "colab": {
          "base_uri": "https://localhost:8080/"
        }
      },
      "source": [
        "# 시행된 trial 중 가장 높은 값 반환하는 메소드\n",
        "optuna_acc = study.best_trial.value\n",
        "optuna_acc"
      ],
      "execution_count": null,
      "outputs": [
        {
          "output_type": "execute_result",
          "data": {
            "text/plain": [
              "0.9735064011379801"
            ]
          },
          "metadata": {},
          "execution_count": 29
        }
      ]
    },
    {
      "cell_type": "code",
      "metadata": {
        "ExecuteTime": {
          "end_time": "2021-09-24T20:34:06.735229Z",
          "start_time": "2021-09-24T20:34:06.524383Z"
        },
        "id": "Wsr_4NHFDyh9",
        "outputId": "32e25f82-cbd5-4dca-bfdf-b0334931ff67",
        "colab": {
          "base_uri": "https://localhost:8080/",
          "height": 542
        }
      },
      "source": [
        "# 하이퍼파라미터별 중요도를 확인할 수 있는 그래프\n",
        "optuna.visualization.plot_param_importances(study)\n"
      ],
      "execution_count": null,
      "outputs": [
        {
          "output_type": "display_data",
          "data": {
            "text/html": [
              "<html>\n",
              "<head><meta charset=\"utf-8\" /></head>\n",
              "<body>\n",
              "    <div>            <script src=\"https://cdnjs.cloudflare.com/ajax/libs/mathjax/2.7.5/MathJax.js?config=TeX-AMS-MML_SVG\"></script><script type=\"text/javascript\">if (window.MathJax) {MathJax.Hub.Config({SVG: {font: \"STIX-Web\"}});}</script>                <script type=\"text/javascript\">window.PlotlyConfig = {MathJaxConfig: 'local'};</script>\n",
              "        <script src=\"https://cdn.plot.ly/plotly-2.8.3.min.js\"></script>                <div id=\"19a3b268-fba2-47c9-a796-db0099b09ba6\" class=\"plotly-graph-div\" style=\"height:525px; width:100%;\"></div>            <script type=\"text/javascript\">                                    window.PLOTLYENV=window.PLOTLYENV || {};                                    if (document.getElementById(\"19a3b268-fba2-47c9-a796-db0099b09ba6\")) {                    Plotly.newPlot(                        \"19a3b268-fba2-47c9-a796-db0099b09ba6\",                        [{\"cliponaxis\":false,\"hovertemplate\":[\"classifier (CategoricalDistribution): 1.0<extra></extra>\"],\"marker\":{\"color\":\"rgb(66,146,198)\"},\"orientation\":\"h\",\"text\":[\"1.0\"],\"textposition\":\"outside\",\"texttemplate\":\"%{text:.2f}\",\"x\":[1.0],\"y\":[\"classifier\"],\"type\":\"bar\"}],                        {\"showlegend\":false,\"title\":{\"text\":\"Hyperparameter Importances\"},\"xaxis\":{\"title\":{\"text\":\"Importance for Objective Value\"}},\"yaxis\":{\"title\":{\"text\":\"Hyperparameter\"}},\"template\":{\"data\":{\"bar\":[{\"error_x\":{\"color\":\"#2a3f5f\"},\"error_y\":{\"color\":\"#2a3f5f\"},\"marker\":{\"line\":{\"color\":\"#E5ECF6\",\"width\":0.5},\"pattern\":{\"fillmode\":\"overlay\",\"size\":10,\"solidity\":0.2}},\"type\":\"bar\"}],\"barpolar\":[{\"marker\":{\"line\":{\"color\":\"#E5ECF6\",\"width\":0.5},\"pattern\":{\"fillmode\":\"overlay\",\"size\":10,\"solidity\":0.2}},\"type\":\"barpolar\"}],\"carpet\":[{\"aaxis\":{\"endlinecolor\":\"#2a3f5f\",\"gridcolor\":\"white\",\"linecolor\":\"white\",\"minorgridcolor\":\"white\",\"startlinecolor\":\"#2a3f5f\"},\"baxis\":{\"endlinecolor\":\"#2a3f5f\",\"gridcolor\":\"white\",\"linecolor\":\"white\",\"minorgridcolor\":\"white\",\"startlinecolor\":\"#2a3f5f\"},\"type\":\"carpet\"}],\"choropleth\":[{\"colorbar\":{\"outlinewidth\":0,\"ticks\":\"\"},\"type\":\"choropleth\"}],\"contour\":[{\"colorbar\":{\"outlinewidth\":0,\"ticks\":\"\"},\"colorscale\":[[0.0,\"#0d0887\"],[0.1111111111111111,\"#46039f\"],[0.2222222222222222,\"#7201a8\"],[0.3333333333333333,\"#9c179e\"],[0.4444444444444444,\"#bd3786\"],[0.5555555555555556,\"#d8576b\"],[0.6666666666666666,\"#ed7953\"],[0.7777777777777778,\"#fb9f3a\"],[0.8888888888888888,\"#fdca26\"],[1.0,\"#f0f921\"]],\"type\":\"contour\"}],\"contourcarpet\":[{\"colorbar\":{\"outlinewidth\":0,\"ticks\":\"\"},\"type\":\"contourcarpet\"}],\"heatmap\":[{\"colorbar\":{\"outlinewidth\":0,\"ticks\":\"\"},\"colorscale\":[[0.0,\"#0d0887\"],[0.1111111111111111,\"#46039f\"],[0.2222222222222222,\"#7201a8\"],[0.3333333333333333,\"#9c179e\"],[0.4444444444444444,\"#bd3786\"],[0.5555555555555556,\"#d8576b\"],[0.6666666666666666,\"#ed7953\"],[0.7777777777777778,\"#fb9f3a\"],[0.8888888888888888,\"#fdca26\"],[1.0,\"#f0f921\"]],\"type\":\"heatmap\"}],\"heatmapgl\":[{\"colorbar\":{\"outlinewidth\":0,\"ticks\":\"\"},\"colorscale\":[[0.0,\"#0d0887\"],[0.1111111111111111,\"#46039f\"],[0.2222222222222222,\"#7201a8\"],[0.3333333333333333,\"#9c179e\"],[0.4444444444444444,\"#bd3786\"],[0.5555555555555556,\"#d8576b\"],[0.6666666666666666,\"#ed7953\"],[0.7777777777777778,\"#fb9f3a\"],[0.8888888888888888,\"#fdca26\"],[1.0,\"#f0f921\"]],\"type\":\"heatmapgl\"}],\"histogram\":[{\"marker\":{\"pattern\":{\"fillmode\":\"overlay\",\"size\":10,\"solidity\":0.2}},\"type\":\"histogram\"}],\"histogram2d\":[{\"colorbar\":{\"outlinewidth\":0,\"ticks\":\"\"},\"colorscale\":[[0.0,\"#0d0887\"],[0.1111111111111111,\"#46039f\"],[0.2222222222222222,\"#7201a8\"],[0.3333333333333333,\"#9c179e\"],[0.4444444444444444,\"#bd3786\"],[0.5555555555555556,\"#d8576b\"],[0.6666666666666666,\"#ed7953\"],[0.7777777777777778,\"#fb9f3a\"],[0.8888888888888888,\"#fdca26\"],[1.0,\"#f0f921\"]],\"type\":\"histogram2d\"}],\"histogram2dcontour\":[{\"colorbar\":{\"outlinewidth\":0,\"ticks\":\"\"},\"colorscale\":[[0.0,\"#0d0887\"],[0.1111111111111111,\"#46039f\"],[0.2222222222222222,\"#7201a8\"],[0.3333333333333333,\"#9c179e\"],[0.4444444444444444,\"#bd3786\"],[0.5555555555555556,\"#d8576b\"],[0.6666666666666666,\"#ed7953\"],[0.7777777777777778,\"#fb9f3a\"],[0.8888888888888888,\"#fdca26\"],[1.0,\"#f0f921\"]],\"type\":\"histogram2dcontour\"}],\"mesh3d\":[{\"colorbar\":{\"outlinewidth\":0,\"ticks\":\"\"},\"type\":\"mesh3d\"}],\"parcoords\":[{\"line\":{\"colorbar\":{\"outlinewidth\":0,\"ticks\":\"\"}},\"type\":\"parcoords\"}],\"pie\":[{\"automargin\":true,\"type\":\"pie\"}],\"scatter\":[{\"marker\":{\"colorbar\":{\"outlinewidth\":0,\"ticks\":\"\"}},\"type\":\"scatter\"}],\"scatter3d\":[{\"line\":{\"colorbar\":{\"outlinewidth\":0,\"ticks\":\"\"}},\"marker\":{\"colorbar\":{\"outlinewidth\":0,\"ticks\":\"\"}},\"type\":\"scatter3d\"}],\"scattercarpet\":[{\"marker\":{\"colorbar\":{\"outlinewidth\":0,\"ticks\":\"\"}},\"type\":\"scattercarpet\"}],\"scattergeo\":[{\"marker\":{\"colorbar\":{\"outlinewidth\":0,\"ticks\":\"\"}},\"type\":\"scattergeo\"}],\"scattergl\":[{\"marker\":{\"colorbar\":{\"outlinewidth\":0,\"ticks\":\"\"}},\"type\":\"scattergl\"}],\"scattermapbox\":[{\"marker\":{\"colorbar\":{\"outlinewidth\":0,\"ticks\":\"\"}},\"type\":\"scattermapbox\"}],\"scatterpolar\":[{\"marker\":{\"colorbar\":{\"outlinewidth\":0,\"ticks\":\"\"}},\"type\":\"scatterpolar\"}],\"scatterpolargl\":[{\"marker\":{\"colorbar\":{\"outlinewidth\":0,\"ticks\":\"\"}},\"type\":\"scatterpolargl\"}],\"scatterternary\":[{\"marker\":{\"colorbar\":{\"outlinewidth\":0,\"ticks\":\"\"}},\"type\":\"scatterternary\"}],\"surface\":[{\"colorbar\":{\"outlinewidth\":0,\"ticks\":\"\"},\"colorscale\":[[0.0,\"#0d0887\"],[0.1111111111111111,\"#46039f\"],[0.2222222222222222,\"#7201a8\"],[0.3333333333333333,\"#9c179e\"],[0.4444444444444444,\"#bd3786\"],[0.5555555555555556,\"#d8576b\"],[0.6666666666666666,\"#ed7953\"],[0.7777777777777778,\"#fb9f3a\"],[0.8888888888888888,\"#fdca26\"],[1.0,\"#f0f921\"]],\"type\":\"surface\"}],\"table\":[{\"cells\":{\"fill\":{\"color\":\"#EBF0F8\"},\"line\":{\"color\":\"white\"}},\"header\":{\"fill\":{\"color\":\"#C8D4E3\"},\"line\":{\"color\":\"white\"}},\"type\":\"table\"}]},\"layout\":{\"annotationdefaults\":{\"arrowcolor\":\"#2a3f5f\",\"arrowhead\":0,\"arrowwidth\":1},\"autotypenumbers\":\"strict\",\"coloraxis\":{\"colorbar\":{\"outlinewidth\":0,\"ticks\":\"\"}},\"colorscale\":{\"diverging\":[[0,\"#8e0152\"],[0.1,\"#c51b7d\"],[0.2,\"#de77ae\"],[0.3,\"#f1b6da\"],[0.4,\"#fde0ef\"],[0.5,\"#f7f7f7\"],[0.6,\"#e6f5d0\"],[0.7,\"#b8e186\"],[0.8,\"#7fbc41\"],[0.9,\"#4d9221\"],[1,\"#276419\"]],\"sequential\":[[0.0,\"#0d0887\"],[0.1111111111111111,\"#46039f\"],[0.2222222222222222,\"#7201a8\"],[0.3333333333333333,\"#9c179e\"],[0.4444444444444444,\"#bd3786\"],[0.5555555555555556,\"#d8576b\"],[0.6666666666666666,\"#ed7953\"],[0.7777777777777778,\"#fb9f3a\"],[0.8888888888888888,\"#fdca26\"],[1.0,\"#f0f921\"]],\"sequentialminus\":[[0.0,\"#0d0887\"],[0.1111111111111111,\"#46039f\"],[0.2222222222222222,\"#7201a8\"],[0.3333333333333333,\"#9c179e\"],[0.4444444444444444,\"#bd3786\"],[0.5555555555555556,\"#d8576b\"],[0.6666666666666666,\"#ed7953\"],[0.7777777777777778,\"#fb9f3a\"],[0.8888888888888888,\"#fdca26\"],[1.0,\"#f0f921\"]]},\"colorway\":[\"#636efa\",\"#EF553B\",\"#00cc96\",\"#ab63fa\",\"#FFA15A\",\"#19d3f3\",\"#FF6692\",\"#B6E880\",\"#FF97FF\",\"#FECB52\"],\"font\":{\"color\":\"#2a3f5f\"},\"geo\":{\"bgcolor\":\"white\",\"lakecolor\":\"white\",\"landcolor\":\"#E5ECF6\",\"showlakes\":true,\"showland\":true,\"subunitcolor\":\"white\"},\"hoverlabel\":{\"align\":\"left\"},\"hovermode\":\"closest\",\"mapbox\":{\"style\":\"light\"},\"paper_bgcolor\":\"white\",\"plot_bgcolor\":\"#E5ECF6\",\"polar\":{\"angularaxis\":{\"gridcolor\":\"white\",\"linecolor\":\"white\",\"ticks\":\"\"},\"bgcolor\":\"#E5ECF6\",\"radialaxis\":{\"gridcolor\":\"white\",\"linecolor\":\"white\",\"ticks\":\"\"}},\"scene\":{\"xaxis\":{\"backgroundcolor\":\"#E5ECF6\",\"gridcolor\":\"white\",\"gridwidth\":2,\"linecolor\":\"white\",\"showbackground\":true,\"ticks\":\"\",\"zerolinecolor\":\"white\"},\"yaxis\":{\"backgroundcolor\":\"#E5ECF6\",\"gridcolor\":\"white\",\"gridwidth\":2,\"linecolor\":\"white\",\"showbackground\":true,\"ticks\":\"\",\"zerolinecolor\":\"white\"},\"zaxis\":{\"backgroundcolor\":\"#E5ECF6\",\"gridcolor\":\"white\",\"gridwidth\":2,\"linecolor\":\"white\",\"showbackground\":true,\"ticks\":\"\",\"zerolinecolor\":\"white\"}},\"shapedefaults\":{\"line\":{\"color\":\"#2a3f5f\"}},\"ternary\":{\"aaxis\":{\"gridcolor\":\"white\",\"linecolor\":\"white\",\"ticks\":\"\"},\"baxis\":{\"gridcolor\":\"white\",\"linecolor\":\"white\",\"ticks\":\"\"},\"bgcolor\":\"#E5ECF6\",\"caxis\":{\"gridcolor\":\"white\",\"linecolor\":\"white\",\"ticks\":\"\"}},\"title\":{\"x\":0.05},\"xaxis\":{\"automargin\":true,\"gridcolor\":\"white\",\"linecolor\":\"white\",\"ticks\":\"\",\"title\":{\"standoff\":15},\"zerolinecolor\":\"white\",\"zerolinewidth\":2},\"yaxis\":{\"automargin\":true,\"gridcolor\":\"white\",\"linecolor\":\"white\",\"ticks\":\"\",\"title\":{\"standoff\":15},\"zerolinecolor\":\"white\",\"zerolinewidth\":2}}}},                        {\"responsive\": true}                    ).then(function(){\n",
              "                            \n",
              "var gd = document.getElementById('19a3b268-fba2-47c9-a796-db0099b09ba6');\n",
              "var x = new MutationObserver(function (mutations, observer) {{\n",
              "        var display = window.getComputedStyle(gd).display;\n",
              "        if (!display || display === 'none') {{\n",
              "            console.log([gd, 'removed!']);\n",
              "            Plotly.purge(gd);\n",
              "            observer.disconnect();\n",
              "        }}\n",
              "}});\n",
              "\n",
              "// Listen for the removal of the full notebook cells\n",
              "var notebookContainer = gd.closest('#notebook-container');\n",
              "if (notebookContainer) {{\n",
              "    x.observe(notebookContainer, {childList: true});\n",
              "}}\n",
              "\n",
              "// Listen for the clearing of the current output cell\n",
              "var outputEl = gd.closest('.output');\n",
              "if (outputEl) {{\n",
              "    x.observe(outputEl, {childList: true});\n",
              "}}\n",
              "\n",
              "                        })                };                            </script>        </div>\n",
              "</body>\n",
              "</html>"
            ]
          },
          "metadata": {}
        }
      ]
    },
    {
      "cell_type": "code",
      "metadata": {
        "ExecuteTime": {
          "end_time": "2021-09-24T20:34:44.214958Z",
          "start_time": "2021-09-24T20:34:44.178917Z"
        },
        "scrolled": false,
        "id": "b_6G7UrGDyh-",
        "outputId": "6c4659e3-1ed5-4229-db2a-25421d537a43",
        "colab": {
          "base_uri": "https://localhost:8080/",
          "height": 542
        }
      },
      "source": [
        "# 하이퍼파라미터 최적화 과정을 확인\n",
        "optuna.visualization.plot_optimization_history(study)"
      ],
      "execution_count": null,
      "outputs": [
        {
          "output_type": "display_data",
          "data": {
            "text/html": [
              "<html>\n",
              "<head><meta charset=\"utf-8\" /></head>\n",
              "<body>\n",
              "    <div>            <script src=\"https://cdnjs.cloudflare.com/ajax/libs/mathjax/2.7.5/MathJax.js?config=TeX-AMS-MML_SVG\"></script><script type=\"text/javascript\">if (window.MathJax) {MathJax.Hub.Config({SVG: {font: \"STIX-Web\"}});}</script>                <script type=\"text/javascript\">window.PlotlyConfig = {MathJaxConfig: 'local'};</script>\n",
              "        <script src=\"https://cdn.plot.ly/plotly-2.8.3.min.js\"></script>                <div id=\"2761bb28-6764-4605-a86c-381e02cbd712\" class=\"plotly-graph-div\" style=\"height:525px; width:100%;\"></div>            <script type=\"text/javascript\">                                    window.PLOTLYENV=window.PLOTLYENV || {};                                    if (document.getElementById(\"2761bb28-6764-4605-a86c-381e02cbd712\")) {                    Plotly.newPlot(                        \"2761bb28-6764-4605-a86c-381e02cbd712\",                        [{\"mode\":\"markers\",\"name\":\"Objective Value\",\"x\":[0,1,2,3,4,5,6,7,8,9,10,11,12,13,14,15,16,17,18,19,20,21,22,23,24,25,26,27,28,29,30,31,32,33,34,35,36,37,38,39,40,41,42,43,44,45,46,47,48,49,50,51,52,53,54,55,56,57,58,59,60,61,62,63,64,65,66,67,68,69,70,71,72,73,74,75,76,77,78,79,80,81,82,83,84,85,86,87,88,89,90,91,92,93,94,95,96,97,98,99],\"y\":[0.9599928876244666,0.9599928876244666,0.9601706970128023,0.4822190611664296,0.653271692745377,0.9466571834992887,0.9331436699857752,0.4822190611664296,0.9331436699857752,0.9400782361308677,0.9599928876244666,0.9331436699857752,0.9466571834992887,0.9733285917496444,0.9532361308677098,0.9331436699857752,0.4822190611664296,0.9733285917496444,0.9399004267425319,0.9331436699857752,0.4822190611664296,0.9601706970128023,0.9667496443812233,0.4822190611664296,0.9733285917496444,0.9331436699857752,0.9667496443812233,0.4822190611664296,0.9331436699857752,0.9733285917496444,0.9466571834992887,0.9733285917496444,0.9731507823613088,0.9598150782361308,0.4822190611664296,0.9731507823613088,0.9399004267425319,0.9331436699857752,0.9466571834992887,0.9733285917496444,0.9532361308677098,0.9733285917496444,0.9733285917496444,0.4822190611664296,0.9466571834992887,0.4822190611664296,0.9331436699857752,0.9735064011379801,0.5874822190611664,0.9669274537695591,0.9667496443812233,0.9733285917496444,0.9400782361308677,0.9598150782361308,0.9731507823613088,0.9331436699857752,0.9733285917496444,0.9669274537695591,0.9667496443812233,0.9464793741109531,0.9066500711237553,0.9733285917496444,0.9466571834992887,0.9669274537695591,0.9665718349928876,0.653271692745377,0.9731507823613088,0.9731507823613087,0.4822190611664296,0.9331436699857752,0.946479374110953,0.9735064011379801,0.9735064011379801,0.9601706970128023,0.9665718349928876,0.9599928876244666,0.9601706970128023,0.9331436699857752,0.9733285917496444,0.9532361308677098,0.9733285917496444,0.9733285917496444,0.9731507823613088,0.4822190611664296,0.9466571834992887,0.9466571834992887,0.9665718349928876,0.4822190611664296,0.9667496443812233,0.9667496443812233,0.9735064011379801,0.9669274537695591,0.9733285917496444,0.9667496443812233,0.9731507823613088,0.9731507823613087,0.9331436699857752,0.9735064011379801,0.9466571834992887,0.9400782361308677],\"type\":\"scatter\"},{\"name\":\"Best Value\",\"x\":[0,1,2,3,4,5,6,7,8,9,10,11,12,13,14,15,16,17,18,19,20,21,22,23,24,25,26,27,28,29,30,31,32,33,34,35,36,37,38,39,40,41,42,43,44,45,46,47,48,49,50,51,52,53,54,55,56,57,58,59,60,61,62,63,64,65,66,67,68,69,70,71,72,73,74,75,76,77,78,79,80,81,82,83,84,85,86,87,88,89,90,91,92,93,94,95,96,97,98,99],\"y\":[0.9599928876244666,0.9599928876244666,0.9601706970128023,0.9601706970128023,0.9601706970128023,0.9601706970128023,0.9601706970128023,0.9601706970128023,0.9601706970128023,0.9601706970128023,0.9601706970128023,0.9601706970128023,0.9601706970128023,0.9733285917496444,0.9733285917496444,0.9733285917496444,0.9733285917496444,0.9733285917496444,0.9733285917496444,0.9733285917496444,0.9733285917496444,0.9733285917496444,0.9733285917496444,0.9733285917496444,0.9733285917496444,0.9733285917496444,0.9733285917496444,0.9733285917496444,0.9733285917496444,0.9733285917496444,0.9733285917496444,0.9733285917496444,0.9733285917496444,0.9733285917496444,0.9733285917496444,0.9733285917496444,0.9733285917496444,0.9733285917496444,0.9733285917496444,0.9733285917496444,0.9733285917496444,0.9733285917496444,0.9733285917496444,0.9733285917496444,0.9733285917496444,0.9733285917496444,0.9733285917496444,0.9735064011379801,0.9735064011379801,0.9735064011379801,0.9735064011379801,0.9735064011379801,0.9735064011379801,0.9735064011379801,0.9735064011379801,0.9735064011379801,0.9735064011379801,0.9735064011379801,0.9735064011379801,0.9735064011379801,0.9735064011379801,0.9735064011379801,0.9735064011379801,0.9735064011379801,0.9735064011379801,0.9735064011379801,0.9735064011379801,0.9735064011379801,0.9735064011379801,0.9735064011379801,0.9735064011379801,0.9735064011379801,0.9735064011379801,0.9735064011379801,0.9735064011379801,0.9735064011379801,0.9735064011379801,0.9735064011379801,0.9735064011379801,0.9735064011379801,0.9735064011379801,0.9735064011379801,0.9735064011379801,0.9735064011379801,0.9735064011379801,0.9735064011379801,0.9735064011379801,0.9735064011379801,0.9735064011379801,0.9735064011379801,0.9735064011379801,0.9735064011379801,0.9735064011379801,0.9735064011379801,0.9735064011379801,0.9735064011379801,0.9735064011379801,0.9735064011379801,0.9735064011379801,0.9735064011379801],\"type\":\"scatter\"}],                        {\"title\":{\"text\":\"Optimization History Plot\"},\"xaxis\":{\"title\":{\"text\":\"#Trials\"}},\"yaxis\":{\"title\":{\"text\":\"Objective Value\"}},\"template\":{\"data\":{\"bar\":[{\"error_x\":{\"color\":\"#2a3f5f\"},\"error_y\":{\"color\":\"#2a3f5f\"},\"marker\":{\"line\":{\"color\":\"#E5ECF6\",\"width\":0.5},\"pattern\":{\"fillmode\":\"overlay\",\"size\":10,\"solidity\":0.2}},\"type\":\"bar\"}],\"barpolar\":[{\"marker\":{\"line\":{\"color\":\"#E5ECF6\",\"width\":0.5},\"pattern\":{\"fillmode\":\"overlay\",\"size\":10,\"solidity\":0.2}},\"type\":\"barpolar\"}],\"carpet\":[{\"aaxis\":{\"endlinecolor\":\"#2a3f5f\",\"gridcolor\":\"white\",\"linecolor\":\"white\",\"minorgridcolor\":\"white\",\"startlinecolor\":\"#2a3f5f\"},\"baxis\":{\"endlinecolor\":\"#2a3f5f\",\"gridcolor\":\"white\",\"linecolor\":\"white\",\"minorgridcolor\":\"white\",\"startlinecolor\":\"#2a3f5f\"},\"type\":\"carpet\"}],\"choropleth\":[{\"colorbar\":{\"outlinewidth\":0,\"ticks\":\"\"},\"type\":\"choropleth\"}],\"contour\":[{\"colorbar\":{\"outlinewidth\":0,\"ticks\":\"\"},\"colorscale\":[[0.0,\"#0d0887\"],[0.1111111111111111,\"#46039f\"],[0.2222222222222222,\"#7201a8\"],[0.3333333333333333,\"#9c179e\"],[0.4444444444444444,\"#bd3786\"],[0.5555555555555556,\"#d8576b\"],[0.6666666666666666,\"#ed7953\"],[0.7777777777777778,\"#fb9f3a\"],[0.8888888888888888,\"#fdca26\"],[1.0,\"#f0f921\"]],\"type\":\"contour\"}],\"contourcarpet\":[{\"colorbar\":{\"outlinewidth\":0,\"ticks\":\"\"},\"type\":\"contourcarpet\"}],\"heatmap\":[{\"colorbar\":{\"outlinewidth\":0,\"ticks\":\"\"},\"colorscale\":[[0.0,\"#0d0887\"],[0.1111111111111111,\"#46039f\"],[0.2222222222222222,\"#7201a8\"],[0.3333333333333333,\"#9c179e\"],[0.4444444444444444,\"#bd3786\"],[0.5555555555555556,\"#d8576b\"],[0.6666666666666666,\"#ed7953\"],[0.7777777777777778,\"#fb9f3a\"],[0.8888888888888888,\"#fdca26\"],[1.0,\"#f0f921\"]],\"type\":\"heatmap\"}],\"heatmapgl\":[{\"colorbar\":{\"outlinewidth\":0,\"ticks\":\"\"},\"colorscale\":[[0.0,\"#0d0887\"],[0.1111111111111111,\"#46039f\"],[0.2222222222222222,\"#7201a8\"],[0.3333333333333333,\"#9c179e\"],[0.4444444444444444,\"#bd3786\"],[0.5555555555555556,\"#d8576b\"],[0.6666666666666666,\"#ed7953\"],[0.7777777777777778,\"#fb9f3a\"],[0.8888888888888888,\"#fdca26\"],[1.0,\"#f0f921\"]],\"type\":\"heatmapgl\"}],\"histogram\":[{\"marker\":{\"pattern\":{\"fillmode\":\"overlay\",\"size\":10,\"solidity\":0.2}},\"type\":\"histogram\"}],\"histogram2d\":[{\"colorbar\":{\"outlinewidth\":0,\"ticks\":\"\"},\"colorscale\":[[0.0,\"#0d0887\"],[0.1111111111111111,\"#46039f\"],[0.2222222222222222,\"#7201a8\"],[0.3333333333333333,\"#9c179e\"],[0.4444444444444444,\"#bd3786\"],[0.5555555555555556,\"#d8576b\"],[0.6666666666666666,\"#ed7953\"],[0.7777777777777778,\"#fb9f3a\"],[0.8888888888888888,\"#fdca26\"],[1.0,\"#f0f921\"]],\"type\":\"histogram2d\"}],\"histogram2dcontour\":[{\"colorbar\":{\"outlinewidth\":0,\"ticks\":\"\"},\"colorscale\":[[0.0,\"#0d0887\"],[0.1111111111111111,\"#46039f\"],[0.2222222222222222,\"#7201a8\"],[0.3333333333333333,\"#9c179e\"],[0.4444444444444444,\"#bd3786\"],[0.5555555555555556,\"#d8576b\"],[0.6666666666666666,\"#ed7953\"],[0.7777777777777778,\"#fb9f3a\"],[0.8888888888888888,\"#fdca26\"],[1.0,\"#f0f921\"]],\"type\":\"histogram2dcontour\"}],\"mesh3d\":[{\"colorbar\":{\"outlinewidth\":0,\"ticks\":\"\"},\"type\":\"mesh3d\"}],\"parcoords\":[{\"line\":{\"colorbar\":{\"outlinewidth\":0,\"ticks\":\"\"}},\"type\":\"parcoords\"}],\"pie\":[{\"automargin\":true,\"type\":\"pie\"}],\"scatter\":[{\"marker\":{\"colorbar\":{\"outlinewidth\":0,\"ticks\":\"\"}},\"type\":\"scatter\"}],\"scatter3d\":[{\"line\":{\"colorbar\":{\"outlinewidth\":0,\"ticks\":\"\"}},\"marker\":{\"colorbar\":{\"outlinewidth\":0,\"ticks\":\"\"}},\"type\":\"scatter3d\"}],\"scattercarpet\":[{\"marker\":{\"colorbar\":{\"outlinewidth\":0,\"ticks\":\"\"}},\"type\":\"scattercarpet\"}],\"scattergeo\":[{\"marker\":{\"colorbar\":{\"outlinewidth\":0,\"ticks\":\"\"}},\"type\":\"scattergeo\"}],\"scattergl\":[{\"marker\":{\"colorbar\":{\"outlinewidth\":0,\"ticks\":\"\"}},\"type\":\"scattergl\"}],\"scattermapbox\":[{\"marker\":{\"colorbar\":{\"outlinewidth\":0,\"ticks\":\"\"}},\"type\":\"scattermapbox\"}],\"scatterpolar\":[{\"marker\":{\"colorbar\":{\"outlinewidth\":0,\"ticks\":\"\"}},\"type\":\"scatterpolar\"}],\"scatterpolargl\":[{\"marker\":{\"colorbar\":{\"outlinewidth\":0,\"ticks\":\"\"}},\"type\":\"scatterpolargl\"}],\"scatterternary\":[{\"marker\":{\"colorbar\":{\"outlinewidth\":0,\"ticks\":\"\"}},\"type\":\"scatterternary\"}],\"surface\":[{\"colorbar\":{\"outlinewidth\":0,\"ticks\":\"\"},\"colorscale\":[[0.0,\"#0d0887\"],[0.1111111111111111,\"#46039f\"],[0.2222222222222222,\"#7201a8\"],[0.3333333333333333,\"#9c179e\"],[0.4444444444444444,\"#bd3786\"],[0.5555555555555556,\"#d8576b\"],[0.6666666666666666,\"#ed7953\"],[0.7777777777777778,\"#fb9f3a\"],[0.8888888888888888,\"#fdca26\"],[1.0,\"#f0f921\"]],\"type\":\"surface\"}],\"table\":[{\"cells\":{\"fill\":{\"color\":\"#EBF0F8\"},\"line\":{\"color\":\"white\"}},\"header\":{\"fill\":{\"color\":\"#C8D4E3\"},\"line\":{\"color\":\"white\"}},\"type\":\"table\"}]},\"layout\":{\"annotationdefaults\":{\"arrowcolor\":\"#2a3f5f\",\"arrowhead\":0,\"arrowwidth\":1},\"autotypenumbers\":\"strict\",\"coloraxis\":{\"colorbar\":{\"outlinewidth\":0,\"ticks\":\"\"}},\"colorscale\":{\"diverging\":[[0,\"#8e0152\"],[0.1,\"#c51b7d\"],[0.2,\"#de77ae\"],[0.3,\"#f1b6da\"],[0.4,\"#fde0ef\"],[0.5,\"#f7f7f7\"],[0.6,\"#e6f5d0\"],[0.7,\"#b8e186\"],[0.8,\"#7fbc41\"],[0.9,\"#4d9221\"],[1,\"#276419\"]],\"sequential\":[[0.0,\"#0d0887\"],[0.1111111111111111,\"#46039f\"],[0.2222222222222222,\"#7201a8\"],[0.3333333333333333,\"#9c179e\"],[0.4444444444444444,\"#bd3786\"],[0.5555555555555556,\"#d8576b\"],[0.6666666666666666,\"#ed7953\"],[0.7777777777777778,\"#fb9f3a\"],[0.8888888888888888,\"#fdca26\"],[1.0,\"#f0f921\"]],\"sequentialminus\":[[0.0,\"#0d0887\"],[0.1111111111111111,\"#46039f\"],[0.2222222222222222,\"#7201a8\"],[0.3333333333333333,\"#9c179e\"],[0.4444444444444444,\"#bd3786\"],[0.5555555555555556,\"#d8576b\"],[0.6666666666666666,\"#ed7953\"],[0.7777777777777778,\"#fb9f3a\"],[0.8888888888888888,\"#fdca26\"],[1.0,\"#f0f921\"]]},\"colorway\":[\"#636efa\",\"#EF553B\",\"#00cc96\",\"#ab63fa\",\"#FFA15A\",\"#19d3f3\",\"#FF6692\",\"#B6E880\",\"#FF97FF\",\"#FECB52\"],\"font\":{\"color\":\"#2a3f5f\"},\"geo\":{\"bgcolor\":\"white\",\"lakecolor\":\"white\",\"landcolor\":\"#E5ECF6\",\"showlakes\":true,\"showland\":true,\"subunitcolor\":\"white\"},\"hoverlabel\":{\"align\":\"left\"},\"hovermode\":\"closest\",\"mapbox\":{\"style\":\"light\"},\"paper_bgcolor\":\"white\",\"plot_bgcolor\":\"#E5ECF6\",\"polar\":{\"angularaxis\":{\"gridcolor\":\"white\",\"linecolor\":\"white\",\"ticks\":\"\"},\"bgcolor\":\"#E5ECF6\",\"radialaxis\":{\"gridcolor\":\"white\",\"linecolor\":\"white\",\"ticks\":\"\"}},\"scene\":{\"xaxis\":{\"backgroundcolor\":\"#E5ECF6\",\"gridcolor\":\"white\",\"gridwidth\":2,\"linecolor\":\"white\",\"showbackground\":true,\"ticks\":\"\",\"zerolinecolor\":\"white\"},\"yaxis\":{\"backgroundcolor\":\"#E5ECF6\",\"gridcolor\":\"white\",\"gridwidth\":2,\"linecolor\":\"white\",\"showbackground\":true,\"ticks\":\"\",\"zerolinecolor\":\"white\"},\"zaxis\":{\"backgroundcolor\":\"#E5ECF6\",\"gridcolor\":\"white\",\"gridwidth\":2,\"linecolor\":\"white\",\"showbackground\":true,\"ticks\":\"\",\"zerolinecolor\":\"white\"}},\"shapedefaults\":{\"line\":{\"color\":\"#2a3f5f\"}},\"ternary\":{\"aaxis\":{\"gridcolor\":\"white\",\"linecolor\":\"white\",\"ticks\":\"\"},\"baxis\":{\"gridcolor\":\"white\",\"linecolor\":\"white\",\"ticks\":\"\"},\"bgcolor\":\"#E5ECF6\",\"caxis\":{\"gridcolor\":\"white\",\"linecolor\":\"white\",\"ticks\":\"\"}},\"title\":{\"x\":0.05},\"xaxis\":{\"automargin\":true,\"gridcolor\":\"white\",\"linecolor\":\"white\",\"ticks\":\"\",\"title\":{\"standoff\":15},\"zerolinecolor\":\"white\",\"zerolinewidth\":2},\"yaxis\":{\"automargin\":true,\"gridcolor\":\"white\",\"linecolor\":\"white\",\"ticks\":\"\",\"title\":{\"standoff\":15},\"zerolinecolor\":\"white\",\"zerolinewidth\":2}}}},                        {\"responsive\": true}                    ).then(function(){\n",
              "                            \n",
              "var gd = document.getElementById('2761bb28-6764-4605-a86c-381e02cbd712');\n",
              "var x = new MutationObserver(function (mutations, observer) {{\n",
              "        var display = window.getComputedStyle(gd).display;\n",
              "        if (!display || display === 'none') {{\n",
              "            console.log([gd, 'removed!']);\n",
              "            Plotly.purge(gd);\n",
              "            observer.disconnect();\n",
              "        }}\n",
              "}});\n",
              "\n",
              "// Listen for the removal of the full notebook cells\n",
              "var notebookContainer = gd.closest('#notebook-container');\n",
              "if (notebookContainer) {{\n",
              "    x.observe(notebookContainer, {childList: true});\n",
              "}}\n",
              "\n",
              "// Listen for the clearing of the current output cell\n",
              "var outputEl = gd.closest('.output');\n",
              "if (outputEl) {{\n",
              "    x.observe(outputEl, {childList: true});\n",
              "}}\n",
              "\n",
              "                        })                };                            </script>        </div>\n",
              "</body>\n",
              "</html>"
            ]
          },
          "metadata": {}
        }
      ]
    }
  ]
}